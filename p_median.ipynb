{
 "cells": [
  {
   "cell_type": "code",
   "execution_count": 1,
   "id": "76bb899a",
   "metadata": {},
   "outputs": [],
   "source": [
    "import pandas as pd\n",
    "import numpy as np\n",
    "\n",
    "from pyomo.environ import *\n",
    "\n",
    "from data_cleaning import site_occ_dict, blockgroup_pop_dict, bg_ces_df, dist_to_site_df\n",
    "\n",
    "#dist_to_site_df = pd.read_csv('data/distmatrix_contracosta.csv')\n",
    "#dist_to_site_df.set_index('Unnamed: 0', inplace = True)\n",
    "#dist_to_site_df.index.name = None"
   ]
  },
  {
   "cell_type": "markdown",
   "id": "d260c91c",
   "metadata": {},
   "source": [
    "### Define Model\n",
    "_Create model and initial indices_"
   ]
  },
  {
   "cell_type": "code",
   "execution_count": 2,
   "id": "7f47055d",
   "metadata": {},
   "outputs": [],
   "source": [
    "model = ConcreteModel()\n",
    "\n",
    "model.init_bgs = Set(initialize = dist_to_site_df.index)\n",
    "model.init_sites = Set(initialize = dist_to_site_df.columns)"
   ]
  },
  {
   "cell_type": "markdown",
   "id": "9a201f65",
   "metadata": {},
   "source": [
    "_Create set of blockgroup, site pairs within five miles of each other_"
   ]
  },
  {
   "cell_type": "code",
   "execution_count": 3,
   "id": "65a38f60",
   "metadata": {},
   "outputs": [],
   "source": [
    "def filter_to_nearby_sites(model, bg, site):\n",
    "    return not np.isnan(dist_to_site_df.loc[bg, site])\n",
    "\n",
    "model.idx_bg_site_pairs = Set(initialize = model.init_bgs*model.init_sites, filter = filter_to_nearby_sites)"
   ]
  },
  {
   "cell_type": "markdown",
   "id": "1daa67b5",
   "metadata": {},
   "source": [
    "_Create new index of sites and bgs only including those that belong in >5 mile pair_"
   ]
  },
  {
   "cell_type": "code",
   "execution_count": 4,
   "id": "5440da36",
   "metadata": {},
   "outputs": [],
   "source": [
    "filtered_bgs = []\n",
    "filtered_sites = []\n",
    "\n",
    "for pair in model.idx_bg_site_pairs:\n",
    "    if pair[0] not in filtered_bgs:\n",
    "        filtered_bgs.append(pair[0])\n",
    "    if pair[1] not in filtered_sites:\n",
    "        filtered_sites.append(pair[1])\n",
    "        \n",
    "model.idx_bgs = Set(initialize = filtered_bgs)\n",
    "model.idx_sites = Set(initialize = filtered_sites)"
   ]
  },
  {
   "cell_type": "markdown",
   "id": "2488fa6a",
   "metadata": {},
   "source": [
    "### Define Parameters"
   ]
  },
  {
   "cell_type": "markdown",
   "id": "574691e4",
   "metadata": {},
   "source": [
    "_Number of people per blockgroup_"
   ]
  },
  {
   "cell_type": "code",
   "execution_count": 5,
   "id": "5ddedf5f",
   "metadata": {},
   "outputs": [],
   "source": [
    "def get_blockgroup_pop(model, bg):\n",
    "    return(blockgroup_pop_dict[bg])\n",
    "\n",
    "model.param_bg_pop = Param(model.idx_bgs, initialize = get_blockgroup_pop)"
   ]
  },
  {
   "cell_type": "markdown",
   "id": "6a0ee3dd",
   "metadata": {},
   "source": [
    "_Distance from blockgroup to site_"
   ]
  },
  {
   "cell_type": "code",
   "execution_count": 6,
   "id": "4011810b",
   "metadata": {},
   "outputs": [],
   "source": [
    "def get_bg_site_dist(model, bg, site):\n",
    "    return(dist_to_site_df.loc[bg, site])\n",
    "\n",
    "model.param_bg_site_dist = Param(model.idx_bg_site_pairs, initialize = get_bg_site_dist)"
   ]
  },
  {
   "cell_type": "markdown",
   "id": "0cc383d9",
   "metadata": {},
   "source": [
    "_Max capacity per site_"
   ]
  },
  {
   "cell_type": "code",
   "execution_count": 7,
   "id": "38358c13",
   "metadata": {},
   "outputs": [],
   "source": [
    "def get_site_capacity(model, site):\n",
    "    return(site_occ_dict[site])\n",
    "\n",
    "model.param_site_cap = Param(model.idx_sites, initialize = get_site_capacity)"
   ]
  },
  {
   "cell_type": "markdown",
   "id": "557f87d0",
   "metadata": {},
   "source": [
    "_Sites within range for each blockgroup_"
   ]
  },
  {
   "cell_type": "code",
   "execution_count": 8,
   "id": "76b16560",
   "metadata": {},
   "outputs": [],
   "source": [
    "bg_sites_in_range = {bg: [] for bg in model.idx_bgs}\n",
    "\n",
    "for bg in bg_sites_in_range:\n",
    "    for pair in model.idx_bg_site_pairs:\n",
    "        if pair[0] == bg:\n",
    "            bg_sites_in_range[bg].append(pair[1])\n",
    "\n",
    "bg_with_no_hub = [key for key in bg_sites_in_range if len(bg_sites_in_range[key]) == 0]\n",
    "\n",
    "for bg in bg_with_no_hub:\n",
    "    del bg_sites_in_range[bg]\n",
    "    \n",
    "model.param_bg_sites_in_range = Param(model.idx_bgs, within=Any, initialize=bg_sites_in_range)"
   ]
  },
  {
   "cell_type": "markdown",
   "id": "acfa5091",
   "metadata": {},
   "source": [
    "_Blockgroups within range for each site_"
   ]
  },
  {
   "cell_type": "code",
   "execution_count": 9,
   "id": "a88a21a6",
   "metadata": {},
   "outputs": [],
   "source": [
    "site_bgs_in_range = {site: [] for site in model.idx_sites}\n",
    "\n",
    "for site in site_bgs_in_range:\n",
    "    for pair in model.idx_bg_site_pairs:\n",
    "        if pair[1] == site:\n",
    "            site_bgs_in_range[site].append(pair[0])\n",
    "\n",
    "site_with_no_hub = [key for key in site_bgs_in_range if len(site_bgs_in_range[key]) == 0]\n",
    "\n",
    "for site in site_with_no_hub:\n",
    "    del site_bgs_in_range[site]\n",
    "    \n",
    "model.param_site_bgs_in_range = Param(model.idx_sites, within=Any, initialize=site_bgs_in_range)"
   ]
  },
  {
   "cell_type": "markdown",
   "id": "d340137a",
   "metadata": {},
   "source": [
    "### Define Variables"
   ]
  },
  {
   "cell_type": "markdown",
   "id": "bf3c72aa",
   "metadata": {},
   "source": [
    "_Is this site a site?_"
   ]
  },
  {
   "cell_type": "code",
   "execution_count": 10,
   "id": "dc849d95",
   "metadata": {},
   "outputs": [],
   "source": [
    "model.var_hub_yn = Var(model.idx_sites, initialize = 1, within = Binary)"
   ]
  },
  {
   "cell_type": "markdown",
   "id": "ae1a3d5d",
   "metadata": {},
   "source": [
    "_What prop of this blockgroup is served at this site?_"
   ]
  },
  {
   "cell_type": "code",
   "execution_count": 11,
   "id": "528423f5",
   "metadata": {},
   "outputs": [],
   "source": [
    "model.var_prop_bg_at_site = Var(model.idx_bg_site_pairs, initialize = 1.0, bounds = (0.0, 1.0))"
   ]
  },
  {
   "cell_type": "markdown",
   "id": "f08f832e",
   "metadata": {},
   "source": [
    "### Define Objective"
   ]
  },
  {
   "cell_type": "code",
   "execution_count": 12,
   "id": "d1aa04aa",
   "metadata": {},
   "outputs": [],
   "source": [
    "agg_dist = sum(model.param_bg_pop[bg]*model.var_prop_bg_at_site[bg, site]*model.param_bg_site_dist[bg, site] \n",
    "               for bg, site in model.idx_bg_site_pairs)\n",
    "\n",
    "model.obj_min_agg_dist = Objective(expr = agg_dist, sense = minimize)"
   ]
  },
  {
   "cell_type": "markdown",
   "id": "69b03614",
   "metadata": {},
   "source": [
    "### Define Constraints"
   ]
  },
  {
   "cell_type": "markdown",
   "id": "74fb6597",
   "metadata": {},
   "source": [
    "_Construct set number of sites_"
   ]
  },
  {
   "cell_type": "code",
   "execution_count": 13,
   "id": "8827be48",
   "metadata": {},
   "outputs": [],
   "source": [
    "n_sites = sum(model.var_hub_yn[site] for site in model.idx_sites)\n",
    "\n",
    "model.con_max_sites = Constraint(expr = (3, n_sites, 5))"
   ]
  },
  {
   "cell_type": "markdown",
   "id": "1c65574a",
   "metadata": {},
   "source": [
    "_Do not let anyone go to a site if it is not a hub_"
   ]
  },
  {
   "cell_type": "code",
   "execution_count": 14,
   "id": "ac8f46d1",
   "metadata": {},
   "outputs": [],
   "source": [
    "def serve_only_at_hubs(model, bg, site):\n",
    "    return(model.var_prop_bg_at_site[bg, site] <= model.var_hub_yn[site])\n",
    "\n",
    "model.con_serve_only_at_hubs = Constraint(model.idx_bg_site_pairs, rule = serve_only_at_hubs)"
   ]
  },
  {
   "cell_type": "markdown",
   "id": "dd91c764",
   "metadata": {},
   "source": [
    "_Serve a minimum proportion of area population_"
   ]
  },
  {
   "cell_type": "code",
   "execution_count": 15,
   "id": "a0d28dd9",
   "metadata": {},
   "outputs": [],
   "source": [
    "pop_area_tot = sum(model.param_bg_pop[bg] for bg in model.idx_bgs)\n",
    "pop_service_tot = sum(model.param_bg_pop[bg]*model.var_prop_bg_at_site[bg, site] for bg, site in model.idx_bg_site_pairs)\n",
    "\n",
    "model.con_min_service_pop = Constraint(expr = pop_service_tot >= 0.05*pop_area_tot)"
   ]
  },
  {
   "cell_type": "markdown",
   "id": "b88b1544",
   "metadata": {},
   "source": [
    "_Do not serve more than 100% of a blockgroup's demand_"
   ]
  },
  {
   "cell_type": "code",
   "execution_count": 16,
   "id": "0a58bd4c",
   "metadata": {},
   "outputs": [],
   "source": [
    "def serve_only_demand(model, bg):\n",
    "    bg_tot_pop = model.param_bg_pop[bg]\n",
    "    bg_tot_served = sum(model.param_bg_pop[bg]*model.var_prop_bg_at_site[bg, site] for site in model.param_bg_sites_in_range[bg])\n",
    "    \n",
    "    return((0, bg_tot_served, bg_tot_pop))\n",
    "\n",
    "model.con_serve_only_demand = Constraint(model.idx_bgs, rule = serve_only_demand)"
   ]
  },
  {
   "cell_type": "markdown",
   "id": "27f63acc",
   "metadata": {},
   "source": [
    "_Do not send more people to hub than it can fit_\n",
    "* Debug note: when if statement written as ==1 (as opposed to !=1) and lowerbound added, (e.g. 0.75*site_tot_cap, site_tot_served, 1.0*site_tot_cap), serve_only_at_hubs stops working properly and many  hubs are added"
   ]
  },
  {
   "cell_type": "code",
   "execution_count": 17,
   "id": "9e24a37e",
   "metadata": {},
   "outputs": [],
   "source": [
    "def serve_max_capacity(model, site):\n",
    "    site_tot_cap = model.param_site_cap[site]\n",
    "    site_tot_served = sum(model.param_bg_pop[bg]*model.var_prop_bg_at_site[bg, site] for bg in model.param_site_bgs_in_range[site])\n",
    "    \n",
    "    if model.var_hub_yn[site].value != 1:\n",
    "        return((0, site_tot_served, 0))\n",
    "    else:      \n",
    "        return((0, site_tot_served, site_tot_cap))\n",
    "\n",
    "model.con_serve_max_capacity = Constraint(model.idx_sites, rule = serve_max_capacity)"
   ]
  },
  {
   "cell_type": "markdown",
   "id": "d1d76d01",
   "metadata": {},
   "source": [
    "### Set up Solver"
   ]
  },
  {
   "cell_type": "code",
   "execution_count": 18,
   "id": "ccfdc6d9",
   "metadata": {},
   "outputs": [],
   "source": [
    "import pyomo.opt as pyopt"
   ]
  },
  {
   "cell_type": "code",
   "execution_count": 19,
   "id": "a505872f",
   "metadata": {},
   "outputs": [
    {
     "data": {
      "text/plain": [
       "{'Problem': [{'Name': 'unknown', 'Lower bound': 28472.3044600993, 'Upper bound': 28472.3044600993, 'Number of objectives': 1, 'Number of constraints': 25951, 'Number of variables': 24130, 'Number of nonzeros': 166114, 'Sense': 'minimize'}], 'Solver': [{'Status': 'ok', 'Termination condition': 'optimal', 'Statistics': {'Branch and bound': {'Number of bounded subproblems': '79', 'Number of created subproblems': '79'}}, 'Error rc': 0, 'Time': 7.136845827102661}], 'Solution': [OrderedDict([('number of solutions', 0), ('number of solutions displayed', 0)])]}"
      ]
     },
     "execution_count": 19,
     "metadata": {},
     "output_type": "execute_result"
    }
   ],
   "source": [
    "pyopt.SolverFactory('glpk').solve(model)"
   ]
  },
  {
   "cell_type": "code",
   "execution_count": 20,
   "id": "cfd8417f",
   "metadata": {},
   "outputs": [
    {
     "data": {
      "text/html": [
       "<div>\n",
       "<style scoped>\n",
       "    .dataframe tbody tr th:only-of-type {\n",
       "        vertical-align: middle;\n",
       "    }\n",
       "\n",
       "    .dataframe tbody tr th {\n",
       "        vertical-align: top;\n",
       "    }\n",
       "\n",
       "    .dataframe thead th {\n",
       "        text-align: right;\n",
       "    }\n",
       "</style>\n",
       "<table border=\"1\" class=\"dataframe\">\n",
       "  <thead>\n",
       "    <tr style=\"text-align: right;\">\n",
       "      <th></th>\n",
       "      <th>site_id</th>\n",
       "      <th>site_yn</th>\n",
       "    </tr>\n",
       "  </thead>\n",
       "  <tbody>\n",
       "    <tr>\n",
       "      <th>87</th>\n",
       "      <td>31273323</td>\n",
       "      <td>1.0</td>\n",
       "    </tr>\n",
       "    <tr>\n",
       "      <th>308</th>\n",
       "      <td>438203854</td>\n",
       "      <td>1.0</td>\n",
       "    </tr>\n",
       "    <tr>\n",
       "      <th>442</th>\n",
       "      <td>943344307</td>\n",
       "      <td>1.0</td>\n",
       "    </tr>\n",
       "    <tr>\n",
       "      <th>452</th>\n",
       "      <td>166435596</td>\n",
       "      <td>1.0</td>\n",
       "    </tr>\n",
       "    <tr>\n",
       "      <th>474</th>\n",
       "      <td>32935760</td>\n",
       "      <td>1.0</td>\n",
       "    </tr>\n",
       "  </tbody>\n",
       "</table>\n",
       "</div>"
      ],
      "text/plain": [
       "       site_id  site_yn\n",
       "87    31273323      1.0\n",
       "308  438203854      1.0\n",
       "442  943344307      1.0\n",
       "452  166435596      1.0\n",
       "474   32935760      1.0"
      ]
     },
     "execution_count": 20,
     "metadata": {},
     "output_type": "execute_result"
    }
   ],
   "source": [
    "result_site = [site for site in model.idx_sites]\n",
    "result_hub_yn = [model.var_hub_yn[site].value for site in model.idx_sites]\n",
    "\n",
    "result_hub_yn_df = pd.DataFrame({'site_id': result_site, 'site_yn':result_hub_yn})\n",
    "\n",
    "result_hub_yn_df = result_hub_yn_df.loc[result_hub_yn_df['site_yn'] > 0]\n",
    "\n",
    "result_hub_yn_df"
   ]
  },
  {
   "cell_type": "code",
   "execution_count": 21,
   "id": "e733c93f",
   "metadata": {},
   "outputs": [],
   "source": [
    "prop_bg_at_site_df = dist_to_site_df\n",
    "prop_bg_at_site_df.loc[:] = np.NaN\n",
    "\n",
    "for key in model.var_prop_bg_at_site.keys():\n",
    "    prop_bg_at_site_df.loc[key] = model.var_prop_bg_at_site[key].value\n",
    "    \n",
    "prop_bg_at_site_df_notnull = prop_bg_at_site_df[prop_bg_at_site_df.notnull()]"
   ]
  },
  {
   "cell_type": "code",
   "execution_count": 22,
   "id": "7e530655",
   "metadata": {},
   "outputs": [],
   "source": [
    "result_prop_served = {}\n",
    "\n",
    "for key in model.var_prop_bg_at_site.keys():\n",
    "    if prop_bg_at_site_df.loc[key]:\n",
    "        result_prop_served[key] = model.var_prop_bg_at_site[key].value"
   ]
  },
  {
   "cell_type": "code",
   "execution_count": 23,
   "id": "d9297589",
   "metadata": {},
   "outputs": [
    {
     "data": {
      "text/plain": [
       "{'166435596', '31273323', '32935760', '438203854', '943344307'}"
      ]
     },
     "execution_count": 23,
     "metadata": {},
     "output_type": "execute_result"
    }
   ],
   "source": [
    "unique_hubs = []\n",
    "\n",
    "for key in result_prop_served.keys():\n",
    "    if round(result_prop_served[key], 3) > 0:\n",
    "            unique_hubs.append(key[1])\n",
    "\n",
    "set(unique_hubs)"
   ]
  },
  {
   "cell_type": "code",
   "execution_count": 24,
   "id": "d2a4268d",
   "metadata": {
    "scrolled": false
   },
   "outputs": [
    {
     "data": {
      "text/plain": [
       "{('G06001303310001', '31273323'): 1.0,\n",
       " ('G06001303310002', '31273323'): 1.0,\n",
       " ('G06001303320001', '31273323'): 1.0,\n",
       " ('G06001303320002', '31273323'): 1.0,\n",
       " ('G06001303320005', '31273323'): 1.0,\n",
       " ('G06001303320006', '31273323'): 1.0,\n",
       " ('G06001303320007', '31273323'): 1.0,\n",
       " ('G06001303551151', '438203854'): 0.834398198753707,\n",
       " ('G06001303552001', '31273323'): 0.192279297741632,\n",
       " ('G06001303660012', '943344307'): 1.0,\n",
       " ('G06001303660013', '943344307'): 1.0,\n",
       " ('G06001303660021', '943344307'): 1.0,\n",
       " ('G06001303660023', '943344307'): 1.0,\n",
       " ('G06001303671003', '943344307'): 1.0,\n",
       " ('G06001303671004', '943344307'): 1.0,\n",
       " ('G06001303672002', '943344307'): 1.0,\n",
       " ('G06001303680011', '166435596'): 1.0,\n",
       " ('G06001303680012', '166435596'): 1.0,\n",
       " ('G06001303680013', '166435596'): 1.0,\n",
       " ('G06001303680014', '166435596'): 1.0,\n",
       " ('G06001303690013', '166435596'): 1.0,\n",
       " ('G06001303690014', '166435596'): 0.487599533558776,\n",
       " ('G06001303690014', '943344307'): 0.512400466441224,\n",
       " ('G06001303720002', '166435596'): 1.0,\n",
       " ('G06001303720005', '166435596'): 1.0,\n",
       " ('G06001303720006', '166435596'): 1.0,\n",
       " ('G06001303720007', '166435596'): 1.0,\n",
       " ('G06001303730001', '166435596'): 1.0,\n",
       " ('G06001303810001', '32935760'): 1.0,\n",
       " ('G06001303810002', '32935760'): 1.0,\n",
       " ('G06001303810003', '32935760'): 1.0,\n",
       " ('G06001303820001', '32935760'): 1.0,\n",
       " ('G06001303820002', '32935760'): 1.0,\n",
       " ('G06001303860002', '32935760'): 1.0}"
      ]
     },
     "execution_count": 24,
     "metadata": {},
     "output_type": "execute_result"
    }
   ],
   "source": [
    "result_prop_served"
   ]
  },
  {
   "cell_type": "code",
   "execution_count": null,
   "id": "f5dbd05e",
   "metadata": {},
   "outputs": [],
   "source": []
  },
  {
   "cell_type": "code",
   "execution_count": null,
   "id": "3a677090",
   "metadata": {},
   "outputs": [],
   "source": []
  },
  {
   "cell_type": "code",
   "execution_count": null,
   "id": "d2a6c120",
   "metadata": {},
   "outputs": [],
   "source": []
  },
  {
   "cell_type": "code",
   "execution_count": null,
   "id": "e93788f7",
   "metadata": {},
   "outputs": [],
   "source": []
  },
  {
   "cell_type": "code",
   "execution_count": null,
   "id": "67c791e9",
   "metadata": {},
   "outputs": [],
   "source": []
  },
  {
   "cell_type": "code",
   "execution_count": null,
   "id": "2dbbc6ee",
   "metadata": {},
   "outputs": [],
   "source": []
  },
  {
   "cell_type": "code",
   "execution_count": null,
   "id": "30e94155",
   "metadata": {},
   "outputs": [],
   "source": []
  },
  {
   "cell_type": "code",
   "execution_count": null,
   "id": "b1e05c4b",
   "metadata": {},
   "outputs": [],
   "source": []
  }
 ],
 "metadata": {
  "kernelspec": {
   "display_name": "geoenv",
   "language": "python",
   "name": "geoenv"
  },
  "language_info": {
   "codemirror_mode": {
    "name": "ipython",
    "version": 3
   },
   "file_extension": ".py",
   "mimetype": "text/x-python",
   "name": "python",
   "nbconvert_exporter": "python",
   "pygments_lexer": "ipython3",
   "version": "3.9.7"
  }
 },
 "nbformat": 4,
 "nbformat_minor": 5
}
