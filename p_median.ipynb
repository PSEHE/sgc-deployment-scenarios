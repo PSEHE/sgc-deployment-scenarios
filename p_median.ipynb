{
 "cells": [
  {
   "cell_type": "code",
   "execution_count": 1,
   "id": "76bb899a",
   "metadata": {},
   "outputs": [],
   "source": [
    "import os\n",
    "from datetime import datetime\n",
    "\n",
    "import pandas as pd\n",
    "import numpy as np\n",
    "\n",
    "from pyomo.environ import *\n",
    "\n",
    "from data_cleaning import site_occ_dict, blockgroup_pop_dict, bg_ces_dict, dist_to_site_df, dist_to_site_dict\n",
    "\n",
    "#dist_to_site_df = pd.read_csv('data/distmatrix_contracosta.csv')\n",
    "#dist_to_site_df.set_index('Unnamed: 0', inplace = True)\n",
    "#dist_to_site_df.index.name = None"
   ]
  },
  {
   "cell_type": "markdown",
   "id": "d260c91c",
   "metadata": {},
   "source": [
    "### Define Model\n",
    "_Create model and initial indices_"
   ]
  },
  {
   "cell_type": "code",
   "execution_count": 2,
   "id": "7f47055d",
   "metadata": {},
   "outputs": [],
   "source": [
    "model = ConcreteModel()\n",
    "\n",
    "model.init_bgs = Set(initialize = dist_to_site_df.index)\n",
    "model.init_sites = Set(initialize = dist_to_site_df.columns)"
   ]
  },
  {
   "cell_type": "markdown",
   "id": "9a201f65",
   "metadata": {},
   "source": [
    "_Create set of blockgroup, site pairs within five miles of each other_"
   ]
  },
  {
   "cell_type": "code",
   "execution_count": 3,
   "id": "65a38f60",
   "metadata": {},
   "outputs": [],
   "source": [
    "def filter_to_nearby_sites(model, bg, site):\n",
    "    return not np.isnan(dist_to_site_df.loc[bg, site])\n",
    "\n",
    "model.idx_bg_site_pairs = Set(initialize = model.init_bgs*model.init_sites, filter = filter_to_nearby_sites)"
   ]
  },
  {
   "cell_type": "markdown",
   "id": "1daa67b5",
   "metadata": {},
   "source": [
    "_Create new index of sites and bgs only including those that belong in >5 mile pair_"
   ]
  },
  {
   "cell_type": "code",
   "execution_count": 4,
   "id": "5440da36",
   "metadata": {},
   "outputs": [],
   "source": [
    "filtered_bgs = []\n",
    "filtered_sites = []\n",
    "\n",
    "for pair in model.idx_bg_site_pairs:\n",
    "    if pair[0] not in filtered_bgs:\n",
    "        filtered_bgs.append(pair[0])\n",
    "    if pair[1] not in filtered_sites:\n",
    "        filtered_sites.append(pair[1])\n",
    "        \n",
    "model.idx_bgs = Set(initialize = filtered_bgs)\n",
    "model.idx_sites = Set(initialize = filtered_sites)"
   ]
  },
  {
   "cell_type": "markdown",
   "id": "2488fa6a",
   "metadata": {},
   "source": [
    "### Define Parameters"
   ]
  },
  {
   "cell_type": "markdown",
   "id": "574691e4",
   "metadata": {},
   "source": [
    "_Number of people per blockgroup_"
   ]
  },
  {
   "cell_type": "code",
   "execution_count": 5,
   "id": "5ddedf5f",
   "metadata": {},
   "outputs": [],
   "source": [
    "def get_blockgroup_pop(model, bg):\n",
    "    return(blockgroup_pop_dict[bg])\n",
    "\n",
    "model.param_bg_pop = Param(model.idx_bgs, initialize = get_blockgroup_pop)"
   ]
  },
  {
   "cell_type": "markdown",
   "id": "6a0ee3dd",
   "metadata": {},
   "source": [
    "_Distance from blockgroup to site_"
   ]
  },
  {
   "cell_type": "code",
   "execution_count": 6,
   "id": "4011810b",
   "metadata": {},
   "outputs": [],
   "source": [
    "def get_bg_site_dist(model, bg, site):\n",
    "    return(dist_to_site_df.loc[bg, site])\n",
    "\n",
    "model.param_bg_site_dist = Param(model.idx_bg_site_pairs, initialize = get_bg_site_dist)"
   ]
  },
  {
   "cell_type": "markdown",
   "id": "0cc383d9",
   "metadata": {},
   "source": [
    "_Max capacity per site_"
   ]
  },
  {
   "cell_type": "code",
   "execution_count": 7,
   "id": "38358c13",
   "metadata": {},
   "outputs": [],
   "source": [
    "def get_site_capacity(model, site):\n",
    "    return(site_occ_dict[site])\n",
    "\n",
    "model.param_site_cap = Param(model.idx_sites, initialize = get_site_capacity)"
   ]
  },
  {
   "cell_type": "markdown",
   "id": "557f87d0",
   "metadata": {},
   "source": [
    "_Sites within range for each blockgroup_"
   ]
  },
  {
   "cell_type": "code",
   "execution_count": 8,
   "id": "76b16560",
   "metadata": {},
   "outputs": [],
   "source": [
    "bg_sites_in_range = {bg: [] for bg in model.idx_bgs}\n",
    "\n",
    "for bg in bg_sites_in_range:\n",
    "    for pair in model.idx_bg_site_pairs:\n",
    "        if pair[0] == bg:\n",
    "            bg_sites_in_range[bg].append(pair[1])\n",
    "\n",
    "bg_with_no_hub = [key for key in bg_sites_in_range if len(bg_sites_in_range[key]) == 0]\n",
    "\n",
    "for bg in bg_with_no_hub:\n",
    "    del bg_sites_in_range[bg]\n",
    "    \n",
    "model.param_bg_sites_in_range = Param(model.idx_bgs, within=Any, initialize=bg_sites_in_range)"
   ]
  },
  {
   "cell_type": "markdown",
   "id": "acfa5091",
   "metadata": {},
   "source": [
    "_Blockgroups within range for each site_"
   ]
  },
  {
   "cell_type": "code",
   "execution_count": 9,
   "id": "a88a21a6",
   "metadata": {},
   "outputs": [],
   "source": [
    "site_bgs_in_range = {site: [] for site in model.idx_sites}\n",
    "\n",
    "for site in site_bgs_in_range:\n",
    "    for pair in model.idx_bg_site_pairs:\n",
    "        if pair[1] == site:\n",
    "            site_bgs_in_range[site].append(pair[0])\n",
    "\n",
    "site_with_no_hub = [key for key in site_bgs_in_range if len(site_bgs_in_range[key]) == 0]\n",
    "\n",
    "for site in site_with_no_hub:\n",
    "    del site_bgs_in_range[site]\n",
    "    \n",
    "model.param_site_bgs_in_range = Param(model.idx_sites, within=Any, initialize=site_bgs_in_range)"
   ]
  },
  {
   "cell_type": "markdown",
   "id": "ecd302cc",
   "metadata": {},
   "source": [
    "#### _Blockgroup climate and social characteristics_\n",
    "_Calenviroscreen score_"
   ]
  },
  {
   "cell_type": "code",
   "execution_count": 10,
   "id": "66a14aaa",
   "metadata": {},
   "outputs": [],
   "source": [
    "def get_ces_score(model, bg):\n",
    "    return(bg_ces_dict[bg])\n",
    "\n",
    "model.param_bg_vuln_ces = Param(model.idx_bgs, within=Any, default = 0, initialize=get_ces_score)"
   ]
  },
  {
   "cell_type": "markdown",
   "id": "d340137a",
   "metadata": {},
   "source": [
    "### Define Variables"
   ]
  },
  {
   "cell_type": "markdown",
   "id": "bf3c72aa",
   "metadata": {},
   "source": [
    "_Is this site a site?_"
   ]
  },
  {
   "cell_type": "code",
   "execution_count": 11,
   "id": "dc849d95",
   "metadata": {},
   "outputs": [],
   "source": [
    "model.var_hub_yn = Var(model.idx_sites, initialize = 1, within = Binary)"
   ]
  },
  {
   "cell_type": "markdown",
   "id": "ae1a3d5d",
   "metadata": {},
   "source": [
    "_What prop of this blockgroup is served at this site?_"
   ]
  },
  {
   "cell_type": "code",
   "execution_count": 12,
   "id": "528423f5",
   "metadata": {},
   "outputs": [],
   "source": [
    "model.var_prop_bg_at_site = Var(model.idx_bg_site_pairs, initialize = 1.0, bounds = (0.0, 1.0))"
   ]
  },
  {
   "cell_type": "markdown",
   "id": "f08f832e",
   "metadata": {},
   "source": [
    "### Define Objective"
   ]
  },
  {
   "cell_type": "code",
   "execution_count": 13,
   "id": "d1aa04aa",
   "metadata": {},
   "outputs": [],
   "source": [
    "agg_dist = sum(model.param_bg_pop[bg]*model.var_prop_bg_at_site[bg, site]*model.param_bg_site_dist[bg, site] \n",
    "               for bg, site in model.idx_bg_site_pairs)\n",
    "\n",
    "model.obj_min_agg_dist = Objective(expr = agg_dist, sense = minimize)"
   ]
  },
  {
   "cell_type": "markdown",
   "id": "69b03614",
   "metadata": {},
   "source": [
    "# _N Site Here_\n",
    "### Define Constraints"
   ]
  },
  {
   "cell_type": "markdown",
   "id": "74fb6597",
   "metadata": {},
   "source": [
    "_Construct set number of sites_"
   ]
  },
  {
   "cell_type": "code",
   "execution_count": 94,
   "id": "8827be48",
   "metadata": {},
   "outputs": [
    {
     "name": "stdout",
     "output_type": "stream",
     "text": [
      "WARNING: Implicitly replacing the Component attribute con_max_sites\n",
      "    (type=<class 'pyomo.core.base.constraint.ScalarConstraint'>) on block\n",
      "    unknown with a new Component (type=<class\n",
      "    'pyomo.core.base.constraint.AbstractScalarConstraint'>). This is usually\n",
      "    indicative of a modelling error. To avoid this warning, use\n",
      "    block.del_component() and block.add_component().\n"
     ]
    }
   ],
   "source": [
    "n_sites = sum(model.var_hub_yn[site] for site in model.idx_sites)\n",
    "\n",
    "model.con_max_sites = Constraint(expr = (1, n_sites, 60))"
   ]
  },
  {
   "cell_type": "markdown",
   "id": "1c65574a",
   "metadata": {},
   "source": [
    "_Do not let anyone go to a site if it is not a hub_"
   ]
  },
  {
   "cell_type": "code",
   "execution_count": 95,
   "id": "ac8f46d1",
   "metadata": {},
   "outputs": [
    {
     "name": "stdout",
     "output_type": "stream",
     "text": [
      "WARNING: Implicitly replacing the Component attribute con_serve_only_at_hubs\n",
      "    (type=<class 'pyomo.core.base.constraint.IndexedConstraint'>) on block\n",
      "    unknown with a new Component (type=<class\n",
      "    'pyomo.core.base.constraint.IndexedConstraint'>). This is usually\n",
      "    indicative of a modelling error. To avoid this warning, use\n",
      "    block.del_component() and block.add_component().\n"
     ]
    }
   ],
   "source": [
    "def serve_only_at_hubs(model, bg, site):\n",
    "    return(model.var_prop_bg_at_site[bg, site] <= model.var_hub_yn[site])\n",
    "\n",
    "model.con_serve_only_at_hubs = Constraint(model.idx_bg_site_pairs, rule = serve_only_at_hubs)"
   ]
  },
  {
   "cell_type": "markdown",
   "id": "dd91c764",
   "metadata": {},
   "source": [
    "_Serve a minimum proportion of area population_"
   ]
  },
  {
   "cell_type": "code",
   "execution_count": 96,
   "id": "a0d28dd9",
   "metadata": {},
   "outputs": [
    {
     "name": "stdout",
     "output_type": "stream",
     "text": [
      "WARNING: Implicitly replacing the Component attribute con_min_service_pop\n",
      "    (type=<class 'pyomo.core.base.constraint.ScalarConstraint'>) on block\n",
      "    unknown with a new Component (type=<class\n",
      "    'pyomo.core.base.constraint.AbstractScalarConstraint'>). This is usually\n",
      "    indicative of a modelling error. To avoid this warning, use\n",
      "    block.del_component() and block.add_component().\n"
     ]
    }
   ],
   "source": [
    "pop_area_tot = sum(model.param_bg_pop[bg] for bg in model.idx_bgs)\n",
    "pop_service_tot = sum(model.param_bg_pop[bg]*model.var_prop_bg_at_site[bg, site] for bg, site in model.idx_bg_site_pairs)\n",
    "\n",
    "model.con_min_service_pop = Constraint(expr = pop_service_tot >= 0.05*pop_area_tot)"
   ]
  },
  {
   "cell_type": "markdown",
   "id": "b88b1544",
   "metadata": {},
   "source": [
    "_Do not serve more than 100% of a blockgroup's demand_"
   ]
  },
  {
   "cell_type": "code",
   "execution_count": 97,
   "id": "0a58bd4c",
   "metadata": {},
   "outputs": [
    {
     "name": "stdout",
     "output_type": "stream",
     "text": [
      "WARNING: Implicitly replacing the Component attribute con_serve_only_demand\n",
      "    (type=<class 'pyomo.core.base.constraint.IndexedConstraint'>) on block\n",
      "    unknown with a new Component (type=<class\n",
      "    'pyomo.core.base.constraint.IndexedConstraint'>). This is usually\n",
      "    indicative of a modelling error. To avoid this warning, use\n",
      "    block.del_component() and block.add_component().\n"
     ]
    }
   ],
   "source": [
    "def serve_only_demand(model, bg):\n",
    "    bg_tot_pop = model.param_bg_pop[bg]\n",
    "    bg_tot_served = sum(model.param_bg_pop[bg]*model.var_prop_bg_at_site[bg, site] for site in model.param_bg_sites_in_range[bg])\n",
    "    \n",
    "    return((0, bg_tot_served, bg_tot_pop))\n",
    "\n",
    "model.con_serve_only_demand = Constraint(model.idx_bgs, rule = serve_only_demand)"
   ]
  },
  {
   "cell_type": "markdown",
   "id": "27f63acc",
   "metadata": {},
   "source": [
    "_Do not send more people to hub than it can fit_\n",
    "* Debug note: when if statement written as ==1 (as opposed to !=1) and lowerbound added, (e.g. 0.75*site_tot_cap, site_tot_served, 1.0*site_tot_cap), serve_only_at_hubs stops working properly and many  hubs are added"
   ]
  },
  {
   "cell_type": "code",
   "execution_count": 98,
   "id": "9e24a37e",
   "metadata": {},
   "outputs": [
    {
     "name": "stdout",
     "output_type": "stream",
     "text": [
      "WARNING: Implicitly replacing the Component attribute con_serve_max_capacity\n",
      "    (type=<class 'pyomo.core.base.constraint.IndexedConstraint'>) on block\n",
      "    unknown with a new Component (type=<class\n",
      "    'pyomo.core.base.constraint.IndexedConstraint'>). This is usually\n",
      "    indicative of a modelling error. To avoid this warning, use\n",
      "    block.del_component() and block.add_component().\n"
     ]
    }
   ],
   "source": [
    "def serve_max_capacity(model, site):\n",
    "    site_tot_cap = model.param_site_cap[site]\n",
    "    site_tot_served = sum(model.param_bg_pop[bg]*model.var_prop_bg_at_site[bg, site] for bg in model.param_site_bgs_in_range[site])\n",
    "    \n",
    "    if model.var_hub_yn[site].value != 1:\n",
    "        return((0, site_tot_served, 0))\n",
    "    else:      \n",
    "        return((0, site_tot_served, 5*site_tot_cap))\n",
    "\n",
    "model.con_serve_max_capacity = Constraint(model.idx_sites, rule = serve_max_capacity)"
   ]
  },
  {
   "cell_type": "markdown",
   "id": "df9b7bbe",
   "metadata": {},
   "source": [
    "# _CES HERE_\n",
    "#### _Additional climate and social-based constraints_"
   ]
  },
  {
   "cell_type": "code",
   "execution_count": 99,
   "id": "9e28e825",
   "metadata": {},
   "outputs": [
    {
     "name": "stdout",
     "output_type": "stream",
     "text": [
      "WARNING: Implicitly replacing the Component attribute con_serve_ces_pops\n",
      "    (type=<class 'pyomo.core.base.constraint.IndexedConstraint'>) on block\n",
      "    unknown with a new Component (type=<class\n",
      "    'pyomo.core.base.constraint.IndexedConstraint'>). This is usually\n",
      "    indicative of a modelling error. To avoid this warning, use\n",
      "    block.del_component() and block.add_component().\n"
     ]
    }
   ],
   "source": [
    "def serve_ces_pops(model, bg):\n",
    "    bg_ces_score = model.param_bg_vuln_ces[bg]\n",
    "    \n",
    "    bg_tot_prop_served = sum(model.var_prop_bg_at_site[bg, site] for site in model.param_bg_sites_in_range[bg])\n",
    "    \n",
    "    if bg_ces_score >= 0.75:\n",
    "        return((0.95, bg_tot_prop_served, 1))\n",
    "    else:\n",
    "        return((0, bg_tot_prop_served, 1))\n",
    "\n",
    "model.con_serve_ces_pops = Constraint(model.idx_bgs, rule = serve_ces_pops)"
   ]
  },
  {
   "cell_type": "markdown",
   "id": "d1d76d01",
   "metadata": {},
   "source": [
    "### Set up Solver"
   ]
  },
  {
   "cell_type": "code",
   "execution_count": 100,
   "id": "ccfdc6d9",
   "metadata": {},
   "outputs": [],
   "source": [
    "import pyomo.opt as pyopt"
   ]
  },
  {
   "cell_type": "code",
   "execution_count": 101,
   "id": "a505872f",
   "metadata": {},
   "outputs": [
    {
     "name": "stdout",
     "output_type": "stream",
     "text": [
      "\n",
      "Problem: \n",
      "- Name: x24130\n",
      "  Lower bound: 206729.95649948396\n",
      "  Upper bound: 206729.95649948396\n",
      "  Number of objectives: 1\n",
      "  Number of constraints: 26673\n",
      "  Number of variables: 24130\n",
      "  Number of binary variables: 558\n",
      "  Number of integer variables: 558\n",
      "  Number of continuous variables: 23572\n",
      "  Number of nonzeros: 190890\n",
      "  Sense: minimize\n",
      "Solver: \n",
      "- Status: ok\n",
      "  Return code: 0\n",
      "  Message: Model was solved to optimality (subject to tolerances), and an optimal solution is available.\n",
      "  Termination condition: optimal\n",
      "  Termination message: Model was solved to optimality (subject to tolerances), and an optimal solution is available.\n",
      "  Wall time: 0.058506011962890625\n",
      "  Error rc: 0\n",
      "  Time: 0.5531003475189209\n",
      "Solution: \n",
      "- number of solutions: 0\n",
      "  number of solutions displayed: 0\n",
      "\n"
     ]
    }
   ],
   "source": [
    "result_folder = 'results/p-med/'\n",
    "result_time  = datetime.now().strftime('%Y-%m-%d_%H%M')\n",
    "result_path = result_folder + result_time\n",
    "\n",
    "result = pyopt.SolverFactory('gurobi').solve(model)\n",
    "\n",
    "print(result)"
   ]
  },
  {
   "cell_type": "code",
   "execution_count": 102,
   "id": "cbb21ffc",
   "metadata": {},
   "outputs": [
    {
     "data": {
      "text/plain": [
       "('results/p-med/2022-03-15_1048.mps', 1503251383104)"
      ]
     },
     "execution_count": 102,
     "metadata": {},
     "output_type": "execute_result"
    }
   ],
   "source": [
    "result_path_file =  result_path + '.mps'\n",
    "\n",
    "model.write(result_path_file)"
   ]
  },
  {
   "cell_type": "code",
   "execution_count": 103,
   "id": "cfd8417f",
   "metadata": {},
   "outputs": [
    {
     "data": {
      "text/plain": [
       "(20, 2)"
      ]
     },
     "execution_count": 103,
     "metadata": {},
     "output_type": "execute_result"
    }
   ],
   "source": [
    "result_site = [site for site in model.idx_sites]\n",
    "result_hub_yn = [model.var_hub_yn[site].value for site in model.idx_sites]\n",
    "\n",
    "result_hub_yn_df = pd.DataFrame({'site_id': result_site, 'site_yn':result_hub_yn})\n",
    "\n",
    "result_hub_yn_df = result_hub_yn_df.loc[result_hub_yn_df['site_yn'] > 0]\n",
    "\n",
    "result_hub_yn_path_file = result_path + '_hub_yn.csv'\n",
    "result_hub_yn_df.to_csv(result_hub_yn_path_file)\n",
    "\n",
    "result_hub_yn_df.shape"
   ]
  },
  {
   "cell_type": "code",
   "execution_count": 104,
   "id": "7e530655",
   "metadata": {},
   "outputs": [],
   "source": [
    "prop_bg_at_site_df = dist_to_site_df.copy()\n",
    "prop_bg_at_site_df.loc[:] = np.NaN\n",
    "\n",
    "for key in model.var_prop_bg_at_site.keys():\n",
    "    prop_bg_at_site_df.loc[key] = model.var_prop_bg_at_site[key].value\n",
    "    \n",
    "prop_bg_at_site_df_notnull = prop_bg_at_site_df[prop_bg_at_site_df.notnull()]\n",
    "\n",
    "result_prop_served_dict = {}\n",
    "\n",
    "for key in model.var_prop_bg_at_site.keys():\n",
    "    if prop_bg_at_site_df.loc[key]:\n",
    "        result_prop_served_dict[key] = model.var_prop_bg_at_site[key].value"
   ]
  },
  {
   "cell_type": "code",
   "execution_count": 105,
   "id": "3792791f",
   "metadata": {},
   "outputs": [],
   "source": [
    "result_prop_served_hubs = set([key[1] for key in result_prop_served_dict.keys()])\n",
    "result_prop_served_bgs = set([key[0] for key in result_prop_served_dict.keys()])\n",
    "\n",
    "result_prop_served_df = pd.DataFrame(index = result_prop_served_bgs, columns = result_prop_served_hubs)\n",
    "\n",
    "for bg, hub in result_prop_served_dict.keys():\n",
    "    result_prop_served_df.loc[bg, hub] = result_prop_served_dict[bg, hub]\n",
    "    \n",
    "result_prop_served_df.fillna(0, inplace = True)\n",
    "\n",
    "result_prop_served_path = result_path + '_prop_served.csv'\n",
    "result_prop_served_df.to_csv(result_prop_served_path)"
   ]
  },
  {
   "cell_type": "code",
   "execution_count": 106,
   "id": "d2800ee5",
   "metadata": {},
   "outputs": [
    {
     "name": "stdout",
     "output_type": "stream",
     "text": [
      "Agg dist: 206729.95649948396\n"
     ]
    }
   ],
   "source": [
    "result_dist_traveled_df = result_prop_served_df.copy()\n",
    "\n",
    "for bg, hub in result_prop_served_dict.keys():\n",
    "        \n",
    "    result_dist_traveled_df.loc[bg, hub] = dist_to_site_dict[bg, hub]*result_prop_served_df.loc[bg, hub]*blockgroup_pop_dict[bg]\n",
    "    \n",
    "result_dist_traveled_path = result_path + '_dist_traveled.csv'\n",
    "result_dist_traveled_df.to_csv(result_dist_traveled_path)\n",
    "\n",
    "print('Agg dist:', str(result_dist_traveled_df.sum().sum()))"
   ]
  },
  {
   "cell_type": "code",
   "execution_count": 107,
   "id": "7c66e79c",
   "metadata": {},
   "outputs": [
    {
     "name": "stdout",
     "output_type": "stream",
     "text": [
      "Agg pop: 194660.7\n"
     ]
    }
   ],
   "source": [
    "result_pop_df = result_prop_served_df.copy()\n",
    "\n",
    "for bg, hub in result_prop_served_dict.keys():\n",
    "        \n",
    "    result_pop_df.loc[bg, hub] = result_prop_served_df.loc[bg, hub]*blockgroup_pop_dict[bg]\n",
    "    \n",
    "result_pop_path = result_path + '_pop.csv'\n",
    "result_pop_df.to_csv(result_pop_path)\n",
    "\n",
    "print('Agg pop:', str(result_pop_df.sum().sum()))"
   ]
  },
  {
   "cell_type": "code",
   "execution_count": 108,
   "id": "f5dbd05e",
   "metadata": {},
   "outputs": [
    {
     "data": {
      "text/plain": [
       "0.8446934692005111"
      ]
     },
     "execution_count": 108,
     "metadata": {},
     "output_type": "execute_result"
    }
   ],
   "source": [
    "result_ces_df = result_prop_served_df.copy()\n",
    "\n",
    "for bg, hub in result_prop_served_dict.keys():\n",
    "        \n",
    "    result_ces_df.loc[bg, hub] = bg_ces_dict[bg]*result_prop_served_df.loc[bg, hub]*blockgroup_pop_dict[bg]\n",
    "    \n",
    "result_ces_path = result_path + '_ces.csv'\n",
    "\n",
    "result_ces_df.to_csv(result_ces_path)\n",
    "result_ces_df.sum().sum()/result_pop_df.sum().sum()"
   ]
  },
  {
   "cell_type": "code",
   "execution_count": null,
   "id": "3a677090",
   "metadata": {},
   "outputs": [],
   "source": []
  },
  {
   "cell_type": "code",
   "execution_count": null,
   "id": "d2a6c120",
   "metadata": {},
   "outputs": [],
   "source": []
  },
  {
   "cell_type": "code",
   "execution_count": null,
   "id": "e93788f7",
   "metadata": {},
   "outputs": [],
   "source": []
  },
  {
   "cell_type": "code",
   "execution_count": null,
   "id": "67c791e9",
   "metadata": {},
   "outputs": [],
   "source": []
  },
  {
   "cell_type": "code",
   "execution_count": 109,
   "id": "2dbbc6ee",
   "metadata": {},
   "outputs": [],
   "source": [
    "#site_occ_dict, blockgroup_pop_dict, bg_ces_dict, dist_to_site_df, dist_to_site_dict"
   ]
  },
  {
   "cell_type": "code",
   "execution_count": null,
   "id": "30e94155",
   "metadata": {},
   "outputs": [],
   "source": []
  },
  {
   "cell_type": "code",
   "execution_count": null,
   "id": "b1e05c4b",
   "metadata": {},
   "outputs": [],
   "source": []
  }
 ],
 "metadata": {
  "kernelspec": {
   "display_name": "geoenv",
   "language": "python",
   "name": "geoenv"
  },
  "language_info": {
   "codemirror_mode": {
    "name": "ipython",
    "version": 3
   },
   "file_extension": ".py",
   "mimetype": "text/x-python",
   "name": "python",
   "nbconvert_exporter": "python",
   "pygments_lexer": "ipython3",
   "version": "3.9.7"
  }
 },
 "nbformat": 4,
 "nbformat_minor": 5
}
