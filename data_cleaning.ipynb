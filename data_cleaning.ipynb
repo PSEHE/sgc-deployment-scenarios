{
 "cells": [
  {
   "cell_type": "code",
   "execution_count": 1,
   "id": "e5e9cdf4",
   "metadata": {},
   "outputs": [],
   "source": [
    "import pandas as pd\n",
    "import os\n",
    "import matplotlib.pyplot as plt"
   ]
  },
  {
   "cell_type": "markdown",
   "id": "fdd1f22e",
   "metadata": {},
   "source": [
    "### Get hub max occupancy"
   ]
  },
  {
   "cell_type": "code",
   "execution_count": 2,
   "id": "b057d7f1",
   "metadata": {},
   "outputs": [],
   "source": [
    "#https://ccpia.org/occupancy-load-signs/\n",
    "hubs_path = os.path.join(os.getcwd(), 'data', 'candidate_site_campuses_2021-11-17', 'candidate_sites_campuses.csv')\n",
    "\n",
    "hubs_df_raw = pd.read_csv(hubs_path)\n",
    "hubs_df = hubs_df_raw.loc[hubs_df_raw['cat_site'] != 'X', ['id_site', 'cat_site', 'SQFT_ROOF', 'LON', 'LAT']]\n",
    "\n",
    "occ_limits = pd.DataFrame({'cat_site':['W', 'CC', 'Pri', 'Sec', 'Coll'], 'sqft_pp':[15, 15, 15, 15, 15]})\n",
    "#occ_limits = pd.DataFrame({'cat_site':['W', 'CC', 'Pri', 'Sec', 'Coll'], 'sqft_pp':[0.85, 0.85, 0.75, 0.75, 0.75]})\n",
    "\n",
    "hub_occ_df = pd.merge(hubs_df, occ_limits, on = 'cat_site')\n",
    "hub_occ_df['occ_site'] = hub_occ_df['SQFT_ROOF']/hub_occ_df['sqft_pp']\n",
    "hub_occ_df = hub_occ_df.loc[:, ['id_site', 'SQFT_ROOF', 'cat_site', 'occ_site']]\n",
    "\n",
    "hub_occ_dict = {}\n",
    "\n",
    "for i in range(len(hub_occ_df)):\n",
    "\n",
    "    id_site = hub_occ_df.iloc[i].loc['id_site']\n",
    "    occ_site = hub_occ_df.iloc[i].loc['occ_site']\n",
    "\n",
    "    hub_occ_dict[id_site] = occ_site"
   ]
  },
  {
   "cell_type": "markdown",
   "id": "1812d7a5",
   "metadata": {},
   "source": [
    "### Create dictionary of blockgroup populations"
   ]
  },
  {
   "cell_type": "code",
   "execution_count": 3,
   "id": "4e7793c8",
   "metadata": {},
   "outputs": [],
   "source": [
    "cengeo_pop_df = pd.read_csv('data/bg_ca_19/blockgroup_pop_CA_19.csv')\n",
    "\n",
    "cengeo_pop_dict = {}\n",
    "\n",
    "for i in range(len(cengeo_pop_df)):\n",
    "\n",
    "    cengeo = cengeo_pop_df.iloc[i].loc['GISJOIN']\n",
    "    pop = cengeo_pop_df.iloc[i].loc['POP']\n",
    "\n",
    "    cengeo_pop_dict[cengeo] = pop"
   ]
  },
  {
   "cell_type": "markdown",
   "id": "6008487c",
   "metadata": {},
   "source": [
    "### Create dictionary of hub/blockgroup pairwise distances"
   ]
  },
  {
   "cell_type": "code",
   "execution_count": 4,
   "id": "cbcc7870",
   "metadata": {},
   "outputs": [],
   "source": [
    "dist_to_hub_df = pd.read_csv('data/distmatrix_contracosta.csv')\n",
    "\n",
    "dist_to_hub_dict = {}\n",
    "\n",
    "for cengeo in dist_to_hub_df.index:\n",
    "    for hub in dist_to_hub_df.columns:\n",
    "        if dist_to_hub_df.loc[cengeo, hub] == dist_to_hub_df.loc[cengeo, hub]:\n",
    "            dist_to_hub_dict[tuple([cengeo, hub])] = dist_to_hub_df.loc[cengeo, hub]"
   ]
  },
  {
   "cell_type": "markdown",
   "id": "1ff8caa9",
   "metadata": {},
   "source": [
    "### Get number of heat days per blockgroup"
   ]
  },
  {
   "cell_type": "code",
   "execution_count": 6,
   "id": "093972be",
   "metadata": {},
   "outputs": [],
   "source": [
    "heatdays_df = pd.read_csv('data/bg_ca_19/bg19_heatdays_avg00to13.csv')\n",
    "\n",
    "heatdays_df = heatdays_df.loc[:, ['GISJOIN', 'MEAN']].sort_values('MEAN', ascending = False)"
   ]
  },
  {
   "cell_type": "markdown",
   "id": "0e567f24",
   "metadata": {},
   "source": [
    "### Get blockgroup region"
   ]
  },
  {
   "cell_type": "code",
   "execution_count": 8,
   "id": "5943d8f8",
   "metadata": {},
   "outputs": [],
   "source": [
    "region_df = pd.read_csv('data/candidate_site_campuses_2021-11-17/candidate_sites_campuses.csv')\n",
    "region_df = region_df.loc[region_df['cat_site'] != 'X', ['id_site', 'REGION']]\n",
    "\n",
    "site_region_df = region_df.merge(hub_occ_df, on = 'id_site')\n",
    "\n",
    "reg_pop = cengeo_pop_df.groupby('REGION').sum()\n",
    "reg_site = site_region_df.groupby('REGION').sum().loc[:,'occ_site']\n",
    "\n",
    "regions = reg_pop.merge(reg_site, on = 'REGION')\n",
    "regions['CAP_PP'] = regions['occ_site']/regions['POP']"
   ]
  },
  {
   "cell_type": "markdown",
   "id": "bcc06da4",
   "metadata": {},
   "source": [
    "### Get blockgroup CES score"
   ]
  },
  {
   "cell_type": "code",
   "execution_count": 9,
   "id": "ecd57325",
   "metadata": {},
   "outputs": [],
   "source": [
    "# Derived by selecting cols from CES, NRI spatial join csv, which is too large to push to github\n",
    "bg_ces_df = pd.read_csv('data/bg_ca_19/bg19_ces_indicators.csv')\n",
    "\n",
    "pct_cols = ['PCT_LESSHS', 'PCT_UNEMP', 'PCT_RENT', 'PCT_LINGISO', 'PCT_POV', 'RATE_ASTH', 'RATE_LBW', 'RATE_CVD']\n",
    "\n",
    "for pct_col in pct_cols:\n",
    "\n",
    "    pctl_col = 'PCTL_' + pct_col.split('_')[1]\n",
    "    bg_ces_df[pctl_col] = 100*bg_ces_df[pct_col].rank(pct = True)\n",
    "\n",
    "senspop_cols = ['PCTL_ASTH', 'PCTL_CVD', 'PCTL_LBW']\n",
    "ses_cols = ['PCTL_LESSHS', 'PCTL_UNEMP', 'PCTL_RENT', 'PCTL_LINGISO', 'PCTL_POV']\n",
    "\n",
    "bg_ces_df['SCORE_SENSPOP'] = bg_ces_df[senspop_cols].mean(axis = 1)\n",
    "bg_ces_df['SCORE_SES'] = bg_ces_df[ses_cols].mean(axis = 1)\n",
    "bg_ces_df['SCORE_POP'] = bg_ces_df[['SCORE_SES', 'SCORE_SENSPOP']].mean(axis = 1)/10\n",
    "\n",
    "bg_ces_df['SCORE_CI_BG'] = bg_ces_df['SCORE_POP']*bg_ces_df['SCORE_POLLUT']\n",
    "bg_ces_df['SCORE_PCTL_CI_BG'] = 100*bg_ces_df['SCORE_CI_BG'].rank(pct = True)\n",
    "\n",
    "bg_ces_df = bg_ces_df.loc[:, ['GISJOIN', 'SCORE_PCTL_CI_BG']]"
   ]
  },
  {
   "cell_type": "code",
   "execution_count": null,
   "id": "58c5b479",
   "metadata": {},
   "outputs": [],
   "source": []
  }
 ],
 "metadata": {
  "kernelspec": {
   "display_name": "geoenv",
   "language": "python",
   "name": "geoenv"
  },
  "language_info": {
   "codemirror_mode": {
    "name": "ipython",
    "version": 3
   },
   "file_extension": ".py",
   "mimetype": "text/x-python",
   "name": "python",
   "nbconvert_exporter": "python",
   "pygments_lexer": "ipython3",
   "version": "3.9.7"
  }
 },
 "nbformat": 4,
 "nbformat_minor": 5
}
