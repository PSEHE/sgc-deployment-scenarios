{
 "cells": [
  {
   "cell_type": "code",
   "execution_count": 1,
   "id": "e5e9cdf4",
   "metadata": {},
   "outputs": [],
   "source": [
    "import pandas as pd\n",
    "import os\n",
    "import matplotlib.pyplot as plt"
   ]
  },
  {
   "cell_type": "markdown",
   "id": "fdd1f22e",
   "metadata": {},
   "source": [
    "### Get site max occupancy"
   ]
  },
  {
   "cell_type": "code",
   "execution_count": 11,
   "id": "b057d7f1",
   "metadata": {},
   "outputs": [],
   "source": [
    "#https://ccpia.org/occupancy-load-signs/\n",
    "sites_path = os.path.join(os.getcwd(), 'data', 'candidate_site_campuses_2021-11-17', 'candidate_sites_campuses.csv')\n",
    "\n",
    "sites_df_raw = pd.read_csv(sites_path)\n",
    "sites_df = sites_df_raw.loc[sites_df_raw['cat_site'] != 'X', ['id_site', 'cat_site', 'SQFT_ROOF', 'LON', 'LAT']]\n",
    "\n",
    "site_sqft_df = sites_df.loc[:, ['id_site', 'SQFT_ROOF']]\n",
    "\n",
    "site_sqft_dict = {}\n",
    "\n",
    "for i in range(len(site_sqft_df)):\n",
    "\n",
    "    id_site = site_sqft_df.iloc[i].loc['id_site']\n",
    "    sqft_site = site_sqft_df.iloc[i].loc['SQFT_ROOF']\n",
    "\n",
    "    site_sqft_dict[id_site] = sqft_site"
   ]
  },
  {
   "cell_type": "code",
   "execution_count": null,
   "id": "32b436e8",
   "metadata": {},
   "outputs": [],
   "source": [
    "#https://ccpia.org/occupancy-load-signs/\n",
    "sites_path = os.path.join(os.getcwd(), 'data', 'candidate_site_campuses_2021-11-17', 'candidate_sites_campuses.csv')\n",
    "\n",
    "sites_df_raw = pd.read_csv(sites_path)\n",
    "sites_df = sites_df_raw.loc[sites_df_raw['cat_site'] != 'X', ['id_site', 'cat_site', 'SQFT_ROOF', 'LON', 'LAT']]\n",
    "\n",
    "occ_limits = pd.DataFrame({'cat_site':['W', 'CC', 'Pri', 'Sec', 'Coll'], 'sqft_pp':[15, 15, 15, 15, 15]})\n",
    "#occ_limits = pd.DataFrame({'cat_site':['W', 'CC', 'Pri', 'Sec', 'Coll'], 'sqft_pp':[0.85, 0.85, 0.75, 0.75, 0.75]})\n",
    "\n",
    "site_occ_df = pd.merge(sites_df, occ_limits, on = 'cat_site')\n",
    "site_occ_df['occ_site'] = site_occ_df['SQFT_ROOF']/site_occ_df['sqft_pp']\n",
    "site_occ_df = site_occ_df.loc[:, ['id_site', 'SQFT_ROOF', 'cat_site', 'occ_site']]\n",
    "\n",
    "site_occ_dict = {}\n",
    "\n",
    "for i in range(len(site_occ_df)):\n",
    "\n",
    "    id_site = site_occ_df.iloc[i].loc['id_site']\n",
    "    occ_site = site_occ_df.iloc[i].loc['occ_site']\n",
    "\n",
    "    site_occ_dict[id_site] = occ_site"
   ]
  },
  {
   "cell_type": "markdown",
   "id": "1812d7a5",
   "metadata": {},
   "source": [
    "### Create dictionary of blockgroup populations"
   ]
  },
  {
   "cell_type": "code",
   "execution_count": 3,
   "id": "4e7793c8",
   "metadata": {},
   "outputs": [],
   "source": [
    "cengeo_pop_df = pd.read_csv('data/bg_ca_19/blockgroup_pop_CA_19.csv')\n",
    "\n",
    "cengeo_pop_dict = {}\n",
    "\n",
    "for i in range(len(cengeo_pop_df)):\n",
    "\n",
    "    cengeo = cengeo_pop_df.iloc[i].loc['GISJOIN']\n",
    "    pop = cengeo_pop_df.iloc[i].loc['POP']\n",
    "\n",
    "    cengeo_pop_dict[cengeo] = pop"
   ]
  },
  {
   "cell_type": "markdown",
   "id": "6008487c",
   "metadata": {},
   "source": [
    "### Create dictionary of hub/blockgroup pairwise distances"
   ]
  },
  {
   "cell_type": "code",
   "execution_count": 4,
   "id": "cbcc7870",
   "metadata": {},
   "outputs": [],
   "source": [
    "dist_to_site_df = pd.read_csv('data/distmatrix_contracosta.csv')\n",
    "\n",
    "dist_to_site_dict = {}\n",
    "\n",
    "for cengeo in dist_to_site_df.index:\n",
    "    for hub in dist_to_site_df.columns:\n",
    "        if dist_to_site_df.loc[cengeo, hub] == dist_to_site_df.loc[cengeo, hub]:\n",
    "            dist_to_site_dict[tuple([cengeo, hub])] = dist_to_site_df.loc[cengeo, hub]"
   ]
  },
  {
   "cell_type": "markdown",
   "id": "0e567f24",
   "metadata": {},
   "source": [
    "### Get blockgroup region"
   ]
  },
  {
   "cell_type": "code",
   "execution_count": 6,
   "id": "5943d8f8",
   "metadata": {},
   "outputs": [],
   "source": [
    "region_df = pd.read_csv('data/candidate_site_campuses_2021-11-17/candidate_sites_campuses.csv')\n",
    "region_df = region_df.loc[region_df['cat_site'] != 'X', ['id_site', 'REGION']]\n",
    "\n",
    "site_region_df = region_df.merge(site_occ_df, on = 'id_site')\n",
    "\n",
    "reg_pop = cengeo_pop_df.groupby('REGION').sum()\n",
    "reg_site = site_region_df.groupby('REGION').sum().loc[:,'occ_site']\n",
    "\n",
    "regions = reg_pop.merge(reg_site, on = 'REGION')\n",
    "regions['CAP_PP'] = regions['occ_site']/regions['POP']"
   ]
  },
  {
   "cell_type": "markdown",
   "id": "bcc06da4",
   "metadata": {},
   "source": [
    "### Get blockgroup CES score"
   ]
  },
  {
   "cell_type": "code",
   "execution_count": 7,
   "id": "ecd57325",
   "metadata": {},
   "outputs": [],
   "source": [
    "# Derived by selecting cols from CES, NRI spatial join csv, which is too large to push to github\n",
    "bg_ces_df = pd.read_csv('data/bg_ca_19/bg19_ces_indicators.csv')\n",
    "\n",
    "pct_cols = ['PCT_LESSHS', 'PCT_UNEMP', 'PCT_RENT', 'PCT_LINGISO', 'PCT_POV', 'RATE_ASTH', 'RATE_LBW', 'RATE_CVD']\n",
    "\n",
    "for pct_col in pct_cols:\n",
    "\n",
    "    pctl_col = 'PCTL_' + pct_col.split('_')[1]\n",
    "    bg_ces_df[pctl_col] = 100*bg_ces_df[pct_col].rank(pct = True)\n",
    "\n",
    "senspop_cols = ['PCTL_ASTH', 'PCTL_CVD', 'PCTL_LBW']\n",
    "ses_cols = ['PCTL_LESSHS', 'PCTL_UNEMP', 'PCTL_RENT', 'PCTL_LINGISO', 'PCTL_POV']\n",
    "\n",
    "bg_ces_df['SCORE_SENSPOP'] = bg_ces_df[senspop_cols].mean(axis = 1)\n",
    "bg_ces_df['SCORE_SES'] = bg_ces_df[ses_cols].mean(axis = 1)\n",
    "bg_ces_df['SCORE_POP'] = bg_ces_df[['SCORE_SES', 'SCORE_SENSPOP']].mean(axis = 1)/10\n",
    "\n",
    "bg_ces_df['SCORE_CI_BG'] = bg_ces_df['SCORE_POP']*bg_ces_df['SCORE_POLLUT']\n",
    "bg_ces_df['SCORE_PCTL_CI_BG'] = 100*bg_ces_df['SCORE_CI_BG'].rank(pct = True)\n",
    "\n",
    "bg_ces_df = bg_ces_df.loc[:, ['GISJOIN', 'SCORE_PCTL_CI_BG']]\n",
    "\n",
    "bg_ces_dict = {bg_ces_df.iloc[row]['GISJOIN']: round(0.01*bg_ces_df.iloc[row]['SCORE_PCTL_CI_BG'], 2) for row in bg_ces_df.index}"
   ]
  },
  {
   "cell_type": "markdown",
   "id": "0759dc76",
   "metadata": {},
   "source": [
    "### Get cost per hub"
   ]
  },
  {
   "cell_type": "code",
   "execution_count": 13,
   "id": "b775b524",
   "metadata": {},
   "outputs": [],
   "source": [
    "site_cost_dict = dict()\n",
    "site_kw_occ_dict = dict()\n",
    "\n",
    "people_per_kwh = 0.1\n",
    "\n",
    "for site in site_sqft_dict:\n",
    "    pv_kw = 0.007*site_sqft_dict[site]\n",
    "    \n",
    "    ba_kw = 0.42*pv_kw #This said pv_size originally but I think this is what was meant?\n",
    "    ba_kwh = 0.046*site_sqft_dict[site]\n",
    "    \n",
    "    pv_cost_dollars = 4000*pv_kw*(pv_kw**-0.01)\n",
    "    ba_cost_dollars = 840*ba_kw + 1000*ba_kwh*(ba_kwh**-0.019)\n",
    "    \n",
    "    site_cost_tot = pv_cost_dollars + ba_cost_dollars\n",
    "    \n",
    "    site_cost_dict[site] = site_cost_tot\n",
    "    site_kw_occ_dict[site] = ba_kwh*people_per_kwh"
   ]
  },
  {
   "cell_type": "markdown",
   "id": "24e63858",
   "metadata": {},
   "source": [
    "### National Risk Index: Get Share of Resources to Allocate to Each County\n",
    "Expected annual loss equations on page 45 of NRI technical documentation\n",
    "https://www.fema.gov/sites/default/files/documents/fema_national-risk-index_technical-documentation.pdf\n",
    "\n",
    "Min-Max Normalized Values: (EAL^0.3 - 0.99*EAL^0.3) / (EAL_max^0.33 - EAL_min^0.33)"
   ]
  },
  {
   "cell_type": "code",
   "execution_count": null,
   "id": "d63702dd",
   "metadata": {},
   "outputs": [],
   "source": [
    "# Created for calculation of EALT score - no longer used due to switch to EALP, which can just be summed\n",
    "\n",
    "def calculate_ealt_score(ealt_col):\n",
    "    ealt_numerator = (ealt_col ** (1/3)) - (0.99*ealt_col.min() ** (1/3))\n",
    "    ealt_denominator = (ealt_col.max() ** (1/3)) - (ealt_col.min() ** (1/3))\n",
    "    \n",
    "    return(ealt_numerator/ealt_denominator)"
   ]
  },
  {
   "cell_type": "markdown",
   "id": "128698e9",
   "metadata": {},
   "source": [
    "###### _Code to go from raw file with all indicators to file with just EAL indicators - the former is too large for github_\n",
    "bg_nri_indicators_all = pd.read_csv('../bg_ca_ces_nri_indicators_spatialjoin.csv')\n",
    "\n",
    "nri_cols = list(bg_nri_indicators_all.columns)\n",
    "annual_loss_cols = [col for col in nri_cols if str(col)[-4:-1] == 'EAL']\n",
    "annual_loss_cols.append('GISJOIN')\n",
    "\n",
    "bg_nri_eal_raw = bg_nri_indicators_all.loc[:,annual_loss_cols]\n",
    "bg_nri_eal_raw.fillna(0, inplace = True)\n",
    "\n",
    "bg_nri_eal_raw.to_csv('data/bg_ca_19/bg19_NRI_annualloss_score.csv', index = False)"
   ]
  },
  {
   "cell_type": "code",
   "execution_count": null,
   "id": "e7ac05a4",
   "metadata": {},
   "outputs": [],
   "source": [
    "bg_nri_eal_all = pd.read_csv('data/bg_ca_19/bg19_NRI_annualloss_score.csv')\n",
    "\n",
    "ealp_cols_all = [col for col in bg_nri_eal_all if str(col)[-4:] == 'EALP']\n",
    "ealp_cols = ['CWAV_EALP', 'ERQK_EALP', 'HWAV_EALP', 'ISTM_EALP', 'LNDS_EALP', 'RFLD_EALP', 'SWND_EALP', 'TSUN_EALP', 'VLCN_EALP', 'WFIR_EALP', 'WNTW_EALP']\n",
    "\n",
    "bg_nri_ealp = bg_nri_eal_all.loc[:,ealp_cols]\n",
    "bg_nri_ealp['TOT_EALP'] = bg_nri_ealp.sum(axis = 1)\n",
    "\n",
    "bg_nri_ealp.insert(0, 'GISJOIN', bg_nri_eal_all['GISJOIN'])\n",
    "\n",
    "ca_nri_ealp_tot = sum(bg_nri_ealp['TOT_EALP'])\n",
    "\n",
    "bg_nri_ealp['PROP_EALP'] = bg_nri_ealp['TOT_EALP']/ca_nri_ealp_tot\n",
    "bg_nri_ealp.insert(1, 'COUNTY_FIPS', bg_nri_ealp['GISJOIN'].str[3:7])"
   ]
  },
  {
   "cell_type": "code",
   "execution_count": null,
   "id": "8d19defc",
   "metadata": {},
   "outputs": [],
   "source": [
    "county_prop_ealp_df = bg_nri_ealp.groupby('COUNTY_FIPS').sum()['PROP_EALP']\n",
    "\n",
    "county_prop_ealp_dict = {fips_code:county_prop_ealp_df.loc[fips_code] for fips_code in county_prop_ealp_df.index}"
   ]
  },
  {
   "cell_type": "markdown",
   "id": "dbd03a00",
   "metadata": {},
   "source": [
    "### National Risk Index: Prioritize by Population Vulnerability and Resilience"
   ]
  },
  {
   "cell_type": "code",
   "execution_count": null,
   "id": "8c0b565d",
   "metadata": {},
   "outputs": [],
   "source": []
  },
  {
   "cell_type": "code",
   "execution_count": null,
   "id": "9e13cd42",
   "metadata": {},
   "outputs": [],
   "source": []
  },
  {
   "cell_type": "code",
   "execution_count": null,
   "id": "783793d1",
   "metadata": {},
   "outputs": [],
   "source": []
  },
  {
   "cell_type": "code",
   "execution_count": null,
   "id": "844c1f86",
   "metadata": {},
   "outputs": [],
   "source": []
  },
  {
   "cell_type": "code",
   "execution_count": null,
   "id": "458f00eb",
   "metadata": {},
   "outputs": [],
   "source": []
  }
 ],
 "metadata": {
  "kernelspec": {
   "display_name": "geoenv",
   "language": "python",
   "name": "geoenv"
  },
  "language_info": {
   "codemirror_mode": {
    "name": "ipython",
    "version": 3
   },
   "file_extension": ".py",
   "mimetype": "text/x-python",
   "name": "python",
   "nbconvert_exporter": "python",
   "pygments_lexer": "ipython3",
   "version": "3.9.7"
  }
 },
 "nbformat": 4,
 "nbformat_minor": 5
}
