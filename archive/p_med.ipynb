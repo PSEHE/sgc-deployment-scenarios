{
 "cells": [
  {
   "cell_type": "code",
   "execution_count": 2,
   "id": "ff986bb3",
   "metadata": {},
   "outputs": [
    {
     "ename": "ImportError",
     "evalue": "cannot import name 'hub_occ_dict' from 'data_cleaning' (C:\\Users\\18313\\Desktop\\sgc_resilience\\4_deployment\\sgc-deployment-scenarios\\data_cleaning.py)",
     "output_type": "error",
     "traceback": [
      "\u001b[1;31m---------------------------------------------------------------------------\u001b[0m",
      "\u001b[1;31mImportError\u001b[0m                               Traceback (most recent call last)",
      "\u001b[1;32m~\\AppData\\Local\\Temp/ipykernel_6812/2323761638.py\u001b[0m in \u001b[0;36m<module>\u001b[1;34m\u001b[0m\n\u001b[0;32m      4\u001b[0m \u001b[1;32mfrom\u001b[0m \u001b[0mpyomo\u001b[0m\u001b[1;33m.\u001b[0m\u001b[0menviron\u001b[0m \u001b[1;32mimport\u001b[0m \u001b[1;33m*\u001b[0m\u001b[1;33m\u001b[0m\u001b[1;33m\u001b[0m\u001b[0m\n\u001b[0;32m      5\u001b[0m \u001b[1;33m\u001b[0m\u001b[0m\n\u001b[1;32m----> 6\u001b[1;33m \u001b[1;32mfrom\u001b[0m \u001b[0mdata_cleaning\u001b[0m \u001b[1;32mimport\u001b[0m \u001b[0mhub_occ_dict\u001b[0m\u001b[1;33m\u001b[0m\u001b[1;33m\u001b[0m\u001b[0m\n\u001b[0m\u001b[0;32m      7\u001b[0m \u001b[1;32mfrom\u001b[0m \u001b[0mdata_cleaning\u001b[0m \u001b[1;32mimport\u001b[0m \u001b[0mheatdays_df\u001b[0m\u001b[1;33m\u001b[0m\u001b[1;33m\u001b[0m\u001b[0m\n\u001b[0;32m      8\u001b[0m \u001b[1;32mfrom\u001b[0m \u001b[0mdata_cleaning\u001b[0m \u001b[1;32mimport\u001b[0m \u001b[0mcengeo_pop_dict\u001b[0m\u001b[1;33m\u001b[0m\u001b[1;33m\u001b[0m\u001b[0m\n",
      "\u001b[1;31mImportError\u001b[0m: cannot import name 'hub_occ_dict' from 'data_cleaning' (C:\\Users\\18313\\Desktop\\sgc_resilience\\4_deployment\\sgc-deployment-scenarios\\data_cleaning.py)"
     ]
    }
   ],
   "source": [
    "import pandas as pd\n",
    "import numpy as np\n",
    "\n",
    "from pyomo.environ import *\n",
    "\n",
    "from data_cleaning import hub_occ_dict\n",
    "from data_cleaning import heatdays_df\n",
    "from data_cleaning import cengeo_pop_dict\n",
    "from data_cleaning import bg_ces_df\n",
    "\n",
    "dist_to_hub_df = pd.read_csv('data/distmatrix_contracosta.csv')\n",
    "dist_to_hub_df.set_index('Unnamed: 0', inplace = True)\n",
    "dist_to_hub_df.index.name = None"
   ]
  },
  {
   "cell_type": "markdown",
   "id": "f79bb257",
   "metadata": {},
   "source": [
    "### Define Model"
   ]
  },
  {
   "cell_type": "markdown",
   "id": "851ec9eb",
   "metadata": {},
   "source": [
    "_Create model and variable indices_"
   ]
  },
  {
   "cell_type": "code",
   "execution_count": null,
   "id": "232fdc24",
   "metadata": {},
   "outputs": [],
   "source": [
    "model = ConcreteModel()\n",
    "\n",
    "model.init_cengeos = Set(initialize = dist_to_hub_df.index)\n",
    "model.init_hubs = Set(initialize = dist_to_hub_df.columns)"
   ]
  },
  {
   "cell_type": "markdown",
   "id": "691003f9",
   "metadata": {},
   "source": [
    "_Create set of blockgroup, hub pairs within five miles of each other_"
   ]
  },
  {
   "cell_type": "code",
   "execution_count": null,
   "id": "56436c57",
   "metadata": {},
   "outputs": [],
   "source": [
    "def filter_to_nearby_hubs(model, cg, hub):\n",
    "    return not np.isnan(dist_to_hub_df.loc[cg, hub])\n",
    "\n",
    "model.idx_cg_hub_pairs = Set(initialize = model.init_cengeos*model.init_hubs, filter = filter_to_nearby_hubs)"
   ]
  },
  {
   "cell_type": "code",
   "execution_count": null,
   "id": "9e3f91d1",
   "metadata": {},
   "outputs": [],
   "source": [
    "included_cengeos = []\n",
    "included_hubs = []\n",
    "\n",
    "for pair in model.idx_cg_hub_pairs:\n",
    "    if pair[0] not in included_cengeos:\n",
    "        included_cengeos.append(pair[0])\n",
    "    if pair[1] not in included_hubs:\n",
    "        included_hubs.append(pair[1])\n",
    "        \n",
    "model.idx_cengeos = Set(initialize = included_cengeos)\n",
    "model.idx_hubs = Set(initialize = included_hubs)"
   ]
  },
  {
   "cell_type": "markdown",
   "id": "d8784411",
   "metadata": {},
   "source": [
    "### Define Parameters"
   ]
  },
  {
   "cell_type": "markdown",
   "id": "cb1d18e6",
   "metadata": {},
   "source": [
    "_Pairwise distance indexed on (blockgroup, hub) tuple_"
   ]
  },
  {
   "cell_type": "code",
   "execution_count": null,
   "id": "286dc882",
   "metadata": {},
   "outputs": [],
   "source": [
    "def get_cg_hub_distance(model, cg, hub):\n",
    "    return dist_to_hub_df.loc[cg, hub]\n",
    "\n",
    "model.param_cg_hub_dist = Param(model.idx_cg_hub_pairs, initialize = get_cg_hub_distance)"
   ]
  },
  {
   "cell_type": "markdown",
   "id": "3f3c7dec",
   "metadata": {},
   "source": [
    "_Dictionary of blockgroups within range for each hub_"
   ]
  },
  {
   "cell_type": "code",
   "execution_count": null,
   "id": "07e7f728",
   "metadata": {},
   "outputs": [],
   "source": [
    "cgs_at_hub = {hub: [] for hub in model.idx_hubs}\n",
    "\n",
    "for hub in cgs_at_hub:\n",
    "    for pair in model.idx_cg_hub_pairs:\n",
    "        if pair[1] == hub:\n",
    "            cgs_at_hub[hub].append(pair[0])\n",
    "\n",
    "hubs_with_no_cgs = [key for key in cgs_at_hub.keys() if len(cgs_at_hub[key]) == 0]\n",
    "\n",
    "for hub in hubs_with_no_cgs:\n",
    "    del cgs_at_hub[hub]\n",
    "    \n",
    "model.param_cgs_at_hub = Param(model.idx_hubs, within=Any, initialize=cgs_at_hub)"
   ]
  },
  {
   "cell_type": "markdown",
   "id": "3cda3554",
   "metadata": {},
   "source": [
    "### Define Variables"
   ]
  },
  {
   "cell_type": "markdown",
   "id": "663ce2f6",
   "metadata": {},
   "source": [
    "_Is this site a hub?_"
   ]
  },
  {
   "cell_type": "code",
   "execution_count": null,
   "id": "2cf55e77",
   "metadata": {},
   "outputs": [],
   "source": [
    "model.var_hub_yn = Var(model.idx_hubs, initialize = 1, within = Binary)"
   ]
  },
  {
   "cell_type": "markdown",
   "id": "020646e9",
   "metadata": {},
   "source": [
    "_What proportion of a blockgroup's population is served by this hub?_"
   ]
  },
  {
   "cell_type": "code",
   "execution_count": null,
   "id": "27c3ca76",
   "metadata": {},
   "outputs": [],
   "source": [
    "model.var_prop_cg_at_hub = Var(model.idx_cengeos, model.idx_hubs, initialize = 0.0, bounds = (0.0, 1.0))"
   ]
  },
  {
   "cell_type": "markdown",
   "id": "49beefb1",
   "metadata": {},
   "source": [
    "_How many people are served by this hub?_"
   ]
  },
  {
   "cell_type": "code",
   "execution_count": null,
   "id": "3dfea108",
   "metadata": {},
   "outputs": [],
   "source": [
    "def ppl_at_hub(model, hub):\n",
    "    return(sum(model.var_prop_cg_at_hub[cg, hub].value*cengeo_pop_dict[cg] for cg in model.param_cgs_at_hub[hub]))\n",
    "\n",
    "model.var_hub_pop = Var(model.idx_hubs, initialize = ppl_at_hub, domain = NonNegativeReals)"
   ]
  },
  {
   "cell_type": "markdown",
   "id": "f7a2a4db",
   "metadata": {},
   "source": [
    "def ppl_served_at_hub(model, hub):\n",
    "    tot_ppl_served = 0\n",
    "\n",
    "    for cg in model.idx_cengeos:\n",
    "        if (cg, hub) in model.idx_cg_hub_pairs:\n",
    "            ppl_served = model.var_prop_cg_at_hub[cg, hub]*cengeo_pop_dict[cg]\n",
    "            tot_ppl_served = ppl_served + tot_ppl_served\n",
    "        else:\n",
    "            tot_ppl_served = tot_ppl_served\n",
    "    \n",
    "    return(tot_ppl_served)\n",
    "\n",
    "model.var_hub_pop = Var(model.idx_hubs, initialize = ppl_served_at_hub, domain = NonNegativeReals)"
   ]
  },
  {
   "cell_type": "markdown",
   "id": "7f1319d8",
   "metadata": {},
   "source": [
    "_How many people in this block group are assigned to a hub?_"
   ]
  },
  {
   "cell_type": "markdown",
   "id": "473c51a0",
   "metadata": {},
   "source": [
    "# del\n",
    "def cg_total_assigned(model, cg):\n",
    "    tot_ppl_served = 0\n",
    "\n",
    "    for hub in model.idx_hubs:\n",
    "        if (cg, hub) in model.idx_cg_hub_pairs:\n",
    "            ppl_served = model.var_prop_cg_at_hub[cg, hub]*cengeo_pop_dict[cg]\n",
    "            tot_ppl_served = ppl_served + tot_ppl_served\n",
    "        else:\n",
    "            tot_ppl_served = tot_ppl_served\n",
    "    \n",
    "    return(tot_ppl_served)\n",
    "\n",
    "model.var_cg_pop_assigned = Var(model.idx_cengeos, initialize = cg_total_assigned, domain = NonNegativeReals)"
   ]
  },
  {
   "cell_type": "markdown",
   "id": "a6593689",
   "metadata": {},
   "source": [
    "### Define Objective"
   ]
  },
  {
   "cell_type": "markdown",
   "id": "d2bd9b37",
   "metadata": {},
   "source": [
    "_Minimize aggregate travel distance_"
   ]
  },
  {
   "cell_type": "code",
   "execution_count": null,
   "id": "4b01c7bf",
   "metadata": {},
   "outputs": [],
   "source": [
    "min_agg_dist = sum(model.param_cg_hub_dist[cg, hub] * cengeo_pop_dict[cg] * model.var_hub_pop[hub] \n",
    "                   for cg, hub in model.idx_cg_hub_pairs)\n",
    "\n",
    "model.obj_min_agg_dist = Objective(expr = min_agg_dist, sense = minimize)"
   ]
  },
  {
   "cell_type": "markdown",
   "id": "8451f01d",
   "metadata": {},
   "source": [
    "### Define Constraints"
   ]
  },
  {
   "cell_type": "markdown",
   "id": "d1550020",
   "metadata": {},
   "source": [
    "_Hub cannot serve more people than it has capacity for, but must be mostly full_"
   ]
  },
  {
   "cell_type": "code",
   "execution_count": null,
   "id": "71b8886e",
   "metadata": {},
   "outputs": [],
   "source": [
    "def serve_less_than_hub_occ(model, hub):\n",
    "    return(model.var_hub_pop[hub] <= hub_occ_dict[hub]*model.var_hub_yn[hub])\n",
    "\n",
    "model.con_max_occ = Constraint(model.idx_hubs, rule = serve_less_than_hub_occ)"
   ]
  },
  {
   "cell_type": "markdown",
   "id": "5b69e781",
   "metadata": {},
   "source": [
    "_Construct a set number of hubs_"
   ]
  },
  {
   "cell_type": "code",
   "execution_count": null,
   "id": "bf020c5b",
   "metadata": {},
   "outputs": [],
   "source": [
    "model.con_max_hubs = Constraint(expr = sum(model.var_hub_yn[hub] for hub in model.idx_hubs) == 3)"
   ]
  },
  {
   "cell_type": "markdown",
   "id": "775a23ae",
   "metadata": {},
   "source": [
    "_No one is served at a location if it is not deemed a hub_"
   ]
  },
  {
   "cell_type": "markdown",
   "id": "0792497a",
   "metadata": {},
   "source": [
    "# del\n",
    "def open_only(model, cg, hub):\n",
    "    return(model.var_prop_cg_at_hub[cg, hub] <= model.var_hub_yn[hub])\n",
    "\n",
    "model.con_open_only = Constraint(model.idx_cg_hub_pairs, rule = open_only)"
   ]
  },
  {
   "cell_type": "markdown",
   "id": "f12b9812",
   "metadata": {},
   "source": [
    "_Meet a certain portion of demand in area of interest_"
   ]
  },
  {
   "cell_type": "code",
   "execution_count": null,
   "id": "f710d831",
   "metadata": {},
   "outputs": [],
   "source": [
    "max_service_pop = sum(cengeo_pop_dict[cg] for cg in model.idx_cengeos)    \n",
    "min_service_pop = 0.05*max_service_pop\n",
    "\n",
    "service_pop = sum(model.var_hub_pop[hub] for hub in model.idx_hubs)\n",
    "\n",
    "model.con_min_coverage = Constraint(expr = (min_service_pop, service_pop, max_service_pop))"
   ]
  },
  {
   "cell_type": "markdown",
   "id": "4babb071",
   "metadata": {},
   "source": [
    "_Prioritize CalEnviroScreen populations_"
   ]
  },
  {
   "cell_type": "markdown",
   "id": "4ae83f64",
   "metadata": {},
   "source": [
    "model.con_serve_ces = ConstraintList()\n",
    "\n",
    "for cg in model.idx_cengeos:\n",
    "    cg_ces_score = float(bg_ces_df.loc[bg_ces_df['GISJOIN'] == cg, 'SCORE_PCTL_CI_BG'])\n",
    "\n",
    "    if cg_ces_score >= 75.0:\n",
    "        model.con_serve_ces.add(expr = model.var_cg_pop_assigned[cg] >= 0.95*cengeo_pop_dict[cg])"
   ]
  },
  {
   "cell_type": "markdown",
   "id": "eedb9c8c",
   "metadata": {},
   "source": [
    "_Do not meet more than 100% of demand_"
   ]
  },
  {
   "cell_type": "markdown",
   "id": "b345b23a",
   "metadata": {},
   "source": [
    "model.con_demand_max = ConstraintList() #Constrain the TOTAL proportion of people assigned a hub to be 100 percent\n",
    "\n",
    "for cg in model.idx_cengeos:\n",
    "    # Only add constraint for cengeos that have hubs, may return error if \"if\" statement ommited\n",
    "    if sum([pair[0]==cg for pair in model.idx_cg_hub_pairs]) >= 1:\n",
    "        model.con_demand_max.add(expr = sum(model.var_prop_cg_at_hub[pair] for pair in model.idx_cg_hub_pairs if pair[0]==cg)<=1)"
   ]
  },
  {
   "cell_type": "markdown",
   "id": "8b5efc64",
   "metadata": {},
   "source": [
    "### Solve Model"
   ]
  },
  {
   "cell_type": "code",
   "execution_count": null,
   "id": "51a5e66b",
   "metadata": {},
   "outputs": [],
   "source": [
    "import pyomo.opt as pyopt"
   ]
  },
  {
   "cell_type": "code",
   "execution_count": null,
   "id": "a1862d26",
   "metadata": {
    "scrolled": true
   },
   "outputs": [],
   "source": [
    "pyopt.SolverFactory('glpk').solve(model)"
   ]
  },
  {
   "cell_type": "code",
   "execution_count": null,
   "id": "ee41125a",
   "metadata": {},
   "outputs": [],
   "source": [
    "model.var_prop_cg_at_hub.pprint()"
   ]
  },
  {
   "cell_type": "code",
   "execution_count": null,
   "id": "d674caef",
   "metadata": {},
   "outputs": [],
   "source": [
    "for hub in model.idx_hubs:\n",
    "    print(hub)\n",
    "    if model.var_hub_yn[hub].value == 1:\n",
    "        for cg in model.param_cgs_at_hub[hub]:\n",
    "            print(cg, model.var_prop_cg_at_hub[cg, hub].value, cengeo_pop_dict[cg])"
   ]
  },
  {
   "cell_type": "code",
   "execution_count": null,
   "id": "882f09a0",
   "metadata": {},
   "outputs": [],
   "source": [
    "model.var_hub_pop.pprint()"
   ]
  },
  {
   "cell_type": "code",
   "execution_count": null,
   "id": "f74d7c01",
   "metadata": {},
   "outputs": [],
   "source": [
    "model.var_hub_yn.pprint()"
   ]
  },
  {
   "cell_type": "code",
   "execution_count": null,
   "id": "a839a414",
   "metadata": {
    "scrolled": true
   },
   "outputs": [],
   "source": [
    "res_hub_pop = [model.var_hub_pop[hub].value for hub in model.idx_hubs]\n",
    "res_hub_yn = [model.var_hub_yn[hub].value for hub in model.idx_hubs]\n",
    "\n",
    "res_prop_cg_at_hub_list = []\n",
    "\n",
    "for cg in model.idx_cengeos:\n",
    "    cg_dict = dict()\n",
    "    for pair in model.idx_cg_hub_pairs:\n",
    "        if pair[0]==cg:\n",
    "            cg_dict[pair[1]] = model.var_prop_cg_at_hub[pair].value\n",
    "    res_prop_cg_at_hub_list.append(cg_dict)\n",
    "    \n",
    "res_prop_cg_at_hub = pd.DataFrame(res_prop_cg_at_hub_list)"
   ]
  },
  {
   "cell_type": "code",
   "execution_count": null,
   "id": "47527ccb",
   "metadata": {},
   "outputs": [],
   "source": [
    "hub_y = [hub for hub in model.var_hub_yn if model.var_hub_yn[hub].value > 0]\n",
    "\n",
    "for hub in hub_y:\n",
    "    print(hub, np.unique(res_prop_cg_at_hub[hub]))\n",
    "    print(hub, model.var_hub_pop[hub].value)"
   ]
  },
  {
   "cell_type": "code",
   "execution_count": null,
   "id": "2897a207",
   "metadata": {},
   "outputs": [],
   "source": [
    "np.unique(res_prop_cg_at_hub)"
   ]
  },
  {
   "cell_type": "markdown",
   "id": "ce404788",
   "metadata": {
    "scrolled": true
   },
   "source": [
    "model_solver = pyopt.SolverFactory('glpk')\n",
    "\n",
    "model_results = model_solver.solve(model, tee=True)"
   ]
  },
  {
   "cell_type": "markdown",
   "id": "e817617e",
   "metadata": {},
   "source": [
    "results_df = pd.DataFrame(index = pd.MultiIndex.from_tuples(model.idx_cg_hub_pairs, names = ['cengeos', 'hubs']))"
   ]
  },
  {
   "cell_type": "code",
   "execution_count": null,
   "id": "8d5a6e7d",
   "metadata": {},
   "outputs": [],
   "source": []
  },
  {
   "cell_type": "code",
   "execution_count": null,
   "id": "bff1a59f",
   "metadata": {},
   "outputs": [],
   "source": []
  },
  {
   "cell_type": "code",
   "execution_count": null,
   "id": "74d1dd47",
   "metadata": {},
   "outputs": [],
   "source": []
  }
 ],
 "metadata": {
  "kernelspec": {
   "display_name": "geoenv",
   "language": "python",
   "name": "geoenv"
  },
  "language_info": {
   "codemirror_mode": {
    "name": "ipython",
    "version": 3
   },
   "file_extension": ".py",
   "mimetype": "text/x-python",
   "name": "python",
   "nbconvert_exporter": "python",
   "pygments_lexer": "ipython3",
   "version": "3.9.7"
  }
 },
 "nbformat": 4,
 "nbformat_minor": 5
}
