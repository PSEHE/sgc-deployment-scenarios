{
 "cells": [
  {
   "cell_type": "code",
   "execution_count": 1,
   "id": "2dabef78",
   "metadata": {},
   "outputs": [],
   "source": [
    "import pandas as pd\n",
    "\n",
    "import p_median"
   ]
  },
  {
   "cell_type": "code",
   "execution_count": 9,
   "id": "059a2acf",
   "metadata": {},
   "outputs": [],
   "source": [
    "results_log_columns = ['model_id', 'con_max_hubs', 'con_cap_factor', 'con_pct_tot', 'con_min_ces_score', 'con_min_prop_ej', 'res_dist_traveled', 'res_pop_served', 'res_agg_ces_score', 'res_avg_dist']\n",
    "results_log_df = pd.DataFrame(columns = results_log_columns)"
   ]
  },
  {
   "cell_type": "code",
   "execution_count": 15,
   "id": "5b0b940e",
   "metadata": {
    "scrolled": true
   },
   "outputs": [
    {
     "name": "stdout",
     "output_type": "stream",
     "text": [
      "\n",
      "Problem: \n",
      "- Name: x24130\n",
      "  Lower bound: 66651.34756127866\n",
      "  Upper bound: 66651.34756127866\n",
      "  Number of objectives: 1\n",
      "  Number of constraints: 27211\n",
      "  Number of variables: 24130\n",
      "  Number of binary variables: 558\n",
      "  Number of integer variables: 558\n",
      "  Number of continuous variables: 23572\n",
      "  Number of nonzeros: 213256\n",
      "  Sense: minimize\n",
      "Solver: \n",
      "- Status: ok\n",
      "  Return code: 0\n",
      "  Message: Model was solved to optimality (subject to tolerances), and an optimal solution is available.\n",
      "  Termination condition: optimal\n",
      "  Termination message: Model was solved to optimality (subject to tolerances), and an optimal solution is available.\n",
      "  Wall time: 0.7140007019042969\n",
      "  Error rc: 0\n",
      "  Time: 1.2545199394226074\n",
      "Solution: \n",
      "- number of solutions: 0\n",
      "  number of solutions displayed: 0\n",
      "\n"
     ]
    }
   ],
   "source": [
    "# Define desired inputs\n",
    "max_hubs = 30\n",
    "cap_factor = 1\n",
    "min_pop_fraction = 0.15\n",
    "min_ces_score = 0.0\n",
    "min_prop_ej = 0.0\n",
    "\n",
    "# Solve Model\n",
    "model = p_median.define_pmedian(max_hubs, cap_factor, min_pop_fraction, min_ces_score, min_prop_ej)\n",
    "\n",
    "# Generate unique ID for results file paths\n",
    "result_path = p_median.make_result_path()\n",
    "\n",
    "# Save various outputs to dedicated CSVs, save aggregate values\n",
    "result_model = p_median.solve_model(model, result_path)\n",
    "\n",
    "result_prop_served_df, result_prop_served_dict = p_median.save_results_prop_bg_at_site(model, result_path)\n",
    "\n",
    "result_hubs = p_median.save_results_hubs(model, result_path)\n",
    "\n",
    "result_pop_served = p_median.save_results_pop_served(result_prop_served_df, result_prop_served_dict, result_path)\n",
    "\n",
    "result_dist_traveled = p_median.save_results_dist_traveled(result_prop_served_df, result_prop_served_dict, result_path)\n",
    "\n",
    "result_ces = p_median.save_results_ces(result_prop_served_df, result_prop_served_dict, result_pop_served, result_path)\n",
    "\n",
    "results_log_values = [[result_path.split('/')[-1], max_hubs, cap_factor, min_pop_fraction, min_ces_score, min_prop_ej, result_dist_traveled, result_pop_served, result_ces, result_dist_traveled/result_pop_served]]\n",
    "results_log_df = results_log_df.append(pd.DataFrame(columns = results_log_columns, data = results_log_values))"
   ]
  },
  {
   "cell_type": "code",
   "execution_count": 12,
   "id": "9eadc3d6",
   "metadata": {},
   "outputs": [
    {
     "data": {
      "text/html": [
       "<div>\n",
       "<style scoped>\n",
       "    .dataframe tbody tr th:only-of-type {\n",
       "        vertical-align: middle;\n",
       "    }\n",
       "\n",
       "    .dataframe tbody tr th {\n",
       "        vertical-align: top;\n",
       "    }\n",
       "\n",
       "    .dataframe thead th {\n",
       "        text-align: right;\n",
       "    }\n",
       "</style>\n",
       "<table border=\"1\" class=\"dataframe\">\n",
       "  <thead>\n",
       "    <tr style=\"text-align: right;\">\n",
       "      <th></th>\n",
       "      <th>model_id</th>\n",
       "      <th>con_max_hubs</th>\n",
       "      <th>con_cap_factor</th>\n",
       "      <th>con_pct_tot</th>\n",
       "      <th>con_min_ces_score</th>\n",
       "      <th>con_min_prop_ej</th>\n",
       "      <th>res_dist_traveled</th>\n",
       "      <th>res_pop_served</th>\n",
       "      <th>res_agg_ces_score</th>\n",
       "      <th>res_avg_dist</th>\n",
       "    </tr>\n",
       "  </thead>\n",
       "  <tbody>\n",
       "    <tr>\n",
       "      <th>0</th>\n",
       "      <td>2022-03-24_0953</td>\n",
       "      <td>25</td>\n",
       "      <td>1</td>\n",
       "      <td>0.15</td>\n",
       "      <td>0.75</td>\n",
       "      <td>0.0</td>\n",
       "      <td>75732.904797</td>\n",
       "      <td>169560.0</td>\n",
       "      <td>0.570411</td>\n",
       "      <td>0.446644</td>\n",
       "    </tr>\n",
       "  </tbody>\n",
       "</table>\n",
       "</div>"
      ],
      "text/plain": [
       "          model_id con_max_hubs con_cap_factor  con_pct_tot  \\\n",
       "0  2022-03-24_0953           25              1         0.15   \n",
       "\n",
       "   con_min_ces_score  con_min_prop_ej  res_dist_traveled  res_pop_served  \\\n",
       "0               0.75              0.0       75732.904797        169560.0   \n",
       "\n",
       "   res_agg_ces_score  res_avg_dist  \n",
       "0           0.570411      0.446644  "
      ]
     },
     "execution_count": 12,
     "metadata": {},
     "output_type": "execute_result"
    }
   ],
   "source": [
    "results_log_df"
   ]
  },
  {
   "cell_type": "code",
   "execution_count": null,
   "id": "0f0b66e9",
   "metadata": {},
   "outputs": [],
   "source": [
    "results_log_df.to_csv('results/p-med/results_log_CESb.csv', index = False)"
   ]
  }
 ],
 "metadata": {
  "kernelspec": {
   "display_name": "Python 3 (ipykernel)",
   "language": "python",
   "name": "python3"
  },
  "language_info": {
   "codemirror_mode": {
    "name": "ipython",
    "version": 3
   },
   "file_extension": ".py",
   "mimetype": "text/x-python",
   "name": "python",
   "nbconvert_exporter": "python",
   "pygments_lexer": "ipython3",
   "version": "3.9.7"
  }
 },
 "nbformat": 4,
 "nbformat_minor": 5
}
