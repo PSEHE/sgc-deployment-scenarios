{
 "cells": [
  {
   "cell_type": "code",
   "execution_count": 1,
   "id": "6a6c0b15",
   "metadata": {},
   "outputs": [],
   "source": [
    "# This script will create a map of survey results, with buffers around respondents' addresses according to the max.\n",
    "# distance they said they'd be comfortable walking to a resilience hub\n",
    "\n",
    "import osmnx as ox\n",
    "from osmnx import utils_graph\n",
    "import networkx as nx\n",
    "\n",
    "import geopandas as gpd\n",
    "import pandas as pd\n",
    "import numpy as np\n",
    "from statistics import mean\n",
    "\n",
    "import matplotlib.pyplot as plt\n",
    "import plotly.express as px\n",
    "import shapely\n",
    "import folium\n",
    "import plotly.graph_objects as go # or plotly.express as px\n",
    "\n",
    "import os\n",
    "\n",
    "import sklearn\n",
    "import pyproj\n",
    "from scipy.sparse import csr_matrix\n",
    "from shapely.ops import linemerge\n",
    "import scipy\n",
    "import haversine as hs\n",
    "import warnings"
   ]
  },
  {
   "cell_type": "code",
   "execution_count": 2,
   "id": "4cc9113a",
   "metadata": {},
   "outputs": [],
   "source": [
    "# Load survey data\n",
    "survey = pd.read_csv(r'data/survey_cleaned.csv')\n",
    "survey = pd.concat([survey, survey['geometry'].str.split(', ', expand=True).rename(columns={0:'Latitude', 1:'Longitude'})], axis = 1)\n"
   ]
  },
  {
   "cell_type": "code",
   "execution_count": 3,
   "id": "bf483c2d",
   "metadata": {},
   "outputs": [],
   "source": [
    "nad83 = 'EPSG:4269'\n",
    "gdf = gpd.GeoDataFrame(survey, geometry=gpd.points_from_xy(survey.Longitude, survey.Latitude), crs = nad83)\n"
   ]
  },
  {
   "cell_type": "code",
   "execution_count": 5,
   "id": "810306cb",
   "metadata": {},
   "outputs": [],
   "source": [
    "survey.Latitude = pd.to_numeric(survey.Latitude)\n",
    "survey.Longitude = pd.to_numeric(survey.Longitude)"
   ]
  },
  {
   "cell_type": "code",
   "execution_count": 43,
   "id": "d8027632",
   "metadata": {},
   "outputs": [
    {
     "data": {
      "application/vnd.plotly.v1+json": {
       "config": {
        "plotlyServerURL": "https://plot.ly"
       },
       "data": [
        {
         "hovertemplate": "Latitude=%{lat}<br>Longitude=%{lon}<extra></extra>",
         "lat": [
          33.77993111595291,
          33.79936458077368,
          33.77679698077995,
          33.7763561365459,
          33.7887957234852,
          33.786806724603615,
          33.793522094471825,
          33.779986882220506,
          33.7918279389494,
          33.787788123479025,
          33.79088262444338,
          33.78489093931261,
          33.781191352801464,
          34.0335470579361,
          33.77427860050028,
          33.775502252914286,
          33.79788209523887,
          33.725437495742945,
          33.78764757940869,
          33.7738606143877,
          33.77272710617888,
          33.787477823476884,
          33.727713350038975,
          33.77348446773629,
          33.7868336672984,
          33.79554559453732,
          33.78026301272373,
          33.78809229429692,
          33.791820552520925,
          33.77798131022689,
          33.79965535243596,
          33.79936123743785,
          33.77596339390554,
          33.78258055145086,
          33.777970724950926,
          33.778121538140425,
          33.78209936745359,
          33.775581654554585,
          33.78585170884578,
          33.77427691032429,
          33.78055162626547,
          33.779754036677524,
          33.77644648077995,
          33.77583163815595,
          33.78060983671076,
          33.77998688222023,
          33.780610951400114,
          33.769865953025665,
          33.78111982482722,
          33.78880536619405,
          33.79128515167498,
          33.80174338077296,
          33.7910267089453,
          33.78344532216812,
          33.888827720586164,
          33.83169267984932,
          33.790472895336265,
          33.77300425472308,
          33.78322523939993,
          33.77362023990239,
          33.77927482342582,
          33.777899795504304,
          33.748092441237816,
          33.77632175289792,
          33.772862108595746,
          33.89490253734721,
          33.92612753190666,
          33.782003510121115,
          33.79414457997902,
          33.7855525088398,
          33.78680895382103,
          33.7855525088398,
          33.77983415282842,
          33.95926484926819,
          33.73316612313885,
          33.72530361161157,
          33.7802899366982,
          33.77709029708849,
          33.7253036116116,
          33.78440998201778,
          33.7860860942322,
          33.77730983675901,
          33.77475203984316,
          33.786219108852976,
          33.781138195461295,
          33.91193471967488,
          33.77731068234303,
          33.80074423798699,
          33.78683438190654,
          33.78006616608258,
          33.81244909504492,
          33.77526662340102,
          33.772728365988904,
          33.7767566249987,
          33.78029913955294,
          33.78323098207156,
          33.77211011038131,
          33.775579982422386,
          33.78135059407933,
          33.77715212341267,
          33.790231924468884,
          33.78542642465778,
          33.79077596716876,
          33.790900909886986
         ],
         "legendgroup": "",
         "lon": [
          -118.2637457728686,
          -118.26007573054092,
          -118.26743210170508,
          -118.2720550722574,
          -118.27256390170494,
          -118.26134204280947,
          -118.25963066060028,
          -118.2624587428095,
          -118.245453972257,
          -118.25885291949588,
          -118.26880937225718,
          -118.25017296060052,
          -118.26049020170493,
          -118.2759334194919,
          -118.27337978230456,
          -118.2701765900482,
          -118.27786439004802,
          -118.28661852030837,
          -118.27019853926978,
          -118.27587885743792,
          -118.273172644372,
          -118.25137903115272,
          -118.29596983115364,
          -118.27495111336196,
          -118.27557487225724,
          -118.2608729311526,
          -118.25732891606648,
          -118.250495083914,
          -118.28375932003546,
          -118.2612086311527,
          -118.2595342606002,
          -118.2600656722568,
          -118.261169613362,
          -118.26842389004806,
          -118.2727588544698,
          -118.2725372311528,
          -118.27540280170508,
          -118.27498416060048,
          -118.26085847225724,
          -118.27337978391428,
          -118.26784516060049,
          -118.26654037225732,
          -118.2739473428096,
          -118.27498486060064,
          -118.25074253115268,
          -118.2624567311566,
          -118.25074119004816,
          -118.26427696060064,
          -118.26766146060058,
          -118.19264913115268,
          -118.26999963115254,
          -118.2642387133614,
          -118.2657515133616,
          -118.2705585311527,
          -118.1929620133601,
          -118.23960530170416,
          -118.28105116060662,
          -118.2712349544666,
          -118.26001847225729,
          -118.27241595446644,
          -118.275477513362,
          -118.27405636060053,
          -118.30229397225784,
          -118.27289803115278,
          -118.27136478391428,
          -118.082465219494,
          -118.13160898391187,
          -118.20904380170504,
          -118.27932303115266,
          -118.26062289004824,
          -118.26134204280947,
          -118.26062289004824,
          -118.2650812311527,
          -118.21881257225436,
          -118.30172571336264,
          -118.28770146060138,
          -118.2478566544664,
          -118.26223888391424,
          -118.28770280170588,
          -118.2542556311527,
          -118.26163669004816,
          -118.26113764307718,
          -118.2748341311528,
          -118.26164201336184,
          -118.26460924280956,
          -118.21074531335972,
          -118.26113827225733,
          -118.18926714280948,
          -118.24483583115276,
          -118.24921221949587,
          -118.26249034280902,
          -118.27357163115283,
          -118.27317016060064,
          -118.26423887225754,
          -118.24782886060042,
          -118.24926154280944,
          -118.27363606060058,
          -118.27498349004824,
          -118.26795201336203,
          -118.26369420170498,
          -118.2623816722571,
          -118.26549008391405,
          -118.27078844280942,
          -118.25100540170487
         ],
         "marker": {
          "color": "#636efa"
         },
         "mode": "markers",
         "name": "",
         "showlegend": false,
         "subplot": "mapbox",
         "type": "scattermapbox"
        }
       ],
       "layout": {
        "height": 1000,
        "legend": {
         "tracegroupgap": 0
        },
        "mapbox": {
         "center": {
          "lat": 33.881,
          "lon": -118.20441747802563
         },
         "domain": {
          "x": [
           0,
           1
          ],
          "y": [
           0,
           1
          ]
         },
         "style": "carto-positron",
         "zoom": 10.5
        },
        "margin": {
         "t": 60
        },
        "template": {
         "data": {
          "bar": [
           {
            "error_x": {
             "color": "#2a3f5f"
            },
            "error_y": {
             "color": "#2a3f5f"
            },
            "marker": {
             "line": {
              "color": "#E5ECF6",
              "width": 0.5
             },
             "pattern": {
              "fillmode": "overlay",
              "size": 10,
              "solidity": 0.2
             }
            },
            "type": "bar"
           }
          ],
          "barpolar": [
           {
            "marker": {
             "line": {
              "color": "#E5ECF6",
              "width": 0.5
             },
             "pattern": {
              "fillmode": "overlay",
              "size": 10,
              "solidity": 0.2
             }
            },
            "type": "barpolar"
           }
          ],
          "carpet": [
           {
            "aaxis": {
             "endlinecolor": "#2a3f5f",
             "gridcolor": "white",
             "linecolor": "white",
             "minorgridcolor": "white",
             "startlinecolor": "#2a3f5f"
            },
            "baxis": {
             "endlinecolor": "#2a3f5f",
             "gridcolor": "white",
             "linecolor": "white",
             "minorgridcolor": "white",
             "startlinecolor": "#2a3f5f"
            },
            "type": "carpet"
           }
          ],
          "choropleth": [
           {
            "colorbar": {
             "outlinewidth": 0,
             "ticks": ""
            },
            "type": "choropleth"
           }
          ],
          "contour": [
           {
            "colorbar": {
             "outlinewidth": 0,
             "ticks": ""
            },
            "colorscale": [
             [
              0,
              "#0d0887"
             ],
             [
              0.1111111111111111,
              "#46039f"
             ],
             [
              0.2222222222222222,
              "#7201a8"
             ],
             [
              0.3333333333333333,
              "#9c179e"
             ],
             [
              0.4444444444444444,
              "#bd3786"
             ],
             [
              0.5555555555555556,
              "#d8576b"
             ],
             [
              0.6666666666666666,
              "#ed7953"
             ],
             [
              0.7777777777777778,
              "#fb9f3a"
             ],
             [
              0.8888888888888888,
              "#fdca26"
             ],
             [
              1,
              "#f0f921"
             ]
            ],
            "type": "contour"
           }
          ],
          "contourcarpet": [
           {
            "colorbar": {
             "outlinewidth": 0,
             "ticks": ""
            },
            "type": "contourcarpet"
           }
          ],
          "heatmap": [
           {
            "colorbar": {
             "outlinewidth": 0,
             "ticks": ""
            },
            "colorscale": [
             [
              0,
              "#0d0887"
             ],
             [
              0.1111111111111111,
              "#46039f"
             ],
             [
              0.2222222222222222,
              "#7201a8"
             ],
             [
              0.3333333333333333,
              "#9c179e"
             ],
             [
              0.4444444444444444,
              "#bd3786"
             ],
             [
              0.5555555555555556,
              "#d8576b"
             ],
             [
              0.6666666666666666,
              "#ed7953"
             ],
             [
              0.7777777777777778,
              "#fb9f3a"
             ],
             [
              0.8888888888888888,
              "#fdca26"
             ],
             [
              1,
              "#f0f921"
             ]
            ],
            "type": "heatmap"
           }
          ],
          "heatmapgl": [
           {
            "colorbar": {
             "outlinewidth": 0,
             "ticks": ""
            },
            "colorscale": [
             [
              0,
              "#0d0887"
             ],
             [
              0.1111111111111111,
              "#46039f"
             ],
             [
              0.2222222222222222,
              "#7201a8"
             ],
             [
              0.3333333333333333,
              "#9c179e"
             ],
             [
              0.4444444444444444,
              "#bd3786"
             ],
             [
              0.5555555555555556,
              "#d8576b"
             ],
             [
              0.6666666666666666,
              "#ed7953"
             ],
             [
              0.7777777777777778,
              "#fb9f3a"
             ],
             [
              0.8888888888888888,
              "#fdca26"
             ],
             [
              1,
              "#f0f921"
             ]
            ],
            "type": "heatmapgl"
           }
          ],
          "histogram": [
           {
            "marker": {
             "pattern": {
              "fillmode": "overlay",
              "size": 10,
              "solidity": 0.2
             }
            },
            "type": "histogram"
           }
          ],
          "histogram2d": [
           {
            "colorbar": {
             "outlinewidth": 0,
             "ticks": ""
            },
            "colorscale": [
             [
              0,
              "#0d0887"
             ],
             [
              0.1111111111111111,
              "#46039f"
             ],
             [
              0.2222222222222222,
              "#7201a8"
             ],
             [
              0.3333333333333333,
              "#9c179e"
             ],
             [
              0.4444444444444444,
              "#bd3786"
             ],
             [
              0.5555555555555556,
              "#d8576b"
             ],
             [
              0.6666666666666666,
              "#ed7953"
             ],
             [
              0.7777777777777778,
              "#fb9f3a"
             ],
             [
              0.8888888888888888,
              "#fdca26"
             ],
             [
              1,
              "#f0f921"
             ]
            ],
            "type": "histogram2d"
           }
          ],
          "histogram2dcontour": [
           {
            "colorbar": {
             "outlinewidth": 0,
             "ticks": ""
            },
            "colorscale": [
             [
              0,
              "#0d0887"
             ],
             [
              0.1111111111111111,
              "#46039f"
             ],
             [
              0.2222222222222222,
              "#7201a8"
             ],
             [
              0.3333333333333333,
              "#9c179e"
             ],
             [
              0.4444444444444444,
              "#bd3786"
             ],
             [
              0.5555555555555556,
              "#d8576b"
             ],
             [
              0.6666666666666666,
              "#ed7953"
             ],
             [
              0.7777777777777778,
              "#fb9f3a"
             ],
             [
              0.8888888888888888,
              "#fdca26"
             ],
             [
              1,
              "#f0f921"
             ]
            ],
            "type": "histogram2dcontour"
           }
          ],
          "mesh3d": [
           {
            "colorbar": {
             "outlinewidth": 0,
             "ticks": ""
            },
            "type": "mesh3d"
           }
          ],
          "parcoords": [
           {
            "line": {
             "colorbar": {
              "outlinewidth": 0,
              "ticks": ""
             }
            },
            "type": "parcoords"
           }
          ],
          "pie": [
           {
            "automargin": true,
            "type": "pie"
           }
          ],
          "scatter": [
           {
            "fillpattern": {
             "fillmode": "overlay",
             "size": 10,
             "solidity": 0.2
            },
            "type": "scatter"
           }
          ],
          "scatter3d": [
           {
            "line": {
             "colorbar": {
              "outlinewidth": 0,
              "ticks": ""
             }
            },
            "marker": {
             "colorbar": {
              "outlinewidth": 0,
              "ticks": ""
             }
            },
            "type": "scatter3d"
           }
          ],
          "scattercarpet": [
           {
            "marker": {
             "colorbar": {
              "outlinewidth": 0,
              "ticks": ""
             }
            },
            "type": "scattercarpet"
           }
          ],
          "scattergeo": [
           {
            "marker": {
             "colorbar": {
              "outlinewidth": 0,
              "ticks": ""
             }
            },
            "type": "scattergeo"
           }
          ],
          "scattergl": [
           {
            "marker": {
             "colorbar": {
              "outlinewidth": 0,
              "ticks": ""
             }
            },
            "type": "scattergl"
           }
          ],
          "scattermapbox": [
           {
            "marker": {
             "colorbar": {
              "outlinewidth": 0,
              "ticks": ""
             }
            },
            "type": "scattermapbox"
           }
          ],
          "scatterpolar": [
           {
            "marker": {
             "colorbar": {
              "outlinewidth": 0,
              "ticks": ""
             }
            },
            "type": "scatterpolar"
           }
          ],
          "scatterpolargl": [
           {
            "marker": {
             "colorbar": {
              "outlinewidth": 0,
              "ticks": ""
             }
            },
            "type": "scatterpolargl"
           }
          ],
          "scatterternary": [
           {
            "marker": {
             "colorbar": {
              "outlinewidth": 0,
              "ticks": ""
             }
            },
            "type": "scatterternary"
           }
          ],
          "surface": [
           {
            "colorbar": {
             "outlinewidth": 0,
             "ticks": ""
            },
            "colorscale": [
             [
              0,
              "#0d0887"
             ],
             [
              0.1111111111111111,
              "#46039f"
             ],
             [
              0.2222222222222222,
              "#7201a8"
             ],
             [
              0.3333333333333333,
              "#9c179e"
             ],
             [
              0.4444444444444444,
              "#bd3786"
             ],
             [
              0.5555555555555556,
              "#d8576b"
             ],
             [
              0.6666666666666666,
              "#ed7953"
             ],
             [
              0.7777777777777778,
              "#fb9f3a"
             ],
             [
              0.8888888888888888,
              "#fdca26"
             ],
             [
              1,
              "#f0f921"
             ]
            ],
            "type": "surface"
           }
          ],
          "table": [
           {
            "cells": {
             "fill": {
              "color": "#EBF0F8"
             },
             "line": {
              "color": "white"
             }
            },
            "header": {
             "fill": {
              "color": "#C8D4E3"
             },
             "line": {
              "color": "white"
             }
            },
            "type": "table"
           }
          ]
         },
         "layout": {
          "annotationdefaults": {
           "arrowcolor": "#2a3f5f",
           "arrowhead": 0,
           "arrowwidth": 1
          },
          "autotypenumbers": "strict",
          "coloraxis": {
           "colorbar": {
            "outlinewidth": 0,
            "ticks": ""
           }
          },
          "colorscale": {
           "diverging": [
            [
             0,
             "#8e0152"
            ],
            [
             0.1,
             "#c51b7d"
            ],
            [
             0.2,
             "#de77ae"
            ],
            [
             0.3,
             "#f1b6da"
            ],
            [
             0.4,
             "#fde0ef"
            ],
            [
             0.5,
             "#f7f7f7"
            ],
            [
             0.6,
             "#e6f5d0"
            ],
            [
             0.7,
             "#b8e186"
            ],
            [
             0.8,
             "#7fbc41"
            ],
            [
             0.9,
             "#4d9221"
            ],
            [
             1,
             "#276419"
            ]
           ],
           "sequential": [
            [
             0,
             "#0d0887"
            ],
            [
             0.1111111111111111,
             "#46039f"
            ],
            [
             0.2222222222222222,
             "#7201a8"
            ],
            [
             0.3333333333333333,
             "#9c179e"
            ],
            [
             0.4444444444444444,
             "#bd3786"
            ],
            [
             0.5555555555555556,
             "#d8576b"
            ],
            [
             0.6666666666666666,
             "#ed7953"
            ],
            [
             0.7777777777777778,
             "#fb9f3a"
            ],
            [
             0.8888888888888888,
             "#fdca26"
            ],
            [
             1,
             "#f0f921"
            ]
           ],
           "sequentialminus": [
            [
             0,
             "#0d0887"
            ],
            [
             0.1111111111111111,
             "#46039f"
            ],
            [
             0.2222222222222222,
             "#7201a8"
            ],
            [
             0.3333333333333333,
             "#9c179e"
            ],
            [
             0.4444444444444444,
             "#bd3786"
            ],
            [
             0.5555555555555556,
             "#d8576b"
            ],
            [
             0.6666666666666666,
             "#ed7953"
            ],
            [
             0.7777777777777778,
             "#fb9f3a"
            ],
            [
             0.8888888888888888,
             "#fdca26"
            ],
            [
             1,
             "#f0f921"
            ]
           ]
          },
          "colorway": [
           "#636efa",
           "#EF553B",
           "#00cc96",
           "#ab63fa",
           "#FFA15A",
           "#19d3f3",
           "#FF6692",
           "#B6E880",
           "#FF97FF",
           "#FECB52"
          ],
          "font": {
           "color": "#2a3f5f"
          },
          "geo": {
           "bgcolor": "white",
           "lakecolor": "white",
           "landcolor": "#E5ECF6",
           "showlakes": true,
           "showland": true,
           "subunitcolor": "white"
          },
          "hoverlabel": {
           "align": "left"
          },
          "hovermode": "closest",
          "mapbox": {
           "style": "light"
          },
          "paper_bgcolor": "white",
          "plot_bgcolor": "#E5ECF6",
          "polar": {
           "angularaxis": {
            "gridcolor": "white",
            "linecolor": "white",
            "ticks": ""
           },
           "bgcolor": "#E5ECF6",
           "radialaxis": {
            "gridcolor": "white",
            "linecolor": "white",
            "ticks": ""
           }
          },
          "scene": {
           "xaxis": {
            "backgroundcolor": "#E5ECF6",
            "gridcolor": "white",
            "gridwidth": 2,
            "linecolor": "white",
            "showbackground": true,
            "ticks": "",
            "zerolinecolor": "white"
           },
           "yaxis": {
            "backgroundcolor": "#E5ECF6",
            "gridcolor": "white",
            "gridwidth": 2,
            "linecolor": "white",
            "showbackground": true,
            "ticks": "",
            "zerolinecolor": "white"
           },
           "zaxis": {
            "backgroundcolor": "#E5ECF6",
            "gridcolor": "white",
            "gridwidth": 2,
            "linecolor": "white",
            "showbackground": true,
            "ticks": "",
            "zerolinecolor": "white"
           }
          },
          "shapedefaults": {
           "line": {
            "color": "#2a3f5f"
           }
          },
          "ternary": {
           "aaxis": {
            "gridcolor": "white",
            "linecolor": "white",
            "ticks": ""
           },
           "baxis": {
            "gridcolor": "white",
            "linecolor": "white",
            "ticks": ""
           },
           "bgcolor": "#E5ECF6",
           "caxis": {
            "gridcolor": "white",
            "linecolor": "white",
            "ticks": ""
           }
          },
          "title": {
           "x": 0.05
          },
          "xaxis": {
           "automargin": true,
           "gridcolor": "white",
           "linecolor": "white",
           "ticks": "",
           "title": {
            "standoff": 15
           },
           "zerolinecolor": "white",
           "zerolinewidth": 2
          },
          "yaxis": {
           "automargin": true,
           "gridcolor": "white",
           "linecolor": "white",
           "ticks": "",
           "title": {
            "standoff": 15
           },
           "zerolinecolor": "white",
           "zerolinewidth": 2
          }
         }
        },
        "width": 1000
       }
      },
      "text/html": [
       "<div>                            <div id=\"930861c0-7588-4d3c-b91f-be2667c430dd\" class=\"plotly-graph-div\" style=\"height:1000px; width:1000px;\"></div>            <script type=\"text/javascript\">                require([\"plotly\"], function(Plotly) {                    window.PLOTLYENV=window.PLOTLYENV || {};                                    if (document.getElementById(\"930861c0-7588-4d3c-b91f-be2667c430dd\")) {                    Plotly.newPlot(                        \"930861c0-7588-4d3c-b91f-be2667c430dd\",                        [{\"hovertemplate\":\"Latitude=%{lat}<br>Longitude=%{lon}<extra></extra>\",\"lat\":[33.77993111595291,33.79936458077368,33.77679698077995,33.7763561365459,33.7887957234852,33.786806724603615,33.793522094471825,33.779986882220506,33.7918279389494,33.787788123479025,33.79088262444338,33.78489093931261,33.781191352801464,34.0335470579361,33.77427860050028,33.775502252914286,33.79788209523887,33.725437495742945,33.78764757940869,33.7738606143877,33.77272710617888,33.787477823476884,33.727713350038975,33.77348446773629,33.7868336672984,33.79554559453732,33.78026301272373,33.78809229429692,33.791820552520925,33.77798131022689,33.79965535243596,33.79936123743785,33.77596339390554,33.78258055145086,33.777970724950926,33.778121538140425,33.78209936745359,33.775581654554585,33.78585170884578,33.77427691032429,33.78055162626547,33.779754036677524,33.77644648077995,33.77583163815595,33.78060983671076,33.77998688222023,33.780610951400114,33.769865953025665,33.78111982482722,33.78880536619405,33.79128515167498,33.80174338077296,33.7910267089453,33.78344532216812,33.888827720586164,33.83169267984932,33.790472895336265,33.77300425472308,33.78322523939993,33.77362023990239,33.77927482342582,33.777899795504304,33.748092441237816,33.77632175289792,33.772862108595746,33.89490253734721,33.92612753190666,33.782003510121115,33.79414457997902,33.7855525088398,33.78680895382103,33.7855525088398,33.77983415282842,33.95926484926819,33.73316612313885,33.72530361161157,33.7802899366982,33.77709029708849,33.7253036116116,33.78440998201778,33.7860860942322,33.77730983675901,33.77475203984316,33.786219108852976,33.781138195461295,33.91193471967488,33.77731068234303,33.80074423798699,33.78683438190654,33.78006616608258,33.81244909504492,33.77526662340102,33.772728365988904,33.7767566249987,33.78029913955294,33.78323098207156,33.77211011038131,33.775579982422386,33.78135059407933,33.77715212341267,33.790231924468884,33.78542642465778,33.79077596716876,33.790900909886986],\"legendgroup\":\"\",\"lon\":[-118.2637457728686,-118.26007573054092,-118.26743210170508,-118.2720550722574,-118.27256390170494,-118.26134204280947,-118.25963066060028,-118.2624587428095,-118.245453972257,-118.25885291949588,-118.26880937225718,-118.25017296060052,-118.26049020170493,-118.2759334194919,-118.27337978230456,-118.2701765900482,-118.27786439004802,-118.28661852030837,-118.27019853926978,-118.27587885743792,-118.273172644372,-118.25137903115272,-118.29596983115364,-118.27495111336196,-118.27557487225724,-118.2608729311526,-118.25732891606648,-118.250495083914,-118.28375932003546,-118.2612086311527,-118.2595342606002,-118.2600656722568,-118.261169613362,-118.26842389004806,-118.2727588544698,-118.2725372311528,-118.27540280170508,-118.27498416060048,-118.26085847225724,-118.27337978391428,-118.26784516060049,-118.26654037225732,-118.2739473428096,-118.27498486060064,-118.25074253115268,-118.2624567311566,-118.25074119004816,-118.26427696060064,-118.26766146060058,-118.19264913115268,-118.26999963115254,-118.2642387133614,-118.2657515133616,-118.2705585311527,-118.1929620133601,-118.23960530170416,-118.28105116060662,-118.2712349544666,-118.26001847225729,-118.27241595446644,-118.275477513362,-118.27405636060053,-118.30229397225784,-118.27289803115278,-118.27136478391428,-118.082465219494,-118.13160898391187,-118.20904380170504,-118.27932303115266,-118.26062289004824,-118.26134204280947,-118.26062289004824,-118.2650812311527,-118.21881257225436,-118.30172571336264,-118.28770146060138,-118.2478566544664,-118.26223888391424,-118.28770280170588,-118.2542556311527,-118.26163669004816,-118.26113764307718,-118.2748341311528,-118.26164201336184,-118.26460924280956,-118.21074531335972,-118.26113827225733,-118.18926714280948,-118.24483583115276,-118.24921221949587,-118.26249034280902,-118.27357163115283,-118.27317016060064,-118.26423887225754,-118.24782886060042,-118.24926154280944,-118.27363606060058,-118.27498349004824,-118.26795201336203,-118.26369420170498,-118.2623816722571,-118.26549008391405,-118.27078844280942,-118.25100540170487],\"marker\":{\"color\":\"#636efa\"},\"mode\":\"markers\",\"name\":\"\",\"showlegend\":false,\"subplot\":\"mapbox\",\"type\":\"scattermapbox\"}],                        {\"template\":{\"data\":{\"histogram2dcontour\":[{\"type\":\"histogram2dcontour\",\"colorbar\":{\"outlinewidth\":0,\"ticks\":\"\"},\"colorscale\":[[0.0,\"#0d0887\"],[0.1111111111111111,\"#46039f\"],[0.2222222222222222,\"#7201a8\"],[0.3333333333333333,\"#9c179e\"],[0.4444444444444444,\"#bd3786\"],[0.5555555555555556,\"#d8576b\"],[0.6666666666666666,\"#ed7953\"],[0.7777777777777778,\"#fb9f3a\"],[0.8888888888888888,\"#fdca26\"],[1.0,\"#f0f921\"]]}],\"choropleth\":[{\"type\":\"choropleth\",\"colorbar\":{\"outlinewidth\":0,\"ticks\":\"\"}}],\"histogram2d\":[{\"type\":\"histogram2d\",\"colorbar\":{\"outlinewidth\":0,\"ticks\":\"\"},\"colorscale\":[[0.0,\"#0d0887\"],[0.1111111111111111,\"#46039f\"],[0.2222222222222222,\"#7201a8\"],[0.3333333333333333,\"#9c179e\"],[0.4444444444444444,\"#bd3786\"],[0.5555555555555556,\"#d8576b\"],[0.6666666666666666,\"#ed7953\"],[0.7777777777777778,\"#fb9f3a\"],[0.8888888888888888,\"#fdca26\"],[1.0,\"#f0f921\"]]}],\"heatmap\":[{\"type\":\"heatmap\",\"colorbar\":{\"outlinewidth\":0,\"ticks\":\"\"},\"colorscale\":[[0.0,\"#0d0887\"],[0.1111111111111111,\"#46039f\"],[0.2222222222222222,\"#7201a8\"],[0.3333333333333333,\"#9c179e\"],[0.4444444444444444,\"#bd3786\"],[0.5555555555555556,\"#d8576b\"],[0.6666666666666666,\"#ed7953\"],[0.7777777777777778,\"#fb9f3a\"],[0.8888888888888888,\"#fdca26\"],[1.0,\"#f0f921\"]]}],\"heatmapgl\":[{\"type\":\"heatmapgl\",\"colorbar\":{\"outlinewidth\":0,\"ticks\":\"\"},\"colorscale\":[[0.0,\"#0d0887\"],[0.1111111111111111,\"#46039f\"],[0.2222222222222222,\"#7201a8\"],[0.3333333333333333,\"#9c179e\"],[0.4444444444444444,\"#bd3786\"],[0.5555555555555556,\"#d8576b\"],[0.6666666666666666,\"#ed7953\"],[0.7777777777777778,\"#fb9f3a\"],[0.8888888888888888,\"#fdca26\"],[1.0,\"#f0f921\"]]}],\"contourcarpet\":[{\"type\":\"contourcarpet\",\"colorbar\":{\"outlinewidth\":0,\"ticks\":\"\"}}],\"contour\":[{\"type\":\"contour\",\"colorbar\":{\"outlinewidth\":0,\"ticks\":\"\"},\"colorscale\":[[0.0,\"#0d0887\"],[0.1111111111111111,\"#46039f\"],[0.2222222222222222,\"#7201a8\"],[0.3333333333333333,\"#9c179e\"],[0.4444444444444444,\"#bd3786\"],[0.5555555555555556,\"#d8576b\"],[0.6666666666666666,\"#ed7953\"],[0.7777777777777778,\"#fb9f3a\"],[0.8888888888888888,\"#fdca26\"],[1.0,\"#f0f921\"]]}],\"surface\":[{\"type\":\"surface\",\"colorbar\":{\"outlinewidth\":0,\"ticks\":\"\"},\"colorscale\":[[0.0,\"#0d0887\"],[0.1111111111111111,\"#46039f\"],[0.2222222222222222,\"#7201a8\"],[0.3333333333333333,\"#9c179e\"],[0.4444444444444444,\"#bd3786\"],[0.5555555555555556,\"#d8576b\"],[0.6666666666666666,\"#ed7953\"],[0.7777777777777778,\"#fb9f3a\"],[0.8888888888888888,\"#fdca26\"],[1.0,\"#f0f921\"]]}],\"mesh3d\":[{\"type\":\"mesh3d\",\"colorbar\":{\"outlinewidth\":0,\"ticks\":\"\"}}],\"scatter\":[{\"fillpattern\":{\"fillmode\":\"overlay\",\"size\":10,\"solidity\":0.2},\"type\":\"scatter\"}],\"parcoords\":[{\"type\":\"parcoords\",\"line\":{\"colorbar\":{\"outlinewidth\":0,\"ticks\":\"\"}}}],\"scatterpolargl\":[{\"type\":\"scatterpolargl\",\"marker\":{\"colorbar\":{\"outlinewidth\":0,\"ticks\":\"\"}}}],\"bar\":[{\"error_x\":{\"color\":\"#2a3f5f\"},\"error_y\":{\"color\":\"#2a3f5f\"},\"marker\":{\"line\":{\"color\":\"#E5ECF6\",\"width\":0.5},\"pattern\":{\"fillmode\":\"overlay\",\"size\":10,\"solidity\":0.2}},\"type\":\"bar\"}],\"scattergeo\":[{\"type\":\"scattergeo\",\"marker\":{\"colorbar\":{\"outlinewidth\":0,\"ticks\":\"\"}}}],\"scatterpolar\":[{\"type\":\"scatterpolar\",\"marker\":{\"colorbar\":{\"outlinewidth\":0,\"ticks\":\"\"}}}],\"histogram\":[{\"marker\":{\"pattern\":{\"fillmode\":\"overlay\",\"size\":10,\"solidity\":0.2}},\"type\":\"histogram\"}],\"scattergl\":[{\"type\":\"scattergl\",\"marker\":{\"colorbar\":{\"outlinewidth\":0,\"ticks\":\"\"}}}],\"scatter3d\":[{\"type\":\"scatter3d\",\"line\":{\"colorbar\":{\"outlinewidth\":0,\"ticks\":\"\"}},\"marker\":{\"colorbar\":{\"outlinewidth\":0,\"ticks\":\"\"}}}],\"scattermapbox\":[{\"type\":\"scattermapbox\",\"marker\":{\"colorbar\":{\"outlinewidth\":0,\"ticks\":\"\"}}}],\"scatterternary\":[{\"type\":\"scatterternary\",\"marker\":{\"colorbar\":{\"outlinewidth\":0,\"ticks\":\"\"}}}],\"scattercarpet\":[{\"type\":\"scattercarpet\",\"marker\":{\"colorbar\":{\"outlinewidth\":0,\"ticks\":\"\"}}}],\"carpet\":[{\"aaxis\":{\"endlinecolor\":\"#2a3f5f\",\"gridcolor\":\"white\",\"linecolor\":\"white\",\"minorgridcolor\":\"white\",\"startlinecolor\":\"#2a3f5f\"},\"baxis\":{\"endlinecolor\":\"#2a3f5f\",\"gridcolor\":\"white\",\"linecolor\":\"white\",\"minorgridcolor\":\"white\",\"startlinecolor\":\"#2a3f5f\"},\"type\":\"carpet\"}],\"table\":[{\"cells\":{\"fill\":{\"color\":\"#EBF0F8\"},\"line\":{\"color\":\"white\"}},\"header\":{\"fill\":{\"color\":\"#C8D4E3\"},\"line\":{\"color\":\"white\"}},\"type\":\"table\"}],\"barpolar\":[{\"marker\":{\"line\":{\"color\":\"#E5ECF6\",\"width\":0.5},\"pattern\":{\"fillmode\":\"overlay\",\"size\":10,\"solidity\":0.2}},\"type\":\"barpolar\"}],\"pie\":[{\"automargin\":true,\"type\":\"pie\"}]},\"layout\":{\"autotypenumbers\":\"strict\",\"colorway\":[\"#636efa\",\"#EF553B\",\"#00cc96\",\"#ab63fa\",\"#FFA15A\",\"#19d3f3\",\"#FF6692\",\"#B6E880\",\"#FF97FF\",\"#FECB52\"],\"font\":{\"color\":\"#2a3f5f\"},\"hovermode\":\"closest\",\"hoverlabel\":{\"align\":\"left\"},\"paper_bgcolor\":\"white\",\"plot_bgcolor\":\"#E5ECF6\",\"polar\":{\"bgcolor\":\"#E5ECF6\",\"angularaxis\":{\"gridcolor\":\"white\",\"linecolor\":\"white\",\"ticks\":\"\"},\"radialaxis\":{\"gridcolor\":\"white\",\"linecolor\":\"white\",\"ticks\":\"\"}},\"ternary\":{\"bgcolor\":\"#E5ECF6\",\"aaxis\":{\"gridcolor\":\"white\",\"linecolor\":\"white\",\"ticks\":\"\"},\"baxis\":{\"gridcolor\":\"white\",\"linecolor\":\"white\",\"ticks\":\"\"},\"caxis\":{\"gridcolor\":\"white\",\"linecolor\":\"white\",\"ticks\":\"\"}},\"coloraxis\":{\"colorbar\":{\"outlinewidth\":0,\"ticks\":\"\"}},\"colorscale\":{\"sequential\":[[0.0,\"#0d0887\"],[0.1111111111111111,\"#46039f\"],[0.2222222222222222,\"#7201a8\"],[0.3333333333333333,\"#9c179e\"],[0.4444444444444444,\"#bd3786\"],[0.5555555555555556,\"#d8576b\"],[0.6666666666666666,\"#ed7953\"],[0.7777777777777778,\"#fb9f3a\"],[0.8888888888888888,\"#fdca26\"],[1.0,\"#f0f921\"]],\"sequentialminus\":[[0.0,\"#0d0887\"],[0.1111111111111111,\"#46039f\"],[0.2222222222222222,\"#7201a8\"],[0.3333333333333333,\"#9c179e\"],[0.4444444444444444,\"#bd3786\"],[0.5555555555555556,\"#d8576b\"],[0.6666666666666666,\"#ed7953\"],[0.7777777777777778,\"#fb9f3a\"],[0.8888888888888888,\"#fdca26\"],[1.0,\"#f0f921\"]],\"diverging\":[[0,\"#8e0152\"],[0.1,\"#c51b7d\"],[0.2,\"#de77ae\"],[0.3,\"#f1b6da\"],[0.4,\"#fde0ef\"],[0.5,\"#f7f7f7\"],[0.6,\"#e6f5d0\"],[0.7,\"#b8e186\"],[0.8,\"#7fbc41\"],[0.9,\"#4d9221\"],[1,\"#276419\"]]},\"xaxis\":{\"gridcolor\":\"white\",\"linecolor\":\"white\",\"ticks\":\"\",\"title\":{\"standoff\":15},\"zerolinecolor\":\"white\",\"automargin\":true,\"zerolinewidth\":2},\"yaxis\":{\"gridcolor\":\"white\",\"linecolor\":\"white\",\"ticks\":\"\",\"title\":{\"standoff\":15},\"zerolinecolor\":\"white\",\"automargin\":true,\"zerolinewidth\":2},\"scene\":{\"xaxis\":{\"backgroundcolor\":\"#E5ECF6\",\"gridcolor\":\"white\",\"linecolor\":\"white\",\"showbackground\":true,\"ticks\":\"\",\"zerolinecolor\":\"white\",\"gridwidth\":2},\"yaxis\":{\"backgroundcolor\":\"#E5ECF6\",\"gridcolor\":\"white\",\"linecolor\":\"white\",\"showbackground\":true,\"ticks\":\"\",\"zerolinecolor\":\"white\",\"gridwidth\":2},\"zaxis\":{\"backgroundcolor\":\"#E5ECF6\",\"gridcolor\":\"white\",\"linecolor\":\"white\",\"showbackground\":true,\"ticks\":\"\",\"zerolinecolor\":\"white\",\"gridwidth\":2}},\"shapedefaults\":{\"line\":{\"color\":\"#2a3f5f\"}},\"annotationdefaults\":{\"arrowcolor\":\"#2a3f5f\",\"arrowhead\":0,\"arrowwidth\":1},\"geo\":{\"bgcolor\":\"white\",\"landcolor\":\"#E5ECF6\",\"subunitcolor\":\"white\",\"showland\":true,\"showlakes\":true,\"lakecolor\":\"white\"},\"title\":{\"x\":0.05},\"mapbox\":{\"style\":\"light\"}}},\"mapbox\":{\"domain\":{\"x\":[0.0,1.0],\"y\":[0.0,1.0]},\"center\":{\"lat\":33.881,\"lon\":-118.20441747802563},\"zoom\":10.5,\"style\":\"carto-positron\"},\"legend\":{\"tracegroupgap\":0},\"margin\":{\"t\":60},\"height\":1000,\"width\":1000},                        {\"responsive\": true}                    ).then(function(){\n",
       "                            \n",
       "var gd = document.getElementById('930861c0-7588-4d3c-b91f-be2667c430dd');\n",
       "var x = new MutationObserver(function (mutations, observer) {{\n",
       "        var display = window.getComputedStyle(gd).display;\n",
       "        if (!display || display === 'none') {{\n",
       "            console.log([gd, 'removed!']);\n",
       "            Plotly.purge(gd);\n",
       "            observer.disconnect();\n",
       "        }}\n",
       "}});\n",
       "\n",
       "// Listen for the removal of the full notebook cells\n",
       "var notebookContainer = gd.closest('#notebook-container');\n",
       "if (notebookContainer) {{\n",
       "    x.observe(notebookContainer, {childList: true});\n",
       "}}\n",
       "\n",
       "// Listen for the clearing of the current output cell\n",
       "var outputEl = gd.closest('.output');\n",
       "if (outputEl) {{\n",
       "    x.observe(outputEl, {childList: true});\n",
       "}}\n",
       "\n",
       "                        })                };                });            </script>        </div>"
      ]
     },
     "metadata": {},
     "output_type": "display_data"
    }
   ],
   "source": [
    "fig = px.scatter_mapbox(survey, lat=\"Latitude\", lon=\"Longitude\", #radius=30,\n",
    "                     mapbox_style=\"carto-positron\", zoom=10.5,width=1000, height=1000,\n",
    "                       center = dict(lat=33.881, \n",
    "                                     lon = -118.20441747802563))\n",
    "\n",
    "fig.show()\n",
    "fig.write_image('results/figures/fig_1a.svg', format='svg', scale=1,                      \n",
    "                      width=1000, height=1000)"
   ]
  },
  {
   "cell_type": "code",
   "execution_count": 44,
   "id": "276a85af",
   "metadata": {},
   "outputs": [],
   "source": [
    "# get block group shapefile data for block groups that intersect with our Wilmington buffer\n",
    "nad83 = 'EPSG:4269'\n",
    "\n",
    "bgs_path = os.path.join(os.getcwd(), 'data', 'bg_ca_19', 'shp', 'blockgroup_CA_19.shp')\n",
    "bgs_gdf = gpd.read_file(bgs_path)\n",
    "bgs_gdf = bgs_gdf.to_crs(nad83)\n",
    "bgs_lons = [float(intpt) for intpt in bgs_gdf['INTPTLON']]\n",
    "bgs_lats = [float(intpt) for intpt in bgs_gdf['INTPTLAT']]\n",
    "bgs = pd.DataFrame(bgs_gdf[['GISJOIN', 'COUNTYFP']])\n",
    "bgs['LON'] = bgs_lons\n",
    "bgs['LAT'] = bgs_lats\n",
    "bgs_pt_geom = gpd.points_from_xy(x = bgs.LON,y = bgs.LAT, crs = nad83)\n",
    "bgs_pt_gdf = gpd.GeoDataFrame(bgs, geometry = bgs_pt_geom, crs = nad83)\n",
    "\n",
    "# Building Wilmington shapefile\n",
    "wilmington_path = os.path.join(os.getcwd(), 'data', 'LA_Times_Neighborhood_Boundaries', 'LA_Times_Neighborhood_Boundaries.shp')\n",
    "wilmington_gdf = gpd.read_file(wilmington_path)\n",
    "wilmington_gdf['geometry'] = wilmington_gdf['geometry'].unary_union\n",
    "del wilmington_gdf['OBJECTID']\n",
    "area_graph_buffer = 0.1\n",
    "wilmington_shp = wilmington_gdf.unary_union\n",
    "wilmington_buffered = wilmington_shp.buffer(area_graph_buffer)\n",
    "\n",
    "bgs_area_gdf = bgs_pt_gdf.loc[bgs_pt_gdf.within(wilmington_shp)]"
   ]
  },
  {
   "cell_type": "code",
   "execution_count": 45,
   "id": "0afc0b9f",
   "metadata": {},
   "outputs": [],
   "source": [
    "# \"Spatial interpolation\": Get distances between block group centroids and all survey responses\n",
    "# then calculate distance-weighted average of the block groups\n",
    "matrix = np.zeros([len(bgs_area_gdf), len(gdf)])\n",
    "\n",
    "for i in np.arange(len(bgs_area_gdf)):\n",
    "    for j in np.arange(len(gdf)):\n",
    "        matrix[i,j] = hs.haversine((bgs_area_gdf.iloc[i]['LAT'], bgs_area_gdf.iloc[i]['LON']),(gdf.iloc[j]['Latitude'], gdf.iloc[j]['Longitude']))\n"
   ]
  },
  {
   "cell_type": "code",
   "execution_count": 46,
   "id": "0013f574",
   "metadata": {},
   "outputs": [
    {
     "name": "stderr",
     "output_type": "stream",
     "text": [
      "/Users/clairemorton/opt/anaconda3/lib/python3.9/site-packages/geopandas/geodataframe.py:1456: SettingWithCopyWarning:\n",
      "\n",
      "\n",
      "A value is trying to be set on a copy of a slice from a DataFrame.\n",
      "Try using .loc[row_indexer,col_indexer] = value instead\n",
      "\n",
      "See the caveats in the documentation: https://pandas.pydata.org/pandas-docs/stable/user_guide/indexing.html#returning-a-view-versus-a-copy\n",
      "\n"
     ]
    }
   ],
   "source": [
    "# each row of matrix is a block group, each column is that block group's distance to a different survey response\n",
    "avg = np.zeros([len(bgs_area_gdf)])\n",
    "\n",
    "for i in np.arange(len(bgs_area_gdf)): # go through all block groups in matrix, taking weighted average of them\n",
    "    avg[i] = np.average(survey['Distance'], weights = 1/(matrix[i]*matrix[i]))\n",
    "    \n",
    "# add weighted estimated distances to the dataframe\n",
    "bgs_area_gdf['avg_dist'] = list(avg)\n",
    "merged_avg = pd.merge(bgs_area_gdf[['avg_dist', 'GISJOIN']], bgs_gdf)"
   ]
  },
  {
   "cell_type": "code",
   "execution_count": 54,
   "id": "f0f71c87",
   "metadata": {},
   "outputs": [
    {
     "data": {
      "application/vnd.plotly.v1+json": {
       "config": {
        "plotlyServerURL": "https://plot.ly"
       },
       "data": [
        {
         "coloraxis": "coloraxis",
         "geojson": {
          "bbox": [
           -118.31065200033196,
           33.761088999731534,
           -118.22066900028155,
           33.829531000009766
          ],
          "features": [
           {
            "bbox": [
             -118.2646249992691,
             33.79936000019364,
             -118.25651200037956,
             33.8047740004407
            ],
            "geometry": {
             "coordinates": [
              [
               [
                -118.26397199977035,
                33.80456900037087
               ],
               [
                -118.26380200028896,
                33.80457200013286
               ],
               [
                -118.26375500103529,
                33.804573000254344
               ],
               [
                -118.26367299925343,
                33.804575999245756
               ],
               [
                -118.2635899998996,
                33.804577999866325
               ],
               [
                -118.2635080005654,
                33.80458000039227
               ],
               [
                -118.2634259990877,
                33.80458199992438
               ],
               [
                -118.26334300045933,
                33.804585000563364
               ],
               [
                -118.26326100003205,
                33.80458700089433
               ],
               [
                -118.2631790007,
                33.80458900028102
               ],
               [
                -118.26309699991975,
                33.80459200067597
               ],
               [
                -118.26308400070715,
                33.80459200018494
               ],
               [
                -118.26293200010947,
                33.80459600006722
               ],
               [
                -118.26283600007483,
                33.80459899979245
               ],
               [
                -118.2626770010716,
                33.80460400064658
               ],
               [
                -118.26260300007256,
                33.804605000089694
               ],
               [
                -118.26252100033352,
                33.8046080000851
               ],
               [
                -118.26243899984189,
                33.80461000072387
               ],
               [
                -118.26233999971855,
                33.80461299920172
               ],
               [
                -118.26226100001436,
                33.80461599983976
               ],
               [
                -118.2612220002436,
                33.80464500047277
               ],
               [
                -118.26116799930044,
                33.804644000123645
               ],
               [
                -118.26048300032338,
                33.80466299934061
               ],
               [
                -118.26010600084469,
                33.80467400009503
               ],
               [
                -118.26008500033878,
                33.80467399927584
               ],
               [
                -118.25959199988445,
                33.804688000206475
               ],
               [
                -118.25876300114543,
                33.80471099962507
               ],
               [
                -118.25793299960102,
                33.80473399925222
               ],
               [
                -118.25667400039045,
                33.80476899928481
               ],
               [
                -118.25651200037956,
                33.8047740004407
               ],
               [
                -118.25711599939184,
                33.80310800057064
               ],
               [
                -118.25752900005374,
                33.80196900049659
               ],
               [
                -118.25844500001304,
                33.79944200038819
               ],
               [
                -118.25860799979219,
                33.79943399964236
               ],
               [
                -118.26004400015523,
                33.79936000019364
               ],
               [
                -118.2600529998123,
                33.80032300012607
               ],
               [
                -118.26005600027428,
                33.80112799929991
               ],
               [
                -118.26031599987736,
                33.80112100040689
               ],
               [
                -118.26115500008243,
                33.801098000850935
               ],
               [
                -118.2622289997677,
                33.80106699935825
               ],
               [
                -118.26222099897026,
                33.80017600026778
               ],
               [
                -118.26394000067673,
                33.8001000003766
               ],
               [
                -118.263946000656,
                33.80098999990138
               ],
               [
                -118.26440199964044,
                33.80097499973283
               ],
               [
                -118.26450899958846,
                33.800970999882985
               ],
               [
                -118.26455300065093,
                33.80096799925096
               ],
               [
                -118.26460800033134,
                33.800965000810244
               ],
               [
                -118.26459699965052,
                33.80274399945633
               ],
               [
                -118.2646249992691,
                33.80449599938448
               ],
               [
                -118.26459300080042,
                33.804536000200656
               ],
               [
                -118.26450400025124,
                33.80455499950975
               ],
               [
                -118.26441200051796,
                33.804551000889376
               ],
               [
                -118.26435900063866,
                33.80455699973674
               ],
               [
                -118.26427699920627,
                33.804558999883604
               ],
               [
                -118.26419399990526,
                33.80456100004422
               ],
               [
                -118.26413099997336,
                33.80456300024159
               ],
               [
                -118.26397199977035,
                33.80456900037087
               ]
              ]
             ],
             "type": "Polygon"
            },
            "id": "0",
            "properties": {},
            "type": "Feature"
           },
           {
            "bbox": [
             -118.26464099957917,
             33.79538899991252,
             -118.25652299996742,
             33.80112799929991
            ],
            "geometry": {
             "coordinates": [
              [
               [
                -118.25844500001304,
                33.79944200038819
               ],
               [
                -118.25679699933414,
                33.799525999780116
               ],
               [
                -118.25652299996742,
                33.79576099902487
               ],
               [
                -118.25705800072686,
                33.79573299953879
               ],
               [
                -118.25793199975368,
                33.795688000221595
               ],
               [
                -118.25880599982706,
                33.79564299961523
               ],
               [
                -118.25976299929702,
                33.79559400056856
               ],
               [
                -118.26084700040761,
                33.795538000030106
               ],
               [
                -118.26193099974736,
                33.795481999955214
               ],
               [
                -118.26363800065229,
                33.79538899991252
               ],
               [
                -118.26371999959711,
                33.79643100016605
               ],
               [
                -118.26380100041038,
                33.797474000226856
               ],
               [
                -118.26386800038134,
                33.798329000698494
               ],
               [
                -118.2639329997578,
                33.799161000374724
               ],
               [
                -118.264156999984,
                33.79914900035587
               ],
               [
                -118.26450199944459,
                33.79913200020458
               ],
               [
                -118.26459300120128,
                33.79912699990882
               ],
               [
                -118.26462500037177,
                33.799124999936616
               ],
               [
                -118.26462600014383,
                33.799175999850206
               ],
               [
                -118.26464099957917,
                33.799549000117906
               ],
               [
                -118.26463100012032,
                33.79994199976832
               ],
               [
                -118.26463099961535,
                33.79999399986513
               ],
               [
                -118.26460800033134,
                33.800965000810244
               ],
               [
                -118.26455300065093,
                33.80096799925096
               ],
               [
                -118.26450899958846,
                33.800970999882985
               ],
               [
                -118.26440199964044,
                33.80097499973283
               ],
               [
                -118.263946000656,
                33.80098999990138
               ],
               [
                -118.26394000067673,
                33.8001000003766
               ],
               [
                -118.26222099897026,
                33.80017600026778
               ],
               [
                -118.2622289997677,
                33.80106699935825
               ],
               [
                -118.26115500008243,
                33.801098000850935
               ],
               [
                -118.26031599987736,
                33.80112100040689
               ],
               [
                -118.26005600027428,
                33.80112799929991
               ],
               [
                -118.2600529998123,
                33.80032300012607
               ],
               [
                -118.26004400015523,
                33.79936000019364
               ],
               [
                -118.25860799979219,
                33.79943399964236
               ],
               [
                -118.25844500001304,
                33.79944200038819
               ]
              ]
             ],
             "type": "Polygon"
            },
            "id": "1",
            "properties": {},
            "type": "Feature"
           },
           {
            "bbox": [
             -118.26363800065229,
             33.79114799939181,
             -118.25394200079228,
             33.79576099902487
            ],
            "geometry": {
             "coordinates": [
              [
               [
                -118.25652299996742,
                33.79576099902487
               ],
               [
                -118.25647299931961,
                33.795075000384514
               ],
               [
                -118.25642299955796,
                33.79438900027323
               ],
               [
                -118.2563740001195,
                33.793703999816486
               ],
               [
                -118.25630400094683,
                33.79274500032377
               ],
               [
                -118.25625600001942,
                33.79207800034407
               ],
               [
                -118.25515500090751,
                33.792136999813515
               ],
               [
                -118.25461399969805,
                33.792167000127634
               ],
               [
                -118.25400500051623,
                33.79227999959406
               ],
               [
                -118.25394200079228,
                33.79141399976851
               ],
               [
                -118.25418500005843,
                33.791458999815916
               ],
               [
                -118.25428600010308,
                33.79148000013368
               ],
               [
                -118.25459099983263,
                33.79153199927898
               ],
               [
                -118.25490000081079,
                33.79157099964252
               ],
               [
                -118.25511499957723,
                33.791588999933
               ],
               [
                -118.2552100005375,
                33.79159599992713
               ],
               [
                -118.255522000888,
                33.79160699929387
               ],
               [
                -118.25583400042221,
                33.79160499964364
               ],
               [
                -118.2562200009554,
                33.791584000397364
               ],
               [
                -118.25848900009775,
                33.79146200013594
               ],
               [
                -118.2594420003404,
                33.79141099937445
               ],
               [
                -118.26007199972726,
                33.79137799974115
               ],
               [
                -118.26055300109064,
                33.79135199993083
               ],
               [
                -118.26079199940023,
                33.79133399912237
               ],
               [
                -118.2616169998682,
                33.791273000685024
               ],
               [
                -118.26330700048642,
                33.79114799939181
               ],
               [
                -118.26347500038372,
                33.79330499978174
               ],
               [
                -118.26363800065229,
                33.79538899991252
               ],
               [
                -118.26193099974736,
                33.795481999955214
               ],
               [
                -118.26084700040761,
                33.795538000030106
               ],
               [
                -118.25976299929702,
                33.79559400056856
               ],
               [
                -118.25880599982706,
                33.79564299961523
               ],
               [
                -118.25793199975368,
                33.795688000221595
               ],
               [
                -118.25705800072686,
                33.79573299953879
               ],
               [
                -118.25652299996742,
                33.79576099902487
               ]
              ]
             ],
             "type": "Polygon"
            },
            "id": "2",
            "properties": {},
            "type": "Feature"
           },
           {
            "bbox": [
             -118.25679699933414,
             33.79088499968158,
             -118.24555600049348,
             33.80011799964277
            ],
            "geometry": {
             "coordinates": [
              [
               [
                -118.24597099995623,
                33.80004800011831
               ],
               [
                -118.24566599920941,
                33.79568399930243
               ],
               [
                -118.24571500043847,
                33.795681999599616
               ],
               [
                -118.24561900064278,
                33.79438000032969
               ],
               [
                -118.24555600049348,
                33.7935250006185
               ],
               [
                -118.24826700051374,
                33.79338700019535
               ],
               [
                -118.25115100070308,
                33.79324000083665
               ],
               [
                -118.2510850002599,
                33.79234599937424
               ],
               [
                -118.25102500034129,
                33.79153100008703
               ],
               [
                -118.25097700071987,
                33.79088499968158
               ],
               [
                -118.25103299980475,
                33.7908920000913
               ],
               [
                -118.25137299980062,
                33.790941999488055
               ],
               [
                -118.25303799978136,
                33.79124800035326
               ],
               [
                -118.25339799973578,
                33.7913139999117
               ],
               [
                -118.25394200079228,
                33.79141399976851
               ],
               [
                -118.25400500051623,
                33.79227999959406
               ],
               [
                -118.25461399969805,
                33.792167000127634
               ],
               [
                -118.25515500090751,
                33.792136999813515
               ],
               [
                -118.25625600001942,
                33.79207800034407
               ],
               [
                -118.25630400094683,
                33.79274500032377
               ],
               [
                -118.2563740001195,
                33.793703999816486
               ],
               [
                -118.25642299955796,
                33.79438900027323
               ],
               [
                -118.25647299931961,
                33.795075000384514
               ],
               [
                -118.25652299996742,
                33.79576099902487
               ],
               [
                -118.25679699933414,
                33.799525999780116
               ],
               [
                -118.25659199992461,
                33.799536000783974
               ],
               [
                -118.25462500026677,
                33.79963700067547
               ],
               [
                -118.2544520004807,
                33.7996870007386
               ],
               [
                -118.25423200040932,
                33.79969799968375
               ],
               [
                -118.25287599963097,
                33.79976400028746
               ],
               [
                -118.24602500041156,
                33.80011799964277
               ],
               [
                -118.24599000057573,
                33.80007300011804
               ],
               [
                -118.24597099995623,
                33.80004800011831
               ]
              ]
             ],
             "type": "Polygon"
            },
            "id": "3",
            "properties": {},
            "type": "Feature"
           },
           {
            "bbox": [
             -118.25115100070308,
             33.79083199995563,
             -118.24537399929562,
             33.7935250006185
            ],
            "geometry": {
             "coordinates": [
              [
               [
                -118.24555600049348,
                33.7935250006185
               ],
               [
                -118.24548999970406,
                33.7926319999372
               ],
               [
                -118.24542999991841,
                33.791815000276024
               ],
               [
                -118.24537399929562,
                33.791059999587546
               ],
               [
                -118.24682099992245,
                33.790987000006304
               ],
               [
                -118.24808599995612,
                33.79092299932329
               ],
               [
                -118.24935100028304,
                33.79085799969917
               ],
               [
                -118.24977300110484,
                33.79083800068978
               ],
               [
                -118.25011799958345,
                33.79083199995563
               ],
               [
                -118.250347999766,
                33.79083699985637
               ],
               [
                -118.25069099953394,
                33.79085700078775
               ],
               [
                -118.25097700071987,
                33.79088499968158
               ],
               [
                -118.25102500034129,
                33.79153100008703
               ],
               [
                -118.2510850002599,
                33.79234599937424
               ],
               [
                -118.25115100070308,
                33.79324000083665
               ],
               [
                -118.24826700051374,
                33.79338700019535
               ],
               [
                -118.24555600049348,
                33.7935250006185
               ]
              ]
             ],
             "type": "Polygon"
            },
            "id": "4",
            "properties": {},
            "type": "Feature"
           },
           {
            "bbox": [
             -118.24597099995623,
             33.791059999587546,
             -118.2375099997405,
             33.800479999956586
            ],
            "geometry": {
             "coordinates": [
              [
               [
                -118.2375099997405,
                33.800479999956586
               ],
               [
                -118.23757399898301,
                33.80022799961593
               ],
               [
                -118.23764200002259,
                33.799917000015625
               ],
               [
                -118.23945200061114,
                33.79502299971759
               ],
               [
                -118.24005499965547,
                33.79339300061169
               ],
               [
                -118.24033499992059,
                33.79263499968691
               ],
               [
                -118.24083199967076,
                33.79129100109962
               ],
               [
                -118.24109100053633,
                33.791278000144644
               ],
               [
                -118.24134200025254,
                33.79126499997986
               ],
               [
                -118.24402899950452,
                33.79112900056678
               ],
               [
                -118.24463900023846,
                33.7910979993746
               ],
               [
                -118.24537399929562,
                33.791059999587546
               ],
               [
                -118.24542999991841,
                33.791815000276024
               ],
               [
                -118.24548999970406,
                33.7926319999372
               ],
               [
                -118.24555600049348,
                33.7935250006185
               ],
               [
                -118.24561900064278,
                33.79438000032969
               ],
               [
                -118.24571500043847,
                33.795681999599616
               ],
               [
                -118.24566599920941,
                33.79568399930243
               ],
               [
                -118.24597099995623,
                33.80004800011831
               ],
               [
                -118.24419600064097,
                33.80013300011097
               ],
               [
                -118.23887200117008,
                33.800385999581394
               ],
               [
                -118.2383899993703,
                33.8004370004266
               ],
               [
                -118.23787999961891,
                33.80046199957544
               ],
               [
                -118.2375099997405,
                33.800479999956586
               ]
              ]
             ],
             "type": "Polygon"
            },
            "id": "5",
            "properties": {},
            "type": "Feature"
           },
           {
            "bbox": [
             -118.27529500021983,
             33.79477200032784,
             -118.26380100041038,
             33.799161000374724
            ],
            "geometry": {
             "coordinates": [
              [
               [
                -118.26462500037177,
                33.799124999936616
               ],
               [
                -118.26459300120128,
                33.79912699990882
               ],
               [
                -118.26450199944459,
                33.79913200020458
               ],
               [
                -118.264156999984,
                33.79914900035587
               ],
               [
                -118.2639329997578,
                33.799161000374724
               ],
               [
                -118.26386800038134,
                33.798329000698494
               ],
               [
                -118.26380100041038,
                33.797474000226856
               ],
               [
                -118.26510199955787,
                33.79740300025112
               ],
               [
                -118.26620800110118,
                33.79734199951868
               ],
               [
                -118.26746100075489,
                33.79727500041431
               ],
               [
                -118.26837000023107,
                33.797225999561505
               ],
               [
                -118.26927999966146,
                33.797176000183335
               ],
               [
                -118.27018899977884,
                33.79712700013516
               ],
               [
                -118.27002600091224,
                33.7950430000983
               ],
               [
                -118.27108800069033,
                33.79498500001531
               ],
               [
                -118.27215899995277,
                33.7949269998531
               ],
               [
                -118.27318500006518,
                33.794872999321
               ],
               [
                -118.2741559990701,
                33.79482299906583
               ],
               [
                -118.27515999990287,
                33.79477200032784
               ],
               [
                -118.2751750001714,
                33.79520499953582
               ],
               [
                -118.27520399972435,
                33.79605599988695
               ],
               [
                -118.27523299985145,
                33.79686100036912
               ],
               [
                -118.27523399999927,
                33.79690599996151
               ],
               [
                -118.27526399873963,
                33.797756000057
               ],
               [
                -118.27529299912665,
                33.798566000782124
               ],
               [
                -118.27529300085466,
                33.79857999989386
               ],
               [
                -118.27529500021983,
                33.79863499936524
               ],
               [
                -118.27523400078968,
                33.7986380001765
               ],
               [
                -118.27502399928258,
                33.79864900007519
               ],
               [
                -118.27478299888622,
                33.79865699953103
               ],
               [
                -118.2745400007642,
                33.798659000322466
               ],
               [
                -118.27435399968603,
                33.798655000186876
               ],
               [
                -118.27410900053007,
                33.798651999335036
               ],
               [
                -118.27387799897053,
                33.79865699951884
               ],
               [
                -118.27359200039658,
                33.798671999812505
               ],
               [
                -118.27320399980455,
                33.79869099964583
               ],
               [
                -118.27261299972247,
                33.79872100004001
               ],
               [
                -118.27138599965897,
                33.79878399952799
               ],
               [
                -118.27032199988524,
                33.79882099995084
               ],
               [
                -118.26941100060688,
                33.79885099957984
               ],
               [
                -118.26850099928797,
                33.79889700030309
               ],
               [
                -118.26759200075645,
                33.79894400022504
               ],
               [
                -118.267441000815,
                33.79898099969889
               ],
               [
                -118.26729499967308,
                33.799017000231444
               ],
               [
                -118.26728300047367,
                33.79901999981901
               ],
               [
                -118.26655099961827,
                33.79905700009277
               ],
               [
                -118.26634299966575,
                33.79906800009951
               ],
               [
                -118.26588299938005,
                33.79906199954688
               ],
               [
                -118.26587099994993,
                33.799061999303454
               ],
               [
                -118.26523400040561,
                33.79909399940106
               ],
               [
                -118.26462500037177,
                33.799124999936616
               ]
              ]
             ],
             "type": "Polygon"
            },
            "id": "6",
            "properties": {},
            "type": "Feature"
           },
           {
            "bbox": [
             -118.27215899995277,
             33.79284299993193,
             -118.26347500038372,
             33.797474000226856
            ],
            "geometry": {
             "coordinates": [
              [
               [
                -118.26380100041038,
                33.797474000226856
               ],
               [
                -118.26371999959711,
                33.79643100016605
               ],
               [
                -118.26363800065229,
                33.79538899991252
               ],
               [
                -118.26347500038372,
                33.79330499978174
               ],
               [
                -118.26477499955271,
                33.79323399977533
               ],
               [
                -118.26588100115978,
                33.79317400031512
               ],
               [
                -118.26713499992282,
                33.79310699910758
               ],
               [
                -118.26804300047225,
                33.79305800054162
               ],
               [
                -118.26895299978607,
                33.793008000660706
               ],
               [
                -118.26986299863302,
                33.79295900000496
               ],
               [
                -118.27092500084535,
                33.79290099996382
               ],
               [
                -118.27199500027075,
                33.79284299993193
               ],
               [
                -118.27215899995277,
                33.7949269998531
               ],
               [
                -118.27108800069033,
                33.79498500001531
               ],
               [
                -118.27002600091224,
                33.7950430000983
               ],
               [
                -118.27018899977884,
                33.79712700013516
               ],
               [
                -118.26927999966146,
                33.797176000183335
               ],
               [
                -118.26837000023107,
                33.797225999561505
               ],
               [
                -118.26746100075489,
                33.79727500041431
               ],
               [
                -118.26620800110118,
                33.79734199951868
               ],
               [
                -118.26510199955787,
                33.79740300025112
               ],
               [
                -118.26380100041038,
                33.797474000226856
               ]
              ]
             ],
             "type": "Polygon"
            },
            "id": "7",
            "properties": {},
            "type": "Feature"
           },
           {
            "bbox": [
             -118.27515999990287,
             33.79053100034649,
             -118.26330700048642,
             33.7949269998531
            ],
            "geometry": {
             "coordinates": [
              [
               [
                -118.27215899995277,
                33.7949269998531
               ],
               [
                -118.27199500027075,
                33.79284299993193
               ],
               [
                -118.27092500084535,
                33.79290099996382
               ],
               [
                -118.26986299863302,
                33.79295900000496
               ],
               [
                -118.26895299978607,
                33.793008000660706
               ],
               [
                -118.26804300047225,
                33.79305800054162
               ],
               [
                -118.26713499992282,
                33.79310699910758
               ],
               [
                -118.26588100115978,
                33.79317400031512
               ],
               [
                -118.26477499955271,
                33.79323399977533
               ],
               [
                -118.26347500038372,
                33.79330499978174
               ],
               [
                -118.26330700048642,
                33.79114799939181
               ],
               [
                -118.26460699973087,
                33.791078000071096
               ],
               [
                -118.26571299945788,
                33.791018000723064
               ],
               [
                -118.26696700022212,
                33.79096099927216
               ],
               [
                -118.26787600011544,
                33.790919000032815
               ],
               [
                -118.26878500079629,
                33.79086999933563
               ],
               [
                -118.26969500026652,
                33.79082000008499
               ],
               [
                -118.27075700069307,
                33.79076300027791
               ],
               [
                -118.27182799954042,
                33.790704000003764
               ],
               [
                -118.27288999968123,
                33.79064700011611
               ],
               [
                -118.2739169990184,
                33.7905909993332
               ],
               [
                -118.27501099989422,
                33.79053100034649
               ],
               [
                -118.2750429997089,
                33.791446000735
               ],
               [
                -118.27507599925704,
                33.792377000479114
               ],
               [
                -118.27508600040251,
                33.79268399995509
               ],
               [
                -118.2751099994968,
                33.79336499956033
               ],
               [
                -118.27514500022829,
                33.7943540002583
               ],
               [
                -118.27515999990287,
                33.79477200032784
               ],
               [
                -118.2741559990701,
                33.79482299906583
               ],
               [
                -118.27318500006518,
                33.794872999321
               ],
               [
                -118.27215899995277,
                33.7949269998531
               ]
              ]
             ],
             "type": "Polygon"
            },
            "id": "8",
            "properties": {},
            "type": "Feature"
           },
           {
            "bbox": [
             -118.28654600052492,
             33.79046100010281,
             -118.27514500022829,
             33.79863499936524
            ],
            "geometry": {
             "coordinates": [
              [
               [
                -118.27529500021983,
                33.79863499936524
               ],
               [
                -118.27529300085466,
                33.79857999989386
               ],
               [
                -118.27529299912665,
                33.798566000782124
               ],
               [
                -118.27526399873963,
                33.797756000057
               ],
               [
                -118.27523399999927,
                33.79690599996151
               ],
               [
                -118.27523299985145,
                33.79686100036912
               ],
               [
                -118.27520399972435,
                33.79605599988695
               ],
               [
                -118.2751750001714,
                33.79520499953582
               ],
               [
                -118.27515999990287,
                33.79477200032784
               ],
               [
                -118.27514500022829,
                33.7943540002583
               ],
               [
                -118.27746599930758,
                33.794236000050184
               ],
               [
                -118.2775040008344,
                33.79423400008425
               ],
               [
                -118.27929999965164,
                33.79414200026785
               ],
               [
                -118.28031900004764,
                33.794090000161816
               ],
               [
                -118.2824229998632,
                33.79398200013392
               ],
               [
                -118.28235999984818,
                33.79356700051055
               ],
               [
                -118.28228700011161,
                33.79324599952053
               ],
               [
                -118.28159700031948,
                33.791492999776445
               ],
               [
                -118.28142100097223,
                33.79104800035718
               ],
               [
                -118.28137800006465,
                33.7909380009147
               ],
               [
                -118.2812140002955,
                33.79065699989477
               ],
               [
                -118.28107499991692,
                33.79046100010281
               ],
               [
                -118.28128300045935,
                33.79048000013746
               ],
               [
                -118.2819250002258,
                33.790553999637176
               ],
               [
                -118.28196500067907,
                33.79068899908457
               ],
               [
                -118.28214100008744,
                33.79113399961682
               ],
               [
                -118.28230399968355,
                33.79149499988307
               ],
               [
                -118.28248200009365,
                33.791852000482905
               ],
               [
                -118.28267499952949,
                33.79220300092425
               ],
               [
                -118.28311400025876,
                33.79293899982014
               ],
               [
                -118.2852440006048,
                33.79616600009239
               ],
               [
                -118.28546300003262,
                33.796479000367775
               ],
               [
                -118.28561999934122,
                33.79668199934527
               ],
               [
                -118.28578599998909,
                33.79688100064614
               ],
               [
                -118.28604999921387,
                33.79717000076955
               ],
               [
                -118.28618699951465,
                33.79730799995793
               ],
               [
                -118.28645700042355,
                33.79756600066241
               ],
               [
                -118.28654600052492,
                33.79764299984408
               ],
               [
                -118.28578899984892,
                33.79764099967886
               ],
               [
                -118.28577099999636,
                33.79764100019931
               ],
               [
                -118.28573000066893,
                33.79764099967566
               ],
               [
                -118.28559899892021,
                33.797640000490524
               ],
               [
                -118.28292999909067,
                33.797630999487474
               ],
               [
                -118.28293799926212,
                33.79770699981869
               ],
               [
                -118.28298899982704,
                33.798170000562784
               ],
               [
                -118.2829909993765,
                33.79818599960054
               ],
               [
                -118.28299699949658,
                33.79824099987663
               ],
               [
                -118.28270600064414,
                33.79825599975958
               ],
               [
                -118.28096099948972,
                33.79834500095864
               ],
               [
                -118.27994299885533,
                33.79839699909539
               ],
               [
                -118.27884499956875,
                33.79845299969191
               ],
               [
                -118.27728899988352,
                33.798533000172355
               ],
               [
                -118.27636300026927,
                33.79857999976321
               ],
               [
                -118.27535399972832,
                33.7986319996995
               ],
               [
                -118.27529500021983,
                33.79863499936524
               ]
              ]
             ],
             "type": "Polygon"
            },
            "id": "9",
            "properties": {},
            "type": "Feature"
           },
           {
            "bbox": [
             -118.2824229998632,
             33.790359000007335,
             -118.27501099989422,
             33.7943540002583
            ],
            "geometry": {
             "coordinates": [
              [
               [
                -118.27514500022829,
                33.7943540002583
               ],
               [
                -118.2751099994968,
                33.79336499956033
               ],
               [
                -118.27508600040251,
                33.79268399995509
               ],
               [
                -118.27507599925704,
                33.792377000479114
               ],
               [
                -118.2750429997089,
                33.791446000735
               ],
               [
                -118.27501099989422,
                33.79053100034649
               ],
               [
                -118.27766800038644,
                33.79039100081348
               ],
               [
                -118.27818799975218,
                33.790370000659465
               ],
               [
                -118.27853200015225,
                33.79036199999108
               ],
               [
                -118.27887699958079,
                33.790359000007335
               ],
               [
                -118.27956600064685,
                33.79036900031921
               ],
               [
                -118.27974899983799,
                33.79037500035699
               ],
               [
                -118.27991000041658,
                33.79038099948741
               ],
               [
                -118.28025400071067,
                33.79039799952572
               ],
               [
                -118.2809409999887,
                33.79044799984418
               ],
               [
                -118.28107499991692,
                33.79046100010281
               ],
               [
                -118.2812140002955,
                33.79065699989477
               ],
               [
                -118.28137800006465,
                33.7909380009147
               ],
               [
                -118.28142100097223,
                33.79104800035718
               ],
               [
                -118.28159700031948,
                33.791492999776445
               ],
               [
                -118.28228700011161,
                33.79324599952053
               ],
               [
                -118.28235999984818,
                33.79356700051055
               ],
               [
                -118.2824229998632,
                33.79398200013392
               ],
               [
                -118.28031900004764,
                33.794090000161816
               ],
               [
                -118.27929999965164,
                33.79414200026785
               ],
               [
                -118.2775040008344,
                33.79423400008425
               ],
               [
                -118.27746599930758,
                33.794236000050184
               ],
               [
                -118.27514500022829,
                33.7943540002583
               ]
              ]
             ],
             "type": "Polygon"
            },
            "id": "10",
            "properties": {},
            "type": "Feature"
           },
           {
            "bbox": [
             -118.280456000274,
             33.77904399995448,
             -118.27414199980173,
             33.784332000204216
            ],
            "geometry": {
             "coordinates": [
              [
               [
                -118.27457000013287,
                33.784332000204216
               ],
               [
                -118.27440699921033,
                33.78225900070537
               ],
               [
                -118.27428899925461,
                33.780751000018306
               ],
               [
                -118.27418999940325,
                33.7794900003346
               ],
               [
                -118.27414199980173,
                33.779338000657
               ],
               [
                -118.27545600071566,
                33.7792659997383
               ],
               [
                -118.27678000036983,
                33.779192999976644
               ],
               [
                -118.27815399976848,
                33.77911799990289
               ],
               [
                -118.27950000021674,
                33.77904399995448
               ],
               [
                -118.2795690006188,
                33.77992999991511
               ],
               [
                -118.27959799949387,
                33.780227000494435
               ],
               [
                -118.27962900054017,
                33.780398000014
               ],
               [
                -118.27967599992566,
                33.78058100016183
               ],
               [
                -118.27971099888482,
                33.78068700039554
               ],
               [
                -118.28001700078518,
                33.7815449990648
               ],
               [
                -118.28007900053773,
                33.78175699956511
               ],
               [
                -118.28012700004271,
                33.78198600061251
               ],
               [
                -118.280316999446,
                33.78323500101619
               ],
               [
                -118.280456000274,
                33.784155999707174
               ],
               [
                -118.27859100017882,
                33.78411099994237
               ],
               [
                -118.2779310007423,
                33.78414699967581
               ],
               [
                -118.27695300070243,
                33.78420099931354
               ],
               [
                -118.27584699999764,
                33.78426199995408
               ],
               [
                -118.27457000013287,
                33.784332000204216
               ]
              ]
             ],
             "type": "Polygon"
            },
            "id": "11",
            "properties": {},
            "type": "Feature"
           },
           {
            "bbox": [
             -118.28448100055849,
             33.77888100036444,
             -118.27457000013287,
             33.79084800027404
            ],
            "geometry": {
             "coordinates": [
              [
               [
                -118.2819250002258,
                33.790553999637176
               ],
               [
                -118.28128300045935,
                33.79048000013746
               ],
               [
                -118.28107499991692,
                33.79046100010281
               ],
               [
                -118.2809409999887,
                33.79044799984418
               ],
               [
                -118.28025400071067,
                33.79039799952572
               ],
               [
                -118.27991000041658,
                33.79038099948741
               ],
               [
                -118.27974899983799,
                33.79037500035699
               ],
               [
                -118.27956600064685,
                33.79036900031921
               ],
               [
                -118.27887699958079,
                33.790359000007335
               ],
               [
                -118.27853200015225,
                33.79036199999108
               ],
               [
                -118.27818799975218,
                33.790370000659465
               ],
               [
                -118.27766800038644,
                33.79039100081348
               ],
               [
                -118.27501099989422,
                33.79053100034649
               ],
               [
                -118.27497799962359,
                33.789588999924696
               ],
               [
                -118.27497399988621,
                33.78948900000692
               ],
               [
                -118.27491499892665,
                33.788738000212795
               ],
               [
                -118.27489699995873,
                33.78850100024323
               ],
               [
                -118.27484899994833,
                33.787888000226076
               ],
               [
                -118.27478199932676,
                33.78703800034503
               ],
               [
                -118.27473299958292,
                33.78641700039398
               ],
               [
                -118.27471500014339,
                33.78618799958264
               ],
               [
                -118.27457000013287,
                33.784332000204216
               ],
               [
                -118.27584699999764,
                33.78426199995408
               ],
               [
                -118.27695300070243,
                33.78420099931354
               ],
               [
                -118.2779310007423,
                33.78414699967581
               ],
               [
                -118.27859100017882,
                33.78411099994237
               ],
               [
                -118.280456000274,
                33.784155999707174
               ],
               [
                -118.280316999446,
                33.78323500101619
               ],
               [
                -118.28012700004271,
                33.78198600061251
               ],
               [
                -118.28007900053773,
                33.78175699956511
               ],
               [
                -118.28001700078518,
                33.7815449990648
               ],
               [
                -118.27971099888482,
                33.78068700039554
               ],
               [
                -118.27967599992566,
                33.78058100016183
               ],
               [
                -118.27962900054017,
                33.780398000014
               ],
               [
                -118.27959799949387,
                33.780227000494435
               ],
               [
                -118.2795690006188,
                33.77992999991511
               ],
               [
                -118.27950000021674,
                33.77904399995448
               ],
               [
                -118.2801399999443,
                33.779008999787095
               ],
               [
                -118.28031100105211,
                33.7790000001263
               ],
               [
                -118.28090499965587,
                33.77896700061133
               ],
               [
                -118.28194800069421,
                33.77890999962348
               ],
               [
                -118.2824650003465,
                33.77888100036444
               ],
               [
                -118.28245600025842,
                33.779362999585864
               ],
               [
                -118.28188399936487,
                33.78044700029514
               ],
               [
                -118.28100499974133,
                33.780548999377835
               ],
               [
                -118.28101499989994,
                33.78066499960743
               ],
               [
                -118.28102299938726,
                33.78179899981951
               ],
               [
                -118.28104100006844,
                33.7820549999299
               ],
               [
                -118.28106000009983,
                33.78220100008588
               ],
               [
                -118.28120699957873,
                33.783177000752744
               ],
               [
                -118.28139399978969,
                33.7844089997698
               ],
               [
                -118.28143000055836,
                33.784652000145634
               ],
               [
                -118.28163500032531,
                33.78600799972304
               ],
               [
                -118.2816289999312,
                33.78603399989614
               ],
               [
                -118.28207599978627,
                33.78897999972046
               ],
               [
                -118.28210500095852,
                33.789100000301666
               ],
               [
                -118.28215700054494,
                33.789240000373255
               ],
               [
                -118.28222600013625,
                33.78937400035839
               ],
               [
                -118.28231199982253,
                33.78950199932713
               ],
               [
                -118.28239099960496,
                33.78961000097695
               ],
               [
                -118.28253399972178,
                33.78961500066404
               ],
               [
                -118.2837569996918,
                33.789627000130345
               ],
               [
                -118.28437499984302,
                33.79076999946943
               ],
               [
                -118.28448100055849,
                33.79084800027404
               ],
               [
                -118.2843269997121,
                33.79083000013747
               ],
               [
                -118.28283900087953,
                33.79066000050282
               ],
               [
                -118.28246499987728,
                33.79061599985797
               ],
               [
                -118.28242699983599,
                33.79061100008574
               ],
               [
                -118.28219299919182,
                33.7905849995485
               ],
               [
                -118.2821030002999,
                33.79057499985751
               ],
               [
                -118.2819250002258,
                33.790553999637176
               ]
              ]
             ],
             "type": "Polygon"
            },
            "id": "12",
            "properties": {},
            "type": "Feature"
           },
           {
            "bbox": [
             -118.27501099989422,
             33.78641700039398,
             -118.26862600014265,
             33.79086999933563
            ],
            "geometry": {
             "coordinates": [
              [
               [
                -118.26878500079629,
                33.79086999933563
               ],
               [
                -118.26862600014265,
                33.78884100040991
               ],
               [
                -118.26888799972075,
                33.78882699976305
               ],
               [
                -118.26872500013029,
                33.78674600010315
               ],
               [
                -118.26937200060236,
                33.78670800018114
               ],
               [
                -118.270434000166,
                33.78665100033955
               ],
               [
                -118.2715049996313,
                33.7865929993811
               ],
               [
                -118.27217399996816,
                33.786555999530435
               ],
               [
                -118.2725909997741,
                33.7865340009079
               ],
               [
                -118.27343199980632,
                33.786487999644116
               ],
               [
                -118.27364699983481,
                33.786475999486406
               ],
               [
                -118.27473299958292,
                33.78641700039398
               ],
               [
                -118.27478199932676,
                33.78703800034503
               ],
               [
                -118.27484899994833,
                33.787888000226076
               ],
               [
                -118.27489699995873,
                33.78850100024323
               ],
               [
                -118.27491499892665,
                33.788738000212795
               ],
               [
                -118.27497399988621,
                33.78948900000692
               ],
               [
                -118.27497799962359,
                33.789588999924696
               ],
               [
                -118.27501099989422,
                33.79053100034649
               ],
               [
                -118.2739169990184,
                33.7905909993332
               ],
               [
                -118.27288999968123,
                33.79064700011611
               ],
               [
                -118.27182799954042,
                33.790704000003764
               ],
               [
                -118.27075700069307,
                33.79076300027791
               ],
               [
                -118.26969500026652,
                33.79082000008499
               ],
               [
                -118.26878500079629,
                33.79086999933563
               ]
              ]
             ],
             "type": "Polygon"
            },
            "id": "13",
            "properties": {},
            "type": "Feature"
           },
           {
            "bbox": [
             -118.27473299958292,
             33.78225900070537,
             -118.26839700068167,
             33.78674600010315
            ],
            "geometry": {
             "coordinates": [
              [
               [
                -118.26872500013029,
                33.78674600010315
               ],
               [
                -118.2685609995244,
                33.784660999664055
               ],
               [
                -118.26839700068167,
                33.78257699943921
               ],
               [
                -118.26893600010929,
                33.7825480003555
               ],
               [
                -118.26904499997731,
                33.78254099934147
               ],
               [
                -118.27011900049487,
                33.782483000070506
               ],
               [
                -118.27117699989593,
                33.782425999629574
               ],
               [
                -118.27130099975729,
                33.78241900039914
               ],
               [
                -118.27185799990589,
                33.782388999916456
               ],
               [
                -118.2718939989305,
                33.7823950001419
               ],
               [
                -118.27248599973036,
                33.78236299883842
               ],
               [
                -118.2731059995687,
                33.782328999828124
               ],
               [
                -118.27440699921033,
                33.78225900070537
               ],
               [
                -118.27457000013287,
                33.784332000204216
               ],
               [
                -118.27471500014339,
                33.78618799958264
               ],
               [
                -118.27473299958292,
                33.78641700039398
               ],
               [
                -118.27364699983481,
                33.786475999486406
               ],
               [
                -118.27343199980632,
                33.786487999644116
               ],
               [
                -118.2725909997741,
                33.7865340009079
               ],
               [
                -118.27217399996816,
                33.786555999530435
               ],
               [
                -118.2715049996313,
                33.7865929993811
               ],
               [
                -118.270434000166,
                33.78665100033955
               ],
               [
                -118.26937200060236,
                33.78670800018114
               ],
               [
                -118.26872500013029,
                33.78674600010315
               ]
              ]
             ],
             "type": "Polygon"
            },
            "id": "14",
            "properties": {},
            "type": "Feature"
           },
           {
            "bbox": [
             -118.26888799972075,
             33.78657100095188,
             -118.26295699937609,
             33.79114799939181
            ],
            "geometry": {
             "coordinates": [
              [
               [
                -118.26330700048642,
                33.79114799939181
               ],
               [
                -118.26321700011223,
                33.79001500001584
               ],
               [
                -118.26312400025178,
                33.788826000215956
               ],
               [
                -118.26295699937609,
                33.78670099981067
               ],
               [
                -118.2642570005253,
                33.786630999866
               ],
               [
                -118.26536300001472,
                33.78657100095188
               ],
               [
                -118.2653909998203,
                33.78692799993396
               ],
               [
                -118.2664970002421,
                33.78686799897321
               ],
               [
                -118.26761100059333,
                33.78680700094191
               ],
               [
                -118.26872500013029,
                33.78674600010315
               ],
               [
                -118.26888799972075,
                33.78882699976305
               ],
               [
                -118.26862600014265,
                33.78884100040991
               ],
               [
                -118.26878500079629,
                33.79086999933563
               ],
               [
                -118.26787600011544,
                33.790919000032815
               ],
               [
                -118.26696700022212,
                33.79096099927216
               ],
               [
                -118.26571299945788,
                33.791018000723064
               ],
               [
                -118.26460699973087,
                33.791078000071096
               ],
               [
                -118.26330700048642,
                33.79114799939181
               ]
              ]
             ],
             "type": "Polygon"
            },
            "id": "15",
            "properties": {},
            "type": "Feature"
           },
           {
            "bbox": [
             -118.26872500013029,
             33.78257699943921,
             -118.26265599960702,
             33.78692799993396
            ],
            "geometry": {
             "coordinates": [
              [
               [
                -118.26295699937609,
                33.78670099981067
               ],
               [
                -118.26280299989332,
                33.78474599956836
               ],
               [
                -118.26265599960702,
                33.7828879997147
               ],
               [
                -118.26395699978255,
                33.78281800020367
               ],
               [
                -118.26506300031512,
                33.782758000263634
               ],
               [
                -118.26616800026667,
                33.78269800043432
               ],
               [
                -118.2667369999402,
                33.78266700072235
               ],
               [
                -118.2672830003839,
                33.78263699984742
               ],
               [
                -118.26775399971652,
                33.78261199977874
               ],
               [
                -118.26839700068167,
                33.78257699943921
               ],
               [
                -118.2685609995244,
                33.784660999664055
               ],
               [
                -118.26872500013029,
                33.78674600010315
               ],
               [
                -118.26761100059333,
                33.78680700094191
               ],
               [
                -118.2664970002421,
                33.78686799897321
               ],
               [
                -118.2653909998203,
                33.78692799993396
               ],
               [
                -118.26536300001472,
                33.78657100095188
               ],
               [
                -118.2642570005253,
                33.786630999866
               ],
               [
                -118.26295699937609,
                33.78670099981067
               ]
              ]
             ],
             "type": "Polygon"
            },
            "id": "16",
            "properties": {},
            "type": "Feature"
           },
           {
            "bbox": [
             -118.26330700048642,
             33.78670099981067,
             -118.2529990009314,
             33.79160699929387
            ],
            "geometry": {
             "coordinates": [
              [
               [
                -118.25394200079228,
                33.79141399976851
               ],
               [
                -118.25339799973578,
                33.7913139999117
               ],
               [
                -118.25303799978136,
                33.79124800035326
               ],
               [
                -118.2529990009314,
                33.790721999946776
               ],
               [
                -118.25300700055826,
                33.790493999472154
               ],
               [
                -118.25302600065456,
                33.79031200008423
               ],
               [
                -118.25307099985368,
                33.78993799952812
               ],
               [
                -118.25314100016831,
                33.78938499929738
               ],
               [
                -118.25314899977566,
                33.7892740001991
               ],
               [
                -118.25317299960629,
                33.78915900031349
               ],
               [
                -118.25319799996458,
                33.789047000197385
               ],
               [
                -118.25323699963866,
                33.78888000027093
               ],
               [
                -118.2533729992986,
                33.78857800041703
               ],
               [
                -118.25354600002272,
                33.78818899961011
               ],
               [
                -118.25356699929067,
                33.78813300082423
               ],
               [
                -118.25365499928071,
                33.78790300011434
               ],
               [
                -118.25367999981954,
                33.787760000480624
               ],
               [
                -118.25370099905845,
                33.78762600065738
               ],
               [
                -118.25371500050854,
                33.78745700034272
               ],
               [
                -118.25371300001633,
                33.78719999956558
               ],
               [
                -118.25426599946658,
                33.7871710001682
               ],
               [
                -118.2547890000055,
                33.78714200033477
               ],
               [
                -118.25550300117143,
                33.7871040003285
               ],
               [
                -118.25589199983017,
                33.787082999807566
               ],
               [
                -118.25651299978192,
                33.787050000109346
               ],
               [
                -118.2571359998401,
                33.78701699977778
               ],
               [
                -118.25749999986053,
                33.7869970005696
               ],
               [
                -118.25843599983492,
                33.78694699961526
               ],
               [
                -118.25987300096186,
                33.7868689994055
               ],
               [
                -118.2613140001977,
                33.786790999902905
               ],
               [
                -118.26295699937609,
                33.78670099981067
               ],
               [
                -118.26312400025178,
                33.788826000215956
               ],
               [
                -118.26321700011223,
                33.79001500001584
               ],
               [
                -118.26330700048642,
                33.79114799939181
               ],
               [
                -118.2616169998682,
                33.791273000685024
               ],
               [
                -118.26079199940023,
                33.79133399912237
               ],
               [
                -118.26055300109064,
                33.79135199993083
               ],
               [
                -118.26007199972726,
                33.79137799974115
               ],
               [
                -118.2594420003404,
                33.79141099937445
               ],
               [
                -118.25848900009775,
                33.79146200013594
               ],
               [
                -118.2562200009554,
                33.791584000397364
               ],
               [
                -118.25583400042221,
                33.79160499964364
               ],
               [
                -118.255522000888,
                33.79160699929387
               ],
               [
                -118.2552100005375,
                33.79159599992713
               ],
               [
                -118.25511499957723,
                33.791588999933
               ],
               [
                -118.25490000081079,
                33.79157099964252
               ],
               [
                -118.25459099983263,
                33.79153199927898
               ],
               [
                -118.25428600010308,
                33.79148000013368
               ],
               [
                -118.25418500005843,
                33.791458999815916
               ],
               [
                -118.25394200079228,
                33.79141399976851
               ]
              ]
             ],
             "type": "Polygon"
            },
            "id": "17",
            "properties": {},
            "type": "Feature"
           },
           {
            "bbox": [
             -118.26295699937609,
             33.7828879997147,
             -118.2535249999175,
             33.78719999956558
            ],
            "geometry": {
             "coordinates": [
              [
               [
                -118.25371300001633,
                33.78719999956558
               ],
               [
                -118.25367699954185,
                33.78675299927822
               ],
               [
                -118.2535509999461,
                33.785123999782165
               ],
               [
                -118.25353699946426,
                33.784948999697676
               ],
               [
                -118.2535249999175,
                33.78440800117092
               ],
               [
                -118.25355699992969,
                33.784174000922135
               ],
               [
                -118.25359199979118,
                33.78392199963299
               ],
               [
                -118.25358099940145,
                33.78347099994724
               ],
               [
                -118.25356300020891,
                33.7832090005054
               ],
               [
                -118.25433600043273,
                33.78316699988021
               ],
               [
                -118.25450000039248,
                33.78317600006805
               ],
               [
                -118.2550430000948,
                33.78313400022545
               ],
               [
                -118.25518299937599,
                33.78307699954044
               ],
               [
                -118.25603000088677,
                33.7830340003008
               ],
               [
                -118.25619700011636,
                33.78302499969185
               ],
               [
                -118.25718499888534,
                33.78297400024465
               ],
               [
                -118.25749600049352,
                33.78295800075475
               ],
               [
                -118.2581209997339,
                33.78292499990208
               ],
               [
                -118.25813699943001,
                33.78313300044386
               ],
               [
                -118.25860599986993,
                33.783106999252205
               ],
               [
                -118.25957399974443,
                33.7830550002082
               ],
               [
                -118.26101500015352,
                33.78297699982093
               ],
               [
                -118.26200600001253,
                33.78292300020105
               ],
               [
                -118.26265599960702,
                33.7828879997147
               ],
               [
                -118.26280299989332,
                33.78474599956836
               ],
               [
                -118.26295699937609,
                33.78670099981067
               ],
               [
                -118.2613140001977,
                33.786790999902905
               ],
               [
                -118.25987300096186,
                33.7868689994055
               ],
               [
                -118.25843599983492,
                33.78694699961526
               ],
               [
                -118.25749999986053,
                33.7869970005696
               ],
               [
                -118.2571359998401,
                33.78701699977778
               ],
               [
                -118.25651299978192,
                33.787050000109346
               ],
               [
                -118.25589199983017,
                33.787082999807566
               ],
               [
                -118.25550300117143,
                33.7871040003285
               ],
               [
                -118.2547890000055,
                33.78714200033477
               ],
               [
                -118.25426599946658,
                33.7871710001682
               ],
               [
                -118.25371300001633,
                33.78719999956558
               ]
              ]
             ],
             "type": "Polygon"
            },
            "id": "18",
            "properties": {},
            "type": "Feature"
           },
           {
            "bbox": [
             -118.25055899919214,
             33.78348000048685,
             -118.24083199967076,
             33.79129100109962
            ],
            "geometry": {
             "coordinates": [
              [
               [
                -118.24083199967076,
                33.79129100109962
               ],
               [
                -118.24115499987312,
                33.79041799962537
               ],
               [
                -118.24147899980194,
                33.78954400001157
               ],
               [
                -118.24180200029184,
                33.78866999944486
               ],
               [
                -118.24193399924907,
                33.788314000525226
               ],
               [
                -118.2425979991056,
                33.78651799897389
               ],
               [
                -118.24260499982262,
                33.78649999983673
               ],
               [
                -118.24291400005913,
                33.785661999831866
               ],
               [
                -118.24313999976785,
                33.78505100034037
               ],
               [
                -118.24316299892544,
                33.78499099990669
               ],
               [
                -118.2432639997751,
                33.784726999744535
               ],
               [
                -118.24351700040992,
                33.78473800045901
               ],
               [
                -118.24373900062537,
                33.7847340001489
               ],
               [
                -118.24490100005055,
                33.78465199924961
               ],
               [
                -118.2448399998395,
                33.78382300049449
               ],
               [
                -118.24554400012592,
                33.78378499979367
               ],
               [
                -118.24625600045897,
                33.783745999101534
               ],
               [
                -118.24693300013955,
                33.783710000463046
               ],
               [
                -118.24753899932159,
                33.783676999634935
               ],
               [
                -118.24765600042845,
                33.7836289994783
               ],
               [
                -118.2485979995145,
                33.78357900035145
               ],
               [
                -118.24865200005524,
                33.78357599974905
               ],
               [
                -118.24933999960801,
                33.78353800008588
               ],
               [
                -118.24954399947386,
                33.783527000591505
               ],
               [
                -118.24984400034361,
                33.78351100114907
               ],
               [
                -118.2504170001501,
                33.78348000048685
               ],
               [
                -118.25055899919214,
                33.78528500038608
               ],
               [
                -118.24944200082729,
                33.78534599943623
               ],
               [
                -118.24832599969633,
                33.785405999989564
               ],
               [
                -118.24841400011898,
                33.78653800035358
               ],
               [
                -118.247764998999,
                33.78657300003663
               ],
               [
                -118.24783500015616,
                33.787518999834425
               ],
               [
                -118.24707500080304,
                33.78755999944708
               ],
               [
                -118.24642299952974,
                33.788506999820186
               ],
               [
                -118.24579899977003,
                33.78941300052397
               ],
               [
                -118.24543699968245,
                33.7899390004708
               ],
               [
                -118.24530599947812,
                33.7901289997544
               ],
               [
                -118.24531900005444,
                33.79030600035298
               ],
               [
                -118.24537399929562,
                33.791059999587546
               ],
               [
                -118.24463900023846,
                33.7910979993746
               ],
               [
                -118.24402899950452,
                33.79112900056678
               ],
               [
                -118.24134200025254,
                33.79126499997986
               ],
               [
                -118.24109100053633,
                33.791278000144644
               ],
               [
                -118.24083199967076,
                33.79129100109962
               ]
              ]
             ],
             "type": "Polygon"
            },
            "id": "19",
            "properties": {},
            "type": "Feature"
           },
           {
            "bbox": [
             -118.25097700071987,
             33.78528500038608,
             -118.24530599947812,
             33.791059999587546
            ],
            "geometry": {
             "coordinates": [
              [
               [
                -118.24537399929562,
                33.791059999587546
               ],
               [
                -118.24531900005444,
                33.79030600035298
               ],
               [
                -118.24530599947812,
                33.7901289997544
               ],
               [
                -118.24543699968245,
                33.7899390004708
               ],
               [
                -118.24579899977003,
                33.78941300052397
               ],
               [
                -118.24642299952974,
                33.788506999820186
               ],
               [
                -118.24707500080304,
                33.78755999944708
               ],
               [
                -118.24783500015616,
                33.787518999834425
               ],
               [
                -118.247764998999,
                33.78657300003663
               ],
               [
                -118.24841400011898,
                33.78653800035358
               ],
               [
                -118.24832599969633,
                33.785405999989564
               ],
               [
                -118.24944200082729,
                33.78534599943623
               ],
               [
                -118.25055899919214,
                33.78528500038608
               ],
               [
                -118.25064600067765,
                33.78640099975102
               ],
               [
                -118.2506470000575,
                33.78641700049879
               ],
               [
                -118.2507170003255,
                33.78736200064386
               ],
               [
                -118.25078400012653,
                33.78827100002053
               ],
               [
                -118.25084900019922,
                33.789156999743966
               ],
               [
                -118.25091300034215,
                33.790022000381356
               ],
               [
                -118.25097700071987,
                33.79088499968158
               ],
               [
                -118.25069099953394,
                33.79085700078775
               ],
               [
                -118.250347999766,
                33.79083699985637
               ],
               [
                -118.25011799958345,
                33.79083199995563
               ],
               [
                -118.24977300110484,
                33.79083800068978
               ],
               [
                -118.24935100028304,
                33.79085799969917
               ],
               [
                -118.24808599995612,
                33.79092299932329
               ],
               [
                -118.24682099992245,
                33.790987000006304
               ],
               [
                -118.24537399929562,
                33.791059999587546
               ]
              ]
             ],
             "type": "Polygon"
            },
            "id": "20",
            "properties": {},
            "type": "Feature"
           },
           {
            "bbox": [
             -118.25371500050854,
             33.7832090005054,
             -118.2504139995327,
             33.79124800035326
            ],
            "geometry": {
             "coordinates": [
              [
               [
                -118.25097700071987,
                33.79088499968158
               ],
               [
                -118.25091300034215,
                33.790022000381356
               ],
               [
                -118.25084900019922,
                33.789156999743966
               ],
               [
                -118.25078400012653,
                33.78827100002053
               ],
               [
                -118.2507170003255,
                33.78736200064386
               ],
               [
                -118.2506470000575,
                33.78641700049879
               ],
               [
                -118.25064600067765,
                33.78640099975102
               ],
               [
                -118.25055899919214,
                33.78528500038608
               ],
               [
                -118.2504170001501,
                33.78348000048685
               ],
               [
                -118.2504139995327,
                33.78344600013532
               ],
               [
                -118.25041700036982,
                33.78341699958575
               ],
               [
                -118.25160699965474,
                33.78335300058361
               ],
               [
                -118.25272399972856,
                33.783292999723905
               ],
               [
                -118.2527209989113,
                33.78325500038365
               ],
               [
                -118.25356300020891,
                33.7832090005054
               ],
               [
                -118.25358099940145,
                33.78347099994724
               ],
               [
                -118.25359199979118,
                33.78392199963299
               ],
               [
                -118.25355699992969,
                33.784174000922135
               ],
               [
                -118.2535249999175,
                33.78440800117092
               ],
               [
                -118.25353699946426,
                33.784948999697676
               ],
               [
                -118.2535509999461,
                33.785123999782165
               ],
               [
                -118.25367699954185,
                33.78675299927822
               ],
               [
                -118.25371300001633,
                33.78719999956558
               ],
               [
                -118.25371500050854,
                33.78745700034272
               ],
               [
                -118.25370099905845,
                33.78762600065738
               ],
               [
                -118.25367999981954,
                33.787760000480624
               ],
               [
                -118.25365499928071,
                33.78790300011434
               ],
               [
                -118.25356699929067,
                33.78813300082423
               ],
               [
                -118.25354600002272,
                33.78818899961011
               ],
               [
                -118.2533729992986,
                33.78857800041703
               ],
               [
                -118.25323699963866,
                33.78888000027093
               ],
               [
                -118.25319799996458,
                33.789047000197385
               ],
               [
                -118.25317299960629,
                33.78915900031349
               ],
               [
                -118.25314899977566,
                33.7892740001991
               ],
               [
                -118.25314100016831,
                33.78938499929738
               ],
               [
                -118.25307099985368,
                33.78993799952812
               ],
               [
                -118.25302600065456,
                33.79031200008423
               ],
               [
                -118.25300700055826,
                33.790493999472154
               ],
               [
                -118.2529990009314,
                33.790721999946776
               ],
               [
                -118.25303799978136,
                33.79124800035326
               ],
               [
                -118.25137299980062,
                33.790941999488055
               ],
               [
                -118.25103299980475,
                33.7908920000913
               ],
               [
                -118.25097700071987,
                33.79088499968158
               ]
              ]
             ],
             "type": "Polygon"
            },
            "id": "21",
            "properties": {},
            "type": "Feature"
           },
           {
            "bbox": [
             -118.24954499946641,
             33.7763249996235,
             -118.2432639997751,
             33.78473800045901
            ],
            "geometry": {
             "coordinates": [
              [
               [
                -118.2432639997751,
                33.784726999744535
               ],
               [
                -118.24348000039696,
                33.784190000833505
               ],
               [
                -118.24364900040864,
                33.783799000671195
               ],
               [
                -118.24378400005126,
                33.78350299951607
               ],
               [
                -118.24402899922427,
                33.782988999001056
               ],
               [
                -118.2442050007478,
                33.78264099977077
               ],
               [
                -118.24445500018038,
                33.78217300049313
               ],
               [
                -118.24461499917025,
                33.78188299991351
               ],
               [
                -118.24473499999002,
                33.781676000012986
               ],
               [
                -118.24508299972388,
                33.781075999561146
               ],
               [
                -118.24514300025338,
                33.780954999989824
               ],
               [
                -118.24516000077035,
                33.780904000104314
               ],
               [
                -118.24537499923174,
                33.7805749995006
               ],
               [
                -118.24561900031297,
                33.78021200009599
               ],
               [
                -118.24587100060003,
                33.77985199989812
               ],
               [
                -118.24621100027746,
                33.77939000092634
               ],
               [
                -118.24639700004234,
                33.7791449993904
               ],
               [
                -118.24666000009725,
                33.77881000034657
               ],
               [
                -118.24695099925397,
                33.77845299988471
               ],
               [
                -118.24723999961233,
                33.7781139996424
               ],
               [
                -118.24745699965524,
                33.777867000096975
               ],
               [
                -118.24785800004942,
                33.77742500037533
               ],
               [
                -118.24805400005653,
                33.777207999426885
               ],
               [
                -118.24845999951614,
                33.77679300027424
               ],
               [
                -118.24893099981978,
                33.77633300049505
               ],
               [
                -118.24907699995045,
                33.7763249996235
               ],
               [
                -118.2490809999082,
                33.77638099989515
               ],
               [
                -118.24909300032192,
                33.77652299940392
               ],
               [
                -118.24919199989202,
                33.77777400044448
               ],
               [
                -118.24930599946208,
                33.77922400055494
               ],
               [
                -118.24942000049056,
                33.780675000077046
               ],
               [
                -118.24934000057227,
                33.78067999990209
               ],
               [
                -118.24945700020909,
                33.78216899995794
               ],
               [
                -118.24954499946641,
                33.78329000023667
               ],
               [
                -118.24953999948583,
                33.783454999178154
               ],
               [
                -118.24954399947386,
                33.783527000591505
               ],
               [
                -118.24933999960801,
                33.78353800008588
               ],
               [
                -118.24865200005524,
                33.78357599974905
               ],
               [
                -118.2485979995145,
                33.78357900035145
               ],
               [
                -118.24765600042845,
                33.7836289994783
               ],
               [
                -118.24753899932159,
                33.783676999634935
               ],
               [
                -118.24693300013955,
                33.783710000463046
               ],
               [
                -118.24625600045897,
                33.783745999101534
               ],
               [
                -118.24554400012592,
                33.78378499979367
               ],
               [
                -118.2448399998395,
                33.78382300049449
               ],
               [
                -118.24490100005055,
                33.78465199924961
               ],
               [
                -118.24373900062537,
                33.7847340001489
               ],
               [
                -118.24351700040992,
                33.78473800045901
               ],
               [
                -118.2432639997751,
                33.784726999744535
               ]
              ]
             ],
             "type": "Polygon"
            },
            "id": "22",
            "properties": {},
            "type": "Feature"
           },
           {
            "bbox": [
             -118.26197600031055,
             33.76850399956962,
             -118.24893099981978,
             33.783527000591505
            ],
            "geometry": {
             "coordinates": [
              [
               [
                -118.25356300020891,
                33.7832090005054
               ],
               [
                -118.2527209989113,
                33.78325500038365
               ],
               [
                -118.25272399972856,
                33.783292999723905
               ],
               [
                -118.25160699965474,
                33.78335300058361
               ],
               [
                -118.25041700036982,
                33.78341699958575
               ],
               [
                -118.2504139995327,
                33.78344600013532
               ],
               [
                -118.2504170001501,
                33.78348000048685
               ],
               [
                -118.24984400034361,
                33.78351100114907
               ],
               [
                -118.24954399947386,
                33.783527000591505
               ],
               [
                -118.24953999948583,
                33.783454999178154
               ],
               [
                -118.24954499946641,
                33.78329000023667
               ],
               [
                -118.24945700020909,
                33.78216899995794
               ],
               [
                -118.24934000057227,
                33.78067999990209
               ],
               [
                -118.24942000049056,
                33.780675000077046
               ],
               [
                -118.24930599946208,
                33.77922400055494
               ],
               [
                -118.24919199989202,
                33.77777400044448
               ],
               [
                -118.24909300032192,
                33.77652299940392
               ],
               [
                -118.2490809999082,
                33.77638099989515
               ],
               [
                -118.24907699995045,
                33.7763249996235
               ],
               [
                -118.24893099981978,
                33.77633300049505
               ],
               [
                -118.24945400026715,
                33.775850999532395
               ],
               [
                -118.24977999942233,
                33.775562000491654
               ],
               [
                -118.25028900066062,
                33.77513200038848
               ],
               [
                -118.25072200062917,
                33.774782000457684
               ],
               [
                -118.25120299961823,
                33.77440899924632
               ],
               [
                -118.25152000005446,
                33.774173999167374
               ],
               [
                -118.25194999975925,
                33.77386499973376
               ],
               [
                -118.25275999907656,
                33.77330399996934
               ],
               [
                -118.25338199876622,
                33.77291700070143
               ],
               [
                -118.2535239998391,
                33.772831999958115
               ],
               [
                -118.25380099971939,
                33.772613999234046
               ],
               [
                -118.25463499973372,
                33.772059000140494
               ],
               [
                -118.25513099999685,
                33.771765999704606
               ],
               [
                -118.25524899996236,
                33.77171299930387
               ],
               [
                -118.25571300032388,
                33.77160300042674
               ],
               [
                -118.25629599928527,
                33.77157100003852
               ],
               [
                -118.25758500006047,
                33.770911000190424
               ],
               [
                -118.25780399965572,
                33.77078900003098
               ],
               [
                -118.25780300022184,
                33.77077000019212
               ],
               [
                -118.25780500059804,
                33.7707219992112
               ],
               [
                -118.25816899924378,
                33.77053199948813
               ],
               [
                -118.25836900025125,
                33.770428999502286
               ],
               [
                -118.25869300072709,
                33.77021699957855
               ],
               [
                -118.25901300005354,
                33.76996900032144
               ],
               [
                -118.25902000018151,
                33.769953000352714
               ],
               [
                -118.259041998839,
                33.769947000120325
               ],
               [
                -118.2597040004357,
                33.769425000035405
               ],
               [
                -118.2598639994696,
                33.76930199970396
               ],
               [
                -118.26028799943512,
                33.76897800042752
               ],
               [
                -118.2608810000003,
                33.76850399956962
               ],
               [
                -118.26089700020209,
                33.7687049997536
               ],
               [
                -118.261146999386,
                33.76943499994172
               ],
               [
                -118.26123200060798,
                33.769684000433216
               ],
               [
                -118.26128700028414,
                33.76984499983452
               ],
               [
                -118.26174100012176,
                33.771175000463785
               ],
               [
                -118.2617489994278,
                33.77127399936336
               ],
               [
                -118.26186300103899,
                33.772725000147425
               ],
               [
                -118.26197600031055,
                33.77417399962826
               ],
               [
                -118.26067499913998,
                33.77424500044972
               ],
               [
                -118.259373000015,
                33.774315999937585
               ],
               [
                -118.25807200044791,
                33.77438599873628
               ],
               [
                -118.2581780005315,
                33.775733999294225
               ],
               [
                -118.25818600000585,
                33.77584400042499
               ],
               [
                -118.25829999975697,
                33.77728500021689
               ],
               [
                -118.25841399894351,
                33.77873499936593
               ],
               [
                -118.25852800074321,
                33.78018599974688
               ],
               [
                -118.25934500058295,
                33.78014199980172
               ],
               [
                -118.25944300016064,
                33.78138500036264
               ],
               [
                -118.25957399974443,
                33.7830550002082
               ],
               [
                -118.25860599986993,
                33.783106999252205
               ],
               [
                -118.25813699943001,
                33.78313300044386
               ],
               [
                -118.2581209997339,
                33.78292499990208
               ],
               [
                -118.25749600049352,
                33.78295800075475
               ],
               [
                -118.25718499888534,
                33.78297400024465
               ],
               [
                -118.25619700011636,
                33.78302499969185
               ],
               [
                -118.25603000088677,
                33.7830340003008
               ],
               [
                -118.25518299937599,
                33.78307699954044
               ],
               [
                -118.2550430000948,
                33.78313400022545
               ],
               [
                -118.25450000039248,
                33.78317600006805
               ],
               [
                -118.25433600043273,
                33.78316699988021
               ],
               [
                -118.25356300020891,
                33.7832090005054
               ]
              ]
             ],
             "type": "Polygon"
            },
            "id": "23",
            "properties": {},
            "type": "Feature"
           },
           {
            "bbox": [
             -118.26265599960702,
             33.77417399962826,
             -118.25807200044791,
             33.7830550002082
            ],
            "geometry": {
             "coordinates": [
              [
               [
                -118.25957399974443,
                33.7830550002082
               ],
               [
                -118.25944300016064,
                33.78138500036264
               ],
               [
                -118.25934500058295,
                33.78014199980172
               ],
               [
                -118.25852800074321,
                33.78018599974688
               ],
               [
                -118.25841399894351,
                33.77873499936593
               ],
               [
                -118.25829999975697,
                33.77728500021689
               ],
               [
                -118.25818600000585,
                33.77584400042499
               ],
               [
                -118.2581780005315,
                33.775733999294225
               ],
               [
                -118.25807200044791,
                33.77438599873628
               ],
               [
                -118.259373000015,
                33.774315999937585
               ],
               [
                -118.26067499913998,
                33.77424500044972
               ],
               [
                -118.26197600031055,
                33.77417399962826
               ],
               [
                -118.26208999970069,
                33.77562400029467
               ],
               [
                -118.26220399961188,
                33.7770750012604
               ],
               [
                -118.26231700039698,
                33.77852399918489
               ],
               [
                -118.26243099916195,
                33.77997400005942
               ],
               [
                -118.26252500016916,
                33.78121799958566
               ],
               [
                -118.26265599960702,
                33.7828879997147
               ],
               [
                -118.26200600001253,
                33.78292300020105
               ],
               [
                -118.26101500015352,
                33.78297699982093
               ],
               [
                -118.25957399974443,
                33.7830550002082
               ]
              ]
             ],
             "type": "Polygon"
            },
            "id": "24",
            "properties": {},
            "type": "Feature"
           },
           {
            "bbox": [
             -118.27440699921033,
             33.779338000657,
             -118.26870899957186,
             33.7825480003555
            ],
            "geometry": {
             "coordinates": [
              [
               [
                -118.26893600010929,
                33.7825480003555
               ],
               [
                -118.26881799987105,
                33.78104099943141
               ],
               [
                -118.26870899957186,
                33.77963300011257
               ],
               [
                -118.26893699968295,
                33.77962099995786
               ],
               [
                -118.26989099986669,
                33.779569000228065
               ],
               [
                -118.27023799977637,
                33.77955000011571
               ],
               [
                -118.27107299907458,
                33.779504999765265
               ],
               [
                -118.27153999884963,
                33.77947999991877
               ],
               [
                -118.2722560003489,
                33.77943999935237
               ],
               [
                -118.27284100011941,
                33.779409000076186
               ],
               [
                -118.27414199980173,
                33.779338000657
               ],
               [
                -118.27418999940325,
                33.7794900003346
               ],
               [
                -118.27428899925461,
                33.780751000018306
               ],
               [
                -118.27440699921033,
                33.78225900070537
               ],
               [
                -118.2731059995687,
                33.782328999828124
               ],
               [
                -118.27248599973036,
                33.78236299883842
               ],
               [
                -118.2718939989305,
                33.7823950001419
               ],
               [
                -118.27185799990589,
                33.782388999916456
               ],
               [
                -118.27130099975729,
                33.78241900039914
               ],
               [
                -118.27117699989593,
                33.782425999629574
               ],
               [
                -118.27011900049487,
                33.782483000070506
               ],
               [
                -118.26904499997731,
                33.78254099934147
               ],
               [
                -118.26893600010929,
                33.7825480003555
               ]
              ]
             ],
             "type": "Polygon"
            },
            "id": "25",
            "properties": {},
            "type": "Feature"
           },
           {
            "bbox": [
             -118.27414199980173,
             33.77643600001372,
             -118.26870999919119,
             33.77962099995786
            ],
            "geometry": {
             "coordinates": [
              [
               [
                -118.26893699968295,
                33.77962099995786
               ],
               [
                -118.2688240000576,
                33.77817000021398
               ],
               [
                -118.26870999919119,
                33.77671999991524
               ],
               [
                -118.27001100048105,
                33.776648999569176
               ],
               [
                -118.27131300093238,
                33.77657799955966
               ],
               [
                -118.27261400012476,
                33.77650700006425
               ],
               [
                -118.27391600065546,
                33.77643600001372
               ],
               [
                -118.27397200113492,
                33.77716199998927
               ],
               [
                -118.27402900035625,
                33.77788699985029
               ],
               [
                -118.27414199980173,
                33.779338000657
               ],
               [
                -118.27284100011941,
                33.779409000076186
               ],
               [
                -118.2722560003489,
                33.77943999935237
               ],
               [
                -118.27153999884963,
                33.77947999991877
               ],
               [
                -118.27107299907458,
                33.779504999765265
               ],
               [
                -118.27023799977637,
                33.77955000011571
               ],
               [
                -118.26989099986669,
                33.779569000228065
               ],
               [
                -118.26893699968295,
                33.77962099995786
               ]
              ]
             ],
             "type": "Polygon"
            },
            "id": "26",
            "properties": {},
            "type": "Feature"
           },
           {
            "bbox": [
             -118.26893600010929,
             33.77963300011257,
             -118.26243099916195,
             33.7828879997147
            ],
            "geometry": {
             "coordinates": [
              [
               [
                -118.26839700068167,
                33.78257699943921
               ],
               [
                -118.26775399971652,
                33.78261199977874
               ],
               [
                -118.2672830003839,
                33.78263699984742
               ],
               [
                -118.2667369999402,
                33.78266700072235
               ],
               [
                -118.26616800026667,
                33.78269800043432
               ],
               [
                -118.26506300031512,
                33.782758000263634
               ],
               [
                -118.26395699978255,
                33.78281800020367
               ],
               [
                -118.26265599960702,
                33.7828879997147
               ],
               [
                -118.26252500016916,
                33.78121799958566
               ],
               [
                -118.26243099916195,
                33.77997400005942
               ],
               [
                -118.26372800040721,
                33.77990399925229
               ],
               [
                -118.26483400039358,
                33.77984400014745
               ],
               [
                -118.2650330002334,
                33.77983300020631
               ],
               [
                -118.26633399964122,
                33.779762000825926
               ],
               [
                -118.26650799922947,
                33.77975300009029
               ],
               [
                -118.26752599953961,
                33.779697000406244
               ],
               [
                -118.26763600046671,
                33.77969099914337
               ],
               [
                -118.26870899957186,
                33.77963300011257
               ],
               [
                -118.26881799987105,
                33.78104099943141
               ],
               [
                -118.26893600010929,
                33.7825480003555
               ],
               [
                -118.26839700068167,
                33.78257699943921
               ]
              ]
             ],
             "type": "Polygon"
            },
            "id": "27",
            "properties": {},
            "type": "Feature"
           },
           {
            "bbox": [
             -118.26893699968295,
             33.77671999991524,
             -118.26220399961188,
             33.77997400005942
            ],
            "geometry": {
             "coordinates": [
              [
               [
                -118.26870899957186,
                33.77963300011257
               ],
               [
                -118.26763600046671,
                33.77969099914337
               ],
               [
                -118.26752599953961,
                33.779697000406244
               ],
               [
                -118.26650799922947,
                33.77975300009029
               ],
               [
                -118.26633399964122,
                33.779762000825926
               ],
               [
                -118.2650330002334,
                33.77983300020631
               ],
               [
                -118.26483400039358,
                33.77984400014745
               ],
               [
                -118.26372800040721,
                33.77990399925229
               ],
               [
                -118.26243099916195,
                33.77997400005942
               ],
               [
                -118.26231700039698,
                33.77852399918489
               ],
               [
                -118.26220399961188,
                33.7770750012604
               ],
               [
                -118.26350500019319,
                33.77700399958087
               ],
               [
                -118.26480600022482,
                33.77693300014401
               ],
               [
                -118.26610800053925,
                33.776861999303016
               ],
               [
                -118.26740899957042,
                33.77679099983201
               ],
               [
                -118.26870999919119,
                33.77671999991524
               ],
               [
                -118.2688240000576,
                33.77817000021398
               ],
               [
                -118.26893699968295,
                33.77962099995786
               ],
               [
                -118.26870899957186,
                33.77963300011257
               ]
              ]
             ],
             "type": "Polygon"
            },
            "id": "28",
            "properties": {},
            "type": "Feature"
           },
           {
            "bbox": [
             -118.27391600065546,
             33.770634000221115,
             -118.26825600071662,
             33.77671999991524
            ],
            "geometry": {
             "coordinates": [
              [
               [
                -118.26870999919119,
                33.77671999991524
               ],
               [
                -118.26859699993491,
                33.77526999963973
               ],
               [
                -118.2684829999624,
                33.773819001080746
               ],
               [
                -118.26837000026815,
                33.77236900004068
               ],
               [
                -118.26825600071662,
                33.77091900004674
               ],
               [
                -118.26955799992108,
                33.77084700012137
               ],
               [
                -118.27085899981755,
                33.77077600094821
               ],
               [
                -118.27216099992015,
                33.7707050003162
               ],
               [
                -118.2734619999173,
                33.770634000221115
               ],
               [
                -118.27357500054656,
                33.77208499888854
               ],
               [
                -118.27368899964475,
                33.773534999967346
               ],
               [
                -118.27380199978028,
                33.774986000570124
               ],
               [
                -118.27385600020854,
                33.77567399918018
               ],
               [
                -118.2738589991762,
                33.77571099970339
               ],
               [
                -118.27391600065546,
                33.77643600001372
               ],
               [
                -118.27261400012476,
                33.77650700006425
               ],
               [
                -118.27131300093238,
                33.77657799955966
               ],
               [
                -118.27001100048105,
                33.776648999569176
               ],
               [
                -118.26870999919119,
                33.77671999991524
               ]
              ]
             ],
             "type": "Polygon"
            },
            "id": "29",
            "properties": {},
            "type": "Feature"
           },
           {
            "bbox": [
             -118.26870999919119,
             33.767479000111734,
             -118.2608810000003,
             33.7770750012604
            ],
            "geometry": {
             "coordinates": [
              [
               [
                -118.26220399961188,
                33.7770750012604
               ],
               [
                -118.26208999970069,
                33.77562400029467
               ],
               [
                -118.26197600031055,
                33.77417399962826
               ],
               [
                -118.26186300103899,
                33.772725000147425
               ],
               [
                -118.2617489994278,
                33.77127399936336
               ],
               [
                -118.26174100012176,
                33.771175000463785
               ],
               [
                -118.26128700028414,
                33.76984499983452
               ],
               [
                -118.26123200060798,
                33.769684000433216
               ],
               [
                -118.261146999386,
                33.76943499994172
               ],
               [
                -118.26089700020209,
                33.7687049997536
               ],
               [
                -118.2608810000003,
                33.76850399956962
               ],
               [
                -118.2612940002231,
                33.7681749997671
               ],
               [
                -118.26150500064747,
                33.76800200043191
               ],
               [
                -118.26172100020659,
                33.767855999629575
               ],
               [
                -118.26198699979562,
                33.76769699923133
               ],
               [
                -118.26214000033906,
                33.767634999840176
               ],
               [
                -118.26233499992361,
                33.76756499948248
               ],
               [
                -118.2625249998921,
                33.76752100038568
               ],
               [
                -118.26275600032562,
                33.76748799907734
               ],
               [
                -118.26294699933393,
                33.767479000111734
               ],
               [
                -118.26314200015936,
                33.7674879995032
               ],
               [
                -118.26337499964684,
                33.76753099999476
               ],
               [
                -118.26365299997083,
                33.767616000315726
               ],
               [
                -118.26399599978174,
                33.76774499992533
               ],
               [
                -118.26409000022728,
                33.76777500023523
               ],
               [
                -118.26493600034408,
                33.76804699892189
               ],
               [
                -118.26554200072685,
                33.76821300045975
               ],
               [
                -118.26657399973026,
                33.768489000614004
               ],
               [
                -118.26675199993451,
                33.76855300004297
               ],
               [
                -118.26676699878107,
                33.76859000044201
               ],
               [
                -118.26695499978491,
                33.77099000008489
               ],
               [
                -118.26825600071662,
                33.77091900004674
               ],
               [
                -118.26837000026815,
                33.77236900004068
               ],
               [
                -118.2684829999624,
                33.773819001080746
               ],
               [
                -118.26859699993491,
                33.77526999963973
               ],
               [
                -118.26870999919119,
                33.77671999991524
               ],
               [
                -118.26740899957042,
                33.77679099983201
               ],
               [
                -118.26610800053925,
                33.776861999303016
               ],
               [
                -118.26480600022482,
                33.77693300014401
               ],
               [
                -118.26350500019319,
                33.77700399958087
               ],
               [
                -118.26220399961188,
                33.7770750012604
               ]
              ]
             ],
             "type": "Polygon"
            },
            "id": "30",
            "properties": {},
            "type": "Feature"
           },
           {
            "bbox": [
             -118.28247000009704,
             33.76736100047917,
             -118.2734619999173,
             33.77904399995448
            ],
            "geometry": {
             "coordinates": [
              [
               [
                -118.27950000021674,
                33.77904399995448
               ],
               [
                -118.2794650003079,
                33.77859600087604
               ],
               [
                -118.27943300019047,
                33.778178000279844
               ],
               [
                -118.27942399981528,
                33.777992000510466
               ],
               [
                -118.2794270008462,
                33.77783199978771
               ],
               [
                -118.27949600047207,
                33.77730400027267
               ],
               [
                -118.27951199986843,
                33.77718800039957
               ],
               [
                -118.27951599908256,
                33.77711900010062
               ],
               [
                -118.27949599943355,
                33.77643400010069
               ],
               [
                -118.27949200099108,
                33.77635100079724
               ],
               [
                -118.27947699916302,
                33.77621600100503
               ],
               [
                -118.27944799933903,
                33.77608600016971
               ],
               [
                -118.27939400058989,
                33.775971999816385
               ],
               [
                -118.27920599959702,
                33.77557899975232
               ],
               [
                -118.27895699969265,
                33.77505099953212
               ],
               [
                -118.27882700061257,
                33.77472699944956
               ],
               [
                -118.27837300031615,
                33.7747510005043
               ],
               [
                -118.27807099983906,
                33.77475199980411
               ],
               [
                -118.27770599936558,
                33.77477200044948
               ],
               [
                -118.27640499978156,
                33.774844000454586
               ],
               [
                -118.27651799979463,
                33.77629400054063
               ],
               [
                -118.27521699994915,
                33.77636499959854
               ],
               [
                -118.27391600065546,
                33.77643600001372
               ],
               [
                -118.2738589991762,
                33.77571099970339
               ],
               [
                -118.27385600020854,
                33.77567399918018
               ],
               [
                -118.27380199978028,
                33.774986000570124
               ],
               [
                -118.27368899964475,
                33.773534999967346
               ],
               [
                -118.27357500054656,
                33.77208499888854
               ],
               [
                -118.2734619999173,
                33.770634000221115
               ],
               [
                -118.27476300050515,
                33.77056299967901
               ],
               [
                -118.27606399948644,
                33.77049200046018
               ],
               [
                -118.27736600097408,
                33.770420000448595
               ],
               [
                -118.27867099948736,
                33.77034899965369
               ],
               [
                -118.27877399979576,
                33.77025300020636
               ],
               [
                -118.27912199975005,
                33.77012599944876
               ],
               [
                -118.27929900132352,
                33.77005000079367
               ],
               [
                -118.27940599995513,
                33.76999400004147
               ],
               [
                -118.27951100030195,
                33.76993000045654
               ],
               [
                -118.27961000044762,
                33.76986099885765
               ],
               [
                -118.27970300056089,
                33.769784999321494
               ],
               [
                -118.27979000031145,
                33.769704998923665
               ],
               [
                -118.27986999924939,
                33.76961900009713
               ],
               [
                -118.28078899912849,
                33.768516999229725
               ],
               [
                -118.28088000012592,
                33.768388999873814
               ],
               [
                -118.28096000071079,
                33.76825700060857
               ],
               [
                -118.28104500011092,
                33.768085001192674
               ],
               [
                -118.28109899972041,
                33.76794399994868
               ],
               [
                -118.28113200043146,
                33.76783600008472
               ],
               [
                -118.28115899952063,
                33.767727000141974
               ],
               [
                -118.28117199970337,
                33.76765400011838
               ],
               [
                -118.28121000011961,
                33.76736100047917
               ],
               [
                -118.2812200004759,
                33.76740499964797
               ],
               [
                -118.28124400013806,
                33.7674959997121
               ],
               [
                -118.28130799980558,
                33.76763099970147
               ],
               [
                -118.28134700028495,
                33.76771400056106
               ],
               [
                -118.28145099895505,
                33.767877000287065
               ],
               [
                -118.28149399979247,
                33.767963000110626
               ],
               [
                -118.28109300049822,
                33.768796000099485
               ],
               [
                -118.28027700001014,
                33.7704929995451
               ],
               [
                -118.28017100016416,
                33.77073799903459
               ],
               [
                -118.2800740008757,
                33.770987000409136
               ],
               [
                -118.27998900013458,
                33.771239000208396
               ],
               [
                -118.27991300053165,
                33.771492000369655
               ],
               [
                -118.27983499937486,
                33.77180999987774
               ],
               [
                -118.2798160001137,
                33.7718959997531
               ],
               [
                -118.27977199945967,
                33.77213500003233
               ],
               [
                -118.27973399997282,
                33.7723950002781
               ],
               [
                -118.27970700142154,
                33.77265500037416
               ],
               [
                -118.27969099946263,
                33.77291600048235
               ],
               [
                -118.27968600069863,
                33.773177999802975
               ],
               [
                -118.27969899984664,
                33.773569999377386
               ],
               [
                -118.27971999984062,
                33.77383399988156
               ],
               [
                -118.27978799985654,
                33.77467700037527
               ],
               [
                -118.27995900030514,
                33.7746680004286
               ],
               [
                -118.28023399972811,
                33.77465400070269
               ],
               [
                -118.28028199976694,
                33.77508500096774
               ],
               [
                -118.28163100033096,
                33.77501199960512
               ],
               [
                -118.28165599966124,
                33.775446000357576
               ],
               [
                -118.2817049994963,
                33.77631400047849
               ],
               [
                -118.28175299975715,
                33.777180999662285
               ],
               [
                -118.28177399979577,
                33.777540000104835
               ],
               [
                -118.28206100030508,
                33.7780340001372
               ],
               [
                -118.28242700007429,
                33.77866699988945
               ],
               [
                -118.28247000009704,
                33.77874300051026
               ],
               [
                -118.2824650003465,
                33.77888100036444
               ],
               [
                -118.28194800069421,
                33.77890999962348
               ],
               [
                -118.28090499965587,
                33.77896700061133
               ],
               [
                -118.28031100105211,
                33.7790000001263
               ],
               [
                -118.2801399999443,
                33.779008999787095
               ],
               [
                -118.27950000021674,
                33.77904399995448
               ]
              ]
             ],
             "type": "Polygon"
            },
            "id": "31",
            "properties": {},
            "type": "Feature"
           },
           {
            "bbox": [
             -118.27951599908256,
             33.77472699944956,
             -118.27391600065546,
             33.779338000657
            ],
            "geometry": {
             "coordinates": [
              [
               [
                -118.27414199980173,
                33.779338000657
               ],
               [
                -118.27402900035625,
                33.77788699985029
               ],
               [
                -118.27397200113492,
                33.77716199998927
               ],
               [
                -118.27391600065546,
                33.77643600001372
               ],
               [
                -118.27521699994915,
                33.77636499959854
               ],
               [
                -118.27651799979463,
                33.77629400054063
               ],
               [
                -118.27640499978156,
                33.774844000454586
               ],
               [
                -118.27770599936558,
                33.77477200044948
               ],
               [
                -118.27807099983906,
                33.77475199980411
               ],
               [
                -118.27837300031615,
                33.7747510005043
               ],
               [
                -118.27882700061257,
                33.77472699944956
               ],
               [
                -118.27895699969265,
                33.77505099953212
               ],
               [
                -118.27920599959702,
                33.77557899975232
               ],
               [
                -118.27939400058989,
                33.775971999816385
               ],
               [
                -118.27944799933903,
                33.77608600016971
               ],
               [
                -118.27947699916302,
                33.77621600100503
               ],
               [
                -118.27949200099108,
                33.77635100079724
               ],
               [
                -118.27949599943355,
                33.77643400010069
               ],
               [
                -118.27951599908256,
                33.77711900010062
               ],
               [
                -118.27951199986843,
                33.77718800039957
               ],
               [
                -118.27949600047207,
                33.77730400027267
               ],
               [
                -118.2794270008462,
                33.77783199978771
               ],
               [
                -118.27942399981528,
                33.777992000510466
               ],
               [
                -118.27943300019047,
                33.778178000279844
               ],
               [
                -118.2794650003079,
                33.77859600087604
               ],
               [
                -118.27950000021674,
                33.77904399995448
               ],
               [
                -118.27815399976848,
                33.77911799990289
               ],
               [
                -118.27678000036983,
                33.779192999976644
               ],
               [
                -118.27545600071566,
                33.7792659997383
               ],
               [
                -118.27414199980173,
                33.779338000657
               ]
              ]
             ],
             "type": "Polygon"
            },
            "id": "32",
            "properties": {},
            "type": "Feature"
           },
           {
            "bbox": [
             -118.2608810000003,
             33.761088999731534,
             -118.22066900028155,
             33.829531000009766
            ],
            "geometry": {
             "coordinates": [
              [
               [
                -118.22508599929192,
                33.82547599983571
               ],
               [
                -118.22507199963806,
                33.825439000136576
               ],
               [
                -118.2250040004786,
                33.82526000049772
               ],
               [
                -118.22498999958806,
                33.82522199968558
               ],
               [
                -118.22493199928746,
                33.825068000917554
               ],
               [
                -118.22488999982878,
                33.82495299919571
               ],
               [
                -118.22487499928157,
                33.82491300042008
               ],
               [
                -118.2247609998623,
                33.824606999943036
               ],
               [
                -118.22467599945716,
                33.82438100017203
               ],
               [
                -118.22457600053168,
                33.82438100042946
               ],
               [
                -118.2245759997489,
                33.82428800061909
               ],
               [
                -118.22460399894975,
                33.82428800011568
               ],
               [
                -118.22460299964366,
                33.82420199941845
               ],
               [
                -118.22459000027048,
                33.823483000085155
               ],
               [
                -118.22458299974434,
                33.8227179993579
               ],
               [
                -118.22456699917466,
                33.82194000014243
               ],
               [
                -118.22456799961927,
                33.8217310007989
               ],
               [
                -118.22456799972574,
                33.821650000117785
               ],
               [
                -118.22456799968818,
                33.821606999785075
               ],
               [
                -118.22457000006071,
                33.821567999867675
               ],
               [
                -118.22450400005893,
                33.82156800044315
               ],
               [
                -118.22333900028329,
                33.815811000134715
               ],
               [
                -118.22275699986561,
                33.81293500103083
               ],
               [
                -118.22276100002189,
                33.81277800017574
               ],
               [
                -118.22276800029532,
                33.81272799944656
               ],
               [
                -118.2227430010657,
                33.81271299941316
               ],
               [
                -118.2224420001898,
                33.81245199919398
               ],
               [
                -118.22244200049394,
                33.81187900033815
               ],
               [
                -118.22243900006983,
                33.80823600046313
               ],
               [
                -118.22243699941396,
                33.806347998845474
               ],
               [
                -118.22243599943702,
                33.804578000294626
               ],
               [
                -118.22243599925714,
                33.80444800009549
               ],
               [
                -118.22243600048684,
                33.8041519998166
               ],
               [
                -118.22253999999775,
                33.80386700041768
               ],
               [
                -118.22364099983572,
                33.80083499960457
               ],
               [
                -118.22432999941455,
                33.79894600032221
               ],
               [
                -118.225018000319,
                33.797055999951674
               ],
               [
                -118.22543799984965,
                33.79589199974649
               ],
               [
                -118.22585900010952,
                33.79472899892579
               ],
               [
                -118.22679700064434,
                33.79214800103091
               ],
               [
                -118.22687600032091,
                33.79154300002771
               ],
               [
                -118.22696599992307,
                33.79086000065236
               ],
               [
                -118.22723100026953,
                33.7909520001383
               ],
               [
                -118.22729299892765,
                33.79078999915471
               ],
               [
                -118.22734099986293,
                33.79080599918902
               ],
               [
                -118.22751200040345,
                33.79036800083645
               ],
               [
                -118.22768100024173,
                33.78994400080908
               ],
               [
                -118.22737899983359,
                33.7897020004122
               ],
               [
                -118.22630000011783,
                33.7885499997222
               ],
               [
                -118.22628999989378,
                33.78853899981471
               ],
               [
                -118.22599199957098,
                33.78822099995023
               ],
               [
                -118.22586799959915,
                33.78813199962849
               ],
               [
                -118.2257099998064,
                33.78802399926127
               ],
               [
                -118.22557499954259,
                33.787908000296454
               ],
               [
                -118.22550900019378,
                33.78783300027188
               ],
               [
                -118.22547100006112,
                33.787782000327084
               ],
               [
                -118.22545000014422,
                33.787730999228835
               ],
               [
                -118.22544099929016,
                33.78769300004304
               ],
               [
                -118.22542000040607,
                33.787564000230134
               ],
               [
                -118.22540500053415,
                33.78747199933833
               ],
               [
                -118.22536799912983,
                33.78717799963491
               ],
               [
                -118.22517500031394,
                33.787348999975194
               ],
               [
                -118.22395999981927,
                33.786051999709755
               ],
               [
                -118.22343799979348,
                33.78549500021896
               ],
               [
                -118.22239600063797,
                33.784381000498094
               ],
               [
                -118.22157999999943,
                33.783510000698215
               ],
               [
                -118.2215110005525,
                33.78343699997533
               ],
               [
                -118.22111599958878,
                33.7830139998488
               ],
               [
                -118.22111299956573,
                33.78299500002987
               ],
               [
                -118.22109100018947,
                33.782987999053034
               ],
               [
                -118.22074900031745,
                33.78262299956747
               ],
               [
                -118.22066900028155,
                33.78253699964536
               ],
               [
                -118.22088100017989,
                33.7823769997311
               ],
               [
                -118.22172799958292,
                33.78173999988343
               ],
               [
                -118.22199900036888,
                33.78153600074527
               ],
               [
                -118.22668300052341,
                33.778011000454846
               ],
               [
                -118.22684299990176,
                33.77789100063667
               ],
               [
                -118.23086799975277,
                33.77484800061083
               ],
               [
                -118.23130400096541,
                33.77452199937088
               ],
               [
                -118.2315679998783,
                33.77432500057353
               ],
               [
                -118.23594299984745,
                33.77105599992475
               ],
               [
                -118.23998799939646,
                33.768007000464536
               ],
               [
                -118.24007700082468,
                33.76794000073471
               ],
               [
                -118.24015000000044,
                33.7678840006255
               ],
               [
                -118.2402239990986,
                33.76782899997719
               ],
               [
                -118.24035200080176,
                33.76773199990947
               ],
               [
                -118.24038700068859,
                33.76770599997882
               ],
               [
                -118.24055999945375,
                33.767571000424354
               ],
               [
                -118.24091799977982,
                33.767305999262724
               ],
               [
                -118.24143900007469,
                33.76691300046307
               ],
               [
                -118.24150000023656,
                33.76692099992186
               ],
               [
                -118.241553000141,
                33.766899999290835
               ],
               [
                -118.24182300032406,
                33.766658000339
               ],
               [
                -118.24190800095188,
                33.766623999924384
               ],
               [
                -118.24203300007109,
                33.7665909998423
               ],
               [
                -118.24209899988202,
                33.76655800003115
               ],
               [
                -118.24276299920726,
                33.766426000310595
               ],
               [
                -118.24277699981661,
                33.76639800039772
               ],
               [
                -118.24293499957554,
                33.766381000130686
               ],
               [
                -118.24412799934191,
                33.766080999821696
               ],
               [
                -118.24444199989662,
                33.76600199975454
               ],
               [
                -118.24492899963128,
                33.765875999783056
               ],
               [
                -118.24509300024174,
                33.7657869992767
               ],
               [
                -118.24536900054412,
                33.76577799992685
               ],
               [
                -118.24540899983681,
                33.765777000483325
               ],
               [
                -118.2455140006814,
                33.765760000437055
               ],
               [
                -118.24577100002516,
                33.7656889991694
               ],
               [
                -118.24590900080449,
                33.76564999962826
               ],
               [
                -118.24617899969581,
                33.7655460003128
               ],
               [
                -118.24617399983502,
                33.76538800017985
               ],
               [
                -118.24617199979724,
                33.76534099962349
               ],
               [
                -118.24632399932925,
                33.76533000073245
               ],
               [
                -118.24638299985725,
                33.76531999940058
               ],
               [
                -118.24640900035561,
                33.765291000276996
               ],
               [
                -118.24645500017583,
                33.76530700073513
               ],
               [
                -118.24648799971177,
                33.765318999523316
               ],
               [
                -118.24652800065175,
                33.765407000033804
               ],
               [
                -118.24659900021797,
                33.76542399922193
               ],
               [
                -118.24663999962765,
                33.765389999780474
               ],
               [
                -118.2466399995797,
                33.765324999729636
               ],
               [
                -118.24663999983468,
                33.7652909998025
               ],
               [
                -118.24668600087158,
                33.76529300047874
               ],
               [
                -118.24675000052387,
                33.76529000030568
               ],
               [
                -118.24700800028182,
                33.76527999998171
               ],
               [
                -118.24827199974872,
                33.76484999966128
               ],
               [
                -118.24836400002638,
                33.76479499920174
               ],
               [
                -118.24876099936138,
                33.76465699917626
               ],
               [
                -118.2491050010211,
                33.764537999703116
               ],
               [
                -118.2491860003515,
                33.76450999934659
               ],
               [
                -118.24955499939269,
                33.764498999511744
               ],
               [
                -118.24996299997738,
                33.764313000313514
               ],
               [
                -118.2501079987209,
                33.764318000413965
               ],
               [
                -118.25024599914596,
                33.76467499925423
               ],
               [
                -118.25044400013353,
                33.76511900109402
               ],
               [
                -118.25048300053726,
                33.76515700088903
               ],
               [
                -118.25048400036395,
                33.76525599999504
               ],
               [
                -118.25050300054886,
                33.765267999991515
               ],
               [
                -118.25053599980866,
                33.765350999911036
               ],
               [
                -118.24972099953044,
                33.76565200023183
               ],
               [
                -118.24971400063865,
                33.76578999963417
               ],
               [
                -118.24972700002833,
                33.76591099958495
               ],
               [
                -118.25001800005101,
                33.76642500053708
               ],
               [
                -118.25018899925408,
                33.766728999926386
               ],
               [
                -118.25039899946233,
                33.7669230001076
               ],
               [
                -118.2504920002997,
                33.76695000019785
               ],
               [
                -118.25062299994237,
                33.766916999363765
               ],
               [
                -118.25075999954126,
                33.76691100069982
               ],
               [
                -118.25090400033302,
                33.76690499977169
               ],
               [
                -118.25090400047681,
                33.76709500002167
               ],
               [
                -118.25090499967305,
                33.76802099962297
               ],
               [
                -118.25080799981055,
                33.76798399998126
               ],
               [
                -118.25071600008647,
                33.76765299982385
               ],
               [
                -118.25066300021959,
                33.76762800027385
               ],
               [
                -118.25034099979621,
                33.76747900048337
               ],
               [
                -118.2498900012411,
                33.76708800071163
               ],
               [
                -118.24911099982619,
                33.76641300001511
               ],
               [
                -118.24791700090802,
                33.76537899954996
               ],
               [
                -118.24779900083786,
                33.76533500038169
               ],
               [
                -118.24775600069054,
                33.76536300038575
               ],
               [
                -118.2475880011935,
                33.76547699937438
               ],
               [
                -118.24756199980894,
                33.76572999933378
               ],
               [
                -118.24786499949313,
                33.766076999743056
               ],
               [
                -118.24782599912854,
                33.766155999580235
               ],
               [
                -118.24779900001134,
                33.766210000281994
               ],
               [
                -118.24754199969681,
                33.7663799996183
               ],
               [
                -118.24895899992833,
                33.768176000317474
               ],
               [
                -118.24926699949279,
                33.76854899959017
               ],
               [
                -118.24934100034804,
                33.76863899979131
               ],
               [
                -118.24947199971723,
                33.768555999502986
               ],
               [
                -118.24965600078006,
                33.76825900034981
               ],
               [
                -118.24975499992631,
                33.76816999978542
               ],
               [
                -118.24993299940711,
                33.768236000140284
               ],
               [
                -118.25003799953657,
                33.76855000069842
               ],
               [
                -118.25006500073786,
                33.76880300057168
               ],
               [
                -118.24971599935411,
                33.76914899974966
               ],
               [
                -118.24973499962847,
                33.769257999720864
               ],
               [
                -118.24975799998278,
                33.76938700016734
               ],
               [
                -118.24977600009755,
                33.76949099974937
               ],
               [
                -118.24954999993253,
                33.769694999398226
               ],
               [
                -118.24956099907284,
                33.76971099962026
               ],
               [
                -118.24945700087729,
                33.76985700085688
               ],
               [
                -118.24936200048344,
                33.769991000050204
               ],
               [
                -118.24926300008688,
                33.770221999470024
               ],
               [
                -118.24910099966037,
                33.77040300084689
               ],
               [
                -118.24908500063458,
                33.77041999958012
               ],
               [
                -118.24911899965254,
                33.770460000422126
               ],
               [
                -118.24919100014151,
                33.77054499914074
               ],
               [
                -118.24938799982257,
                33.77072099929355
               ],
               [
                -118.2493949992204,
                33.7708430000333
               ],
               [
                -118.2493430002668,
                33.77109599988388
               ],
               [
                -118.24896099995259,
                33.771860000098734
               ],
               [
                -118.2488099994733,
                33.771908999674395
               ],
               [
                -118.24848799919288,
                33.771870999332926
               ],
               [
                -118.24831000049173,
                33.77190500014224
               ],
               [
                -118.24819800001858,
                33.771991999993915
               ],
               [
                -118.24799400006687,
                33.77207499968852
               ],
               [
                -118.24762999992672,
                33.7725989998145
               ],
               [
                -118.24760100024673,
                33.77263900028238
               ],
               [
                -118.24751800063854,
                33.772759000271314
               ],
               [
                -118.24746900035036,
                33.77282799962841
               ],
               [
                -118.24745499970102,
                33.772849000110675
               ],
               [
                -118.24741500015018,
                33.772880000836324
               ],
               [
                -118.24727299986472,
                33.77298699995442
               ],
               [
                -118.24719200031033,
                33.77304800000493
               ],
               [
                -118.24710500016437,
                33.77309600084061
               ],
               [
                -118.24671499935286,
                33.773312999657335
               ],
               [
                -118.2463489996096,
                33.77351599960483
               ],
               [
                -118.2457049999294,
                33.77383800080628
               ],
               [
                -118.2456580013383,
                33.773862000225925
               ],
               [
                -118.24497400020365,
                33.774308000307634
               ],
               [
                -118.24307200027074,
                33.77544099957403
               ],
               [
                -118.2426840004513,
                33.77572700015879
               ],
               [
                -118.2424670001387,
                33.77584399994319
               ],
               [
                -118.2421709997439,
                33.77605200002248
               ],
               [
                -118.24193399947914,
                33.77628200025048
               ],
               [
                -118.24173000046719,
                33.77634299984519
               ],
               [
                -118.2415459995913,
                33.776521000665625
               ],
               [
                -118.24147299997735,
                33.77670200040667
               ],
               [
                -118.2414029998177,
                33.77673400050824
               ],
               [
                -118.24135299974617,
                33.776757000071505
               ],
               [
                -118.24130599988361,
                33.776778000569074
               ],
               [
                -118.2414179999198,
                33.77698100156028
               ],
               [
                -118.24157000035724,
                33.777190000389375
               ],
               [
                -118.2416049991084,
                33.77735399951005
               ],
               [
                -118.24177300017347,
                33.777404999559145
               ],
               [
                -118.24182900021015,
                33.77742199981455
               ],
               [
                -118.24194700062277,
                33.77740799950425
               ],
               [
                -118.24216500036168,
                33.77738200059639
               ],
               [
                -118.24262100035452,
                33.77735399917703
               ],
               [
                -118.2427710003271,
                33.777344999567696
               ],
               [
                -118.2433229989617,
                33.77706899969806
               ],
               [
                -118.24346799970206,
                33.77696299929552
               ],
               [
                -118.24347099994164,
                33.77692600048319
               ],
               [
                -118.24347499964365,
                33.77686000072946
               ],
               [
                -118.24364599958099,
                33.776715999903715
               ],
               [
                -118.24353399934535,
                33.776610999646145
               ],
               [
                -118.24579099976779,
                33.77543399997767
               ],
               [
                -118.24673899924665,
                33.7749509999334
               ],
               [
                -118.24685099975585,
                33.77504899923695
               ],
               [
                -118.24688000029627,
                33.7750909995014
               ],
               [
                -118.24689700022888,
                33.775115999917844
               ],
               [
                -118.246962999542,
                33.77511500021721
               ],
               [
                -118.24704100078944,
                33.775064999890645
               ],
               [
                -118.24714700038285,
                33.77497199934812
               ],
               [
                -118.24729600038769,
                33.77493399978802
               ],
               [
                -118.24747699974701,
                33.774844000030406
               ],
               [
                -118.24764099983409,
                33.77476099968069
               ],
               [
                -118.24777199994641,
                33.77469699974819
               ],
               [
                -118.24820600088695,
                33.77443300068828
               ],
               [
                -118.24869300029196,
                33.774070000092266
               ],
               [
                -118.24891000024866,
                33.773795000425245
               ],
               [
                -118.24907499950079,
                33.77368900005305
               ],
               [
                -118.249469000192,
                33.77326600017769
               ],
               [
                -118.24946900015557,
                33.77297499995291
               ],
               [
                -118.2496270002224,
                33.77269400065516
               ],
               [
                -118.24979100038418,
                33.77262300072688
               ],
               [
                -118.24987000007302,
                33.77247100047808
               ],
               [
                -118.24983100068317,
                33.77239899943316
               ],
               [
                -118.24973200056645,
                33.77212299947236
               ],
               [
                -118.24971199992873,
                33.772045998964046
               ],
               [
                -118.25009300068737,
                33.77140199952771
               ],
               [
                -118.25046099906595,
                33.77071099999027
               ],
               [
                -118.25090400078905,
                33.77016300018217
               ],
               [
                -118.2512689998025,
                33.769767000118556
               ],
               [
                -118.25143399878942,
                33.769579999849526
               ],
               [
                -118.25176200106942,
                33.76922299964308
               ],
               [
                -118.25226400011373,
                33.768702000017434
               ],
               [
                -118.25255199974193,
                33.76839199984835
               ],
               [
                -118.25282299984379,
                33.7680850002429
               ],
               [
                -118.25288899964828,
                33.768001000453665
               ],
               [
                -118.25355400059716,
                33.76734899918716
               ],
               [
                -118.25382599971229,
                33.7670219995211
               ],
               [
                -118.25412899969254,
                33.76666899928918
               ],
               [
                -118.25530700017808,
                33.76552100011017
               ],
               [
                -118.25533799984656,
                33.76549100078022
               ],
               [
                -118.25555999982446,
                33.76564899987547
               ],
               [
                -118.25561800029668,
                33.765583000419305
               ],
               [
                -118.25562599939985,
                33.765573999537125
               ],
               [
                -118.25578600053996,
                33.7656529995443
               ],
               [
                -118.25586900038103,
                33.765595999485186
               ],
               [
                -118.25589700088285,
                33.765607000498235
               ],
               [
                -118.25591500048843,
                33.76561599971867
               ],
               [
                -118.25607800039995,
                33.76569799920719
               ],
               [
                -118.2562010004168,
                33.76560900016452
               ],
               [
                -118.25585100041381,
                33.76535999927919
               ],
               [
                -118.25582299951749,
                33.76534000063976
               ],
               [
                -118.25593799912106,
                33.76521500027014
               ],
               [
                -118.25574899994857,
                33.765090000158565
               ],
               [
                -118.25585500100517,
                33.76500100074256
               ],
               [
                -118.25601200041994,
                33.76513300018449
               ],
               [
                -118.2568170000556,
                33.76428299932949
               ],
               [
                -118.25673499991541,
                33.76422100094932
               ],
               [
                -118.25657900093107,
                33.76431100069322
               ],
               [
                -118.25647199970359,
                33.76422200027835
               ],
               [
                -118.25686600002041,
                33.76382100001351
               ],
               [
                -118.25697299956066,
                33.76393199896008
               ],
               [
                -118.25681699976855,
                33.764061999465895
               ],
               [
                -118.25692400102744,
                33.764172000017574
               ],
               [
                -118.25728899945256,
                33.76376199973284
               ],
               [
                -118.25732000056465,
                33.76372499999237
               ],
               [
                -118.25736900045439,
                33.763672000545824
               ],
               [
                -118.25750799926396,
                33.76351599984525
               ],
               [
                -118.25777100036379,
                33.76320700007922
               ],
               [
                -118.25782400077355,
                33.7631330000494
               ],
               [
                -118.25784000051128,
                33.76311399952717
               ],
               [
                -118.25781100002168,
                33.763102999830416
               ],
               [
                -118.25774600056585,
                33.76307000036317
               ],
               [
                -118.25757300055145,
                33.76316000020813
               ],
               [
                -118.25752800026413,
                33.763175999212486
               ],
               [
                -118.25751599984842,
                33.763130999943584
               ],
               [
                -118.25782799971572,
                33.762800999817586
               ],
               [
                -118.2579179997451,
                33.76289700036173
               ],
               [
                -118.25790200060216,
                33.76300800018911
               ],
               [
                -118.25798399911643,
                33.76304099993614
               ],
               [
                -118.25849000043986,
                33.76247700071662
               ],
               [
                -118.2586260009434,
                33.7623259996554
               ],
               [
                -118.25865799995859,
                33.76228999972787
               ],
               [
                -118.25863299980857,
                33.76226800038753
               ],
               [
                -118.2584820004674,
                33.76213700084986
               ],
               [
                -118.25844800067706,
                33.76210700030176
               ],
               [
                -118.2585020005626,
                33.762054000384566
               ],
               [
                -118.25885499980065,
                33.76166399978944
               ],
               [
                -118.25896199963213,
                33.76154499999358
               ],
               [
                -118.25938100098357,
                33.76109000013557
               ],
               [
                -118.2594550002988,
                33.761088999731534
               ],
               [
                -118.25956200098607,
                33.76122199916266
               ],
               [
                -118.2596450003688,
                33.762415000011615
               ],
               [
                -118.25967300018284,
                33.76277600022933
               ],
               [
                -118.25968400051931,
                33.76291300032567
               ],
               [
                -118.25972800014324,
                33.76347500014911
               ],
               [
                -118.25973300042631,
                33.76370800020095
               ],
               [
                -118.25986100012942,
                33.76503599953071
               ],
               [
                -118.2599730000839,
                33.76625999935411
               ],
               [
                -118.26050400007601,
                33.766291000350904
               ],
               [
                -118.26058599961311,
                33.766182000140695
               ],
               [
                -118.26070000034616,
                33.76617799993046
               ],
               [
                -118.26074600015009,
                33.76677300022592
               ],
               [
                -118.2608810000003,
                33.76850399956962
               ],
               [
                -118.26028799943512,
                33.76897800042752
               ],
               [
                -118.2598639994696,
                33.76930199970396
               ],
               [
                -118.2597040004357,
                33.769425000035405
               ],
               [
                -118.259041998839,
                33.769947000120325
               ],
               [
                -118.25902000018151,
                33.769953000352714
               ],
               [
                -118.25901300005354,
                33.76996900032144
               ],
               [
                -118.25869300072709,
                33.77021699957855
               ],
               [
                -118.25836900025125,
                33.770428999502286
               ],
               [
                -118.25816899924378,
                33.77053199948813
               ],
               [
                -118.25780500059804,
                33.7707219992112
               ],
               [
                -118.25780300022184,
                33.77077000019212
               ],
               [
                -118.25780399965572,
                33.77078900003098
               ],
               [
                -118.25758500006047,
                33.770911000190424
               ],
               [
                -118.25629599928527,
                33.77157100003852
               ],
               [
                -118.25571300032388,
                33.77160300042674
               ],
               [
                -118.25524899996236,
                33.77171299930387
               ],
               [
                -118.25513099999685,
                33.771765999704606
               ],
               [
                -118.25463499973372,
                33.772059000140494
               ],
               [
                -118.25380099971939,
                33.772613999234046
               ],
               [
                -118.2535239998391,
                33.772831999958115
               ],
               [
                -118.25338199876622,
                33.77291700070143
               ],
               [
                -118.25275999907656,
                33.77330399996934
               ],
               [
                -118.25194999975925,
                33.77386499973376
               ],
               [
                -118.25152000005446,
                33.774173999167374
               ],
               [
                -118.25120299961823,
                33.77440899924632
               ],
               [
                -118.25072200062917,
                33.774782000457684
               ],
               [
                -118.25028900066062,
                33.77513200038848
               ],
               [
                -118.24977999942233,
                33.775562000491654
               ],
               [
                -118.24945400026715,
                33.775850999532395
               ],
               [
                -118.24893099981978,
                33.77633300049505
               ],
               [
                -118.24845999951614,
                33.77679300027424
               ],
               [
                -118.24805400005653,
                33.777207999426885
               ],
               [
                -118.24785800004942,
                33.77742500037533
               ],
               [
                -118.24745699965524,
                33.777867000096975
               ],
               [
                -118.24723999961233,
                33.7781139996424
               ],
               [
                -118.24695099925397,
                33.77845299988471
               ],
               [
                -118.24666000009725,
                33.77881000034657
               ],
               [
                -118.24639700004234,
                33.7791449993904
               ],
               [
                -118.24621100027746,
                33.77939000092634
               ],
               [
                -118.24587100060003,
                33.77985199989812
               ],
               [
                -118.24561900031297,
                33.78021200009599
               ],
               [
                -118.24537499923174,
                33.7805749995006
               ],
               [
                -118.24516000077035,
                33.780904000104314
               ],
               [
                -118.24514300025338,
                33.780954999989824
               ],
               [
                -118.24508299972388,
                33.781075999561146
               ],
               [
                -118.24473499999002,
                33.781676000012986
               ],
               [
                -118.24461499917025,
                33.78188299991351
               ],
               [
                -118.24445500018038,
                33.78217300049313
               ],
               [
                -118.2442050007478,
                33.78264099977077
               ],
               [
                -118.24402899922427,
                33.782988999001056
               ],
               [
                -118.24378400005126,
                33.78350299951607
               ],
               [
                -118.24364900040864,
                33.783799000671195
               ],
               [
                -118.24348000039696,
                33.784190000833505
               ],
               [
                -118.2432639997751,
                33.784726999744535
               ],
               [
                -118.24316299892544,
                33.78499099990669
               ],
               [
                -118.24313999976785,
                33.78505100034037
               ],
               [
                -118.24291400005913,
                33.785661999831866
               ],
               [
                -118.24260499982262,
                33.78649999983673
               ],
               [
                -118.2425979991056,
                33.78651799897389
               ],
               [
                -118.24193399924907,
                33.788314000525226
               ],
               [
                -118.24180200029184,
                33.78866999944486
               ],
               [
                -118.24147899980194,
                33.78954400001157
               ],
               [
                -118.24115499987312,
                33.79041799962537
               ],
               [
                -118.24083199967076,
                33.79129100109962
               ],
               [
                -118.24033499992059,
                33.79263499968691
               ],
               [
                -118.24005499965547,
                33.79339300061169
               ],
               [
                -118.23945200061114,
                33.79502299971759
               ],
               [
                -118.23764200002259,
                33.799917000015625
               ],
               [
                -118.23757399898301,
                33.80022799961593
               ],
               [
                -118.2375099997405,
                33.800479999956586
               ],
               [
                -118.2374820008143,
                33.800481000105734
               ],
               [
                -118.2374459995105,
                33.800441999761546
               ],
               [
                -118.23540600001698,
                33.79825899986231
               ],
               [
                -118.23481199977415,
                33.79762500056487
               ],
               [
                -118.23367799993622,
                33.79641599988806
               ],
               [
                -118.2336590007934,
                33.796387998865185
               ],
               [
                -118.2336159996512,
                33.79638499915478
               ],
               [
                -118.23360799916925,
                33.796338000386605
               ],
               [
                -118.23354800077675,
                33.79627700032229
               ],
               [
                -118.23347700036544,
                33.796202000205675
               ],
               [
                -118.23322799984567,
                33.79593599901537
               ],
               [
                -118.23049299996113,
                33.793018999829236
               ],
               [
                -118.23026099965261,
                33.7927720000867
               ],
               [
                -118.23011700058149,
                33.79261800076791
               ],
               [
                -118.23004000004288,
                33.79254700004378
               ],
               [
                -118.22991300020998,
                33.79277199988188
               ],
               [
                -118.22976100051532,
                33.79299400039917
               ],
               [
                -118.22962100075219,
                33.79326699911243
               ],
               [
                -118.22950400017007,
                33.79353500088075
               ],
               [
                -118.22945200042112,
                33.79367199910274
               ],
               [
                -118.22885600064943,
                33.79526400021025
               ],
               [
                -118.22833700108501,
                33.796663000223596
               ],
               [
                -118.22819499997587,
                33.79738900016582
               ],
               [
                -118.22718100046251,
                33.80010000021335
               ],
               [
                -118.2245679998344,
                33.804336000670034
               ],
               [
                -118.22443200049888,
                33.80458600025706
               ],
               [
                -118.2243130002158,
                33.80484199974992
               ],
               [
                -118.22429999993561,
                33.8048729999448
               ],
               [
                -118.22428599912621,
                33.804888999599214
               ],
               [
                -118.22425500040978,
                33.80496799995901
               ],
               [
                -118.22421299986055,
                33.80507200081488
               ],
               [
                -118.22418600086945,
                33.80514099953492
               ],
               [
                -118.22409899923211,
                33.805405999544874
               ],
               [
                -118.22402899981724,
                33.80567500014115
               ],
               [
                -118.22397600016717,
                33.80594600002096
               ],
               [
                -118.22394000043221,
                33.80621900010785
               ],
               [
                -118.22393900009244,
                33.806230999404725
               ],
               [
                -118.22392599991127,
                33.80642299997865
               ],
               [
                -118.22391400102781,
                33.806469999898496
               ],
               [
                -118.22391200107347,
                33.806505999912325
               ],
               [
                -118.22390900108843,
                33.80660399985663
               ],
               [
                -118.22390799981821,
                33.80668299943761
               ],
               [
                -118.22391000061872,
                33.806708000392234
               ],
               [
                -118.22391200054346,
                33.80679999982359
               ],
               [
                -118.22391599897854,
                33.80688099953355
               ],
               [
                -118.22392100041645,
                33.806973999202235
               ],
               [
                -118.22392799963407,
                33.80705299946388
               ],
               [
                -118.2239519995977,
                33.80724100077595
               ],
               [
                -118.22395799998988,
                33.80728499939868
               ],
               [
                -118.22396800038469,
                33.807359000528244
               ],
               [
                -118.22400299976945,
                33.80754499940202
               ],
               [
                -118.22405399986104,
                33.80775499881735
               ],
               [
                -118.22408900029951,
                33.80788699987571
               ],
               [
                -118.22412699973009,
                33.808008999005516
               ],
               [
                -118.2241879992281,
                33.80818500025894
               ],
               [
                -118.22427799978975,
                33.808420000081085
               ],
               [
                -118.22534100026836,
                33.81090100001183
               ],
               [
                -118.2253869999774,
                33.811008000540696
               ],
               [
                -118.22543600009406,
                33.811250000188416
               ],
               [
                -118.22546900045441,
                33.81141300001706
               ],
               [
                -118.22568400007107,
                33.81247199923325
               ],
               [
                -118.22637100032871,
                33.815860999937975
               ],
               [
                -118.22752599948377,
                33.82156399999464
               ],
               [
                -118.22794299932029,
                33.823595000485234
               ],
               [
                -118.2280660008552,
                33.8241949996254
               ],
               [
                -118.22850299941247,
                33.82437500057952
               ],
               [
                -118.22843899903913,
                33.824547999407336
               ],
               [
                -118.228116999892,
                33.82541699994488
               ],
               [
                -118.22804099970267,
                33.825622999805496
               ],
               [
                -118.22810899939707,
                33.82562700014783
               ],
               [
                -118.22807700049391,
                33.82571000012601
               ],
               [
                -118.22777199953667,
                33.82651100078615
               ],
               [
                -118.22776499971555,
                33.8265300002676
               ],
               [
                -118.22774299909835,
                33.82658800038588
               ],
               [
                -118.22715199965417,
                33.8281400003596
               ],
               [
                -118.22711200069975,
                33.82824300005141
               ],
               [
                -118.22702700052054,
                33.828466999119
               ],
               [
                -118.22662200088305,
                33.829531000009766
               ],
               [
                -118.22661100050279,
                33.82948500004729
               ],
               [
                -118.22603600004626,
                33.82801700038379
               ],
               [
                -118.22514200068876,
                33.825625999883904
               ],
               [
                -118.22508599929192,
                33.82547599983571
               ]
              ]
             ],
             "type": "Polygon"
            },
            "id": "33",
            "properties": {},
            "type": "Feature"
           },
           {
            "bbox": [
             -118.31065200033196,
             33.76622499943257,
             -118.27968600069863,
             33.790991999780296
            ],
            "geometry": {
             "coordinates": [
              [
               [
                -118.28448100055849,
                33.79084800027404
               ],
               [
                -118.28437499984302,
                33.79076999946943
               ],
               [
                -118.2837569996918,
                33.789627000130345
               ],
               [
                -118.28253399972178,
                33.78961500066404
               ],
               [
                -118.28239099960496,
                33.78961000097695
               ],
               [
                -118.28231199982253,
                33.78950199932713
               ],
               [
                -118.28222600013625,
                33.78937400035839
               ],
               [
                -118.28215700054494,
                33.789240000373255
               ],
               [
                -118.28210500095852,
                33.789100000301666
               ],
               [
                -118.28207599978627,
                33.78897999972046
               ],
               [
                -118.2816289999312,
                33.78603399989614
               ],
               [
                -118.28163500032531,
                33.78600799972304
               ],
               [
                -118.28143000055836,
                33.784652000145634
               ],
               [
                -118.28139399978969,
                33.7844089997698
               ],
               [
                -118.28120699957873,
                33.783177000752744
               ],
               [
                -118.28106000009983,
                33.78220100008588
               ],
               [
                -118.28104100006844,
                33.7820549999299
               ],
               [
                -118.28102299938726,
                33.78179899981951
               ],
               [
                -118.28101499989994,
                33.78066499960743
               ],
               [
                -118.28100499974133,
                33.780548999377835
               ],
               [
                -118.28188399936487,
                33.78044700029514
               ],
               [
                -118.28245600025842,
                33.779362999585864
               ],
               [
                -118.2824650003465,
                33.77888100036444
               ],
               [
                -118.28247000009704,
                33.77874300051026
               ],
               [
                -118.28242700007429,
                33.77866699988945
               ],
               [
                -118.28206100030508,
                33.7780340001372
               ],
               [
                -118.28177399979577,
                33.777540000104835
               ],
               [
                -118.28175299975715,
                33.777180999662285
               ],
               [
                -118.2817049994963,
                33.77631400047849
               ],
               [
                -118.28165599966124,
                33.775446000357576
               ],
               [
                -118.28163100033096,
                33.77501199960512
               ],
               [
                -118.28028199976694,
                33.77508500096774
               ],
               [
                -118.28023399972811,
                33.77465400070269
               ],
               [
                -118.27995900030514,
                33.7746680004286
               ],
               [
                -118.27978799985654,
                33.77467700037527
               ],
               [
                -118.27971999984062,
                33.77383399988156
               ],
               [
                -118.27969899984664,
                33.773569999377386
               ],
               [
                -118.27968600069863,
                33.773177999802975
               ],
               [
                -118.27969099946263,
                33.77291600048235
               ],
               [
                -118.27970700142154,
                33.77265500037416
               ],
               [
                -118.27973399997282,
                33.7723950002781
               ],
               [
                -118.27977199945967,
                33.77213500003233
               ],
               [
                -118.2798160001137,
                33.7718959997531
               ],
               [
                -118.27983499937486,
                33.77180999987774
               ],
               [
                -118.27991300053165,
                33.771492000369655
               ],
               [
                -118.27998900013458,
                33.771239000208396
               ],
               [
                -118.2800740008757,
                33.770987000409136
               ],
               [
                -118.28017100016416,
                33.77073799903459
               ],
               [
                -118.28027700001014,
                33.7704929995451
               ],
               [
                -118.28109300049822,
                33.768796000099485
               ],
               [
                -118.28149399979247,
                33.767963000110626
               ],
               [
                -118.28208099992581,
                33.76674400006951
               ],
               [
                -118.28226599947577,
                33.76674299957452
               ],
               [
                -118.28245599994996,
                33.766741999625765
               ],
               [
                -118.29387400038286,
                33.766759000491426
               ],
               [
                -118.2938490001055,
                33.766539000508
               ],
               [
                -118.2938270001483,
                33.76639599987947
               ],
               [
                -118.29381199930303,
                33.76630099990507
               ],
               [
                -118.29727900094997,
                33.76631399927877
               ],
               [
                -118.29956799926045,
                33.76632300004498
               ],
               [
                -118.3005130007225,
                33.76629100044454
               ],
               [
                -118.30131200043408,
                33.76626599940292
               ],
               [
                -118.30211099948666,
                33.76624099994722
               ],
               [
                -118.30381000011027,
                33.76626500017161
               ],
               [
                -118.30390400089573,
                33.76622499943257
               ],
               [
                -118.30476199946841,
                33.76623299948935
               ],
               [
                -118.30512100010237,
                33.76623599920515
               ],
               [
                -118.30722500033382,
                33.76622900033239
               ],
               [
                -118.31065200033196,
                33.76623000082311
               ],
               [
                -118.31047700081109,
                33.76685299971457
               ],
               [
                -118.31022800091822,
                33.76774700034852
               ],
               [
                -118.30998700049489,
                33.768611000282775
               ],
               [
                -118.30951699998877,
                33.770205999810244
               ],
               [
                -118.3095019998863,
                33.77023699956318
               ],
               [
                -118.30949899928164,
                33.7702690006422
               ],
               [
                -118.30893800097927,
                33.772169999765964
               ],
               [
                -118.30892699913616,
                33.7722120009265
               ],
               [
                -118.30891500011585,
                33.772255000065314
               ],
               [
                -118.30890199952664,
                33.772307999967786
               ],
               [
                -118.30888899999918,
                33.77236099988163
               ],
               [
                -118.30887700066363,
                33.772403000592185
               ],
               [
                -118.30886799932365,
                33.77244600020264
               ],
               [
                -118.30885399951799,
                33.77251000020268
               ],
               [
                -118.30884899998028,
                33.7725310005783
               ],
               [
                -118.3088410003885,
                33.77257399977898
               ],
               [
                -118.30883300051656,
                33.77261600056039
               ],
               [
                -118.30882099950863,
                33.772691999559584
               ],
               [
                -118.30881299961416,
                33.77273400033384
               ],
               [
                -118.30880699944014,
                33.77277799977682
               ],
               [
                -118.30880000023146,
                33.772820000128945
               ],
               [
                -118.30879300016865,
                33.77286300068194
               ],
               [
                -118.30878799959758,
                33.7729069996844
               ],
               [
                -118.30878400028121,
                33.77294900054998
               ],
               [
                -118.30877700090416,
                33.773004000088065
               ],
               [
                -118.30877199899575,
                33.77307900033922
               ],
               [
                -118.30876899955939,
                33.773121999178926
               ],
               [
                -118.3087640004711,
                33.77317699875743
               ],
               [
                -118.30875999920829,
                33.77325200037954
               ],
               [
                -118.30875699979559,
                33.773317999656676
               ],
               [
                -118.30875499971803,
                33.77338300098214
               ],
               [
                -118.30875400013048,
                33.77341500018918
               ],
               [
                -118.30875399905513,
                33.77344700074965
               ],
               [
                -118.30875499984379,
                33.773501999546774
               ],
               [
                -118.30875499965215,
                33.773556000341515
               ],
               [
                -118.30875399961127,
                33.77357699987464
               ],
               [
                -118.30875400006623,
                33.77362000011217
               ],
               [
                -118.30875700022996,
                33.77366200065065
               ],
               [
                -118.30876199991116,
                33.77374599943288
               ],
               [
                -118.30876400054173,
                33.773761000008044
               ],
               [
                -118.30876500033528,
                33.77378899928172
               ],
               [
                -118.30876800044086,
                33.77381699950842
               ],
               [
                -118.30876999984473,
                33.77383600092327
               ],
               [
                -118.30877199940839,
                33.773859999806355
               ],
               [
                -118.30877600031663,
                33.77389300068895
               ],
               [
                -118.30878000005684,
                33.77392999970586
               ],
               [
                -118.30878300019232,
                33.773957999025946
               ],
               [
                -118.30878799959282,
                33.774009000612054
               ],
               [
                -118.30879099926923,
                33.77403499949324
               ],
               [
                -118.3087930004992,
                33.77405699976973
               ],
               [
                -118.30879799997794,
                33.77409899941989
               ],
               [
                -118.30880100033951,
                33.77412799985355
               ],
               [
                -118.30880599970449,
                33.77416500022963
               ],
               [
                -118.30881200051086,
                33.77420499993892
               ],
               [
                -118.30881800070968,
                33.774247000065515
               ],
               [
                -118.30882100028151,
                33.77426799966905
               ],
               [
                -118.30883100017824,
                33.77432400017369
               ],
               [
                -118.30883900084278,
                33.774379999737135
               ],
               [
                -118.30884699957417,
                33.774437000383394
               ],
               [
                -118.3089229993575,
                33.77496399931926
               ],
               [
                -118.3088499996763,
                33.774963999940134
               ],
               [
                -118.30642699981462,
                33.774958000146654
               ],
               [
                -118.30765300025132,
                33.77884299971511
               ],
               [
                -118.3076990000046,
                33.77898799905201
               ],
               [
                -118.30782600054405,
                33.77932799965506
               ],
               [
                -118.30776299997937,
                33.77934600007986
               ],
               [
                -118.30768700024777,
                33.779355000441996
               ],
               [
                -118.30720900022435,
                33.779421999830724
               ],
               [
                -118.30694400026411,
                33.779466000411006
               ],
               [
                -118.30658700033351,
                33.77954400004643
               ],
               [
                -118.30628499936734,
                33.77957999991371
               ],
               [
                -118.30585199992667,
                33.77963899980254
               ],
               [
                -118.30544700108669,
                33.77966999998127
               ],
               [
                -118.30505900100302,
                33.77970600023323
               ],
               [
                -118.30448099983614,
                33.7797470006039
               ],
               [
                -118.30356700001919,
                33.779840000858336
               ],
               [
                -118.30270900067765,
                33.77991199997467
               ],
               [
                -118.30163899947667,
                33.78000600003596
               ],
               [
                -118.30147900003259,
                33.78003500045157
               ],
               [
                -118.30028599959532,
                33.780108000181535
               ],
               [
                -118.29966700055354,
                33.780232000764116
               ],
               [
                -118.29921600026974,
                33.78036300033044
               ],
               [
                -118.29887399994091,
                33.780508000857495
               ],
               [
                -118.2986630006758,
                33.78066100002595
               ],
               [
                -118.29837899983059,
                33.78088699983525
               ],
               [
                -118.29802199956227,
                33.7811999999432
               ],
               [
                -118.29781099979259,
                33.78148300104547
               ],
               [
                -118.29770199997999,
                33.78164299921268
               ],
               [
                -118.29749200023679,
                33.78208000055828
               ],
               [
                -118.29705599965429,
                33.78183000036621
               ],
               [
                -118.29612800031504,
                33.781298999647056
               ],
               [
                -118.2956540000969,
                33.78102799957506
               ],
               [
                -118.29549199968437,
                33.78166199931507
               ],
               [
                -118.29545599906405,
                33.7820139998628
               ],
               [
                -118.29544700005026,
                33.78229300018383
               ],
               [
                -118.29547399955565,
                33.782374000447675
               ],
               [
                -118.29560899904233,
                33.78247300044534
               ],
               [
                -118.29617700013787,
                33.78283399971372
               ],
               [
                -118.29652900026652,
                33.78308599969732
               ],
               [
                -118.29694300065137,
                33.78341999975718
               ],
               [
                -118.29706999995162,
                33.783599999962455
               ],
               [
                -118.29710599917836,
                33.783932999800726
               ],
               [
                -118.29710599890029,
                33.78450999988079
               ],
               [
                -118.29748800021896,
                33.78450999989833
               ],
               [
                -118.2974879993674,
                33.78479899941235
               ],
               [
                -118.29747499882642,
                33.78499100048176
               ],
               [
                -118.2974459995596,
                33.78518100008111
               ],
               [
                -118.29740199903782,
                33.785368999637754
               ],
               [
                -118.29737899964267,
                33.78543600010734
               ],
               [
                -118.29734199942536,
                33.78555400019706
               ],
               [
                -118.29726699927527,
                33.7857349993803
               ],
               [
                -118.29717699951725,
                33.78591199988125
               ],
               [
                -118.29707199991478,
                33.78608300035721
               ],
               [
                -118.2969530001039,
                33.786247000237644
               ],
               [
                -118.29682099980403,
                33.78640400005665
               ],
               [
                -118.29667599987386,
                33.78655200028372
               ],
               [
                -118.29557700008347,
                33.787533999974364
               ],
               [
                -118.29540500035473,
                33.78768800000664
               ],
               [
                -118.29170299939356,
                33.790991999780296
               ],
               [
                -118.29083899944466,
                33.790988999826595
               ],
               [
                -118.2898850002867,
                33.79098599997644
               ],
               [
                -118.2889329996506,
                33.790982999690264
               ],
               [
                -118.28804499987623,
                33.790980999231905
               ],
               [
                -118.28797700058243,
                33.79098000054815
               ],
               [
                -118.28748399950844,
                33.79097900122777
               ],
               [
                -118.28721800036939,
                33.790978000419265
               ],
               [
                -118.2866129991749,
                33.790976000558224
               ],
               [
                -118.28655500054323,
                33.790975000482796
               ],
               [
                -118.28651799976717,
                33.79097400083537
               ],
               [
                -118.28626900035134,
                33.790969000230234
               ],
               [
                -118.28592600058394,
                33.79095700032495
               ],
               [
                -118.28524000012445,
                33.79091699960735
               ],
               [
                -118.28489699948216,
                33.79088999989426
               ],
               [
                -118.28481700044802,
                33.79088199966226
               ],
               [
                -118.28455600023729,
                33.790857000235526
               ],
               [
                -118.284523000206,
                33.79085300028411
               ],
               [
                -118.28448100055849,
                33.79084800027404
               ]
              ]
             ],
             "type": "Polygon"
            },
            "id": "34",
            "properties": {},
            "type": "Feature"
           }
          ],
          "type": "FeatureCollection"
         },
         "hovertemplate": "index=%{location}<br>Distance (Miles)=%{z}<extra></extra>",
         "locations": [
          0,
          1,
          2,
          3,
          4,
          5,
          6,
          7,
          8,
          9,
          10,
          11,
          12,
          13,
          14,
          15,
          16,
          17,
          18,
          19,
          20,
          21,
          22,
          23,
          24,
          25,
          26,
          27,
          28,
          29,
          30,
          31,
          32,
          33,
          34
         ],
         "name": "",
         "subplot": "mapbox",
         "type": "choroplethmapbox",
         "z": [
          1.3434467689323504,
          1.6159098905943066,
          1.0059533891452426,
          1.5676470792211028,
          2.0890366488595293,
          1.9928396554514363,
          1.6290690839212032,
          1.7058898862770904,
          1.3264872464012554,
          1.3452981128348236,
          1.1896651583079503,
          1.0485889187625665,
          2.0261763969193045,
          1.5360148458366008,
          1.6775907501640648,
          1.8596690695172977,
          0.9818543322961996,
          1.0988730669594196,
          1.3775041916321868,
          0.37053989947032556,
          1.7758745886871579,
          0.932065187700566,
          2.2495763572286993,
          1.6912896041061387,
          1.6348276616146231,
          1.6181860773524617,
          1.4647846272270335,
          2.151149137281069,
          2.380520550985329,
          1.6782059455264113,
          1.6080341665598918,
          1.1512175752539016,
          0.9794850484864658,
          1.6823451912465617,
          1.4341334510100479
         ]
        }
       ],
       "layout": {
        "coloraxis": {
         "colorbar": {
          "title": {
           "text": "Distance (Miles)"
          }
         },
         "colorscale": [
          [
           0,
           "#0d0887"
          ],
          [
           0.1111111111111111,
           "#46039f"
          ],
          [
           0.2222222222222222,
           "#7201a8"
          ],
          [
           0.3333333333333333,
           "#9c179e"
          ],
          [
           0.4444444444444444,
           "#bd3786"
          ],
          [
           0.5555555555555556,
           "#d8576b"
          ],
          [
           0.6666666666666666,
           "#ed7953"
          ],
          [
           0.7777777777777778,
           "#fb9f3a"
          ],
          [
           0.8888888888888888,
           "#fdca26"
          ],
          [
           1,
           "#f0f921"
          ]
         ]
        },
        "height": 1000,
        "legend": {
         "tracegroupgap": 0
        },
        "mapbox": {
         "center": {
          "lat": 33.79334519445158,
          "lon": -118.259586790625
         },
         "domain": {
          "x": [
           0,
           1
          ],
          "y": [
           0,
           1
          ]
         },
         "style": "carto-positron",
         "zoom": 12.5
        },
        "margin": {
         "t": 60
        },
        "template": {
         "data": {
          "bar": [
           {
            "error_x": {
             "color": "#2a3f5f"
            },
            "error_y": {
             "color": "#2a3f5f"
            },
            "marker": {
             "line": {
              "color": "#E5ECF6",
              "width": 0.5
             },
             "pattern": {
              "fillmode": "overlay",
              "size": 10,
              "solidity": 0.2
             }
            },
            "type": "bar"
           }
          ],
          "barpolar": [
           {
            "marker": {
             "line": {
              "color": "#E5ECF6",
              "width": 0.5
             },
             "pattern": {
              "fillmode": "overlay",
              "size": 10,
              "solidity": 0.2
             }
            },
            "type": "barpolar"
           }
          ],
          "carpet": [
           {
            "aaxis": {
             "endlinecolor": "#2a3f5f",
             "gridcolor": "white",
             "linecolor": "white",
             "minorgridcolor": "white",
             "startlinecolor": "#2a3f5f"
            },
            "baxis": {
             "endlinecolor": "#2a3f5f",
             "gridcolor": "white",
             "linecolor": "white",
             "minorgridcolor": "white",
             "startlinecolor": "#2a3f5f"
            },
            "type": "carpet"
           }
          ],
          "choropleth": [
           {
            "colorbar": {
             "outlinewidth": 0,
             "ticks": ""
            },
            "type": "choropleth"
           }
          ],
          "contour": [
           {
            "colorbar": {
             "outlinewidth": 0,
             "ticks": ""
            },
            "colorscale": [
             [
              0,
              "#0d0887"
             ],
             [
              0.1111111111111111,
              "#46039f"
             ],
             [
              0.2222222222222222,
              "#7201a8"
             ],
             [
              0.3333333333333333,
              "#9c179e"
             ],
             [
              0.4444444444444444,
              "#bd3786"
             ],
             [
              0.5555555555555556,
              "#d8576b"
             ],
             [
              0.6666666666666666,
              "#ed7953"
             ],
             [
              0.7777777777777778,
              "#fb9f3a"
             ],
             [
              0.8888888888888888,
              "#fdca26"
             ],
             [
              1,
              "#f0f921"
             ]
            ],
            "type": "contour"
           }
          ],
          "contourcarpet": [
           {
            "colorbar": {
             "outlinewidth": 0,
             "ticks": ""
            },
            "type": "contourcarpet"
           }
          ],
          "heatmap": [
           {
            "colorbar": {
             "outlinewidth": 0,
             "ticks": ""
            },
            "colorscale": [
             [
              0,
              "#0d0887"
             ],
             [
              0.1111111111111111,
              "#46039f"
             ],
             [
              0.2222222222222222,
              "#7201a8"
             ],
             [
              0.3333333333333333,
              "#9c179e"
             ],
             [
              0.4444444444444444,
              "#bd3786"
             ],
             [
              0.5555555555555556,
              "#d8576b"
             ],
             [
              0.6666666666666666,
              "#ed7953"
             ],
             [
              0.7777777777777778,
              "#fb9f3a"
             ],
             [
              0.8888888888888888,
              "#fdca26"
             ],
             [
              1,
              "#f0f921"
             ]
            ],
            "type": "heatmap"
           }
          ],
          "heatmapgl": [
           {
            "colorbar": {
             "outlinewidth": 0,
             "ticks": ""
            },
            "colorscale": [
             [
              0,
              "#0d0887"
             ],
             [
              0.1111111111111111,
              "#46039f"
             ],
             [
              0.2222222222222222,
              "#7201a8"
             ],
             [
              0.3333333333333333,
              "#9c179e"
             ],
             [
              0.4444444444444444,
              "#bd3786"
             ],
             [
              0.5555555555555556,
              "#d8576b"
             ],
             [
              0.6666666666666666,
              "#ed7953"
             ],
             [
              0.7777777777777778,
              "#fb9f3a"
             ],
             [
              0.8888888888888888,
              "#fdca26"
             ],
             [
              1,
              "#f0f921"
             ]
            ],
            "type": "heatmapgl"
           }
          ],
          "histogram": [
           {
            "marker": {
             "pattern": {
              "fillmode": "overlay",
              "size": 10,
              "solidity": 0.2
             }
            },
            "type": "histogram"
           }
          ],
          "histogram2d": [
           {
            "colorbar": {
             "outlinewidth": 0,
             "ticks": ""
            },
            "colorscale": [
             [
              0,
              "#0d0887"
             ],
             [
              0.1111111111111111,
              "#46039f"
             ],
             [
              0.2222222222222222,
              "#7201a8"
             ],
             [
              0.3333333333333333,
              "#9c179e"
             ],
             [
              0.4444444444444444,
              "#bd3786"
             ],
             [
              0.5555555555555556,
              "#d8576b"
             ],
             [
              0.6666666666666666,
              "#ed7953"
             ],
             [
              0.7777777777777778,
              "#fb9f3a"
             ],
             [
              0.8888888888888888,
              "#fdca26"
             ],
             [
              1,
              "#f0f921"
             ]
            ],
            "type": "histogram2d"
           }
          ],
          "histogram2dcontour": [
           {
            "colorbar": {
             "outlinewidth": 0,
             "ticks": ""
            },
            "colorscale": [
             [
              0,
              "#0d0887"
             ],
             [
              0.1111111111111111,
              "#46039f"
             ],
             [
              0.2222222222222222,
              "#7201a8"
             ],
             [
              0.3333333333333333,
              "#9c179e"
             ],
             [
              0.4444444444444444,
              "#bd3786"
             ],
             [
              0.5555555555555556,
              "#d8576b"
             ],
             [
              0.6666666666666666,
              "#ed7953"
             ],
             [
              0.7777777777777778,
              "#fb9f3a"
             ],
             [
              0.8888888888888888,
              "#fdca26"
             ],
             [
              1,
              "#f0f921"
             ]
            ],
            "type": "histogram2dcontour"
           }
          ],
          "mesh3d": [
           {
            "colorbar": {
             "outlinewidth": 0,
             "ticks": ""
            },
            "type": "mesh3d"
           }
          ],
          "parcoords": [
           {
            "line": {
             "colorbar": {
              "outlinewidth": 0,
              "ticks": ""
             }
            },
            "type": "parcoords"
           }
          ],
          "pie": [
           {
            "automargin": true,
            "type": "pie"
           }
          ],
          "scatter": [
           {
            "fillpattern": {
             "fillmode": "overlay",
             "size": 10,
             "solidity": 0.2
            },
            "type": "scatter"
           }
          ],
          "scatter3d": [
           {
            "line": {
             "colorbar": {
              "outlinewidth": 0,
              "ticks": ""
             }
            },
            "marker": {
             "colorbar": {
              "outlinewidth": 0,
              "ticks": ""
             }
            },
            "type": "scatter3d"
           }
          ],
          "scattercarpet": [
           {
            "marker": {
             "colorbar": {
              "outlinewidth": 0,
              "ticks": ""
             }
            },
            "type": "scattercarpet"
           }
          ],
          "scattergeo": [
           {
            "marker": {
             "colorbar": {
              "outlinewidth": 0,
              "ticks": ""
             }
            },
            "type": "scattergeo"
           }
          ],
          "scattergl": [
           {
            "marker": {
             "colorbar": {
              "outlinewidth": 0,
              "ticks": ""
             }
            },
            "type": "scattergl"
           }
          ],
          "scattermapbox": [
           {
            "marker": {
             "colorbar": {
              "outlinewidth": 0,
              "ticks": ""
             }
            },
            "type": "scattermapbox"
           }
          ],
          "scatterpolar": [
           {
            "marker": {
             "colorbar": {
              "outlinewidth": 0,
              "ticks": ""
             }
            },
            "type": "scatterpolar"
           }
          ],
          "scatterpolargl": [
           {
            "marker": {
             "colorbar": {
              "outlinewidth": 0,
              "ticks": ""
             }
            },
            "type": "scatterpolargl"
           }
          ],
          "scatterternary": [
           {
            "marker": {
             "colorbar": {
              "outlinewidth": 0,
              "ticks": ""
             }
            },
            "type": "scatterternary"
           }
          ],
          "surface": [
           {
            "colorbar": {
             "outlinewidth": 0,
             "ticks": ""
            },
            "colorscale": [
             [
              0,
              "#0d0887"
             ],
             [
              0.1111111111111111,
              "#46039f"
             ],
             [
              0.2222222222222222,
              "#7201a8"
             ],
             [
              0.3333333333333333,
              "#9c179e"
             ],
             [
              0.4444444444444444,
              "#bd3786"
             ],
             [
              0.5555555555555556,
              "#d8576b"
             ],
             [
              0.6666666666666666,
              "#ed7953"
             ],
             [
              0.7777777777777778,
              "#fb9f3a"
             ],
             [
              0.8888888888888888,
              "#fdca26"
             ],
             [
              1,
              "#f0f921"
             ]
            ],
            "type": "surface"
           }
          ],
          "table": [
           {
            "cells": {
             "fill": {
              "color": "#EBF0F8"
             },
             "line": {
              "color": "white"
             }
            },
            "header": {
             "fill": {
              "color": "#C8D4E3"
             },
             "line": {
              "color": "white"
             }
            },
            "type": "table"
           }
          ]
         },
         "layout": {
          "annotationdefaults": {
           "arrowcolor": "#2a3f5f",
           "arrowhead": 0,
           "arrowwidth": 1
          },
          "autotypenumbers": "strict",
          "coloraxis": {
           "colorbar": {
            "outlinewidth": 0,
            "ticks": ""
           }
          },
          "colorscale": {
           "diverging": [
            [
             0,
             "#8e0152"
            ],
            [
             0.1,
             "#c51b7d"
            ],
            [
             0.2,
             "#de77ae"
            ],
            [
             0.3,
             "#f1b6da"
            ],
            [
             0.4,
             "#fde0ef"
            ],
            [
             0.5,
             "#f7f7f7"
            ],
            [
             0.6,
             "#e6f5d0"
            ],
            [
             0.7,
             "#b8e186"
            ],
            [
             0.8,
             "#7fbc41"
            ],
            [
             0.9,
             "#4d9221"
            ],
            [
             1,
             "#276419"
            ]
           ],
           "sequential": [
            [
             0,
             "#0d0887"
            ],
            [
             0.1111111111111111,
             "#46039f"
            ],
            [
             0.2222222222222222,
             "#7201a8"
            ],
            [
             0.3333333333333333,
             "#9c179e"
            ],
            [
             0.4444444444444444,
             "#bd3786"
            ],
            [
             0.5555555555555556,
             "#d8576b"
            ],
            [
             0.6666666666666666,
             "#ed7953"
            ],
            [
             0.7777777777777778,
             "#fb9f3a"
            ],
            [
             0.8888888888888888,
             "#fdca26"
            ],
            [
             1,
             "#f0f921"
            ]
           ],
           "sequentialminus": [
            [
             0,
             "#0d0887"
            ],
            [
             0.1111111111111111,
             "#46039f"
            ],
            [
             0.2222222222222222,
             "#7201a8"
            ],
            [
             0.3333333333333333,
             "#9c179e"
            ],
            [
             0.4444444444444444,
             "#bd3786"
            ],
            [
             0.5555555555555556,
             "#d8576b"
            ],
            [
             0.6666666666666666,
             "#ed7953"
            ],
            [
             0.7777777777777778,
             "#fb9f3a"
            ],
            [
             0.8888888888888888,
             "#fdca26"
            ],
            [
             1,
             "#f0f921"
            ]
           ]
          },
          "colorway": [
           "#636efa",
           "#EF553B",
           "#00cc96",
           "#ab63fa",
           "#FFA15A",
           "#19d3f3",
           "#FF6692",
           "#B6E880",
           "#FF97FF",
           "#FECB52"
          ],
          "font": {
           "color": "#2a3f5f"
          },
          "geo": {
           "bgcolor": "white",
           "lakecolor": "white",
           "landcolor": "#E5ECF6",
           "showlakes": true,
           "showland": true,
           "subunitcolor": "white"
          },
          "hoverlabel": {
           "align": "left"
          },
          "hovermode": "closest",
          "mapbox": {
           "style": "light"
          },
          "paper_bgcolor": "white",
          "plot_bgcolor": "#E5ECF6",
          "polar": {
           "angularaxis": {
            "gridcolor": "white",
            "linecolor": "white",
            "ticks": ""
           },
           "bgcolor": "#E5ECF6",
           "radialaxis": {
            "gridcolor": "white",
            "linecolor": "white",
            "ticks": ""
           }
          },
          "scene": {
           "xaxis": {
            "backgroundcolor": "#E5ECF6",
            "gridcolor": "white",
            "gridwidth": 2,
            "linecolor": "white",
            "showbackground": true,
            "ticks": "",
            "zerolinecolor": "white"
           },
           "yaxis": {
            "backgroundcolor": "#E5ECF6",
            "gridcolor": "white",
            "gridwidth": 2,
            "linecolor": "white",
            "showbackground": true,
            "ticks": "",
            "zerolinecolor": "white"
           },
           "zaxis": {
            "backgroundcolor": "#E5ECF6",
            "gridcolor": "white",
            "gridwidth": 2,
            "linecolor": "white",
            "showbackground": true,
            "ticks": "",
            "zerolinecolor": "white"
           }
          },
          "shapedefaults": {
           "line": {
            "color": "#2a3f5f"
           }
          },
          "ternary": {
           "aaxis": {
            "gridcolor": "white",
            "linecolor": "white",
            "ticks": ""
           },
           "baxis": {
            "gridcolor": "white",
            "linecolor": "white",
            "ticks": ""
           },
           "bgcolor": "#E5ECF6",
           "caxis": {
            "gridcolor": "white",
            "linecolor": "white",
            "ticks": ""
           }
          },
          "title": {
           "x": 0.05
          },
          "xaxis": {
           "automargin": true,
           "gridcolor": "white",
           "linecolor": "white",
           "ticks": "",
           "title": {
            "standoff": 15
           },
           "zerolinecolor": "white",
           "zerolinewidth": 2
          },
          "yaxis": {
           "automargin": true,
           "gridcolor": "white",
           "linecolor": "white",
           "ticks": "",
           "title": {
            "standoff": 15
           },
           "zerolinecolor": "white",
           "zerolinewidth": 2
          }
         }
        },
        "width": 1250
       }
      },
      "text/html": [
       "<div>                            <div id=\"d38a3257-d786-4d6d-b9ab-c5fca6d774f1\" class=\"plotly-graph-div\" style=\"height:1000px; width:1250px;\"></div>            <script type=\"text/javascript\">                require([\"plotly\"], function(Plotly) {                    window.PLOTLYENV=window.PLOTLYENV || {};                                    if (document.getElementById(\"d38a3257-d786-4d6d-b9ab-c5fca6d774f1\")) {                    Plotly.newPlot(                        \"d38a3257-d786-4d6d-b9ab-c5fca6d774f1\",                        [{\"coloraxis\":\"coloraxis\",\"geojson\":{\"type\":\"FeatureCollection\",\"features\":[{\"id\":\"0\",\"type\":\"Feature\",\"properties\":{},\"geometry\":{\"type\":\"Polygon\",\"coordinates\":[[[-118.26397199977035,33.80456900037087],[-118.26380200028896,33.80457200013286],[-118.26375500103529,33.804573000254344],[-118.26367299925343,33.804575999245756],[-118.2635899998996,33.804577999866325],[-118.2635080005654,33.80458000039227],[-118.2634259990877,33.80458199992438],[-118.26334300045933,33.804585000563364],[-118.26326100003205,33.80458700089433],[-118.2631790007,33.80458900028102],[-118.26309699991975,33.80459200067597],[-118.26308400070715,33.80459200018494],[-118.26293200010947,33.80459600006722],[-118.26283600007483,33.80459899979245],[-118.2626770010716,33.80460400064658],[-118.26260300007256,33.804605000089694],[-118.26252100033352,33.8046080000851],[-118.26243899984189,33.80461000072387],[-118.26233999971855,33.80461299920172],[-118.26226100001436,33.80461599983976],[-118.2612220002436,33.80464500047277],[-118.26116799930044,33.804644000123645],[-118.26048300032338,33.80466299934061],[-118.26010600084469,33.80467400009503],[-118.26008500033878,33.80467399927584],[-118.25959199988445,33.804688000206475],[-118.25876300114543,33.80471099962507],[-118.25793299960102,33.80473399925222],[-118.25667400039045,33.80476899928481],[-118.25651200037956,33.8047740004407],[-118.25711599939184,33.80310800057064],[-118.25752900005374,33.80196900049659],[-118.25844500001304,33.79944200038819],[-118.25860799979219,33.79943399964236],[-118.26004400015523,33.79936000019364],[-118.2600529998123,33.80032300012607],[-118.26005600027428,33.80112799929991],[-118.26031599987736,33.80112100040689],[-118.26115500008243,33.801098000850935],[-118.2622289997677,33.80106699935825],[-118.26222099897026,33.80017600026778],[-118.26394000067673,33.8001000003766],[-118.263946000656,33.80098999990138],[-118.26440199964044,33.80097499973283],[-118.26450899958846,33.800970999882985],[-118.26455300065093,33.80096799925096],[-118.26460800033134,33.800965000810244],[-118.26459699965052,33.80274399945633],[-118.2646249992691,33.80449599938448],[-118.26459300080042,33.804536000200656],[-118.26450400025124,33.80455499950975],[-118.26441200051796,33.804551000889376],[-118.26435900063866,33.80455699973674],[-118.26427699920627,33.804558999883604],[-118.26419399990526,33.80456100004422],[-118.26413099997336,33.80456300024159],[-118.26397199977035,33.80456900037087]]]},\"bbox\":[-118.2646249992691,33.79936000019364,-118.25651200037956,33.8047740004407]},{\"id\":\"1\",\"type\":\"Feature\",\"properties\":{},\"geometry\":{\"type\":\"Polygon\",\"coordinates\":[[[-118.25844500001304,33.79944200038819],[-118.25679699933414,33.799525999780116],[-118.25652299996742,33.79576099902487],[-118.25705800072686,33.79573299953879],[-118.25793199975368,33.795688000221595],[-118.25880599982706,33.79564299961523],[-118.25976299929702,33.79559400056856],[-118.26084700040761,33.795538000030106],[-118.26193099974736,33.795481999955214],[-118.26363800065229,33.79538899991252],[-118.26371999959711,33.79643100016605],[-118.26380100041038,33.797474000226856],[-118.26386800038134,33.798329000698494],[-118.2639329997578,33.799161000374724],[-118.264156999984,33.79914900035587],[-118.26450199944459,33.79913200020458],[-118.26459300120128,33.79912699990882],[-118.26462500037177,33.799124999936616],[-118.26462600014383,33.799175999850206],[-118.26464099957917,33.799549000117906],[-118.26463100012032,33.79994199976832],[-118.26463099961535,33.79999399986513],[-118.26460800033134,33.800965000810244],[-118.26455300065093,33.80096799925096],[-118.26450899958846,33.800970999882985],[-118.26440199964044,33.80097499973283],[-118.263946000656,33.80098999990138],[-118.26394000067673,33.8001000003766],[-118.26222099897026,33.80017600026778],[-118.2622289997677,33.80106699935825],[-118.26115500008243,33.801098000850935],[-118.26031599987736,33.80112100040689],[-118.26005600027428,33.80112799929991],[-118.2600529998123,33.80032300012607],[-118.26004400015523,33.79936000019364],[-118.25860799979219,33.79943399964236],[-118.25844500001304,33.79944200038819]]]},\"bbox\":[-118.26464099957917,33.79538899991252,-118.25652299996742,33.80112799929991]},{\"id\":\"2\",\"type\":\"Feature\",\"properties\":{},\"geometry\":{\"type\":\"Polygon\",\"coordinates\":[[[-118.25652299996742,33.79576099902487],[-118.25647299931961,33.795075000384514],[-118.25642299955796,33.79438900027323],[-118.2563740001195,33.793703999816486],[-118.25630400094683,33.79274500032377],[-118.25625600001942,33.79207800034407],[-118.25515500090751,33.792136999813515],[-118.25461399969805,33.792167000127634],[-118.25400500051623,33.79227999959406],[-118.25394200079228,33.79141399976851],[-118.25418500005843,33.791458999815916],[-118.25428600010308,33.79148000013368],[-118.25459099983263,33.79153199927898],[-118.25490000081079,33.79157099964252],[-118.25511499957723,33.791588999933],[-118.2552100005375,33.79159599992713],[-118.255522000888,33.79160699929387],[-118.25583400042221,33.79160499964364],[-118.2562200009554,33.791584000397364],[-118.25848900009775,33.79146200013594],[-118.2594420003404,33.79141099937445],[-118.26007199972726,33.79137799974115],[-118.26055300109064,33.79135199993083],[-118.26079199940023,33.79133399912237],[-118.2616169998682,33.791273000685024],[-118.26330700048642,33.79114799939181],[-118.26347500038372,33.79330499978174],[-118.26363800065229,33.79538899991252],[-118.26193099974736,33.795481999955214],[-118.26084700040761,33.795538000030106],[-118.25976299929702,33.79559400056856],[-118.25880599982706,33.79564299961523],[-118.25793199975368,33.795688000221595],[-118.25705800072686,33.79573299953879],[-118.25652299996742,33.79576099902487]]]},\"bbox\":[-118.26363800065229,33.79114799939181,-118.25394200079228,33.79576099902487]},{\"id\":\"3\",\"type\":\"Feature\",\"properties\":{},\"geometry\":{\"type\":\"Polygon\",\"coordinates\":[[[-118.24597099995623,33.80004800011831],[-118.24566599920941,33.79568399930243],[-118.24571500043847,33.795681999599616],[-118.24561900064278,33.79438000032969],[-118.24555600049348,33.7935250006185],[-118.24826700051374,33.79338700019535],[-118.25115100070308,33.79324000083665],[-118.2510850002599,33.79234599937424],[-118.25102500034129,33.79153100008703],[-118.25097700071987,33.79088499968158],[-118.25103299980475,33.7908920000913],[-118.25137299980062,33.790941999488055],[-118.25303799978136,33.79124800035326],[-118.25339799973578,33.7913139999117],[-118.25394200079228,33.79141399976851],[-118.25400500051623,33.79227999959406],[-118.25461399969805,33.792167000127634],[-118.25515500090751,33.792136999813515],[-118.25625600001942,33.79207800034407],[-118.25630400094683,33.79274500032377],[-118.2563740001195,33.793703999816486],[-118.25642299955796,33.79438900027323],[-118.25647299931961,33.795075000384514],[-118.25652299996742,33.79576099902487],[-118.25679699933414,33.799525999780116],[-118.25659199992461,33.799536000783974],[-118.25462500026677,33.79963700067547],[-118.2544520004807,33.7996870007386],[-118.25423200040932,33.79969799968375],[-118.25287599963097,33.79976400028746],[-118.24602500041156,33.80011799964277],[-118.24599000057573,33.80007300011804],[-118.24597099995623,33.80004800011831]]]},\"bbox\":[-118.25679699933414,33.79088499968158,-118.24555600049348,33.80011799964277]},{\"id\":\"4\",\"type\":\"Feature\",\"properties\":{},\"geometry\":{\"type\":\"Polygon\",\"coordinates\":[[[-118.24555600049348,33.7935250006185],[-118.24548999970406,33.7926319999372],[-118.24542999991841,33.791815000276024],[-118.24537399929562,33.791059999587546],[-118.24682099992245,33.790987000006304],[-118.24808599995612,33.79092299932329],[-118.24935100028304,33.79085799969917],[-118.24977300110484,33.79083800068978],[-118.25011799958345,33.79083199995563],[-118.250347999766,33.79083699985637],[-118.25069099953394,33.79085700078775],[-118.25097700071987,33.79088499968158],[-118.25102500034129,33.79153100008703],[-118.2510850002599,33.79234599937424],[-118.25115100070308,33.79324000083665],[-118.24826700051374,33.79338700019535],[-118.24555600049348,33.7935250006185]]]},\"bbox\":[-118.25115100070308,33.79083199995563,-118.24537399929562,33.7935250006185]},{\"id\":\"5\",\"type\":\"Feature\",\"properties\":{},\"geometry\":{\"type\":\"Polygon\",\"coordinates\":[[[-118.2375099997405,33.800479999956586],[-118.23757399898301,33.80022799961593],[-118.23764200002259,33.799917000015625],[-118.23945200061114,33.79502299971759],[-118.24005499965547,33.79339300061169],[-118.24033499992059,33.79263499968691],[-118.24083199967076,33.79129100109962],[-118.24109100053633,33.791278000144644],[-118.24134200025254,33.79126499997986],[-118.24402899950452,33.79112900056678],[-118.24463900023846,33.7910979993746],[-118.24537399929562,33.791059999587546],[-118.24542999991841,33.791815000276024],[-118.24548999970406,33.7926319999372],[-118.24555600049348,33.7935250006185],[-118.24561900064278,33.79438000032969],[-118.24571500043847,33.795681999599616],[-118.24566599920941,33.79568399930243],[-118.24597099995623,33.80004800011831],[-118.24419600064097,33.80013300011097],[-118.23887200117008,33.800385999581394],[-118.2383899993703,33.8004370004266],[-118.23787999961891,33.80046199957544],[-118.2375099997405,33.800479999956586]]]},\"bbox\":[-118.24597099995623,33.791059999587546,-118.2375099997405,33.800479999956586]},{\"id\":\"6\",\"type\":\"Feature\",\"properties\":{},\"geometry\":{\"type\":\"Polygon\",\"coordinates\":[[[-118.26462500037177,33.799124999936616],[-118.26459300120128,33.79912699990882],[-118.26450199944459,33.79913200020458],[-118.264156999984,33.79914900035587],[-118.2639329997578,33.799161000374724],[-118.26386800038134,33.798329000698494],[-118.26380100041038,33.797474000226856],[-118.26510199955787,33.79740300025112],[-118.26620800110118,33.79734199951868],[-118.26746100075489,33.79727500041431],[-118.26837000023107,33.797225999561505],[-118.26927999966146,33.797176000183335],[-118.27018899977884,33.79712700013516],[-118.27002600091224,33.7950430000983],[-118.27108800069033,33.79498500001531],[-118.27215899995277,33.7949269998531],[-118.27318500006518,33.794872999321],[-118.2741559990701,33.79482299906583],[-118.27515999990287,33.79477200032784],[-118.2751750001714,33.79520499953582],[-118.27520399972435,33.79605599988695],[-118.27523299985145,33.79686100036912],[-118.27523399999927,33.79690599996151],[-118.27526399873963,33.797756000057],[-118.27529299912665,33.798566000782124],[-118.27529300085466,33.79857999989386],[-118.27529500021983,33.79863499936524],[-118.27523400078968,33.7986380001765],[-118.27502399928258,33.79864900007519],[-118.27478299888622,33.79865699953103],[-118.2745400007642,33.798659000322466],[-118.27435399968603,33.798655000186876],[-118.27410900053007,33.798651999335036],[-118.27387799897053,33.79865699951884],[-118.27359200039658,33.798671999812505],[-118.27320399980455,33.79869099964583],[-118.27261299972247,33.79872100004001],[-118.27138599965897,33.79878399952799],[-118.27032199988524,33.79882099995084],[-118.26941100060688,33.79885099957984],[-118.26850099928797,33.79889700030309],[-118.26759200075645,33.79894400022504],[-118.267441000815,33.79898099969889],[-118.26729499967308,33.799017000231444],[-118.26728300047367,33.79901999981901],[-118.26655099961827,33.79905700009277],[-118.26634299966575,33.79906800009951],[-118.26588299938005,33.79906199954688],[-118.26587099994993,33.799061999303454],[-118.26523400040561,33.79909399940106],[-118.26462500037177,33.799124999936616]]]},\"bbox\":[-118.27529500021983,33.79477200032784,-118.26380100041038,33.799161000374724]},{\"id\":\"7\",\"type\":\"Feature\",\"properties\":{},\"geometry\":{\"type\":\"Polygon\",\"coordinates\":[[[-118.26380100041038,33.797474000226856],[-118.26371999959711,33.79643100016605],[-118.26363800065229,33.79538899991252],[-118.26347500038372,33.79330499978174],[-118.26477499955271,33.79323399977533],[-118.26588100115978,33.79317400031512],[-118.26713499992282,33.79310699910758],[-118.26804300047225,33.79305800054162],[-118.26895299978607,33.793008000660706],[-118.26986299863302,33.79295900000496],[-118.27092500084535,33.79290099996382],[-118.27199500027075,33.79284299993193],[-118.27215899995277,33.7949269998531],[-118.27108800069033,33.79498500001531],[-118.27002600091224,33.7950430000983],[-118.27018899977884,33.79712700013516],[-118.26927999966146,33.797176000183335],[-118.26837000023107,33.797225999561505],[-118.26746100075489,33.79727500041431],[-118.26620800110118,33.79734199951868],[-118.26510199955787,33.79740300025112],[-118.26380100041038,33.797474000226856]]]},\"bbox\":[-118.27215899995277,33.79284299993193,-118.26347500038372,33.797474000226856]},{\"id\":\"8\",\"type\":\"Feature\",\"properties\":{},\"geometry\":{\"type\":\"Polygon\",\"coordinates\":[[[-118.27215899995277,33.7949269998531],[-118.27199500027075,33.79284299993193],[-118.27092500084535,33.79290099996382],[-118.26986299863302,33.79295900000496],[-118.26895299978607,33.793008000660706],[-118.26804300047225,33.79305800054162],[-118.26713499992282,33.79310699910758],[-118.26588100115978,33.79317400031512],[-118.26477499955271,33.79323399977533],[-118.26347500038372,33.79330499978174],[-118.26330700048642,33.79114799939181],[-118.26460699973087,33.791078000071096],[-118.26571299945788,33.791018000723064],[-118.26696700022212,33.79096099927216],[-118.26787600011544,33.790919000032815],[-118.26878500079629,33.79086999933563],[-118.26969500026652,33.79082000008499],[-118.27075700069307,33.79076300027791],[-118.27182799954042,33.790704000003764],[-118.27288999968123,33.79064700011611],[-118.2739169990184,33.7905909993332],[-118.27501099989422,33.79053100034649],[-118.2750429997089,33.791446000735],[-118.27507599925704,33.792377000479114],[-118.27508600040251,33.79268399995509],[-118.2751099994968,33.79336499956033],[-118.27514500022829,33.7943540002583],[-118.27515999990287,33.79477200032784],[-118.2741559990701,33.79482299906583],[-118.27318500006518,33.794872999321],[-118.27215899995277,33.7949269998531]]]},\"bbox\":[-118.27515999990287,33.79053100034649,-118.26330700048642,33.7949269998531]},{\"id\":\"9\",\"type\":\"Feature\",\"properties\":{},\"geometry\":{\"type\":\"Polygon\",\"coordinates\":[[[-118.27529500021983,33.79863499936524],[-118.27529300085466,33.79857999989386],[-118.27529299912665,33.798566000782124],[-118.27526399873963,33.797756000057],[-118.27523399999927,33.79690599996151],[-118.27523299985145,33.79686100036912],[-118.27520399972435,33.79605599988695],[-118.2751750001714,33.79520499953582],[-118.27515999990287,33.79477200032784],[-118.27514500022829,33.7943540002583],[-118.27746599930758,33.794236000050184],[-118.2775040008344,33.79423400008425],[-118.27929999965164,33.79414200026785],[-118.28031900004764,33.794090000161816],[-118.2824229998632,33.79398200013392],[-118.28235999984818,33.79356700051055],[-118.28228700011161,33.79324599952053],[-118.28159700031948,33.791492999776445],[-118.28142100097223,33.79104800035718],[-118.28137800006465,33.7909380009147],[-118.2812140002955,33.79065699989477],[-118.28107499991692,33.79046100010281],[-118.28128300045935,33.79048000013746],[-118.2819250002258,33.790553999637176],[-118.28196500067907,33.79068899908457],[-118.28214100008744,33.79113399961682],[-118.28230399968355,33.79149499988307],[-118.28248200009365,33.791852000482905],[-118.28267499952949,33.79220300092425],[-118.28311400025876,33.79293899982014],[-118.2852440006048,33.79616600009239],[-118.28546300003262,33.796479000367775],[-118.28561999934122,33.79668199934527],[-118.28578599998909,33.79688100064614],[-118.28604999921387,33.79717000076955],[-118.28618699951465,33.79730799995793],[-118.28645700042355,33.79756600066241],[-118.28654600052492,33.79764299984408],[-118.28578899984892,33.79764099967886],[-118.28577099999636,33.79764100019931],[-118.28573000066893,33.79764099967566],[-118.28559899892021,33.797640000490524],[-118.28292999909067,33.797630999487474],[-118.28293799926212,33.79770699981869],[-118.28298899982704,33.798170000562784],[-118.2829909993765,33.79818599960054],[-118.28299699949658,33.79824099987663],[-118.28270600064414,33.79825599975958],[-118.28096099948972,33.79834500095864],[-118.27994299885533,33.79839699909539],[-118.27884499956875,33.79845299969191],[-118.27728899988352,33.798533000172355],[-118.27636300026927,33.79857999976321],[-118.27535399972832,33.7986319996995],[-118.27529500021983,33.79863499936524]]]},\"bbox\":[-118.28654600052492,33.79046100010281,-118.27514500022829,33.79863499936524]},{\"id\":\"10\",\"type\":\"Feature\",\"properties\":{},\"geometry\":{\"type\":\"Polygon\",\"coordinates\":[[[-118.27514500022829,33.7943540002583],[-118.2751099994968,33.79336499956033],[-118.27508600040251,33.79268399995509],[-118.27507599925704,33.792377000479114],[-118.2750429997089,33.791446000735],[-118.27501099989422,33.79053100034649],[-118.27766800038644,33.79039100081348],[-118.27818799975218,33.790370000659465],[-118.27853200015225,33.79036199999108],[-118.27887699958079,33.790359000007335],[-118.27956600064685,33.79036900031921],[-118.27974899983799,33.79037500035699],[-118.27991000041658,33.79038099948741],[-118.28025400071067,33.79039799952572],[-118.2809409999887,33.79044799984418],[-118.28107499991692,33.79046100010281],[-118.2812140002955,33.79065699989477],[-118.28137800006465,33.7909380009147],[-118.28142100097223,33.79104800035718],[-118.28159700031948,33.791492999776445],[-118.28228700011161,33.79324599952053],[-118.28235999984818,33.79356700051055],[-118.2824229998632,33.79398200013392],[-118.28031900004764,33.794090000161816],[-118.27929999965164,33.79414200026785],[-118.2775040008344,33.79423400008425],[-118.27746599930758,33.794236000050184],[-118.27514500022829,33.7943540002583]]]},\"bbox\":[-118.2824229998632,33.790359000007335,-118.27501099989422,33.7943540002583]},{\"id\":\"11\",\"type\":\"Feature\",\"properties\":{},\"geometry\":{\"type\":\"Polygon\",\"coordinates\":[[[-118.27457000013287,33.784332000204216],[-118.27440699921033,33.78225900070537],[-118.27428899925461,33.780751000018306],[-118.27418999940325,33.7794900003346],[-118.27414199980173,33.779338000657],[-118.27545600071566,33.7792659997383],[-118.27678000036983,33.779192999976644],[-118.27815399976848,33.77911799990289],[-118.27950000021674,33.77904399995448],[-118.2795690006188,33.77992999991511],[-118.27959799949387,33.780227000494435],[-118.27962900054017,33.780398000014],[-118.27967599992566,33.78058100016183],[-118.27971099888482,33.78068700039554],[-118.28001700078518,33.7815449990648],[-118.28007900053773,33.78175699956511],[-118.28012700004271,33.78198600061251],[-118.280316999446,33.78323500101619],[-118.280456000274,33.784155999707174],[-118.27859100017882,33.78411099994237],[-118.2779310007423,33.78414699967581],[-118.27695300070243,33.78420099931354],[-118.27584699999764,33.78426199995408],[-118.27457000013287,33.784332000204216]]]},\"bbox\":[-118.280456000274,33.77904399995448,-118.27414199980173,33.784332000204216]},{\"id\":\"12\",\"type\":\"Feature\",\"properties\":{},\"geometry\":{\"type\":\"Polygon\",\"coordinates\":[[[-118.2819250002258,33.790553999637176],[-118.28128300045935,33.79048000013746],[-118.28107499991692,33.79046100010281],[-118.2809409999887,33.79044799984418],[-118.28025400071067,33.79039799952572],[-118.27991000041658,33.79038099948741],[-118.27974899983799,33.79037500035699],[-118.27956600064685,33.79036900031921],[-118.27887699958079,33.790359000007335],[-118.27853200015225,33.79036199999108],[-118.27818799975218,33.790370000659465],[-118.27766800038644,33.79039100081348],[-118.27501099989422,33.79053100034649],[-118.27497799962359,33.789588999924696],[-118.27497399988621,33.78948900000692],[-118.27491499892665,33.788738000212795],[-118.27489699995873,33.78850100024323],[-118.27484899994833,33.787888000226076],[-118.27478199932676,33.78703800034503],[-118.27473299958292,33.78641700039398],[-118.27471500014339,33.78618799958264],[-118.27457000013287,33.784332000204216],[-118.27584699999764,33.78426199995408],[-118.27695300070243,33.78420099931354],[-118.2779310007423,33.78414699967581],[-118.27859100017882,33.78411099994237],[-118.280456000274,33.784155999707174],[-118.280316999446,33.78323500101619],[-118.28012700004271,33.78198600061251],[-118.28007900053773,33.78175699956511],[-118.28001700078518,33.7815449990648],[-118.27971099888482,33.78068700039554],[-118.27967599992566,33.78058100016183],[-118.27962900054017,33.780398000014],[-118.27959799949387,33.780227000494435],[-118.2795690006188,33.77992999991511],[-118.27950000021674,33.77904399995448],[-118.2801399999443,33.779008999787095],[-118.28031100105211,33.7790000001263],[-118.28090499965587,33.77896700061133],[-118.28194800069421,33.77890999962348],[-118.2824650003465,33.77888100036444],[-118.28245600025842,33.779362999585864],[-118.28188399936487,33.78044700029514],[-118.28100499974133,33.780548999377835],[-118.28101499989994,33.78066499960743],[-118.28102299938726,33.78179899981951],[-118.28104100006844,33.7820549999299],[-118.28106000009983,33.78220100008588],[-118.28120699957873,33.783177000752744],[-118.28139399978969,33.7844089997698],[-118.28143000055836,33.784652000145634],[-118.28163500032531,33.78600799972304],[-118.2816289999312,33.78603399989614],[-118.28207599978627,33.78897999972046],[-118.28210500095852,33.789100000301666],[-118.28215700054494,33.789240000373255],[-118.28222600013625,33.78937400035839],[-118.28231199982253,33.78950199932713],[-118.28239099960496,33.78961000097695],[-118.28253399972178,33.78961500066404],[-118.2837569996918,33.789627000130345],[-118.28437499984302,33.79076999946943],[-118.28448100055849,33.79084800027404],[-118.2843269997121,33.79083000013747],[-118.28283900087953,33.79066000050282],[-118.28246499987728,33.79061599985797],[-118.28242699983599,33.79061100008574],[-118.28219299919182,33.7905849995485],[-118.2821030002999,33.79057499985751],[-118.2819250002258,33.790553999637176]]]},\"bbox\":[-118.28448100055849,33.77888100036444,-118.27457000013287,33.79084800027404]},{\"id\":\"13\",\"type\":\"Feature\",\"properties\":{},\"geometry\":{\"type\":\"Polygon\",\"coordinates\":[[[-118.26878500079629,33.79086999933563],[-118.26862600014265,33.78884100040991],[-118.26888799972075,33.78882699976305],[-118.26872500013029,33.78674600010315],[-118.26937200060236,33.78670800018114],[-118.270434000166,33.78665100033955],[-118.2715049996313,33.7865929993811],[-118.27217399996816,33.786555999530435],[-118.2725909997741,33.7865340009079],[-118.27343199980632,33.786487999644116],[-118.27364699983481,33.786475999486406],[-118.27473299958292,33.78641700039398],[-118.27478199932676,33.78703800034503],[-118.27484899994833,33.787888000226076],[-118.27489699995873,33.78850100024323],[-118.27491499892665,33.788738000212795],[-118.27497399988621,33.78948900000692],[-118.27497799962359,33.789588999924696],[-118.27501099989422,33.79053100034649],[-118.2739169990184,33.7905909993332],[-118.27288999968123,33.79064700011611],[-118.27182799954042,33.790704000003764],[-118.27075700069307,33.79076300027791],[-118.26969500026652,33.79082000008499],[-118.26878500079629,33.79086999933563]]]},\"bbox\":[-118.27501099989422,33.78641700039398,-118.26862600014265,33.79086999933563]},{\"id\":\"14\",\"type\":\"Feature\",\"properties\":{},\"geometry\":{\"type\":\"Polygon\",\"coordinates\":[[[-118.26872500013029,33.78674600010315],[-118.2685609995244,33.784660999664055],[-118.26839700068167,33.78257699943921],[-118.26893600010929,33.7825480003555],[-118.26904499997731,33.78254099934147],[-118.27011900049487,33.782483000070506],[-118.27117699989593,33.782425999629574],[-118.27130099975729,33.78241900039914],[-118.27185799990589,33.782388999916456],[-118.2718939989305,33.7823950001419],[-118.27248599973036,33.78236299883842],[-118.2731059995687,33.782328999828124],[-118.27440699921033,33.78225900070537],[-118.27457000013287,33.784332000204216],[-118.27471500014339,33.78618799958264],[-118.27473299958292,33.78641700039398],[-118.27364699983481,33.786475999486406],[-118.27343199980632,33.786487999644116],[-118.2725909997741,33.7865340009079],[-118.27217399996816,33.786555999530435],[-118.2715049996313,33.7865929993811],[-118.270434000166,33.78665100033955],[-118.26937200060236,33.78670800018114],[-118.26872500013029,33.78674600010315]]]},\"bbox\":[-118.27473299958292,33.78225900070537,-118.26839700068167,33.78674600010315]},{\"id\":\"15\",\"type\":\"Feature\",\"properties\":{},\"geometry\":{\"type\":\"Polygon\",\"coordinates\":[[[-118.26330700048642,33.79114799939181],[-118.26321700011223,33.79001500001584],[-118.26312400025178,33.788826000215956],[-118.26295699937609,33.78670099981067],[-118.2642570005253,33.786630999866],[-118.26536300001472,33.78657100095188],[-118.2653909998203,33.78692799993396],[-118.2664970002421,33.78686799897321],[-118.26761100059333,33.78680700094191],[-118.26872500013029,33.78674600010315],[-118.26888799972075,33.78882699976305],[-118.26862600014265,33.78884100040991],[-118.26878500079629,33.79086999933563],[-118.26787600011544,33.790919000032815],[-118.26696700022212,33.79096099927216],[-118.26571299945788,33.791018000723064],[-118.26460699973087,33.791078000071096],[-118.26330700048642,33.79114799939181]]]},\"bbox\":[-118.26888799972075,33.78657100095188,-118.26295699937609,33.79114799939181]},{\"id\":\"16\",\"type\":\"Feature\",\"properties\":{},\"geometry\":{\"type\":\"Polygon\",\"coordinates\":[[[-118.26295699937609,33.78670099981067],[-118.26280299989332,33.78474599956836],[-118.26265599960702,33.7828879997147],[-118.26395699978255,33.78281800020367],[-118.26506300031512,33.782758000263634],[-118.26616800026667,33.78269800043432],[-118.2667369999402,33.78266700072235],[-118.2672830003839,33.78263699984742],[-118.26775399971652,33.78261199977874],[-118.26839700068167,33.78257699943921],[-118.2685609995244,33.784660999664055],[-118.26872500013029,33.78674600010315],[-118.26761100059333,33.78680700094191],[-118.2664970002421,33.78686799897321],[-118.2653909998203,33.78692799993396],[-118.26536300001472,33.78657100095188],[-118.2642570005253,33.786630999866],[-118.26295699937609,33.78670099981067]]]},\"bbox\":[-118.26872500013029,33.78257699943921,-118.26265599960702,33.78692799993396]},{\"id\":\"17\",\"type\":\"Feature\",\"properties\":{},\"geometry\":{\"type\":\"Polygon\",\"coordinates\":[[[-118.25394200079228,33.79141399976851],[-118.25339799973578,33.7913139999117],[-118.25303799978136,33.79124800035326],[-118.2529990009314,33.790721999946776],[-118.25300700055826,33.790493999472154],[-118.25302600065456,33.79031200008423],[-118.25307099985368,33.78993799952812],[-118.25314100016831,33.78938499929738],[-118.25314899977566,33.7892740001991],[-118.25317299960629,33.78915900031349],[-118.25319799996458,33.789047000197385],[-118.25323699963866,33.78888000027093],[-118.2533729992986,33.78857800041703],[-118.25354600002272,33.78818899961011],[-118.25356699929067,33.78813300082423],[-118.25365499928071,33.78790300011434],[-118.25367999981954,33.787760000480624],[-118.25370099905845,33.78762600065738],[-118.25371500050854,33.78745700034272],[-118.25371300001633,33.78719999956558],[-118.25426599946658,33.7871710001682],[-118.2547890000055,33.78714200033477],[-118.25550300117143,33.7871040003285],[-118.25589199983017,33.787082999807566],[-118.25651299978192,33.787050000109346],[-118.2571359998401,33.78701699977778],[-118.25749999986053,33.7869970005696],[-118.25843599983492,33.78694699961526],[-118.25987300096186,33.7868689994055],[-118.2613140001977,33.786790999902905],[-118.26295699937609,33.78670099981067],[-118.26312400025178,33.788826000215956],[-118.26321700011223,33.79001500001584],[-118.26330700048642,33.79114799939181],[-118.2616169998682,33.791273000685024],[-118.26079199940023,33.79133399912237],[-118.26055300109064,33.79135199993083],[-118.26007199972726,33.79137799974115],[-118.2594420003404,33.79141099937445],[-118.25848900009775,33.79146200013594],[-118.2562200009554,33.791584000397364],[-118.25583400042221,33.79160499964364],[-118.255522000888,33.79160699929387],[-118.2552100005375,33.79159599992713],[-118.25511499957723,33.791588999933],[-118.25490000081079,33.79157099964252],[-118.25459099983263,33.79153199927898],[-118.25428600010308,33.79148000013368],[-118.25418500005843,33.791458999815916],[-118.25394200079228,33.79141399976851]]]},\"bbox\":[-118.26330700048642,33.78670099981067,-118.2529990009314,33.79160699929387]},{\"id\":\"18\",\"type\":\"Feature\",\"properties\":{},\"geometry\":{\"type\":\"Polygon\",\"coordinates\":[[[-118.25371300001633,33.78719999956558],[-118.25367699954185,33.78675299927822],[-118.2535509999461,33.785123999782165],[-118.25353699946426,33.784948999697676],[-118.2535249999175,33.78440800117092],[-118.25355699992969,33.784174000922135],[-118.25359199979118,33.78392199963299],[-118.25358099940145,33.78347099994724],[-118.25356300020891,33.7832090005054],[-118.25433600043273,33.78316699988021],[-118.25450000039248,33.78317600006805],[-118.2550430000948,33.78313400022545],[-118.25518299937599,33.78307699954044],[-118.25603000088677,33.7830340003008],[-118.25619700011636,33.78302499969185],[-118.25718499888534,33.78297400024465],[-118.25749600049352,33.78295800075475],[-118.2581209997339,33.78292499990208],[-118.25813699943001,33.78313300044386],[-118.25860599986993,33.783106999252205],[-118.25957399974443,33.7830550002082],[-118.26101500015352,33.78297699982093],[-118.26200600001253,33.78292300020105],[-118.26265599960702,33.7828879997147],[-118.26280299989332,33.78474599956836],[-118.26295699937609,33.78670099981067],[-118.2613140001977,33.786790999902905],[-118.25987300096186,33.7868689994055],[-118.25843599983492,33.78694699961526],[-118.25749999986053,33.7869970005696],[-118.2571359998401,33.78701699977778],[-118.25651299978192,33.787050000109346],[-118.25589199983017,33.787082999807566],[-118.25550300117143,33.7871040003285],[-118.2547890000055,33.78714200033477],[-118.25426599946658,33.7871710001682],[-118.25371300001633,33.78719999956558]]]},\"bbox\":[-118.26295699937609,33.7828879997147,-118.2535249999175,33.78719999956558]},{\"id\":\"19\",\"type\":\"Feature\",\"properties\":{},\"geometry\":{\"type\":\"Polygon\",\"coordinates\":[[[-118.24083199967076,33.79129100109962],[-118.24115499987312,33.79041799962537],[-118.24147899980194,33.78954400001157],[-118.24180200029184,33.78866999944486],[-118.24193399924907,33.788314000525226],[-118.2425979991056,33.78651799897389],[-118.24260499982262,33.78649999983673],[-118.24291400005913,33.785661999831866],[-118.24313999976785,33.78505100034037],[-118.24316299892544,33.78499099990669],[-118.2432639997751,33.784726999744535],[-118.24351700040992,33.78473800045901],[-118.24373900062537,33.7847340001489],[-118.24490100005055,33.78465199924961],[-118.2448399998395,33.78382300049449],[-118.24554400012592,33.78378499979367],[-118.24625600045897,33.783745999101534],[-118.24693300013955,33.783710000463046],[-118.24753899932159,33.783676999634935],[-118.24765600042845,33.7836289994783],[-118.2485979995145,33.78357900035145],[-118.24865200005524,33.78357599974905],[-118.24933999960801,33.78353800008588],[-118.24954399947386,33.783527000591505],[-118.24984400034361,33.78351100114907],[-118.2504170001501,33.78348000048685],[-118.25055899919214,33.78528500038608],[-118.24944200082729,33.78534599943623],[-118.24832599969633,33.785405999989564],[-118.24841400011898,33.78653800035358],[-118.247764998999,33.78657300003663],[-118.24783500015616,33.787518999834425],[-118.24707500080304,33.78755999944708],[-118.24642299952974,33.788506999820186],[-118.24579899977003,33.78941300052397],[-118.24543699968245,33.7899390004708],[-118.24530599947812,33.7901289997544],[-118.24531900005444,33.79030600035298],[-118.24537399929562,33.791059999587546],[-118.24463900023846,33.7910979993746],[-118.24402899950452,33.79112900056678],[-118.24134200025254,33.79126499997986],[-118.24109100053633,33.791278000144644],[-118.24083199967076,33.79129100109962]]]},\"bbox\":[-118.25055899919214,33.78348000048685,-118.24083199967076,33.79129100109962]},{\"id\":\"20\",\"type\":\"Feature\",\"properties\":{},\"geometry\":{\"type\":\"Polygon\",\"coordinates\":[[[-118.24537399929562,33.791059999587546],[-118.24531900005444,33.79030600035298],[-118.24530599947812,33.7901289997544],[-118.24543699968245,33.7899390004708],[-118.24579899977003,33.78941300052397],[-118.24642299952974,33.788506999820186],[-118.24707500080304,33.78755999944708],[-118.24783500015616,33.787518999834425],[-118.247764998999,33.78657300003663],[-118.24841400011898,33.78653800035358],[-118.24832599969633,33.785405999989564],[-118.24944200082729,33.78534599943623],[-118.25055899919214,33.78528500038608],[-118.25064600067765,33.78640099975102],[-118.2506470000575,33.78641700049879],[-118.2507170003255,33.78736200064386],[-118.25078400012653,33.78827100002053],[-118.25084900019922,33.789156999743966],[-118.25091300034215,33.790022000381356],[-118.25097700071987,33.79088499968158],[-118.25069099953394,33.79085700078775],[-118.250347999766,33.79083699985637],[-118.25011799958345,33.79083199995563],[-118.24977300110484,33.79083800068978],[-118.24935100028304,33.79085799969917],[-118.24808599995612,33.79092299932329],[-118.24682099992245,33.790987000006304],[-118.24537399929562,33.791059999587546]]]},\"bbox\":[-118.25097700071987,33.78528500038608,-118.24530599947812,33.791059999587546]},{\"id\":\"21\",\"type\":\"Feature\",\"properties\":{},\"geometry\":{\"type\":\"Polygon\",\"coordinates\":[[[-118.25097700071987,33.79088499968158],[-118.25091300034215,33.790022000381356],[-118.25084900019922,33.789156999743966],[-118.25078400012653,33.78827100002053],[-118.2507170003255,33.78736200064386],[-118.2506470000575,33.78641700049879],[-118.25064600067765,33.78640099975102],[-118.25055899919214,33.78528500038608],[-118.2504170001501,33.78348000048685],[-118.2504139995327,33.78344600013532],[-118.25041700036982,33.78341699958575],[-118.25160699965474,33.78335300058361],[-118.25272399972856,33.783292999723905],[-118.2527209989113,33.78325500038365],[-118.25356300020891,33.7832090005054],[-118.25358099940145,33.78347099994724],[-118.25359199979118,33.78392199963299],[-118.25355699992969,33.784174000922135],[-118.2535249999175,33.78440800117092],[-118.25353699946426,33.784948999697676],[-118.2535509999461,33.785123999782165],[-118.25367699954185,33.78675299927822],[-118.25371300001633,33.78719999956558],[-118.25371500050854,33.78745700034272],[-118.25370099905845,33.78762600065738],[-118.25367999981954,33.787760000480624],[-118.25365499928071,33.78790300011434],[-118.25356699929067,33.78813300082423],[-118.25354600002272,33.78818899961011],[-118.2533729992986,33.78857800041703],[-118.25323699963866,33.78888000027093],[-118.25319799996458,33.789047000197385],[-118.25317299960629,33.78915900031349],[-118.25314899977566,33.7892740001991],[-118.25314100016831,33.78938499929738],[-118.25307099985368,33.78993799952812],[-118.25302600065456,33.79031200008423],[-118.25300700055826,33.790493999472154],[-118.2529990009314,33.790721999946776],[-118.25303799978136,33.79124800035326],[-118.25137299980062,33.790941999488055],[-118.25103299980475,33.7908920000913],[-118.25097700071987,33.79088499968158]]]},\"bbox\":[-118.25371500050854,33.7832090005054,-118.2504139995327,33.79124800035326]},{\"id\":\"22\",\"type\":\"Feature\",\"properties\":{},\"geometry\":{\"type\":\"Polygon\",\"coordinates\":[[[-118.2432639997751,33.784726999744535],[-118.24348000039696,33.784190000833505],[-118.24364900040864,33.783799000671195],[-118.24378400005126,33.78350299951607],[-118.24402899922427,33.782988999001056],[-118.2442050007478,33.78264099977077],[-118.24445500018038,33.78217300049313],[-118.24461499917025,33.78188299991351],[-118.24473499999002,33.781676000012986],[-118.24508299972388,33.781075999561146],[-118.24514300025338,33.780954999989824],[-118.24516000077035,33.780904000104314],[-118.24537499923174,33.7805749995006],[-118.24561900031297,33.78021200009599],[-118.24587100060003,33.77985199989812],[-118.24621100027746,33.77939000092634],[-118.24639700004234,33.7791449993904],[-118.24666000009725,33.77881000034657],[-118.24695099925397,33.77845299988471],[-118.24723999961233,33.7781139996424],[-118.24745699965524,33.777867000096975],[-118.24785800004942,33.77742500037533],[-118.24805400005653,33.777207999426885],[-118.24845999951614,33.77679300027424],[-118.24893099981978,33.77633300049505],[-118.24907699995045,33.7763249996235],[-118.2490809999082,33.77638099989515],[-118.24909300032192,33.77652299940392],[-118.24919199989202,33.77777400044448],[-118.24930599946208,33.77922400055494],[-118.24942000049056,33.780675000077046],[-118.24934000057227,33.78067999990209],[-118.24945700020909,33.78216899995794],[-118.24954499946641,33.78329000023667],[-118.24953999948583,33.783454999178154],[-118.24954399947386,33.783527000591505],[-118.24933999960801,33.78353800008588],[-118.24865200005524,33.78357599974905],[-118.2485979995145,33.78357900035145],[-118.24765600042845,33.7836289994783],[-118.24753899932159,33.783676999634935],[-118.24693300013955,33.783710000463046],[-118.24625600045897,33.783745999101534],[-118.24554400012592,33.78378499979367],[-118.2448399998395,33.78382300049449],[-118.24490100005055,33.78465199924961],[-118.24373900062537,33.7847340001489],[-118.24351700040992,33.78473800045901],[-118.2432639997751,33.784726999744535]]]},\"bbox\":[-118.24954499946641,33.7763249996235,-118.2432639997751,33.78473800045901]},{\"id\":\"23\",\"type\":\"Feature\",\"properties\":{},\"geometry\":{\"type\":\"Polygon\",\"coordinates\":[[[-118.25356300020891,33.7832090005054],[-118.2527209989113,33.78325500038365],[-118.25272399972856,33.783292999723905],[-118.25160699965474,33.78335300058361],[-118.25041700036982,33.78341699958575],[-118.2504139995327,33.78344600013532],[-118.2504170001501,33.78348000048685],[-118.24984400034361,33.78351100114907],[-118.24954399947386,33.783527000591505],[-118.24953999948583,33.783454999178154],[-118.24954499946641,33.78329000023667],[-118.24945700020909,33.78216899995794],[-118.24934000057227,33.78067999990209],[-118.24942000049056,33.780675000077046],[-118.24930599946208,33.77922400055494],[-118.24919199989202,33.77777400044448],[-118.24909300032192,33.77652299940392],[-118.2490809999082,33.77638099989515],[-118.24907699995045,33.7763249996235],[-118.24893099981978,33.77633300049505],[-118.24945400026715,33.775850999532395],[-118.24977999942233,33.775562000491654],[-118.25028900066062,33.77513200038848],[-118.25072200062917,33.774782000457684],[-118.25120299961823,33.77440899924632],[-118.25152000005446,33.774173999167374],[-118.25194999975925,33.77386499973376],[-118.25275999907656,33.77330399996934],[-118.25338199876622,33.77291700070143],[-118.2535239998391,33.772831999958115],[-118.25380099971939,33.772613999234046],[-118.25463499973372,33.772059000140494],[-118.25513099999685,33.771765999704606],[-118.25524899996236,33.77171299930387],[-118.25571300032388,33.77160300042674],[-118.25629599928527,33.77157100003852],[-118.25758500006047,33.770911000190424],[-118.25780399965572,33.77078900003098],[-118.25780300022184,33.77077000019212],[-118.25780500059804,33.7707219992112],[-118.25816899924378,33.77053199948813],[-118.25836900025125,33.770428999502286],[-118.25869300072709,33.77021699957855],[-118.25901300005354,33.76996900032144],[-118.25902000018151,33.769953000352714],[-118.259041998839,33.769947000120325],[-118.2597040004357,33.769425000035405],[-118.2598639994696,33.76930199970396],[-118.26028799943512,33.76897800042752],[-118.2608810000003,33.76850399956962],[-118.26089700020209,33.7687049997536],[-118.261146999386,33.76943499994172],[-118.26123200060798,33.769684000433216],[-118.26128700028414,33.76984499983452],[-118.26174100012176,33.771175000463785],[-118.2617489994278,33.77127399936336],[-118.26186300103899,33.772725000147425],[-118.26197600031055,33.77417399962826],[-118.26067499913998,33.77424500044972],[-118.259373000015,33.774315999937585],[-118.25807200044791,33.77438599873628],[-118.2581780005315,33.775733999294225],[-118.25818600000585,33.77584400042499],[-118.25829999975697,33.77728500021689],[-118.25841399894351,33.77873499936593],[-118.25852800074321,33.78018599974688],[-118.25934500058295,33.78014199980172],[-118.25944300016064,33.78138500036264],[-118.25957399974443,33.7830550002082],[-118.25860599986993,33.783106999252205],[-118.25813699943001,33.78313300044386],[-118.2581209997339,33.78292499990208],[-118.25749600049352,33.78295800075475],[-118.25718499888534,33.78297400024465],[-118.25619700011636,33.78302499969185],[-118.25603000088677,33.7830340003008],[-118.25518299937599,33.78307699954044],[-118.2550430000948,33.78313400022545],[-118.25450000039248,33.78317600006805],[-118.25433600043273,33.78316699988021],[-118.25356300020891,33.7832090005054]]]},\"bbox\":[-118.26197600031055,33.76850399956962,-118.24893099981978,33.783527000591505]},{\"id\":\"24\",\"type\":\"Feature\",\"properties\":{},\"geometry\":{\"type\":\"Polygon\",\"coordinates\":[[[-118.25957399974443,33.7830550002082],[-118.25944300016064,33.78138500036264],[-118.25934500058295,33.78014199980172],[-118.25852800074321,33.78018599974688],[-118.25841399894351,33.77873499936593],[-118.25829999975697,33.77728500021689],[-118.25818600000585,33.77584400042499],[-118.2581780005315,33.775733999294225],[-118.25807200044791,33.77438599873628],[-118.259373000015,33.774315999937585],[-118.26067499913998,33.77424500044972],[-118.26197600031055,33.77417399962826],[-118.26208999970069,33.77562400029467],[-118.26220399961188,33.7770750012604],[-118.26231700039698,33.77852399918489],[-118.26243099916195,33.77997400005942],[-118.26252500016916,33.78121799958566],[-118.26265599960702,33.7828879997147],[-118.26200600001253,33.78292300020105],[-118.26101500015352,33.78297699982093],[-118.25957399974443,33.7830550002082]]]},\"bbox\":[-118.26265599960702,33.77417399962826,-118.25807200044791,33.7830550002082]},{\"id\":\"25\",\"type\":\"Feature\",\"properties\":{},\"geometry\":{\"type\":\"Polygon\",\"coordinates\":[[[-118.26893600010929,33.7825480003555],[-118.26881799987105,33.78104099943141],[-118.26870899957186,33.77963300011257],[-118.26893699968295,33.77962099995786],[-118.26989099986669,33.779569000228065],[-118.27023799977637,33.77955000011571],[-118.27107299907458,33.779504999765265],[-118.27153999884963,33.77947999991877],[-118.2722560003489,33.77943999935237],[-118.27284100011941,33.779409000076186],[-118.27414199980173,33.779338000657],[-118.27418999940325,33.7794900003346],[-118.27428899925461,33.780751000018306],[-118.27440699921033,33.78225900070537],[-118.2731059995687,33.782328999828124],[-118.27248599973036,33.78236299883842],[-118.2718939989305,33.7823950001419],[-118.27185799990589,33.782388999916456],[-118.27130099975729,33.78241900039914],[-118.27117699989593,33.782425999629574],[-118.27011900049487,33.782483000070506],[-118.26904499997731,33.78254099934147],[-118.26893600010929,33.7825480003555]]]},\"bbox\":[-118.27440699921033,33.779338000657,-118.26870899957186,33.7825480003555]},{\"id\":\"26\",\"type\":\"Feature\",\"properties\":{},\"geometry\":{\"type\":\"Polygon\",\"coordinates\":[[[-118.26893699968295,33.77962099995786],[-118.2688240000576,33.77817000021398],[-118.26870999919119,33.77671999991524],[-118.27001100048105,33.776648999569176],[-118.27131300093238,33.77657799955966],[-118.27261400012476,33.77650700006425],[-118.27391600065546,33.77643600001372],[-118.27397200113492,33.77716199998927],[-118.27402900035625,33.77788699985029],[-118.27414199980173,33.779338000657],[-118.27284100011941,33.779409000076186],[-118.2722560003489,33.77943999935237],[-118.27153999884963,33.77947999991877],[-118.27107299907458,33.779504999765265],[-118.27023799977637,33.77955000011571],[-118.26989099986669,33.779569000228065],[-118.26893699968295,33.77962099995786]]]},\"bbox\":[-118.27414199980173,33.77643600001372,-118.26870999919119,33.77962099995786]},{\"id\":\"27\",\"type\":\"Feature\",\"properties\":{},\"geometry\":{\"type\":\"Polygon\",\"coordinates\":[[[-118.26839700068167,33.78257699943921],[-118.26775399971652,33.78261199977874],[-118.2672830003839,33.78263699984742],[-118.2667369999402,33.78266700072235],[-118.26616800026667,33.78269800043432],[-118.26506300031512,33.782758000263634],[-118.26395699978255,33.78281800020367],[-118.26265599960702,33.7828879997147],[-118.26252500016916,33.78121799958566],[-118.26243099916195,33.77997400005942],[-118.26372800040721,33.77990399925229],[-118.26483400039358,33.77984400014745],[-118.2650330002334,33.77983300020631],[-118.26633399964122,33.779762000825926],[-118.26650799922947,33.77975300009029],[-118.26752599953961,33.779697000406244],[-118.26763600046671,33.77969099914337],[-118.26870899957186,33.77963300011257],[-118.26881799987105,33.78104099943141],[-118.26893600010929,33.7825480003555],[-118.26839700068167,33.78257699943921]]]},\"bbox\":[-118.26893600010929,33.77963300011257,-118.26243099916195,33.7828879997147]},{\"id\":\"28\",\"type\":\"Feature\",\"properties\":{},\"geometry\":{\"type\":\"Polygon\",\"coordinates\":[[[-118.26870899957186,33.77963300011257],[-118.26763600046671,33.77969099914337],[-118.26752599953961,33.779697000406244],[-118.26650799922947,33.77975300009029],[-118.26633399964122,33.779762000825926],[-118.2650330002334,33.77983300020631],[-118.26483400039358,33.77984400014745],[-118.26372800040721,33.77990399925229],[-118.26243099916195,33.77997400005942],[-118.26231700039698,33.77852399918489],[-118.26220399961188,33.7770750012604],[-118.26350500019319,33.77700399958087],[-118.26480600022482,33.77693300014401],[-118.26610800053925,33.776861999303016],[-118.26740899957042,33.77679099983201],[-118.26870999919119,33.77671999991524],[-118.2688240000576,33.77817000021398],[-118.26893699968295,33.77962099995786],[-118.26870899957186,33.77963300011257]]]},\"bbox\":[-118.26893699968295,33.77671999991524,-118.26220399961188,33.77997400005942]},{\"id\":\"29\",\"type\":\"Feature\",\"properties\":{},\"geometry\":{\"type\":\"Polygon\",\"coordinates\":[[[-118.26870999919119,33.77671999991524],[-118.26859699993491,33.77526999963973],[-118.2684829999624,33.773819001080746],[-118.26837000026815,33.77236900004068],[-118.26825600071662,33.77091900004674],[-118.26955799992108,33.77084700012137],[-118.27085899981755,33.77077600094821],[-118.27216099992015,33.7707050003162],[-118.2734619999173,33.770634000221115],[-118.27357500054656,33.77208499888854],[-118.27368899964475,33.773534999967346],[-118.27380199978028,33.774986000570124],[-118.27385600020854,33.77567399918018],[-118.2738589991762,33.77571099970339],[-118.27391600065546,33.77643600001372],[-118.27261400012476,33.77650700006425],[-118.27131300093238,33.77657799955966],[-118.27001100048105,33.776648999569176],[-118.26870999919119,33.77671999991524]]]},\"bbox\":[-118.27391600065546,33.770634000221115,-118.26825600071662,33.77671999991524]},{\"id\":\"30\",\"type\":\"Feature\",\"properties\":{},\"geometry\":{\"type\":\"Polygon\",\"coordinates\":[[[-118.26220399961188,33.7770750012604],[-118.26208999970069,33.77562400029467],[-118.26197600031055,33.77417399962826],[-118.26186300103899,33.772725000147425],[-118.2617489994278,33.77127399936336],[-118.26174100012176,33.771175000463785],[-118.26128700028414,33.76984499983452],[-118.26123200060798,33.769684000433216],[-118.261146999386,33.76943499994172],[-118.26089700020209,33.7687049997536],[-118.2608810000003,33.76850399956962],[-118.2612940002231,33.7681749997671],[-118.26150500064747,33.76800200043191],[-118.26172100020659,33.767855999629575],[-118.26198699979562,33.76769699923133],[-118.26214000033906,33.767634999840176],[-118.26233499992361,33.76756499948248],[-118.2625249998921,33.76752100038568],[-118.26275600032562,33.76748799907734],[-118.26294699933393,33.767479000111734],[-118.26314200015936,33.7674879995032],[-118.26337499964684,33.76753099999476],[-118.26365299997083,33.767616000315726],[-118.26399599978174,33.76774499992533],[-118.26409000022728,33.76777500023523],[-118.26493600034408,33.76804699892189],[-118.26554200072685,33.76821300045975],[-118.26657399973026,33.768489000614004],[-118.26675199993451,33.76855300004297],[-118.26676699878107,33.76859000044201],[-118.26695499978491,33.77099000008489],[-118.26825600071662,33.77091900004674],[-118.26837000026815,33.77236900004068],[-118.2684829999624,33.773819001080746],[-118.26859699993491,33.77526999963973],[-118.26870999919119,33.77671999991524],[-118.26740899957042,33.77679099983201],[-118.26610800053925,33.776861999303016],[-118.26480600022482,33.77693300014401],[-118.26350500019319,33.77700399958087],[-118.26220399961188,33.7770750012604]]]},\"bbox\":[-118.26870999919119,33.767479000111734,-118.2608810000003,33.7770750012604]},{\"id\":\"31\",\"type\":\"Feature\",\"properties\":{},\"geometry\":{\"type\":\"Polygon\",\"coordinates\":[[[-118.27950000021674,33.77904399995448],[-118.2794650003079,33.77859600087604],[-118.27943300019047,33.778178000279844],[-118.27942399981528,33.777992000510466],[-118.2794270008462,33.77783199978771],[-118.27949600047207,33.77730400027267],[-118.27951199986843,33.77718800039957],[-118.27951599908256,33.77711900010062],[-118.27949599943355,33.77643400010069],[-118.27949200099108,33.77635100079724],[-118.27947699916302,33.77621600100503],[-118.27944799933903,33.77608600016971],[-118.27939400058989,33.775971999816385],[-118.27920599959702,33.77557899975232],[-118.27895699969265,33.77505099953212],[-118.27882700061257,33.77472699944956],[-118.27837300031615,33.7747510005043],[-118.27807099983906,33.77475199980411],[-118.27770599936558,33.77477200044948],[-118.27640499978156,33.774844000454586],[-118.27651799979463,33.77629400054063],[-118.27521699994915,33.77636499959854],[-118.27391600065546,33.77643600001372],[-118.2738589991762,33.77571099970339],[-118.27385600020854,33.77567399918018],[-118.27380199978028,33.774986000570124],[-118.27368899964475,33.773534999967346],[-118.27357500054656,33.77208499888854],[-118.2734619999173,33.770634000221115],[-118.27476300050515,33.77056299967901],[-118.27606399948644,33.77049200046018],[-118.27736600097408,33.770420000448595],[-118.27867099948736,33.77034899965369],[-118.27877399979576,33.77025300020636],[-118.27912199975005,33.77012599944876],[-118.27929900132352,33.77005000079367],[-118.27940599995513,33.76999400004147],[-118.27951100030195,33.76993000045654],[-118.27961000044762,33.76986099885765],[-118.27970300056089,33.769784999321494],[-118.27979000031145,33.769704998923665],[-118.27986999924939,33.76961900009713],[-118.28078899912849,33.768516999229725],[-118.28088000012592,33.768388999873814],[-118.28096000071079,33.76825700060857],[-118.28104500011092,33.768085001192674],[-118.28109899972041,33.76794399994868],[-118.28113200043146,33.76783600008472],[-118.28115899952063,33.767727000141974],[-118.28117199970337,33.76765400011838],[-118.28121000011961,33.76736100047917],[-118.2812200004759,33.76740499964797],[-118.28124400013806,33.7674959997121],[-118.28130799980558,33.76763099970147],[-118.28134700028495,33.76771400056106],[-118.28145099895505,33.767877000287065],[-118.28149399979247,33.767963000110626],[-118.28109300049822,33.768796000099485],[-118.28027700001014,33.7704929995451],[-118.28017100016416,33.77073799903459],[-118.2800740008757,33.770987000409136],[-118.27998900013458,33.771239000208396],[-118.27991300053165,33.771492000369655],[-118.27983499937486,33.77180999987774],[-118.2798160001137,33.7718959997531],[-118.27977199945967,33.77213500003233],[-118.27973399997282,33.7723950002781],[-118.27970700142154,33.77265500037416],[-118.27969099946263,33.77291600048235],[-118.27968600069863,33.773177999802975],[-118.27969899984664,33.773569999377386],[-118.27971999984062,33.77383399988156],[-118.27978799985654,33.77467700037527],[-118.27995900030514,33.7746680004286],[-118.28023399972811,33.77465400070269],[-118.28028199976694,33.77508500096774],[-118.28163100033096,33.77501199960512],[-118.28165599966124,33.775446000357576],[-118.2817049994963,33.77631400047849],[-118.28175299975715,33.777180999662285],[-118.28177399979577,33.777540000104835],[-118.28206100030508,33.7780340001372],[-118.28242700007429,33.77866699988945],[-118.28247000009704,33.77874300051026],[-118.2824650003465,33.77888100036444],[-118.28194800069421,33.77890999962348],[-118.28090499965587,33.77896700061133],[-118.28031100105211,33.7790000001263],[-118.2801399999443,33.779008999787095],[-118.27950000021674,33.77904399995448]]]},\"bbox\":[-118.28247000009704,33.76736100047917,-118.2734619999173,33.77904399995448]},{\"id\":\"32\",\"type\":\"Feature\",\"properties\":{},\"geometry\":{\"type\":\"Polygon\",\"coordinates\":[[[-118.27414199980173,33.779338000657],[-118.27402900035625,33.77788699985029],[-118.27397200113492,33.77716199998927],[-118.27391600065546,33.77643600001372],[-118.27521699994915,33.77636499959854],[-118.27651799979463,33.77629400054063],[-118.27640499978156,33.774844000454586],[-118.27770599936558,33.77477200044948],[-118.27807099983906,33.77475199980411],[-118.27837300031615,33.7747510005043],[-118.27882700061257,33.77472699944956],[-118.27895699969265,33.77505099953212],[-118.27920599959702,33.77557899975232],[-118.27939400058989,33.775971999816385],[-118.27944799933903,33.77608600016971],[-118.27947699916302,33.77621600100503],[-118.27949200099108,33.77635100079724],[-118.27949599943355,33.77643400010069],[-118.27951599908256,33.77711900010062],[-118.27951199986843,33.77718800039957],[-118.27949600047207,33.77730400027267],[-118.2794270008462,33.77783199978771],[-118.27942399981528,33.777992000510466],[-118.27943300019047,33.778178000279844],[-118.2794650003079,33.77859600087604],[-118.27950000021674,33.77904399995448],[-118.27815399976848,33.77911799990289],[-118.27678000036983,33.779192999976644],[-118.27545600071566,33.7792659997383],[-118.27414199980173,33.779338000657]]]},\"bbox\":[-118.27951599908256,33.77472699944956,-118.27391600065546,33.779338000657]},{\"id\":\"33\",\"type\":\"Feature\",\"properties\":{},\"geometry\":{\"type\":\"Polygon\",\"coordinates\":[[[-118.22508599929192,33.82547599983571],[-118.22507199963806,33.825439000136576],[-118.2250040004786,33.82526000049772],[-118.22498999958806,33.82522199968558],[-118.22493199928746,33.825068000917554],[-118.22488999982878,33.82495299919571],[-118.22487499928157,33.82491300042008],[-118.2247609998623,33.824606999943036],[-118.22467599945716,33.82438100017203],[-118.22457600053168,33.82438100042946],[-118.2245759997489,33.82428800061909],[-118.22460399894975,33.82428800011568],[-118.22460299964366,33.82420199941845],[-118.22459000027048,33.823483000085155],[-118.22458299974434,33.8227179993579],[-118.22456699917466,33.82194000014243],[-118.22456799961927,33.8217310007989],[-118.22456799972574,33.821650000117785],[-118.22456799968818,33.821606999785075],[-118.22457000006071,33.821567999867675],[-118.22450400005893,33.82156800044315],[-118.22333900028329,33.815811000134715],[-118.22275699986561,33.81293500103083],[-118.22276100002189,33.81277800017574],[-118.22276800029532,33.81272799944656],[-118.2227430010657,33.81271299941316],[-118.2224420001898,33.81245199919398],[-118.22244200049394,33.81187900033815],[-118.22243900006983,33.80823600046313],[-118.22243699941396,33.806347998845474],[-118.22243599943702,33.804578000294626],[-118.22243599925714,33.80444800009549],[-118.22243600048684,33.8041519998166],[-118.22253999999775,33.80386700041768],[-118.22364099983572,33.80083499960457],[-118.22432999941455,33.79894600032221],[-118.225018000319,33.797055999951674],[-118.22543799984965,33.79589199974649],[-118.22585900010952,33.79472899892579],[-118.22679700064434,33.79214800103091],[-118.22687600032091,33.79154300002771],[-118.22696599992307,33.79086000065236],[-118.22723100026953,33.7909520001383],[-118.22729299892765,33.79078999915471],[-118.22734099986293,33.79080599918902],[-118.22751200040345,33.79036800083645],[-118.22768100024173,33.78994400080908],[-118.22737899983359,33.7897020004122],[-118.22630000011783,33.7885499997222],[-118.22628999989378,33.78853899981471],[-118.22599199957098,33.78822099995023],[-118.22586799959915,33.78813199962849],[-118.2257099998064,33.78802399926127],[-118.22557499954259,33.787908000296454],[-118.22550900019378,33.78783300027188],[-118.22547100006112,33.787782000327084],[-118.22545000014422,33.787730999228835],[-118.22544099929016,33.78769300004304],[-118.22542000040607,33.787564000230134],[-118.22540500053415,33.78747199933833],[-118.22536799912983,33.78717799963491],[-118.22517500031394,33.787348999975194],[-118.22395999981927,33.786051999709755],[-118.22343799979348,33.78549500021896],[-118.22239600063797,33.784381000498094],[-118.22157999999943,33.783510000698215],[-118.2215110005525,33.78343699997533],[-118.22111599958878,33.7830139998488],[-118.22111299956573,33.78299500002987],[-118.22109100018947,33.782987999053034],[-118.22074900031745,33.78262299956747],[-118.22066900028155,33.78253699964536],[-118.22088100017989,33.7823769997311],[-118.22172799958292,33.78173999988343],[-118.22199900036888,33.78153600074527],[-118.22668300052341,33.778011000454846],[-118.22684299990176,33.77789100063667],[-118.23086799975277,33.77484800061083],[-118.23130400096541,33.77452199937088],[-118.2315679998783,33.77432500057353],[-118.23594299984745,33.77105599992475],[-118.23998799939646,33.768007000464536],[-118.24007700082468,33.76794000073471],[-118.24015000000044,33.7678840006255],[-118.2402239990986,33.76782899997719],[-118.24035200080176,33.76773199990947],[-118.24038700068859,33.76770599997882],[-118.24055999945375,33.767571000424354],[-118.24091799977982,33.767305999262724],[-118.24143900007469,33.76691300046307],[-118.24150000023656,33.76692099992186],[-118.241553000141,33.766899999290835],[-118.24182300032406,33.766658000339],[-118.24190800095188,33.766623999924384],[-118.24203300007109,33.7665909998423],[-118.24209899988202,33.76655800003115],[-118.24276299920726,33.766426000310595],[-118.24277699981661,33.76639800039772],[-118.24293499957554,33.766381000130686],[-118.24412799934191,33.766080999821696],[-118.24444199989662,33.76600199975454],[-118.24492899963128,33.765875999783056],[-118.24509300024174,33.7657869992767],[-118.24536900054412,33.76577799992685],[-118.24540899983681,33.765777000483325],[-118.2455140006814,33.765760000437055],[-118.24577100002516,33.7656889991694],[-118.24590900080449,33.76564999962826],[-118.24617899969581,33.7655460003128],[-118.24617399983502,33.76538800017985],[-118.24617199979724,33.76534099962349],[-118.24632399932925,33.76533000073245],[-118.24638299985725,33.76531999940058],[-118.24640900035561,33.765291000276996],[-118.24645500017583,33.76530700073513],[-118.24648799971177,33.765318999523316],[-118.24652800065175,33.765407000033804],[-118.24659900021797,33.76542399922193],[-118.24663999962765,33.765389999780474],[-118.2466399995797,33.765324999729636],[-118.24663999983468,33.7652909998025],[-118.24668600087158,33.76529300047874],[-118.24675000052387,33.76529000030568],[-118.24700800028182,33.76527999998171],[-118.24827199974872,33.76484999966128],[-118.24836400002638,33.76479499920174],[-118.24876099936138,33.76465699917626],[-118.2491050010211,33.764537999703116],[-118.2491860003515,33.76450999934659],[-118.24955499939269,33.764498999511744],[-118.24996299997738,33.764313000313514],[-118.2501079987209,33.764318000413965],[-118.25024599914596,33.76467499925423],[-118.25044400013353,33.76511900109402],[-118.25048300053726,33.76515700088903],[-118.25048400036395,33.76525599999504],[-118.25050300054886,33.765267999991515],[-118.25053599980866,33.765350999911036],[-118.24972099953044,33.76565200023183],[-118.24971400063865,33.76578999963417],[-118.24972700002833,33.76591099958495],[-118.25001800005101,33.76642500053708],[-118.25018899925408,33.766728999926386],[-118.25039899946233,33.7669230001076],[-118.2504920002997,33.76695000019785],[-118.25062299994237,33.766916999363765],[-118.25075999954126,33.76691100069982],[-118.25090400033302,33.76690499977169],[-118.25090400047681,33.76709500002167],[-118.25090499967305,33.76802099962297],[-118.25080799981055,33.76798399998126],[-118.25071600008647,33.76765299982385],[-118.25066300021959,33.76762800027385],[-118.25034099979621,33.76747900048337],[-118.2498900012411,33.76708800071163],[-118.24911099982619,33.76641300001511],[-118.24791700090802,33.76537899954996],[-118.24779900083786,33.76533500038169],[-118.24775600069054,33.76536300038575],[-118.2475880011935,33.76547699937438],[-118.24756199980894,33.76572999933378],[-118.24786499949313,33.766076999743056],[-118.24782599912854,33.766155999580235],[-118.24779900001134,33.766210000281994],[-118.24754199969681,33.7663799996183],[-118.24895899992833,33.768176000317474],[-118.24926699949279,33.76854899959017],[-118.24934100034804,33.76863899979131],[-118.24947199971723,33.768555999502986],[-118.24965600078006,33.76825900034981],[-118.24975499992631,33.76816999978542],[-118.24993299940711,33.768236000140284],[-118.25003799953657,33.76855000069842],[-118.25006500073786,33.76880300057168],[-118.24971599935411,33.76914899974966],[-118.24973499962847,33.769257999720864],[-118.24975799998278,33.76938700016734],[-118.24977600009755,33.76949099974937],[-118.24954999993253,33.769694999398226],[-118.24956099907284,33.76971099962026],[-118.24945700087729,33.76985700085688],[-118.24936200048344,33.769991000050204],[-118.24926300008688,33.770221999470024],[-118.24910099966037,33.77040300084689],[-118.24908500063458,33.77041999958012],[-118.24911899965254,33.770460000422126],[-118.24919100014151,33.77054499914074],[-118.24938799982257,33.77072099929355],[-118.2493949992204,33.7708430000333],[-118.2493430002668,33.77109599988388],[-118.24896099995259,33.771860000098734],[-118.2488099994733,33.771908999674395],[-118.24848799919288,33.771870999332926],[-118.24831000049173,33.77190500014224],[-118.24819800001858,33.771991999993915],[-118.24799400006687,33.77207499968852],[-118.24762999992672,33.7725989998145],[-118.24760100024673,33.77263900028238],[-118.24751800063854,33.772759000271314],[-118.24746900035036,33.77282799962841],[-118.24745499970102,33.772849000110675],[-118.24741500015018,33.772880000836324],[-118.24727299986472,33.77298699995442],[-118.24719200031033,33.77304800000493],[-118.24710500016437,33.77309600084061],[-118.24671499935286,33.773312999657335],[-118.2463489996096,33.77351599960483],[-118.2457049999294,33.77383800080628],[-118.2456580013383,33.773862000225925],[-118.24497400020365,33.774308000307634],[-118.24307200027074,33.77544099957403],[-118.2426840004513,33.77572700015879],[-118.2424670001387,33.77584399994319],[-118.2421709997439,33.77605200002248],[-118.24193399947914,33.77628200025048],[-118.24173000046719,33.77634299984519],[-118.2415459995913,33.776521000665625],[-118.24147299997735,33.77670200040667],[-118.2414029998177,33.77673400050824],[-118.24135299974617,33.776757000071505],[-118.24130599988361,33.776778000569074],[-118.2414179999198,33.77698100156028],[-118.24157000035724,33.777190000389375],[-118.2416049991084,33.77735399951005],[-118.24177300017347,33.777404999559145],[-118.24182900021015,33.77742199981455],[-118.24194700062277,33.77740799950425],[-118.24216500036168,33.77738200059639],[-118.24262100035452,33.77735399917703],[-118.2427710003271,33.777344999567696],[-118.2433229989617,33.77706899969806],[-118.24346799970206,33.77696299929552],[-118.24347099994164,33.77692600048319],[-118.24347499964365,33.77686000072946],[-118.24364599958099,33.776715999903715],[-118.24353399934535,33.776610999646145],[-118.24579099976779,33.77543399997767],[-118.24673899924665,33.7749509999334],[-118.24685099975585,33.77504899923695],[-118.24688000029627,33.7750909995014],[-118.24689700022888,33.775115999917844],[-118.246962999542,33.77511500021721],[-118.24704100078944,33.775064999890645],[-118.24714700038285,33.77497199934812],[-118.24729600038769,33.77493399978802],[-118.24747699974701,33.774844000030406],[-118.24764099983409,33.77476099968069],[-118.24777199994641,33.77469699974819],[-118.24820600088695,33.77443300068828],[-118.24869300029196,33.774070000092266],[-118.24891000024866,33.773795000425245],[-118.24907499950079,33.77368900005305],[-118.249469000192,33.77326600017769],[-118.24946900015557,33.77297499995291],[-118.2496270002224,33.77269400065516],[-118.24979100038418,33.77262300072688],[-118.24987000007302,33.77247100047808],[-118.24983100068317,33.77239899943316],[-118.24973200056645,33.77212299947236],[-118.24971199992873,33.772045998964046],[-118.25009300068737,33.77140199952771],[-118.25046099906595,33.77071099999027],[-118.25090400078905,33.77016300018217],[-118.2512689998025,33.769767000118556],[-118.25143399878942,33.769579999849526],[-118.25176200106942,33.76922299964308],[-118.25226400011373,33.768702000017434],[-118.25255199974193,33.76839199984835],[-118.25282299984379,33.7680850002429],[-118.25288899964828,33.768001000453665],[-118.25355400059716,33.76734899918716],[-118.25382599971229,33.7670219995211],[-118.25412899969254,33.76666899928918],[-118.25530700017808,33.76552100011017],[-118.25533799984656,33.76549100078022],[-118.25555999982446,33.76564899987547],[-118.25561800029668,33.765583000419305],[-118.25562599939985,33.765573999537125],[-118.25578600053996,33.7656529995443],[-118.25586900038103,33.765595999485186],[-118.25589700088285,33.765607000498235],[-118.25591500048843,33.76561599971867],[-118.25607800039995,33.76569799920719],[-118.2562010004168,33.76560900016452],[-118.25585100041381,33.76535999927919],[-118.25582299951749,33.76534000063976],[-118.25593799912106,33.76521500027014],[-118.25574899994857,33.765090000158565],[-118.25585500100517,33.76500100074256],[-118.25601200041994,33.76513300018449],[-118.2568170000556,33.76428299932949],[-118.25673499991541,33.76422100094932],[-118.25657900093107,33.76431100069322],[-118.25647199970359,33.76422200027835],[-118.25686600002041,33.76382100001351],[-118.25697299956066,33.76393199896008],[-118.25681699976855,33.764061999465895],[-118.25692400102744,33.764172000017574],[-118.25728899945256,33.76376199973284],[-118.25732000056465,33.76372499999237],[-118.25736900045439,33.763672000545824],[-118.25750799926396,33.76351599984525],[-118.25777100036379,33.76320700007922],[-118.25782400077355,33.7631330000494],[-118.25784000051128,33.76311399952717],[-118.25781100002168,33.763102999830416],[-118.25774600056585,33.76307000036317],[-118.25757300055145,33.76316000020813],[-118.25752800026413,33.763175999212486],[-118.25751599984842,33.763130999943584],[-118.25782799971572,33.762800999817586],[-118.2579179997451,33.76289700036173],[-118.25790200060216,33.76300800018911],[-118.25798399911643,33.76304099993614],[-118.25849000043986,33.76247700071662],[-118.2586260009434,33.7623259996554],[-118.25865799995859,33.76228999972787],[-118.25863299980857,33.76226800038753],[-118.2584820004674,33.76213700084986],[-118.25844800067706,33.76210700030176],[-118.2585020005626,33.762054000384566],[-118.25885499980065,33.76166399978944],[-118.25896199963213,33.76154499999358],[-118.25938100098357,33.76109000013557],[-118.2594550002988,33.761088999731534],[-118.25956200098607,33.76122199916266],[-118.2596450003688,33.762415000011615],[-118.25967300018284,33.76277600022933],[-118.25968400051931,33.76291300032567],[-118.25972800014324,33.76347500014911],[-118.25973300042631,33.76370800020095],[-118.25986100012942,33.76503599953071],[-118.2599730000839,33.76625999935411],[-118.26050400007601,33.766291000350904],[-118.26058599961311,33.766182000140695],[-118.26070000034616,33.76617799993046],[-118.26074600015009,33.76677300022592],[-118.2608810000003,33.76850399956962],[-118.26028799943512,33.76897800042752],[-118.2598639994696,33.76930199970396],[-118.2597040004357,33.769425000035405],[-118.259041998839,33.769947000120325],[-118.25902000018151,33.769953000352714],[-118.25901300005354,33.76996900032144],[-118.25869300072709,33.77021699957855],[-118.25836900025125,33.770428999502286],[-118.25816899924378,33.77053199948813],[-118.25780500059804,33.7707219992112],[-118.25780300022184,33.77077000019212],[-118.25780399965572,33.77078900003098],[-118.25758500006047,33.770911000190424],[-118.25629599928527,33.77157100003852],[-118.25571300032388,33.77160300042674],[-118.25524899996236,33.77171299930387],[-118.25513099999685,33.771765999704606],[-118.25463499973372,33.772059000140494],[-118.25380099971939,33.772613999234046],[-118.2535239998391,33.772831999958115],[-118.25338199876622,33.77291700070143],[-118.25275999907656,33.77330399996934],[-118.25194999975925,33.77386499973376],[-118.25152000005446,33.774173999167374],[-118.25120299961823,33.77440899924632],[-118.25072200062917,33.774782000457684],[-118.25028900066062,33.77513200038848],[-118.24977999942233,33.775562000491654],[-118.24945400026715,33.775850999532395],[-118.24893099981978,33.77633300049505],[-118.24845999951614,33.77679300027424],[-118.24805400005653,33.777207999426885],[-118.24785800004942,33.77742500037533],[-118.24745699965524,33.777867000096975],[-118.24723999961233,33.7781139996424],[-118.24695099925397,33.77845299988471],[-118.24666000009725,33.77881000034657],[-118.24639700004234,33.7791449993904],[-118.24621100027746,33.77939000092634],[-118.24587100060003,33.77985199989812],[-118.24561900031297,33.78021200009599],[-118.24537499923174,33.7805749995006],[-118.24516000077035,33.780904000104314],[-118.24514300025338,33.780954999989824],[-118.24508299972388,33.781075999561146],[-118.24473499999002,33.781676000012986],[-118.24461499917025,33.78188299991351],[-118.24445500018038,33.78217300049313],[-118.2442050007478,33.78264099977077],[-118.24402899922427,33.782988999001056],[-118.24378400005126,33.78350299951607],[-118.24364900040864,33.783799000671195],[-118.24348000039696,33.784190000833505],[-118.2432639997751,33.784726999744535],[-118.24316299892544,33.78499099990669],[-118.24313999976785,33.78505100034037],[-118.24291400005913,33.785661999831866],[-118.24260499982262,33.78649999983673],[-118.2425979991056,33.78651799897389],[-118.24193399924907,33.788314000525226],[-118.24180200029184,33.78866999944486],[-118.24147899980194,33.78954400001157],[-118.24115499987312,33.79041799962537],[-118.24083199967076,33.79129100109962],[-118.24033499992059,33.79263499968691],[-118.24005499965547,33.79339300061169],[-118.23945200061114,33.79502299971759],[-118.23764200002259,33.799917000015625],[-118.23757399898301,33.80022799961593],[-118.2375099997405,33.800479999956586],[-118.2374820008143,33.800481000105734],[-118.2374459995105,33.800441999761546],[-118.23540600001698,33.79825899986231],[-118.23481199977415,33.79762500056487],[-118.23367799993622,33.79641599988806],[-118.2336590007934,33.796387998865185],[-118.2336159996512,33.79638499915478],[-118.23360799916925,33.796338000386605],[-118.23354800077675,33.79627700032229],[-118.23347700036544,33.796202000205675],[-118.23322799984567,33.79593599901537],[-118.23049299996113,33.793018999829236],[-118.23026099965261,33.7927720000867],[-118.23011700058149,33.79261800076791],[-118.23004000004288,33.79254700004378],[-118.22991300020998,33.79277199988188],[-118.22976100051532,33.79299400039917],[-118.22962100075219,33.79326699911243],[-118.22950400017007,33.79353500088075],[-118.22945200042112,33.79367199910274],[-118.22885600064943,33.79526400021025],[-118.22833700108501,33.796663000223596],[-118.22819499997587,33.79738900016582],[-118.22718100046251,33.80010000021335],[-118.2245679998344,33.804336000670034],[-118.22443200049888,33.80458600025706],[-118.2243130002158,33.80484199974992],[-118.22429999993561,33.8048729999448],[-118.22428599912621,33.804888999599214],[-118.22425500040978,33.80496799995901],[-118.22421299986055,33.80507200081488],[-118.22418600086945,33.80514099953492],[-118.22409899923211,33.805405999544874],[-118.22402899981724,33.80567500014115],[-118.22397600016717,33.80594600002096],[-118.22394000043221,33.80621900010785],[-118.22393900009244,33.806230999404725],[-118.22392599991127,33.80642299997865],[-118.22391400102781,33.806469999898496],[-118.22391200107347,33.806505999912325],[-118.22390900108843,33.80660399985663],[-118.22390799981821,33.80668299943761],[-118.22391000061872,33.806708000392234],[-118.22391200054346,33.80679999982359],[-118.22391599897854,33.80688099953355],[-118.22392100041645,33.806973999202235],[-118.22392799963407,33.80705299946388],[-118.2239519995977,33.80724100077595],[-118.22395799998988,33.80728499939868],[-118.22396800038469,33.807359000528244],[-118.22400299976945,33.80754499940202],[-118.22405399986104,33.80775499881735],[-118.22408900029951,33.80788699987571],[-118.22412699973009,33.808008999005516],[-118.2241879992281,33.80818500025894],[-118.22427799978975,33.808420000081085],[-118.22534100026836,33.81090100001183],[-118.2253869999774,33.811008000540696],[-118.22543600009406,33.811250000188416],[-118.22546900045441,33.81141300001706],[-118.22568400007107,33.81247199923325],[-118.22637100032871,33.815860999937975],[-118.22752599948377,33.82156399999464],[-118.22794299932029,33.823595000485234],[-118.2280660008552,33.8241949996254],[-118.22850299941247,33.82437500057952],[-118.22843899903913,33.824547999407336],[-118.228116999892,33.82541699994488],[-118.22804099970267,33.825622999805496],[-118.22810899939707,33.82562700014783],[-118.22807700049391,33.82571000012601],[-118.22777199953667,33.82651100078615],[-118.22776499971555,33.8265300002676],[-118.22774299909835,33.82658800038588],[-118.22715199965417,33.8281400003596],[-118.22711200069975,33.82824300005141],[-118.22702700052054,33.828466999119],[-118.22662200088305,33.829531000009766],[-118.22661100050279,33.82948500004729],[-118.22603600004626,33.82801700038379],[-118.22514200068876,33.825625999883904],[-118.22508599929192,33.82547599983571]]]},\"bbox\":[-118.2608810000003,33.761088999731534,-118.22066900028155,33.829531000009766]},{\"id\":\"34\",\"type\":\"Feature\",\"properties\":{},\"geometry\":{\"type\":\"Polygon\",\"coordinates\":[[[-118.28448100055849,33.79084800027404],[-118.28437499984302,33.79076999946943],[-118.2837569996918,33.789627000130345],[-118.28253399972178,33.78961500066404],[-118.28239099960496,33.78961000097695],[-118.28231199982253,33.78950199932713],[-118.28222600013625,33.78937400035839],[-118.28215700054494,33.789240000373255],[-118.28210500095852,33.789100000301666],[-118.28207599978627,33.78897999972046],[-118.2816289999312,33.78603399989614],[-118.28163500032531,33.78600799972304],[-118.28143000055836,33.784652000145634],[-118.28139399978969,33.7844089997698],[-118.28120699957873,33.783177000752744],[-118.28106000009983,33.78220100008588],[-118.28104100006844,33.7820549999299],[-118.28102299938726,33.78179899981951],[-118.28101499989994,33.78066499960743],[-118.28100499974133,33.780548999377835],[-118.28188399936487,33.78044700029514],[-118.28245600025842,33.779362999585864],[-118.2824650003465,33.77888100036444],[-118.28247000009704,33.77874300051026],[-118.28242700007429,33.77866699988945],[-118.28206100030508,33.7780340001372],[-118.28177399979577,33.777540000104835],[-118.28175299975715,33.777180999662285],[-118.2817049994963,33.77631400047849],[-118.28165599966124,33.775446000357576],[-118.28163100033096,33.77501199960512],[-118.28028199976694,33.77508500096774],[-118.28023399972811,33.77465400070269],[-118.27995900030514,33.7746680004286],[-118.27978799985654,33.77467700037527],[-118.27971999984062,33.77383399988156],[-118.27969899984664,33.773569999377386],[-118.27968600069863,33.773177999802975],[-118.27969099946263,33.77291600048235],[-118.27970700142154,33.77265500037416],[-118.27973399997282,33.7723950002781],[-118.27977199945967,33.77213500003233],[-118.2798160001137,33.7718959997531],[-118.27983499937486,33.77180999987774],[-118.27991300053165,33.771492000369655],[-118.27998900013458,33.771239000208396],[-118.2800740008757,33.770987000409136],[-118.28017100016416,33.77073799903459],[-118.28027700001014,33.7704929995451],[-118.28109300049822,33.768796000099485],[-118.28149399979247,33.767963000110626],[-118.28208099992581,33.76674400006951],[-118.28226599947577,33.76674299957452],[-118.28245599994996,33.766741999625765],[-118.29387400038286,33.766759000491426],[-118.2938490001055,33.766539000508],[-118.2938270001483,33.76639599987947],[-118.29381199930303,33.76630099990507],[-118.29727900094997,33.76631399927877],[-118.29956799926045,33.76632300004498],[-118.3005130007225,33.76629100044454],[-118.30131200043408,33.76626599940292],[-118.30211099948666,33.76624099994722],[-118.30381000011027,33.76626500017161],[-118.30390400089573,33.76622499943257],[-118.30476199946841,33.76623299948935],[-118.30512100010237,33.76623599920515],[-118.30722500033382,33.76622900033239],[-118.31065200033196,33.76623000082311],[-118.31047700081109,33.76685299971457],[-118.31022800091822,33.76774700034852],[-118.30998700049489,33.768611000282775],[-118.30951699998877,33.770205999810244],[-118.3095019998863,33.77023699956318],[-118.30949899928164,33.7702690006422],[-118.30893800097927,33.772169999765964],[-118.30892699913616,33.7722120009265],[-118.30891500011585,33.772255000065314],[-118.30890199952664,33.772307999967786],[-118.30888899999918,33.77236099988163],[-118.30887700066363,33.772403000592185],[-118.30886799932365,33.77244600020264],[-118.30885399951799,33.77251000020268],[-118.30884899998028,33.7725310005783],[-118.3088410003885,33.77257399977898],[-118.30883300051656,33.77261600056039],[-118.30882099950863,33.772691999559584],[-118.30881299961416,33.77273400033384],[-118.30880699944014,33.77277799977682],[-118.30880000023146,33.772820000128945],[-118.30879300016865,33.77286300068194],[-118.30878799959758,33.7729069996844],[-118.30878400028121,33.77294900054998],[-118.30877700090416,33.773004000088065],[-118.30877199899575,33.77307900033922],[-118.30876899955939,33.773121999178926],[-118.3087640004711,33.77317699875743],[-118.30875999920829,33.77325200037954],[-118.30875699979559,33.773317999656676],[-118.30875499971803,33.77338300098214],[-118.30875400013048,33.77341500018918],[-118.30875399905513,33.77344700074965],[-118.30875499984379,33.773501999546774],[-118.30875499965215,33.773556000341515],[-118.30875399961127,33.77357699987464],[-118.30875400006623,33.77362000011217],[-118.30875700022996,33.77366200065065],[-118.30876199991116,33.77374599943288],[-118.30876400054173,33.773761000008044],[-118.30876500033528,33.77378899928172],[-118.30876800044086,33.77381699950842],[-118.30876999984473,33.77383600092327],[-118.30877199940839,33.773859999806355],[-118.30877600031663,33.77389300068895],[-118.30878000005684,33.77392999970586],[-118.30878300019232,33.773957999025946],[-118.30878799959282,33.774009000612054],[-118.30879099926923,33.77403499949324],[-118.3087930004992,33.77405699976973],[-118.30879799997794,33.77409899941989],[-118.30880100033951,33.77412799985355],[-118.30880599970449,33.77416500022963],[-118.30881200051086,33.77420499993892],[-118.30881800070968,33.774247000065515],[-118.30882100028151,33.77426799966905],[-118.30883100017824,33.77432400017369],[-118.30883900084278,33.774379999737135],[-118.30884699957417,33.774437000383394],[-118.3089229993575,33.77496399931926],[-118.3088499996763,33.774963999940134],[-118.30642699981462,33.774958000146654],[-118.30765300025132,33.77884299971511],[-118.3076990000046,33.77898799905201],[-118.30782600054405,33.77932799965506],[-118.30776299997937,33.77934600007986],[-118.30768700024777,33.779355000441996],[-118.30720900022435,33.779421999830724],[-118.30694400026411,33.779466000411006],[-118.30658700033351,33.77954400004643],[-118.30628499936734,33.77957999991371],[-118.30585199992667,33.77963899980254],[-118.30544700108669,33.77966999998127],[-118.30505900100302,33.77970600023323],[-118.30448099983614,33.7797470006039],[-118.30356700001919,33.779840000858336],[-118.30270900067765,33.77991199997467],[-118.30163899947667,33.78000600003596],[-118.30147900003259,33.78003500045157],[-118.30028599959532,33.780108000181535],[-118.29966700055354,33.780232000764116],[-118.29921600026974,33.78036300033044],[-118.29887399994091,33.780508000857495],[-118.2986630006758,33.78066100002595],[-118.29837899983059,33.78088699983525],[-118.29802199956227,33.7811999999432],[-118.29781099979259,33.78148300104547],[-118.29770199997999,33.78164299921268],[-118.29749200023679,33.78208000055828],[-118.29705599965429,33.78183000036621],[-118.29612800031504,33.781298999647056],[-118.2956540000969,33.78102799957506],[-118.29549199968437,33.78166199931507],[-118.29545599906405,33.7820139998628],[-118.29544700005026,33.78229300018383],[-118.29547399955565,33.782374000447675],[-118.29560899904233,33.78247300044534],[-118.29617700013787,33.78283399971372],[-118.29652900026652,33.78308599969732],[-118.29694300065137,33.78341999975718],[-118.29706999995162,33.783599999962455],[-118.29710599917836,33.783932999800726],[-118.29710599890029,33.78450999988079],[-118.29748800021896,33.78450999989833],[-118.2974879993674,33.78479899941235],[-118.29747499882642,33.78499100048176],[-118.2974459995596,33.78518100008111],[-118.29740199903782,33.785368999637754],[-118.29737899964267,33.78543600010734],[-118.29734199942536,33.78555400019706],[-118.29726699927527,33.7857349993803],[-118.29717699951725,33.78591199988125],[-118.29707199991478,33.78608300035721],[-118.2969530001039,33.786247000237644],[-118.29682099980403,33.78640400005665],[-118.29667599987386,33.78655200028372],[-118.29557700008347,33.787533999974364],[-118.29540500035473,33.78768800000664],[-118.29170299939356,33.790991999780296],[-118.29083899944466,33.790988999826595],[-118.2898850002867,33.79098599997644],[-118.2889329996506,33.790982999690264],[-118.28804499987623,33.790980999231905],[-118.28797700058243,33.79098000054815],[-118.28748399950844,33.79097900122777],[-118.28721800036939,33.790978000419265],[-118.2866129991749,33.790976000558224],[-118.28655500054323,33.790975000482796],[-118.28651799976717,33.79097400083537],[-118.28626900035134,33.790969000230234],[-118.28592600058394,33.79095700032495],[-118.28524000012445,33.79091699960735],[-118.28489699948216,33.79088999989426],[-118.28481700044802,33.79088199966226],[-118.28455600023729,33.790857000235526],[-118.284523000206,33.79085300028411],[-118.28448100055849,33.79084800027404]]]},\"bbox\":[-118.31065200033196,33.76622499943257,-118.27968600069863,33.790991999780296]}],\"bbox\":[-118.31065200033196,33.761088999731534,-118.22066900028155,33.829531000009766]},\"hovertemplate\":\"index=%{location}<br>Distance (Miles)=%{z}<extra></extra>\",\"locations\":[0,1,2,3,4,5,6,7,8,9,10,11,12,13,14,15,16,17,18,19,20,21,22,23,24,25,26,27,28,29,30,31,32,33,34],\"name\":\"\",\"subplot\":\"mapbox\",\"z\":[1.3434467689323504,1.6159098905943066,1.0059533891452426,1.5676470792211028,2.0890366488595293,1.9928396554514363,1.6290690839212032,1.7058898862770904,1.3264872464012554,1.3452981128348236,1.1896651583079503,1.0485889187625665,2.0261763969193045,1.5360148458366008,1.6775907501640648,1.8596690695172977,0.9818543322961996,1.0988730669594196,1.3775041916321868,0.37053989947032556,1.7758745886871579,0.932065187700566,2.2495763572286993,1.6912896041061387,1.6348276616146231,1.6181860773524617,1.4647846272270335,2.151149137281069,2.380520550985329,1.6782059455264113,1.6080341665598918,1.1512175752539016,0.9794850484864658,1.6823451912465617,1.4341334510100479],\"type\":\"choroplethmapbox\"}],                        {\"template\":{\"data\":{\"histogram2dcontour\":[{\"type\":\"histogram2dcontour\",\"colorbar\":{\"outlinewidth\":0,\"ticks\":\"\"},\"colorscale\":[[0.0,\"#0d0887\"],[0.1111111111111111,\"#46039f\"],[0.2222222222222222,\"#7201a8\"],[0.3333333333333333,\"#9c179e\"],[0.4444444444444444,\"#bd3786\"],[0.5555555555555556,\"#d8576b\"],[0.6666666666666666,\"#ed7953\"],[0.7777777777777778,\"#fb9f3a\"],[0.8888888888888888,\"#fdca26\"],[1.0,\"#f0f921\"]]}],\"choropleth\":[{\"type\":\"choropleth\",\"colorbar\":{\"outlinewidth\":0,\"ticks\":\"\"}}],\"histogram2d\":[{\"type\":\"histogram2d\",\"colorbar\":{\"outlinewidth\":0,\"ticks\":\"\"},\"colorscale\":[[0.0,\"#0d0887\"],[0.1111111111111111,\"#46039f\"],[0.2222222222222222,\"#7201a8\"],[0.3333333333333333,\"#9c179e\"],[0.4444444444444444,\"#bd3786\"],[0.5555555555555556,\"#d8576b\"],[0.6666666666666666,\"#ed7953\"],[0.7777777777777778,\"#fb9f3a\"],[0.8888888888888888,\"#fdca26\"],[1.0,\"#f0f921\"]]}],\"heatmap\":[{\"type\":\"heatmap\",\"colorbar\":{\"outlinewidth\":0,\"ticks\":\"\"},\"colorscale\":[[0.0,\"#0d0887\"],[0.1111111111111111,\"#46039f\"],[0.2222222222222222,\"#7201a8\"],[0.3333333333333333,\"#9c179e\"],[0.4444444444444444,\"#bd3786\"],[0.5555555555555556,\"#d8576b\"],[0.6666666666666666,\"#ed7953\"],[0.7777777777777778,\"#fb9f3a\"],[0.8888888888888888,\"#fdca26\"],[1.0,\"#f0f921\"]]}],\"heatmapgl\":[{\"type\":\"heatmapgl\",\"colorbar\":{\"outlinewidth\":0,\"ticks\":\"\"},\"colorscale\":[[0.0,\"#0d0887\"],[0.1111111111111111,\"#46039f\"],[0.2222222222222222,\"#7201a8\"],[0.3333333333333333,\"#9c179e\"],[0.4444444444444444,\"#bd3786\"],[0.5555555555555556,\"#d8576b\"],[0.6666666666666666,\"#ed7953\"],[0.7777777777777778,\"#fb9f3a\"],[0.8888888888888888,\"#fdca26\"],[1.0,\"#f0f921\"]]}],\"contourcarpet\":[{\"type\":\"contourcarpet\",\"colorbar\":{\"outlinewidth\":0,\"ticks\":\"\"}}],\"contour\":[{\"type\":\"contour\",\"colorbar\":{\"outlinewidth\":0,\"ticks\":\"\"},\"colorscale\":[[0.0,\"#0d0887\"],[0.1111111111111111,\"#46039f\"],[0.2222222222222222,\"#7201a8\"],[0.3333333333333333,\"#9c179e\"],[0.4444444444444444,\"#bd3786\"],[0.5555555555555556,\"#d8576b\"],[0.6666666666666666,\"#ed7953\"],[0.7777777777777778,\"#fb9f3a\"],[0.8888888888888888,\"#fdca26\"],[1.0,\"#f0f921\"]]}],\"surface\":[{\"type\":\"surface\",\"colorbar\":{\"outlinewidth\":0,\"ticks\":\"\"},\"colorscale\":[[0.0,\"#0d0887\"],[0.1111111111111111,\"#46039f\"],[0.2222222222222222,\"#7201a8\"],[0.3333333333333333,\"#9c179e\"],[0.4444444444444444,\"#bd3786\"],[0.5555555555555556,\"#d8576b\"],[0.6666666666666666,\"#ed7953\"],[0.7777777777777778,\"#fb9f3a\"],[0.8888888888888888,\"#fdca26\"],[1.0,\"#f0f921\"]]}],\"mesh3d\":[{\"type\":\"mesh3d\",\"colorbar\":{\"outlinewidth\":0,\"ticks\":\"\"}}],\"scatter\":[{\"fillpattern\":{\"fillmode\":\"overlay\",\"size\":10,\"solidity\":0.2},\"type\":\"scatter\"}],\"parcoords\":[{\"type\":\"parcoords\",\"line\":{\"colorbar\":{\"outlinewidth\":0,\"ticks\":\"\"}}}],\"scatterpolargl\":[{\"type\":\"scatterpolargl\",\"marker\":{\"colorbar\":{\"outlinewidth\":0,\"ticks\":\"\"}}}],\"bar\":[{\"error_x\":{\"color\":\"#2a3f5f\"},\"error_y\":{\"color\":\"#2a3f5f\"},\"marker\":{\"line\":{\"color\":\"#E5ECF6\",\"width\":0.5},\"pattern\":{\"fillmode\":\"overlay\",\"size\":10,\"solidity\":0.2}},\"type\":\"bar\"}],\"scattergeo\":[{\"type\":\"scattergeo\",\"marker\":{\"colorbar\":{\"outlinewidth\":0,\"ticks\":\"\"}}}],\"scatterpolar\":[{\"type\":\"scatterpolar\",\"marker\":{\"colorbar\":{\"outlinewidth\":0,\"ticks\":\"\"}}}],\"histogram\":[{\"marker\":{\"pattern\":{\"fillmode\":\"overlay\",\"size\":10,\"solidity\":0.2}},\"type\":\"histogram\"}],\"scattergl\":[{\"type\":\"scattergl\",\"marker\":{\"colorbar\":{\"outlinewidth\":0,\"ticks\":\"\"}}}],\"scatter3d\":[{\"type\":\"scatter3d\",\"line\":{\"colorbar\":{\"outlinewidth\":0,\"ticks\":\"\"}},\"marker\":{\"colorbar\":{\"outlinewidth\":0,\"ticks\":\"\"}}}],\"scattermapbox\":[{\"type\":\"scattermapbox\",\"marker\":{\"colorbar\":{\"outlinewidth\":0,\"ticks\":\"\"}}}],\"scatterternary\":[{\"type\":\"scatterternary\",\"marker\":{\"colorbar\":{\"outlinewidth\":0,\"ticks\":\"\"}}}],\"scattercarpet\":[{\"type\":\"scattercarpet\",\"marker\":{\"colorbar\":{\"outlinewidth\":0,\"ticks\":\"\"}}}],\"carpet\":[{\"aaxis\":{\"endlinecolor\":\"#2a3f5f\",\"gridcolor\":\"white\",\"linecolor\":\"white\",\"minorgridcolor\":\"white\",\"startlinecolor\":\"#2a3f5f\"},\"baxis\":{\"endlinecolor\":\"#2a3f5f\",\"gridcolor\":\"white\",\"linecolor\":\"white\",\"minorgridcolor\":\"white\",\"startlinecolor\":\"#2a3f5f\"},\"type\":\"carpet\"}],\"table\":[{\"cells\":{\"fill\":{\"color\":\"#EBF0F8\"},\"line\":{\"color\":\"white\"}},\"header\":{\"fill\":{\"color\":\"#C8D4E3\"},\"line\":{\"color\":\"white\"}},\"type\":\"table\"}],\"barpolar\":[{\"marker\":{\"line\":{\"color\":\"#E5ECF6\",\"width\":0.5},\"pattern\":{\"fillmode\":\"overlay\",\"size\":10,\"solidity\":0.2}},\"type\":\"barpolar\"}],\"pie\":[{\"automargin\":true,\"type\":\"pie\"}]},\"layout\":{\"autotypenumbers\":\"strict\",\"colorway\":[\"#636efa\",\"#EF553B\",\"#00cc96\",\"#ab63fa\",\"#FFA15A\",\"#19d3f3\",\"#FF6692\",\"#B6E880\",\"#FF97FF\",\"#FECB52\"],\"font\":{\"color\":\"#2a3f5f\"},\"hovermode\":\"closest\",\"hoverlabel\":{\"align\":\"left\"},\"paper_bgcolor\":\"white\",\"plot_bgcolor\":\"#E5ECF6\",\"polar\":{\"bgcolor\":\"#E5ECF6\",\"angularaxis\":{\"gridcolor\":\"white\",\"linecolor\":\"white\",\"ticks\":\"\"},\"radialaxis\":{\"gridcolor\":\"white\",\"linecolor\":\"white\",\"ticks\":\"\"}},\"ternary\":{\"bgcolor\":\"#E5ECF6\",\"aaxis\":{\"gridcolor\":\"white\",\"linecolor\":\"white\",\"ticks\":\"\"},\"baxis\":{\"gridcolor\":\"white\",\"linecolor\":\"white\",\"ticks\":\"\"},\"caxis\":{\"gridcolor\":\"white\",\"linecolor\":\"white\",\"ticks\":\"\"}},\"coloraxis\":{\"colorbar\":{\"outlinewidth\":0,\"ticks\":\"\"}},\"colorscale\":{\"sequential\":[[0.0,\"#0d0887\"],[0.1111111111111111,\"#46039f\"],[0.2222222222222222,\"#7201a8\"],[0.3333333333333333,\"#9c179e\"],[0.4444444444444444,\"#bd3786\"],[0.5555555555555556,\"#d8576b\"],[0.6666666666666666,\"#ed7953\"],[0.7777777777777778,\"#fb9f3a\"],[0.8888888888888888,\"#fdca26\"],[1.0,\"#f0f921\"]],\"sequentialminus\":[[0.0,\"#0d0887\"],[0.1111111111111111,\"#46039f\"],[0.2222222222222222,\"#7201a8\"],[0.3333333333333333,\"#9c179e\"],[0.4444444444444444,\"#bd3786\"],[0.5555555555555556,\"#d8576b\"],[0.6666666666666666,\"#ed7953\"],[0.7777777777777778,\"#fb9f3a\"],[0.8888888888888888,\"#fdca26\"],[1.0,\"#f0f921\"]],\"diverging\":[[0,\"#8e0152\"],[0.1,\"#c51b7d\"],[0.2,\"#de77ae\"],[0.3,\"#f1b6da\"],[0.4,\"#fde0ef\"],[0.5,\"#f7f7f7\"],[0.6,\"#e6f5d0\"],[0.7,\"#b8e186\"],[0.8,\"#7fbc41\"],[0.9,\"#4d9221\"],[1,\"#276419\"]]},\"xaxis\":{\"gridcolor\":\"white\",\"linecolor\":\"white\",\"ticks\":\"\",\"title\":{\"standoff\":15},\"zerolinecolor\":\"white\",\"automargin\":true,\"zerolinewidth\":2},\"yaxis\":{\"gridcolor\":\"white\",\"linecolor\":\"white\",\"ticks\":\"\",\"title\":{\"standoff\":15},\"zerolinecolor\":\"white\",\"automargin\":true,\"zerolinewidth\":2},\"scene\":{\"xaxis\":{\"backgroundcolor\":\"#E5ECF6\",\"gridcolor\":\"white\",\"linecolor\":\"white\",\"showbackground\":true,\"ticks\":\"\",\"zerolinecolor\":\"white\",\"gridwidth\":2},\"yaxis\":{\"backgroundcolor\":\"#E5ECF6\",\"gridcolor\":\"white\",\"linecolor\":\"white\",\"showbackground\":true,\"ticks\":\"\",\"zerolinecolor\":\"white\",\"gridwidth\":2},\"zaxis\":{\"backgroundcolor\":\"#E5ECF6\",\"gridcolor\":\"white\",\"linecolor\":\"white\",\"showbackground\":true,\"ticks\":\"\",\"zerolinecolor\":\"white\",\"gridwidth\":2}},\"shapedefaults\":{\"line\":{\"color\":\"#2a3f5f\"}},\"annotationdefaults\":{\"arrowcolor\":\"#2a3f5f\",\"arrowhead\":0,\"arrowwidth\":1},\"geo\":{\"bgcolor\":\"white\",\"landcolor\":\"#E5ECF6\",\"subunitcolor\":\"white\",\"showland\":true,\"showlakes\":true,\"lakecolor\":\"white\"},\"title\":{\"x\":0.05},\"mapbox\":{\"style\":\"light\"}}},\"mapbox\":{\"domain\":{\"x\":[0.0,1.0],\"y\":[0.0,1.0]},\"center\":{\"lat\":33.79334519445158,\"lon\":-118.259586790625},\"zoom\":12.5,\"style\":\"carto-positron\"},\"coloraxis\":{\"colorbar\":{\"title\":{\"text\":\"Distance (Miles)\"}},\"colorscale\":[[0.0,\"#0d0887\"],[0.1111111111111111,\"#46039f\"],[0.2222222222222222,\"#7201a8\"],[0.3333333333333333,\"#9c179e\"],[0.4444444444444444,\"#bd3786\"],[0.5555555555555556,\"#d8576b\"],[0.6666666666666666,\"#ed7953\"],[0.7777777777777778,\"#fb9f3a\"],[0.8888888888888888,\"#fdca26\"],[1.0,\"#f0f921\"]]},\"legend\":{\"tracegroupgap\":0},\"margin\":{\"t\":60},\"height\":1000,\"width\":1250},                        {\"responsive\": true}                    ).then(function(){\n",
       "                            \n",
       "var gd = document.getElementById('d38a3257-d786-4d6d-b9ab-c5fca6d774f1');\n",
       "var x = new MutationObserver(function (mutations, observer) {{\n",
       "        var display = window.getComputedStyle(gd).display;\n",
       "        if (!display || display === 'none') {{\n",
       "            console.log([gd, 'removed!']);\n",
       "            Plotly.purge(gd);\n",
       "            observer.disconnect();\n",
       "        }}\n",
       "}});\n",
       "\n",
       "// Listen for the removal of the full notebook cells\n",
       "var notebookContainer = gd.closest('#notebook-container');\n",
       "if (notebookContainer) {{\n",
       "    x.observe(notebookContainer, {childList: true});\n",
       "}}\n",
       "\n",
       "// Listen for the clearing of the current output cell\n",
       "var outputEl = gd.closest('.output');\n",
       "if (outputEl) {{\n",
       "    x.observe(outputEl, {childList: true});\n",
       "}}\n",
       "\n",
       "                        })                };                });            </script>        </div>"
      ]
     },
     "metadata": {},
     "output_type": "display_data"
    }
   ],
   "source": [
    "# map weighted average distances\n",
    "merged_avg_gdf = gpd.GeoDataFrame(merged_avg, geometry = merged_avg.geometry, crs = nad83)\n",
    "fig = px.choropleth_mapbox(merged_avg_gdf, geojson = merged_avg_gdf.geometry, color = \"avg_dist\",\n",
    "                           locations = merged_avg_gdf.index, mapbox_style=\"carto-positron\", \n",
    "                            labels = {\"avg_dist\": \"Distance (Miles)\"},\n",
    "                          center=dict(lat=33.79334519445158, \n",
    "                                     lon = -118.259586790625),\n",
    "                          zoom=12.5,\n",
    "                          width=1250, height=1000)\n",
    "fig.show()\n",
    "fig.write_image('results/figures/fig_1b.svg', format='svg', scale=1,                      \n",
    "                      width=1250, height=1000)"
   ]
  }
 ],
 "metadata": {
  "kernelspec": {
   "display_name": "Python 3 (ipykernel)",
   "language": "python",
   "name": "python3"
  },
  "language_info": {
   "codemirror_mode": {
    "name": "ipython",
    "version": 3
   },
   "file_extension": ".py",
   "mimetype": "text/x-python",
   "name": "python",
   "nbconvert_exporter": "python",
   "pygments_lexer": "ipython3",
   "version": "3.9.7"
  }
 },
 "nbformat": 4,
 "nbformat_minor": 5
}
