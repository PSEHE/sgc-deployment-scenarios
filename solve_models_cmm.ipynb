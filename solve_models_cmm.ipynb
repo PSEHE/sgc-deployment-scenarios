{
 "cells": [
  {
   "cell_type": "code",
   "execution_count": null,
   "id": "682d7ca7",
   "metadata": {},
   "outputs": [],
   "source": [
    "# Will be three modeling steps:\n",
    "# Model inputs: State budget, max travel distance\n",
    "# 1. Demand maximation (s/t cost, distance), gives # people we can route to a hub\n",
    "# 2. Aggregate distance minimization\n",
    "# 3. Use (x) * # people, (y) * distance for cost minimization"
   ]
  },
  {
   "cell_type": "code",
   "execution_count": 1,
   "id": "dd904aa6",
   "metadata": {},
   "outputs": [],
   "source": [
    "import os\n",
    "from datetime import datetime\n",
    "import pandas as pd\n",
    "import numpy as np\n",
    "from pyomo.environ import *\n",
    "import pyomo.opt as pyopt\n",
    "\n",
    "import geopandas as gpd\n",
    "import pandas as pd\n",
    "import numpy as np\n",
    "from statistics import mean\n",
    "\n",
    "import itertools\n",
    "\n",
    "import matplotlib.pyplot as plt\n",
    "import plotly.express as px\n",
    "import shapely\n",
    "import folium\n",
    "import plotly.graph_objects as go # or plotly.express as px\n",
    "\n",
    "from data_cleaning_cmm import (blockgroup_pop_dict, bg_ces_dict,\n",
    "                               dist_to_site_contra_costa_df, dist_to_site_contra_costa_dict,\n",
    "                               dist_to_site_contra_costa_walk_df, dist_to_site_contra_costa_walk_dict,\n",
    "                               dist_to_site_wilmington_df, dist_to_site_wilmington_dict,\n",
    "                               dist_to_site_wilmington_walk_df, dist_to_site_wilmington_walk_dict,\n",
    "                           county_prop_ealp_dict, site_kw_occ_dict,\n",
    "                           site_sqft_dict, site_cost_dict)"
   ]
  },
  {
   "cell_type": "code",
   "execution_count": 2,
   "id": "e3a2dbf3",
   "metadata": {},
   "outputs": [],
   "source": [
    "# Base model\n",
    "import deployment_models\n",
    "import importlib\n",
    "importlib.reload(deployment_models)\n",
    "\n",
    "model_base, bg_with_no_hub = deployment_models.build_base_model(site_cost_dict, site_kw_occ_dict, blockgroup_pop_dict, bg_ces_dict, dist_to_site_contra_costa_df)"
   ]
  },
  {
   "cell_type": "code",
   "execution_count": 3,
   "id": "5b331d1b",
   "metadata": {},
   "outputs": [],
   "source": [
    "# Demand maximization s/t budget\n",
    "\n",
    "max_cost = 20000000 # $ that we can spend on hubs\n",
    "prop_served_scale_factor = .5\n",
    "agg_dist_scale_factor = 1.5\n",
    "\n",
    "model_dict = dict()\n",
    "\n",
    "######### Basic demand maximization #############\n",
    "# Demand maximization objective and constraint for total cost and to meet defined proportion of total population\n",
    "model_key = \"demand_max\"\n",
    "model_dict[model_key] = model_base.clone()\n",
    "model_dict[model_key] = deployment_models.constrain_total_cost(model_dict[model_key],max_cost)\n",
    "model_dict[model_key] = deployment_models.add_demand_maximization_objective(model_dict[model_key])\n",
    "results = SolverFactory('gurobi').solve(model_dict[model_key])\n",
    "#print(results)\n",
    "var_hub_yn, var_bg_pop, var_prop_served, var_distance_matrix = deployment_models.get_variables_from_model(model_dict[model_key])\n",
    "\n",
    "# Calculate number of people served\n",
    "num_served_bg = var_prop_served.sum(axis = 1)*var_bg_pop['POPULATION']\n",
    "prop_served = sum(num_served_bg.loc[num_served_bg != 0])/sum(var_bg_pop['POPULATION'])\n",
    "scaled_prop_served = prop_served * prop_served_scale_factor\n"
   ]
  },
  {
   "cell_type": "code",
   "execution_count": 4,
   "id": "dc7a9482",
   "metadata": {},
   "outputs": [],
   "source": [
    "######### Basic p median #############\n",
    "# p median objective and constraint for total cost and to meet defined proportion of total population\n",
    "model_key = \"p_median\"\n",
    "model_dict[model_key] = model_base.clone()\n",
    "model_dict[model_key] = deployment_models.constrain_total_cost(model_dict[model_key],max_cost)\n",
    "model_dict[model_key] = deployment_models.constrain_min_total_pop(model_dict[model_key],scaled_prop_served)\n",
    "model_dict[model_key] = deployment_models.add_p_median_objective(model_dict[model_key])\n",
    "results = SolverFactory('gurobi').solve(model_dict[model_key])\n",
    "#print(results)\n",
    "var_hub_yn, var_bg_pop, var_prop_served, var_distance_matrix = deployment_models.get_variables_from_model(model_dict[model_key])\n",
    "\n",
    "# Create set of blockgroup, site pairs within five miles of each other\n",
    "def filter_to_nearby_sites(bg, site):\n",
    "    return not np.isnan(var_distance_matrix.loc[bg, site])\n",
    "\n",
    "bg_site_pairs = list(itertools.product(var_distance_matrix.columns,var_distance_matrix.index))\n",
    "bg_site_pairs = [x for x in bg_site_pairs if filter_to_nearby_sites(x[1], x[0])]\n",
    "\n",
    "# Calculate aggregate distance and scaled aggregated distance\n",
    "agg_dist = sum([var_bg_pop.loc[bg, 'POPULATION'] * var_distance_matrix.loc[bg, site] * var_prop_served.loc[bg, site] for site, bg in bg_site_pairs])\n",
    "scaled_agg_dist = agg_dist * agg_dist_scale_factor\n"
   ]
  },
  {
   "cell_type": "code",
   "execution_count": 5,
   "id": "0152a4d2",
   "metadata": {},
   "outputs": [],
   "source": [
    "######### Cost Minimization #############\n",
    "# cost minimization objective and constraints for aggregate distance and proportion of the population served\n",
    "# takes amount we can spend on hubs, miles we can go to a hub, scale factors, \n",
    "model_key = \"cost\"\n",
    "model_dict[model_key] = model_base.clone()\n",
    "model_dict[model_key] = deployment_models.constrain_maximum_agg_distance(model_dict[model_key],scaled_agg_dist)\n",
    "model_dict[model_key] = deployment_models.constrain_min_total_pop(model_dict[model_key],scaled_prop_served)\n",
    "model_dict[model_key] = deployment_models.add_cost_minimzation_objective(model_dict[model_key])\n",
    "results = SolverFactory('gurobi').solve(model_dict[model_key])\n",
    "#print(results)\n",
    "var_hub_yn, var_bg_pop, var_prop_served, var_distance_matrix = deployment_models.get_variables_from_model(model_dict[model_key])\n"
   ]
  },
  {
   "cell_type": "code",
   "execution_count": 174,
   "id": "88b0b61d",
   "metadata": {},
   "outputs": [
    {
     "data": {
      "text/plain": [
       "0.05945618093079222"
      ]
     },
     "execution_count": 174,
     "metadata": {},
     "output_type": "execute_result"
    }
   ],
   "source": [
    "scaled_prop_served"
   ]
  },
  {
   "cell_type": "code",
   "execution_count": 177,
   "id": "b65bef38",
   "metadata": {},
   "outputs": [],
   "source": [
    "######### Cost Minimization with CES #############\n",
    "# cost minimization objective and constraints for aggregate distance and proportion of the population served\n",
    "# takes amount we can spend on hubs, scaled aggregate distance and proportion served, and CES constraint\n",
    "min_prop_ej = scaled_prop_served\n",
    "ej_cutoff = 0.75 # for bg with greater than this percentile, must serve at least min_prop_ej\n",
    "\n",
    "model_key = \"cost\"\n",
    "model_dict[model_key] = model_base.clone()\n",
    "model_dict[model_key] = deployment_models.constrain_maximum_agg_distance(model_dict[model_key],scaled_agg_dist)\n",
    "model_dict[model_key] = deployment_models.constrain_min_total_pop(model_dict[model_key],scaled_prop_served)\n",
    "model = deployment_models.prioritize_CES(model_dict[model_key],min_prop_ej,ej_cutoff)\n",
    "model_dict[model_key] = deployment_models.add_cost_minimzation_objective(model_dict[model_key])\n",
    "results = SolverFactory('gurobi').solve(model_dict[model_key])\n",
    "#print(results)\n",
    "var_hub_yn_ces, var_bg_pop_ces, var_prop_served_ces, var_distance_matrix_ces = deployment_models.get_variables_from_model(model_dict[model_key])\n"
   ]
  },
  {
   "cell_type": "code",
   "execution_count": 178,
   "id": "32909ad4",
   "metadata": {},
   "outputs": [],
   "source": [
    "# function that takes resilience hub or block group data and id,\n",
    "# and returns coordinates of hub or block group corresponding to id\n",
    "def locate(data, id, col):\n",
    "    row = data.loc[data[col] == id]\n",
    "    return [row['LAT'].iloc[0], row['LON'].iloc[0]]\n",
    "\n",
    "# Map hub locations based on built_yn\n",
    "def map_hubs(built_yn, site_data):\n",
    "    sites = pd.DataFrame(columns = ['LAT', 'LON'])\n",
    "    hubs = var_hub_yn.loc[var_hub_yn['BUILT'] == 1].index\n",
    "    for site in hubs:\n",
    "        site_pt = locate(site_data, site, 'id_site')\n",
    "        sites.loc[len(sites.index)] = site_pt\n",
    "    fig = px.scatter_mapbox(lat=sites['LAT'], lon=sites['LON'], mapbox_style=\"open-street-map\", zoom=10)\n",
    "    fig.show()"
   ]
  },
  {
   "cell_type": "code",
   "execution_count": 182,
   "id": "2ebc8889",
   "metadata": {},
   "outputs": [],
   "source": [
    "# Load sites data\n",
    "ca_albers_nad83 = 'NAD_1983_California_Teale_Albers_FtUS'\n",
    "nad83 = 'EPSG:4629'\n",
    "wgs84 = 'EPSG:4326'\n",
    "\n",
    "# Building candidate sites GeoDataFrame\n",
    "sites_path = os.path.join(os.getcwd(), 'data', 'candidate_site_campuses_2021-11-17', 'candidate_sites_campuses.csv')\n",
    "sites_df_raw = pd.read_csv(sites_path)\n",
    "sites_df_raw = sites_df_raw.loc[sites_df_raw['cat_site'] != 'X', ['id_site', 'cat_site', 'SQFT_ROOF', 'LON', 'LAT']]\n",
    "sites_geom = gpd.points_from_xy(sites_df_raw.LON, sites_df_raw.LAT, crs = nad83)\n",
    "sites_gdf = gpd.GeoDataFrame(sites_df_raw, geometry = sites_geom, crs = nad83)\n",
    "\n",
    "hubs = var_hub_yn.loc[var_hub_yn['BUILT'] == 1].index\n",
    "hubs_ces = var_hub_yn_ces.loc[var_hub_yn_ces['BUILT'] == 1].index"
   ]
  },
  {
   "cell_type": "code",
   "execution_count": 183,
   "id": "ec7ab7d4",
   "metadata": {},
   "outputs": [
    {
     "data": {
      "application/vnd.plotly.v1+json": {
       "config": {
        "plotlyServerURL": "https://plot.ly"
       },
       "data": [
        {
         "hovertemplate": "lat=%{lat}<br>lon=%{lon}<extra></extra>",
         "lat": [
          38.01874527,
          38.0233851,
          38.0217129,
          38.02644506,
          38.02362245,
          38.00859529,
          38.00857926,
          37.97217402,
          37.94690514,
          37.97799721,
          37.97438348,
          37.87440515,
          37.90183125,
          37.77279953,
          37.94959289,
          37.91906986,
          37.93279054,
          37.93654748,
          37.93379469,
          37.95954327,
          37.93873566,
          37.9260103,
          37.91933511,
          37.90954598
         ],
         "legendgroup": "",
         "lon": [
          -121.89099112,
          -121.9297731,
          -121.9422868,
          -121.94646711,
          -121.95158314,
          -122.10116641,
          -122.10088301,
          -122.10786936,
          -122.06467961,
          -122.03319177,
          -122.02550705,
          -122.07229455,
          -122.06225419,
          -121.95716742,
          -122.33266617,
          -122.31346524,
          -122.33083995,
          -122.36407349,
          -122.3602583,
          -122.35634337,
          -122.34605073,
          -122.35521553,
          -122.31894519,
          -122.30125045
         ],
         "marker": {
          "color": "#636efa"
         },
         "mode": "markers",
         "name": "",
         "showlegend": false,
         "subplot": "mapbox",
         "type": "scattermapbox"
        }
       ],
       "layout": {
        "legend": {
         "tracegroupgap": 0
        },
        "mapbox": {
         "center": {
          "lat": 37.95318945375001,
          "lon": -122.14855096083333
         },
         "domain": {
          "x": [
           0,
           1
          ],
          "y": [
           0,
           1
          ]
         },
         "style": "open-street-map",
         "zoom": 10
        },
        "margin": {
         "t": 60
        },
        "template": {
         "data": {
          "bar": [
           {
            "error_x": {
             "color": "#2a3f5f"
            },
            "error_y": {
             "color": "#2a3f5f"
            },
            "marker": {
             "line": {
              "color": "#E5ECF6",
              "width": 0.5
             },
             "pattern": {
              "fillmode": "overlay",
              "size": 10,
              "solidity": 0.2
             }
            },
            "type": "bar"
           }
          ],
          "barpolar": [
           {
            "marker": {
             "line": {
              "color": "#E5ECF6",
              "width": 0.5
             },
             "pattern": {
              "fillmode": "overlay",
              "size": 10,
              "solidity": 0.2
             }
            },
            "type": "barpolar"
           }
          ],
          "carpet": [
           {
            "aaxis": {
             "endlinecolor": "#2a3f5f",
             "gridcolor": "white",
             "linecolor": "white",
             "minorgridcolor": "white",
             "startlinecolor": "#2a3f5f"
            },
            "baxis": {
             "endlinecolor": "#2a3f5f",
             "gridcolor": "white",
             "linecolor": "white",
             "minorgridcolor": "white",
             "startlinecolor": "#2a3f5f"
            },
            "type": "carpet"
           }
          ],
          "choropleth": [
           {
            "colorbar": {
             "outlinewidth": 0,
             "ticks": ""
            },
            "type": "choropleth"
           }
          ],
          "contour": [
           {
            "colorbar": {
             "outlinewidth": 0,
             "ticks": ""
            },
            "colorscale": [
             [
              0,
              "#0d0887"
             ],
             [
              0.1111111111111111,
              "#46039f"
             ],
             [
              0.2222222222222222,
              "#7201a8"
             ],
             [
              0.3333333333333333,
              "#9c179e"
             ],
             [
              0.4444444444444444,
              "#bd3786"
             ],
             [
              0.5555555555555556,
              "#d8576b"
             ],
             [
              0.6666666666666666,
              "#ed7953"
             ],
             [
              0.7777777777777778,
              "#fb9f3a"
             ],
             [
              0.8888888888888888,
              "#fdca26"
             ],
             [
              1,
              "#f0f921"
             ]
            ],
            "type": "contour"
           }
          ],
          "contourcarpet": [
           {
            "colorbar": {
             "outlinewidth": 0,
             "ticks": ""
            },
            "type": "contourcarpet"
           }
          ],
          "heatmap": [
           {
            "colorbar": {
             "outlinewidth": 0,
             "ticks": ""
            },
            "colorscale": [
             [
              0,
              "#0d0887"
             ],
             [
              0.1111111111111111,
              "#46039f"
             ],
             [
              0.2222222222222222,
              "#7201a8"
             ],
             [
              0.3333333333333333,
              "#9c179e"
             ],
             [
              0.4444444444444444,
              "#bd3786"
             ],
             [
              0.5555555555555556,
              "#d8576b"
             ],
             [
              0.6666666666666666,
              "#ed7953"
             ],
             [
              0.7777777777777778,
              "#fb9f3a"
             ],
             [
              0.8888888888888888,
              "#fdca26"
             ],
             [
              1,
              "#f0f921"
             ]
            ],
            "type": "heatmap"
           }
          ],
          "heatmapgl": [
           {
            "colorbar": {
             "outlinewidth": 0,
             "ticks": ""
            },
            "colorscale": [
             [
              0,
              "#0d0887"
             ],
             [
              0.1111111111111111,
              "#46039f"
             ],
             [
              0.2222222222222222,
              "#7201a8"
             ],
             [
              0.3333333333333333,
              "#9c179e"
             ],
             [
              0.4444444444444444,
              "#bd3786"
             ],
             [
              0.5555555555555556,
              "#d8576b"
             ],
             [
              0.6666666666666666,
              "#ed7953"
             ],
             [
              0.7777777777777778,
              "#fb9f3a"
             ],
             [
              0.8888888888888888,
              "#fdca26"
             ],
             [
              1,
              "#f0f921"
             ]
            ],
            "type": "heatmapgl"
           }
          ],
          "histogram": [
           {
            "marker": {
             "pattern": {
              "fillmode": "overlay",
              "size": 10,
              "solidity": 0.2
             }
            },
            "type": "histogram"
           }
          ],
          "histogram2d": [
           {
            "colorbar": {
             "outlinewidth": 0,
             "ticks": ""
            },
            "colorscale": [
             [
              0,
              "#0d0887"
             ],
             [
              0.1111111111111111,
              "#46039f"
             ],
             [
              0.2222222222222222,
              "#7201a8"
             ],
             [
              0.3333333333333333,
              "#9c179e"
             ],
             [
              0.4444444444444444,
              "#bd3786"
             ],
             [
              0.5555555555555556,
              "#d8576b"
             ],
             [
              0.6666666666666666,
              "#ed7953"
             ],
             [
              0.7777777777777778,
              "#fb9f3a"
             ],
             [
              0.8888888888888888,
              "#fdca26"
             ],
             [
              1,
              "#f0f921"
             ]
            ],
            "type": "histogram2d"
           }
          ],
          "histogram2dcontour": [
           {
            "colorbar": {
             "outlinewidth": 0,
             "ticks": ""
            },
            "colorscale": [
             [
              0,
              "#0d0887"
             ],
             [
              0.1111111111111111,
              "#46039f"
             ],
             [
              0.2222222222222222,
              "#7201a8"
             ],
             [
              0.3333333333333333,
              "#9c179e"
             ],
             [
              0.4444444444444444,
              "#bd3786"
             ],
             [
              0.5555555555555556,
              "#d8576b"
             ],
             [
              0.6666666666666666,
              "#ed7953"
             ],
             [
              0.7777777777777778,
              "#fb9f3a"
             ],
             [
              0.8888888888888888,
              "#fdca26"
             ],
             [
              1,
              "#f0f921"
             ]
            ],
            "type": "histogram2dcontour"
           }
          ],
          "mesh3d": [
           {
            "colorbar": {
             "outlinewidth": 0,
             "ticks": ""
            },
            "type": "mesh3d"
           }
          ],
          "parcoords": [
           {
            "line": {
             "colorbar": {
              "outlinewidth": 0,
              "ticks": ""
             }
            },
            "type": "parcoords"
           }
          ],
          "pie": [
           {
            "automargin": true,
            "type": "pie"
           }
          ],
          "scatter": [
           {
            "fillpattern": {
             "fillmode": "overlay",
             "size": 10,
             "solidity": 0.2
            },
            "type": "scatter"
           }
          ],
          "scatter3d": [
           {
            "line": {
             "colorbar": {
              "outlinewidth": 0,
              "ticks": ""
             }
            },
            "marker": {
             "colorbar": {
              "outlinewidth": 0,
              "ticks": ""
             }
            },
            "type": "scatter3d"
           }
          ],
          "scattercarpet": [
           {
            "marker": {
             "colorbar": {
              "outlinewidth": 0,
              "ticks": ""
             }
            },
            "type": "scattercarpet"
           }
          ],
          "scattergeo": [
           {
            "marker": {
             "colorbar": {
              "outlinewidth": 0,
              "ticks": ""
             }
            },
            "type": "scattergeo"
           }
          ],
          "scattergl": [
           {
            "marker": {
             "colorbar": {
              "outlinewidth": 0,
              "ticks": ""
             }
            },
            "type": "scattergl"
           }
          ],
          "scattermapbox": [
           {
            "marker": {
             "colorbar": {
              "outlinewidth": 0,
              "ticks": ""
             }
            },
            "type": "scattermapbox"
           }
          ],
          "scatterpolar": [
           {
            "marker": {
             "colorbar": {
              "outlinewidth": 0,
              "ticks": ""
             }
            },
            "type": "scatterpolar"
           }
          ],
          "scatterpolargl": [
           {
            "marker": {
             "colorbar": {
              "outlinewidth": 0,
              "ticks": ""
             }
            },
            "type": "scatterpolargl"
           }
          ],
          "scatterternary": [
           {
            "marker": {
             "colorbar": {
              "outlinewidth": 0,
              "ticks": ""
             }
            },
            "type": "scatterternary"
           }
          ],
          "surface": [
           {
            "colorbar": {
             "outlinewidth": 0,
             "ticks": ""
            },
            "colorscale": [
             [
              0,
              "#0d0887"
             ],
             [
              0.1111111111111111,
              "#46039f"
             ],
             [
              0.2222222222222222,
              "#7201a8"
             ],
             [
              0.3333333333333333,
              "#9c179e"
             ],
             [
              0.4444444444444444,
              "#bd3786"
             ],
             [
              0.5555555555555556,
              "#d8576b"
             ],
             [
              0.6666666666666666,
              "#ed7953"
             ],
             [
              0.7777777777777778,
              "#fb9f3a"
             ],
             [
              0.8888888888888888,
              "#fdca26"
             ],
             [
              1,
              "#f0f921"
             ]
            ],
            "type": "surface"
           }
          ],
          "table": [
           {
            "cells": {
             "fill": {
              "color": "#EBF0F8"
             },
             "line": {
              "color": "white"
             }
            },
            "header": {
             "fill": {
              "color": "#C8D4E3"
             },
             "line": {
              "color": "white"
             }
            },
            "type": "table"
           }
          ]
         },
         "layout": {
          "annotationdefaults": {
           "arrowcolor": "#2a3f5f",
           "arrowhead": 0,
           "arrowwidth": 1
          },
          "autotypenumbers": "strict",
          "coloraxis": {
           "colorbar": {
            "outlinewidth": 0,
            "ticks": ""
           }
          },
          "colorscale": {
           "diverging": [
            [
             0,
             "#8e0152"
            ],
            [
             0.1,
             "#c51b7d"
            ],
            [
             0.2,
             "#de77ae"
            ],
            [
             0.3,
             "#f1b6da"
            ],
            [
             0.4,
             "#fde0ef"
            ],
            [
             0.5,
             "#f7f7f7"
            ],
            [
             0.6,
             "#e6f5d0"
            ],
            [
             0.7,
             "#b8e186"
            ],
            [
             0.8,
             "#7fbc41"
            ],
            [
             0.9,
             "#4d9221"
            ],
            [
             1,
             "#276419"
            ]
           ],
           "sequential": [
            [
             0,
             "#0d0887"
            ],
            [
             0.1111111111111111,
             "#46039f"
            ],
            [
             0.2222222222222222,
             "#7201a8"
            ],
            [
             0.3333333333333333,
             "#9c179e"
            ],
            [
             0.4444444444444444,
             "#bd3786"
            ],
            [
             0.5555555555555556,
             "#d8576b"
            ],
            [
             0.6666666666666666,
             "#ed7953"
            ],
            [
             0.7777777777777778,
             "#fb9f3a"
            ],
            [
             0.8888888888888888,
             "#fdca26"
            ],
            [
             1,
             "#f0f921"
            ]
           ],
           "sequentialminus": [
            [
             0,
             "#0d0887"
            ],
            [
             0.1111111111111111,
             "#46039f"
            ],
            [
             0.2222222222222222,
             "#7201a8"
            ],
            [
             0.3333333333333333,
             "#9c179e"
            ],
            [
             0.4444444444444444,
             "#bd3786"
            ],
            [
             0.5555555555555556,
             "#d8576b"
            ],
            [
             0.6666666666666666,
             "#ed7953"
            ],
            [
             0.7777777777777778,
             "#fb9f3a"
            ],
            [
             0.8888888888888888,
             "#fdca26"
            ],
            [
             1,
             "#f0f921"
            ]
           ]
          },
          "colorway": [
           "#636efa",
           "#EF553B",
           "#00cc96",
           "#ab63fa",
           "#FFA15A",
           "#19d3f3",
           "#FF6692",
           "#B6E880",
           "#FF97FF",
           "#FECB52"
          ],
          "font": {
           "color": "#2a3f5f"
          },
          "geo": {
           "bgcolor": "white",
           "lakecolor": "white",
           "landcolor": "#E5ECF6",
           "showlakes": true,
           "showland": true,
           "subunitcolor": "white"
          },
          "hoverlabel": {
           "align": "left"
          },
          "hovermode": "closest",
          "mapbox": {
           "style": "light"
          },
          "paper_bgcolor": "white",
          "plot_bgcolor": "#E5ECF6",
          "polar": {
           "angularaxis": {
            "gridcolor": "white",
            "linecolor": "white",
            "ticks": ""
           },
           "bgcolor": "#E5ECF6",
           "radialaxis": {
            "gridcolor": "white",
            "linecolor": "white",
            "ticks": ""
           }
          },
          "scene": {
           "xaxis": {
            "backgroundcolor": "#E5ECF6",
            "gridcolor": "white",
            "gridwidth": 2,
            "linecolor": "white",
            "showbackground": true,
            "ticks": "",
            "zerolinecolor": "white"
           },
           "yaxis": {
            "backgroundcolor": "#E5ECF6",
            "gridcolor": "white",
            "gridwidth": 2,
            "linecolor": "white",
            "showbackground": true,
            "ticks": "",
            "zerolinecolor": "white"
           },
           "zaxis": {
            "backgroundcolor": "#E5ECF6",
            "gridcolor": "white",
            "gridwidth": 2,
            "linecolor": "white",
            "showbackground": true,
            "ticks": "",
            "zerolinecolor": "white"
           }
          },
          "shapedefaults": {
           "line": {
            "color": "#2a3f5f"
           }
          },
          "ternary": {
           "aaxis": {
            "gridcolor": "white",
            "linecolor": "white",
            "ticks": ""
           },
           "baxis": {
            "gridcolor": "white",
            "linecolor": "white",
            "ticks": ""
           },
           "bgcolor": "#E5ECF6",
           "caxis": {
            "gridcolor": "white",
            "linecolor": "white",
            "ticks": ""
           }
          },
          "title": {
           "x": 0.05
          },
          "xaxis": {
           "automargin": true,
           "gridcolor": "white",
           "linecolor": "white",
           "ticks": "",
           "title": {
            "standoff": 15
           },
           "zerolinecolor": "white",
           "zerolinewidth": 2
          },
          "yaxis": {
           "automargin": true,
           "gridcolor": "white",
           "linecolor": "white",
           "ticks": "",
           "title": {
            "standoff": 15
           },
           "zerolinecolor": "white",
           "zerolinewidth": 2
          }
         }
        }
       }
      },
      "text/html": [
       "<div>                            <div id=\"89f5cda3-d897-4721-84d4-e101b60c0321\" class=\"plotly-graph-div\" style=\"height:525px; width:100%;\"></div>            <script type=\"text/javascript\">                require([\"plotly\"], function(Plotly) {                    window.PLOTLYENV=window.PLOTLYENV || {};                                    if (document.getElementById(\"89f5cda3-d897-4721-84d4-e101b60c0321\")) {                    Plotly.newPlot(                        \"89f5cda3-d897-4721-84d4-e101b60c0321\",                        [{\"hovertemplate\":\"lat=%{lat}<br>lon=%{lon}<extra></extra>\",\"lat\":[38.01874527,38.0233851,38.0217129,38.02644506,38.02362245,38.00859529,38.00857926,37.97217402,37.94690514,37.97799721,37.97438348,37.87440515,37.90183125,37.77279953,37.94959289,37.91906986,37.93279054,37.93654748,37.93379469,37.95954327,37.93873566,37.9260103,37.91933511,37.90954598],\"legendgroup\":\"\",\"lon\":[-121.89099112,-121.9297731,-121.9422868,-121.94646711,-121.95158314,-122.10116641,-122.10088301,-122.10786936,-122.06467961,-122.03319177,-122.02550705,-122.07229455,-122.06225419,-121.95716742,-122.33266617,-122.31346524,-122.33083995,-122.36407349,-122.3602583,-122.35634337,-122.34605073,-122.35521553,-122.31894519,-122.30125045],\"marker\":{\"color\":\"#636efa\"},\"mode\":\"markers\",\"name\":\"\",\"showlegend\":false,\"subplot\":\"mapbox\",\"type\":\"scattermapbox\"}],                        {\"template\":{\"data\":{\"histogram2dcontour\":[{\"type\":\"histogram2dcontour\",\"colorbar\":{\"outlinewidth\":0,\"ticks\":\"\"},\"colorscale\":[[0.0,\"#0d0887\"],[0.1111111111111111,\"#46039f\"],[0.2222222222222222,\"#7201a8\"],[0.3333333333333333,\"#9c179e\"],[0.4444444444444444,\"#bd3786\"],[0.5555555555555556,\"#d8576b\"],[0.6666666666666666,\"#ed7953\"],[0.7777777777777778,\"#fb9f3a\"],[0.8888888888888888,\"#fdca26\"],[1.0,\"#f0f921\"]]}],\"choropleth\":[{\"type\":\"choropleth\",\"colorbar\":{\"outlinewidth\":0,\"ticks\":\"\"}}],\"histogram2d\":[{\"type\":\"histogram2d\",\"colorbar\":{\"outlinewidth\":0,\"ticks\":\"\"},\"colorscale\":[[0.0,\"#0d0887\"],[0.1111111111111111,\"#46039f\"],[0.2222222222222222,\"#7201a8\"],[0.3333333333333333,\"#9c179e\"],[0.4444444444444444,\"#bd3786\"],[0.5555555555555556,\"#d8576b\"],[0.6666666666666666,\"#ed7953\"],[0.7777777777777778,\"#fb9f3a\"],[0.8888888888888888,\"#fdca26\"],[1.0,\"#f0f921\"]]}],\"heatmap\":[{\"type\":\"heatmap\",\"colorbar\":{\"outlinewidth\":0,\"ticks\":\"\"},\"colorscale\":[[0.0,\"#0d0887\"],[0.1111111111111111,\"#46039f\"],[0.2222222222222222,\"#7201a8\"],[0.3333333333333333,\"#9c179e\"],[0.4444444444444444,\"#bd3786\"],[0.5555555555555556,\"#d8576b\"],[0.6666666666666666,\"#ed7953\"],[0.7777777777777778,\"#fb9f3a\"],[0.8888888888888888,\"#fdca26\"],[1.0,\"#f0f921\"]]}],\"heatmapgl\":[{\"type\":\"heatmapgl\",\"colorbar\":{\"outlinewidth\":0,\"ticks\":\"\"},\"colorscale\":[[0.0,\"#0d0887\"],[0.1111111111111111,\"#46039f\"],[0.2222222222222222,\"#7201a8\"],[0.3333333333333333,\"#9c179e\"],[0.4444444444444444,\"#bd3786\"],[0.5555555555555556,\"#d8576b\"],[0.6666666666666666,\"#ed7953\"],[0.7777777777777778,\"#fb9f3a\"],[0.8888888888888888,\"#fdca26\"],[1.0,\"#f0f921\"]]}],\"contourcarpet\":[{\"type\":\"contourcarpet\",\"colorbar\":{\"outlinewidth\":0,\"ticks\":\"\"}}],\"contour\":[{\"type\":\"contour\",\"colorbar\":{\"outlinewidth\":0,\"ticks\":\"\"},\"colorscale\":[[0.0,\"#0d0887\"],[0.1111111111111111,\"#46039f\"],[0.2222222222222222,\"#7201a8\"],[0.3333333333333333,\"#9c179e\"],[0.4444444444444444,\"#bd3786\"],[0.5555555555555556,\"#d8576b\"],[0.6666666666666666,\"#ed7953\"],[0.7777777777777778,\"#fb9f3a\"],[0.8888888888888888,\"#fdca26\"],[1.0,\"#f0f921\"]]}],\"surface\":[{\"type\":\"surface\",\"colorbar\":{\"outlinewidth\":0,\"ticks\":\"\"},\"colorscale\":[[0.0,\"#0d0887\"],[0.1111111111111111,\"#46039f\"],[0.2222222222222222,\"#7201a8\"],[0.3333333333333333,\"#9c179e\"],[0.4444444444444444,\"#bd3786\"],[0.5555555555555556,\"#d8576b\"],[0.6666666666666666,\"#ed7953\"],[0.7777777777777778,\"#fb9f3a\"],[0.8888888888888888,\"#fdca26\"],[1.0,\"#f0f921\"]]}],\"mesh3d\":[{\"type\":\"mesh3d\",\"colorbar\":{\"outlinewidth\":0,\"ticks\":\"\"}}],\"scatter\":[{\"fillpattern\":{\"fillmode\":\"overlay\",\"size\":10,\"solidity\":0.2},\"type\":\"scatter\"}],\"parcoords\":[{\"type\":\"parcoords\",\"line\":{\"colorbar\":{\"outlinewidth\":0,\"ticks\":\"\"}}}],\"scatterpolargl\":[{\"type\":\"scatterpolargl\",\"marker\":{\"colorbar\":{\"outlinewidth\":0,\"ticks\":\"\"}}}],\"bar\":[{\"error_x\":{\"color\":\"#2a3f5f\"},\"error_y\":{\"color\":\"#2a3f5f\"},\"marker\":{\"line\":{\"color\":\"#E5ECF6\",\"width\":0.5},\"pattern\":{\"fillmode\":\"overlay\",\"size\":10,\"solidity\":0.2}},\"type\":\"bar\"}],\"scattergeo\":[{\"type\":\"scattergeo\",\"marker\":{\"colorbar\":{\"outlinewidth\":0,\"ticks\":\"\"}}}],\"scatterpolar\":[{\"type\":\"scatterpolar\",\"marker\":{\"colorbar\":{\"outlinewidth\":0,\"ticks\":\"\"}}}],\"histogram\":[{\"marker\":{\"pattern\":{\"fillmode\":\"overlay\",\"size\":10,\"solidity\":0.2}},\"type\":\"histogram\"}],\"scattergl\":[{\"type\":\"scattergl\",\"marker\":{\"colorbar\":{\"outlinewidth\":0,\"ticks\":\"\"}}}],\"scatter3d\":[{\"type\":\"scatter3d\",\"line\":{\"colorbar\":{\"outlinewidth\":0,\"ticks\":\"\"}},\"marker\":{\"colorbar\":{\"outlinewidth\":0,\"ticks\":\"\"}}}],\"scattermapbox\":[{\"type\":\"scattermapbox\",\"marker\":{\"colorbar\":{\"outlinewidth\":0,\"ticks\":\"\"}}}],\"scatterternary\":[{\"type\":\"scatterternary\",\"marker\":{\"colorbar\":{\"outlinewidth\":0,\"ticks\":\"\"}}}],\"scattercarpet\":[{\"type\":\"scattercarpet\",\"marker\":{\"colorbar\":{\"outlinewidth\":0,\"ticks\":\"\"}}}],\"carpet\":[{\"aaxis\":{\"endlinecolor\":\"#2a3f5f\",\"gridcolor\":\"white\",\"linecolor\":\"white\",\"minorgridcolor\":\"white\",\"startlinecolor\":\"#2a3f5f\"},\"baxis\":{\"endlinecolor\":\"#2a3f5f\",\"gridcolor\":\"white\",\"linecolor\":\"white\",\"minorgridcolor\":\"white\",\"startlinecolor\":\"#2a3f5f\"},\"type\":\"carpet\"}],\"table\":[{\"cells\":{\"fill\":{\"color\":\"#EBF0F8\"},\"line\":{\"color\":\"white\"}},\"header\":{\"fill\":{\"color\":\"#C8D4E3\"},\"line\":{\"color\":\"white\"}},\"type\":\"table\"}],\"barpolar\":[{\"marker\":{\"line\":{\"color\":\"#E5ECF6\",\"width\":0.5},\"pattern\":{\"fillmode\":\"overlay\",\"size\":10,\"solidity\":0.2}},\"type\":\"barpolar\"}],\"pie\":[{\"automargin\":true,\"type\":\"pie\"}]},\"layout\":{\"autotypenumbers\":\"strict\",\"colorway\":[\"#636efa\",\"#EF553B\",\"#00cc96\",\"#ab63fa\",\"#FFA15A\",\"#19d3f3\",\"#FF6692\",\"#B6E880\",\"#FF97FF\",\"#FECB52\"],\"font\":{\"color\":\"#2a3f5f\"},\"hovermode\":\"closest\",\"hoverlabel\":{\"align\":\"left\"},\"paper_bgcolor\":\"white\",\"plot_bgcolor\":\"#E5ECF6\",\"polar\":{\"bgcolor\":\"#E5ECF6\",\"angularaxis\":{\"gridcolor\":\"white\",\"linecolor\":\"white\",\"ticks\":\"\"},\"radialaxis\":{\"gridcolor\":\"white\",\"linecolor\":\"white\",\"ticks\":\"\"}},\"ternary\":{\"bgcolor\":\"#E5ECF6\",\"aaxis\":{\"gridcolor\":\"white\",\"linecolor\":\"white\",\"ticks\":\"\"},\"baxis\":{\"gridcolor\":\"white\",\"linecolor\":\"white\",\"ticks\":\"\"},\"caxis\":{\"gridcolor\":\"white\",\"linecolor\":\"white\",\"ticks\":\"\"}},\"coloraxis\":{\"colorbar\":{\"outlinewidth\":0,\"ticks\":\"\"}},\"colorscale\":{\"sequential\":[[0.0,\"#0d0887\"],[0.1111111111111111,\"#46039f\"],[0.2222222222222222,\"#7201a8\"],[0.3333333333333333,\"#9c179e\"],[0.4444444444444444,\"#bd3786\"],[0.5555555555555556,\"#d8576b\"],[0.6666666666666666,\"#ed7953\"],[0.7777777777777778,\"#fb9f3a\"],[0.8888888888888888,\"#fdca26\"],[1.0,\"#f0f921\"]],\"sequentialminus\":[[0.0,\"#0d0887\"],[0.1111111111111111,\"#46039f\"],[0.2222222222222222,\"#7201a8\"],[0.3333333333333333,\"#9c179e\"],[0.4444444444444444,\"#bd3786\"],[0.5555555555555556,\"#d8576b\"],[0.6666666666666666,\"#ed7953\"],[0.7777777777777778,\"#fb9f3a\"],[0.8888888888888888,\"#fdca26\"],[1.0,\"#f0f921\"]],\"diverging\":[[0,\"#8e0152\"],[0.1,\"#c51b7d\"],[0.2,\"#de77ae\"],[0.3,\"#f1b6da\"],[0.4,\"#fde0ef\"],[0.5,\"#f7f7f7\"],[0.6,\"#e6f5d0\"],[0.7,\"#b8e186\"],[0.8,\"#7fbc41\"],[0.9,\"#4d9221\"],[1,\"#276419\"]]},\"xaxis\":{\"gridcolor\":\"white\",\"linecolor\":\"white\",\"ticks\":\"\",\"title\":{\"standoff\":15},\"zerolinecolor\":\"white\",\"automargin\":true,\"zerolinewidth\":2},\"yaxis\":{\"gridcolor\":\"white\",\"linecolor\":\"white\",\"ticks\":\"\",\"title\":{\"standoff\":15},\"zerolinecolor\":\"white\",\"automargin\":true,\"zerolinewidth\":2},\"scene\":{\"xaxis\":{\"backgroundcolor\":\"#E5ECF6\",\"gridcolor\":\"white\",\"linecolor\":\"white\",\"showbackground\":true,\"ticks\":\"\",\"zerolinecolor\":\"white\",\"gridwidth\":2},\"yaxis\":{\"backgroundcolor\":\"#E5ECF6\",\"gridcolor\":\"white\",\"linecolor\":\"white\",\"showbackground\":true,\"ticks\":\"\",\"zerolinecolor\":\"white\",\"gridwidth\":2},\"zaxis\":{\"backgroundcolor\":\"#E5ECF6\",\"gridcolor\":\"white\",\"linecolor\":\"white\",\"showbackground\":true,\"ticks\":\"\",\"zerolinecolor\":\"white\",\"gridwidth\":2}},\"shapedefaults\":{\"line\":{\"color\":\"#2a3f5f\"}},\"annotationdefaults\":{\"arrowcolor\":\"#2a3f5f\",\"arrowhead\":0,\"arrowwidth\":1},\"geo\":{\"bgcolor\":\"white\",\"landcolor\":\"#E5ECF6\",\"subunitcolor\":\"white\",\"showland\":true,\"showlakes\":true,\"lakecolor\":\"white\"},\"title\":{\"x\":0.05},\"mapbox\":{\"style\":\"light\"}}},\"mapbox\":{\"domain\":{\"x\":[0.0,1.0],\"y\":[0.0,1.0]},\"center\":{\"lat\":37.95318945375001,\"lon\":-122.14855096083333},\"zoom\":10,\"style\":\"open-street-map\"},\"legend\":{\"tracegroupgap\":0},\"margin\":{\"t\":60}},                        {\"responsive\": true}                    ).then(function(){\n",
       "                            \n",
       "var gd = document.getElementById('89f5cda3-d897-4721-84d4-e101b60c0321');\n",
       "var x = new MutationObserver(function (mutations, observer) {{\n",
       "        var display = window.getComputedStyle(gd).display;\n",
       "        if (!display || display === 'none') {{\n",
       "            console.log([gd, 'removed!']);\n",
       "            Plotly.purge(gd);\n",
       "            observer.disconnect();\n",
       "        }}\n",
       "}});\n",
       "\n",
       "// Listen for the removal of the full notebook cells\n",
       "var notebookContainer = gd.closest('#notebook-container');\n",
       "if (notebookContainer) {{\n",
       "    x.observe(notebookContainer, {childList: true});\n",
       "}}\n",
       "\n",
       "// Listen for the clearing of the current output cell\n",
       "var outputEl = gd.closest('.output');\n",
       "if (outputEl) {{\n",
       "    x.observe(outputEl, {childList: true});\n",
       "}}\n",
       "\n",
       "                        })                };                });            </script>        </div>"
      ]
     },
     "metadata": {},
     "output_type": "display_data"
    }
   ],
   "source": [
    "map_hubs(var_hub_yn_ces, sites_gdf)"
   ]
  },
  {
   "cell_type": "code",
   "execution_count": 185,
   "id": "fb606fa8",
   "metadata": {},
   "outputs": [],
   "source": [
    "# Use model output as input to a distance matrix-making script, \n",
    "# creating a distance matrix from all block groups to all hubs\n",
    "hubs = var_hub_yn.loc[var_hub_yn['BUILT'] == 1].index\n",
    "\n",
    "# create hubs gdf with built hubs only\n",
    "hubs_gdf = sites_gdf.loc[sites_gdf['id_site'].isin(list(hubs))]"
   ]
  },
  {
   "cell_type": "code",
   "execution_count": 163,
   "id": "27214cc7",
   "metadata": {},
   "outputs": [],
   "source": [
    "# function that takes distance matrix and hub ids, and outputs list of block\n",
    "# groups that don't have a distance less than max_distance to one of the built hubs\n",
    "def no_distance(hub_ids, distances, max_distance):\n",
    "    filtered = distances[hub_ids]\n",
    "    filtered.where(filtered < max_distance, None, inplace=True)\n",
    "    #print(list(filtered[~filtered.isnull().all(axis=1)].max(axis = 1)))\n",
    "    return filtered[filtered.isnull().all(axis=1)].index\n",
    "\n",
    "# function that takes distance matrix and hub ids, and outputs list of block\n",
    "# groups that do have a distance less than max_distance to one of the built hubs\n",
    "def yes_distance(hub_ids, distances, max_distance):\n",
    "    filtered = distances[hub_ids]\n",
    "    filtered.where(filtered < max_distance, None, inplace=True)\n",
    "    #print(list(filtered[~filtered.isnull().all(axis=1)].max(axis = 1)))\n",
    "    return filtered[~filtered.isnull().all(axis=1)].index\n",
    "\n",
    "# function that takes distance matrix and hub ids, and outputs dataframe of bg id and \n",
    "# closest hub id under max_distance away, with bgs without a hub under max_distance away\n",
    "# not included\n",
    "def get_closest_hubs(hub_ids, distances, max_distance):\n",
    "    filtered = distances[hub_ids]\n",
    "    filtered.where(filtered < max_distance, None, inplace=True)\n",
    "    distances = filtered[~filtered.isnull().all(axis=1)].idxmin(axis = 1)\n",
    "    return pd.DataFrame(data = distances, columns = ['site_id'])\n",
    "\n",
    "# function that returns list of passed characteristic in passed data frame\n",
    "# for passed list of block group ids\n",
    "def retrieve_characteristics(hub_ids, data, characteristic):\n",
    "    return data.loc[data['GISJOIN'].isin(list(hub_ids))][characteristic]\n",
    "\n",
    "# function that takes an array of arrays of block group ids, data (from CES), group names, \n",
    "# and a desired characteristic and creates a boxplot\n",
    "def boxplot_characteristics(list_bg_ids, data, group_names, characteristic):\n",
    "    list_x = [[]]*len(list_bg_ids)\n",
    "    # create x values for plot\n",
    "    for i in np.arange(len(list_bg_ids)):\n",
    "        list_x[i] = (retrieve_characteristics(list_bg_ids[i], data, characteristic))\n",
    "    \n",
    "    plt.boxplot(list_x, labels = group_names);\n",
    "    plt.ylabel(characteristic)\n",
    "    return(plt)\n",
    "    "
   ]
  },
  {
   "cell_type": "code",
   "execution_count": 167,
   "id": "8f8df57a",
   "metadata": {},
   "outputs": [],
   "source": [
    "# Compare characteristics of people in block groups that matched to a hub\n",
    "# vs. people in block groups that did not\n",
    "bg_ces_df = pd.read_csv('data/bg_ca_19/bg19_ces_indicators.csv')\n",
    "# Potential variables: ['PCT_LESSHS', 'PCT_UNEMP', 'PCT_RENT', \n",
    "# 'PCT_LINGISO', 'PCT_POV', 'RATE_ASTH', 'RATE_LBW', 'RATE_CVD']\n",
    "\n",
    "max_distance = 1.5\n",
    "hubs = var_hub_yn.loc[var_hub_yn['BUILT'] == 1].index\n",
    "\n",
    "no = no_distance(hubs, dist_to_site_contra_costa_walk_df, max_distance)\n",
    "yes = yes_distance(hubs, dist_to_site_contra_costa_walk_df, max_distance)\n"
   ]
  },
  {
   "cell_type": "code",
   "execution_count": 188,
   "id": "a2d2973f",
   "metadata": {},
   "outputs": [
    {
     "data": {
      "image/png": "[encoded data removed]",
      "text/plain": [
       "<Figure size 432x288 with 1 Axes>"
      ]
     },
     "metadata": {
      "needs_background": "light"
     },
     "output_type": "display_data"
    }
   ],
   "source": [
    "# Proportion of unemployed people\n",
    "boxplot_characteristics([list(yes), list(no)], bg_ces_df, \n",
    "                       [\"Block Groups Within 1.5 \\n Miles of Built Hub (Walking)\", \n",
    "                       \"Block Groups Not Within 1.5 \\n Miles of Built Hub (Walking)\"],\n",
    "                       'PCT_UNEMP');"
   ]
  },
  {
   "cell_type": "code",
   "execution_count": 170,
   "id": "84c30098",
   "metadata": {},
   "outputs": [
    {
     "data": {
      "image/png": "[encoded data removed]",
      "text/plain": [
       "<Figure size 432x288 with 1 Axes>"
      ]
     },
     "metadata": {
      "needs_background": "light"
     },
     "output_type": "display_data"
    }
   ],
   "source": [
    "# Proportion of linguistically isolated people\n",
    "boxplot_characteristics([list(yes), list(no)], bg_ces_df, \n",
    "                       [\"Block Groups Within 1.5 \\n Miles of Built Hub (Walking)\", \n",
    "                       \"Block Groups Not Within 1.5 \\n Miles of Built Hub (Walking)\"],\n",
    "                       'PCT_LINGISO');"
   ]
  },
  {
   "cell_type": "code",
   "execution_count": 191,
   "id": "0e6d46db",
   "metadata": {},
   "outputs": [
    {
     "data": {
      "image/png": "[encoded data removed]",
      "text/plain": [
       "<Figure size 864x288 with 1 Axes>"
      ]
     },
     "metadata": {
      "needs_background": "light"
     },
     "output_type": "display_data"
    }
   ],
   "source": [
    "# Asthma Rate\n",
    "boxplot_characteristics([list(yes), list(no)], bg_ces_df, \n",
    "                       [\"Block Groups Within 1.5 \\n Miles of Built Hub (Walking)\", \n",
    "                       \"Block Groups Not Within 1.5 \\n Miles of Built Hub (Walking)\"],\n",
    "                       'RATE_ASTH');\n"
   ]
  },
  {
   "cell_type": "code",
   "execution_count": null,
   "id": "4a266e5c",
   "metadata": {},
   "outputs": [],
   "source": [
    "# Function for taking county name and hub ids that are built, and returning distance \n",
    "# matrix from each block group centroid in county to built hubs\n",
    "from distance_matrix_functions_cmm import *\n",
    "\n",
    "k_neighbors = 10 # Find this many nearest neighbors\n",
    "max_distance = 4 # Find all neighbors within this number of miles\n",
    "\n",
    "# Building block group GeoDataFrame\n",
    "bgs_path = os.path.join(os.getcwd(), 'data', 'bg_ca_19', 'shp', 'blockgroup_CA_19.shp')\n",
    "bgs_gdf = gpd.read_file(bgs_path)\n",
    "bgs_gdf = bgs_gdf.to_crs(sites_gdf.crs)\n",
    "bgs_lons = [float(intpt) for intpt in bgs_gdf['INTPTLON']]\n",
    "bgs_lats = [float(intpt) for intpt in bgs_gdf['INTPTLAT']]\n",
    "bgs = pd.DataFrame(bgs_gdf[['GISJOIN', 'COUNTYFP']])\n",
    "bgs['LON'] = bgs_lons\n",
    "bgs['LAT'] = bgs_lats\n",
    "bgs_pt_geom = gpd.points_from_xy(x = bgs.LON,y = bgs.LAT, crs = nad83)\n",
    "bgs_pt_gdf = gpd.GeoDataFrame(bgs, geometry = bgs_pt_geom, crs = nad83)\n",
    "\n",
    "# Read in county boundaries\n",
    "county_gdf = gpd.read_file(os.path.join(\"data\",\"cb_2018_us_county_500k.zip\"))\n",
    "county_gdf = county_gdf[county_gdf[\"STATEFP\"]=='06'] #Just california\n",
    "\n",
    "# Getting county FIPS codes\n",
    "ca_county_names = [ \\\n",
    "                    'Alameda', 'Alpine', 'Amador', 'Butte', 'Calaveras', 'Colusa', 'Contra Costa',\n",
    "                   'Del Norte', 'El Dorado', 'Fresno', 'Glenn', 'Humboldt', 'Imperial', 'Inyo',\n",
    "                   'Kern', 'Kings', 'Lake', 'Lassen', 'Los Angeles', 'Madera', 'Marin', 'Mariposa',\n",
    "                   'Mendocino', 'Merced', 'Modoc', 'Mono', 'Monterey', 'Napa', 'Nevada', 'Orange',\n",
    "                   'Placer', 'Plumas', 'Riverside', 'Sacramento', 'San Benito', 'San Bernardino',\n",
    "                   'San Diego', 'San Francisco', 'San Joaquin', 'San Luis Obispo', 'San Mateo',\n",
    "                   'Santa Barbara', 'Santa Clara','Santa Cruz','Shasta', 'Sierra', 'Siskiyou',\n",
    "                   'Solano', 'Sonoma', 'Stanislaus', 'Sutter', 'Tehama', 'Trinity', 'Tulare',\n",
    "                   'Tuolumne','Ventura', 'Yolo', 'Yuba'\n",
    "                   ]\n",
    "ca_county_fips = ['00' + str(int(num)) for num in np.linspace(1, 115, 58)]\n",
    "ca_county_fips = [num[-3:] for num in ca_county_fips]\n",
    "ca_counties = {ca_county_names[i]:ca_county_fips[i] for i in range(len(ca_county_names))}\n",
    "# Subset of counties to limit the analysis to just these counties.\n",
    "ca_counties_subset = [ \\\n",
    "                        # 'Alameda', 'Alpine', 'Amador', 'Butte',\n",
    "                        # 'Calaveras', 'Colusa',\n",
    "                         'Contra Costa',\n",
    "                        # 'Del Norte', 'El Dorado', 'Fresno', 'Glenn',\n",
    "                        # 'Humboldt', 'Imperial', 'Inyo',\n",
    "                        # 'Kern', 'Kings', 'Lake', 'Lassen',\n",
    "                        # 'Los Angeles',\n",
    "                        # 'Madera', 'Marin', 'Mariposa',\n",
    "                        # 'Mendocino', 'Merced', 'Modoc', 'Mono',\n",
    "                        # 'Monterey', 'Napa', 'Nevada', 'Orange',\n",
    "                        # 'Placer', 'Plumas', 'Riverside', 'Sacramento', 'San Benito', 'San Bernardino',\n",
    "                        # 'San Diego', 'San Francisco', 'San Joaquin', 'San Luis Obispo', 'San Mateo',\n",
    "                        # 'Santa Barbara', 'Santa Clara','Santa Cruz','Shasta', 'Sierra', 'Siskiyou',\n",
    "                        # 'Solano', 'Sonoma', 'Stanislaus', 'Sutter', 'Tehama', 'Trinity', 'Tulare',\n",
    "                        # 'Tuolumne','Ventura', 'Yolo', 'Yuba'\n",
    "                        ]\n",
    "ca_counties = {county: ca_counties[county] for county in ca_counties_subset}\n",
    "\n",
    "county_graph_buffer = 0.1 # Add on this distance to get street nodes/edges from neighboring counties too.\n",
    "# county = 'Contra Costa';county_fips = '013'\n",
    "\n",
    "# RUNS VERY SLOWLY -- HAVEN'T SUCCESSFULLY RUN\n",
    "for county, county_fips in ca_counties.items():\n",
    "    output_county = county.lower().replace(' ', '')\n",
    "    output_file_name = os.path.join(os.getcwd(), 'data', 'built_hub_distance_matrices', 'built_hub_distmatrix_walk_' + output_county + '.csv')\n",
    "    if not(os.path.exists(output_file_name)): # If distance matrix has not been calculated yet\n",
    "        # Get graph for county\n",
    "        print(\"Getting graph for \" + county)\n",
    "        county_bbox = county_gdf.loc[county_gdf[\"COUNTYFP\"]==county_fips,'geometry'].unary_union\n",
    "        if not(os.path.exists(os.path.join(os.getcwd(), 'data', 'graphs', 'graph_walk_' + output_county + '.graphml'))): # If graph has not been downloaded yet\n",
    "            county_bbox_buffered = county_bbox.buffer(county_graph_buffer)\n",
    "            county_graph = get_county_walk_graph_from_polygon(county_bbox_buffered, nad83)\n",
    "            ox.save_graphml(county_graph, os.path.join(os.getcwd(), 'data', 'graphs', 'graph_walk_' + output_county + '.graphml'))\n",
    "        else: #Load graph from disk\n",
    "            county_graph = ox.load_graphml(os.path.join(os.getcwd(), 'data', 'graphs', 'graph_walk_' + output_county + '.graphml'))\n",
    "        # Get the sites and block groups for just this county\n",
    "        hubs_county_gdf = hubs_gdf.loc[hubs_gdf.within(county_bbox)]\n",
    "        bgs_county_gdf = bgs_pt_gdf[bgs_pt_gdf[\"COUNTYFP\"]==county_fips]\n",
    "\n",
    "        # Get the \"names\" of the sites and block groups.\n",
    "        name_index = {i:bgs_county_gdf.iloc[i]['GISJOIN'] for i in range(0, len(bgs_county_gdf))}\n",
    "        name_columns = {i:hubs_county_gdf.iloc[i]['id_site'] for i in range(0, len(hubs_county_gdf))}\n",
    "\n",
    "        # Initialize blank matrix\n",
    "        dist_to_site_matrix = np.NaN*np.zeros((len(bgs_county_gdf), len(hubs_county_gdf)))\n",
    "        dist_to_site_df = pd.DataFrame(dist_to_site_matrix)\n",
    "        dist_to_site_df.rename(index = name_index, columns = name_columns, inplace = True)\n",
    "\n",
    "        # Calculate distance matrix loop\n",
    "        print(\"Measuring distances for \" + county)\n",
    "        num_bgs = 0\n",
    "\n",
    "        for _,bg_row in bgs_county_gdf.iterrows():\n",
    "            # For timing purposes, see progress\n",
    "            num_bgs += 1\n",
    "            if num_bgs%10 == 0:\n",
    "                print(num_bgs)\n",
    "            # Get nearest node to blockgroup lat/long\n",
    "            node_origin = get_coords_and_nearest_node(bg_row['GISJOIN'], 'GISJOIN', bgs_county_gdf, county_graph)\n",
    "\n",
    "            # Find the nearest built sites\n",
    "            hubs_nearby = get_nearby_sites_lat_long(bg_row, hubs_county_gdf, k_neighbors, max_distance)\n",
    "            for site in hubs_nearby: # For each site\n",
    "                # Find the nearest node on the graph\n",
    "                node_target = get_coords_and_nearest_node(site, 'id_site', hubs_county_gdf, county_graph)\n",
    "                try:\n",
    "                    # Calculate travel distance\n",
    "                    travel_dist_m = nx.shortest_path_length(county_graph, node_origin, node_target, weight = 'length')\n",
    "                    # Set travel distance in distance matrix in miles\n",
    "                    dist_to_site_df.loc[bg_row['GISJOIN'], site] = round(travel_dist_m/1609.344, 2)\n",
    "                except:\n",
    "                    dist_to_site_df.loc[bg_row['GISJOIN'], site] = None\n"
   ]
  }
 ],
 "metadata": {
  "kernelspec": {
   "display_name": "Python 3 (ipykernel)",
   "language": "python",
   "name": "python3"
  },
  "language_info": {
   "codemirror_mode": {
    "name": "ipython",
    "version": 3
   },
   "file_extension": ".py",
   "mimetype": "text/x-python",
   "name": "python",
   "nbconvert_exporter": "python",
   "pygments_lexer": "ipython3",
   "version": "3.9.7"
  }
 },
 "nbformat": 4,
 "nbformat_minor": 5
}
