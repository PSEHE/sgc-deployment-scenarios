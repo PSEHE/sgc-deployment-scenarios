{
 "cells": [
  {
   "cell_type": "code",
   "execution_count": 131,
   "id": "c1973ec8",
   "metadata": {},
   "outputs": [],
   "source": [
    "import osmnx as ox\n",
    "import networkx as nx\n",
    "\n",
    "import geopandas as gpd\n",
    "import pandas as pd\n",
    "import numpy as np\n",
    "from statistics import mean\n",
    "\n",
    "import matplotlib.pyplot as plt\n",
    "import shapely\n",
    "import folium\n",
    "\n",
    "import os"
   ]
  },
  {
   "cell_type": "code",
   "execution_count": 133,
   "id": "d4f70684",
   "metadata": {},
   "outputs": [],
   "source": [
    "location = 'Richmond, California, USA'\n",
    "richmond_center = [37.943882, -122.35342]\n",
    "\n",
    "ca_teale_albers_nad83 = 'NAD_1983_California_Teale_Albers_FtUS'\n",
    "nad83 = 'EPSG:4629'\n",
    "\n",
    "wgs84 = 'EPSG:4326'\n",
    "wgs84_m = 'EPSG:4798'"
   ]
  },
  {
   "cell_type": "code",
   "execution_count": 135,
   "id": "a06a1064",
   "metadata": {},
   "outputs": [],
   "source": [
    "richmond_basemap = folium.Map(location = richmond_center, zoom_start = 12, width = '50%', height = '50%', tiles = 'OpenStreetMap')\n",
    "\n",
    "#richmond_basemap"
   ]
  },
  {
   "cell_type": "code",
   "execution_count": 136,
   "id": "f22a8f6c",
   "metadata": {
    "scrolled": true
   },
   "outputs": [],
   "source": [
    "def plot_gdf_with_background(gdf, zoom=12, center = None):\n",
    "    \n",
    "    if center is not None:\n",
    "        map_center = center\n",
    "    else:\n",
    "        map_center_lon = gdf['geometry'].x.mean()\n",
    "        map_center_lat = gdf['geometry'].y.mean()\n",
    "        map_center = [map_center_lat, map_center_lon]\n",
    "    \n",
    "    map_with_background = folium.Map(map_center, zoom_start = zoom, width = '50%', height = '50%', \n",
    "                                     tiles = 'OpenStreetMap')\n",
    "    \n",
    "    folium.GeoJson(gdf).add_to(map_with_background)\n",
    "    \n",
    "    return(map_with_background)"
   ]
  },
  {
   "cell_type": "markdown",
   "id": "391ee3ee",
   "metadata": {},
   "source": [
    "## Read in and Clean Necessary Data"
   ]
  },
  {
   "cell_type": "code",
   "execution_count": 137,
   "id": "9462f3e8",
   "metadata": {
    "scrolled": true
   },
   "outputs": [],
   "source": [
    "import warnings\n",
    "\n",
    "warnings.filterwarnings('ignore')\n",
    "\n",
    "#graph_raw = ox.graph_from_place(location, network_type = 'drive')\n",
    "\n",
    "graph = ox.project_graph(graph_raw, to_crs = wgs84)\n",
    "graph = ox.add_edge_speeds(graph)\n",
    "graph = ox.add_edge_travel_times(graph)\n",
    "\n",
    "graph_nodes_gdf, graph_edges_gdf = ox.graph_to_gdfs(graph, nodes = True, edges = True)\n",
    "\n",
    "#ox.plot_graph(graph)"
   ]
  },
  {
   "cell_type": "code",
   "execution_count": 139,
   "id": "27370aae",
   "metadata": {},
   "outputs": [],
   "source": [
    "hubs_path = os.path.join(os.getcwd(), 'data', 'candidate_site_campuses_2021-11-17', 'candidate_site_campuses.csv')\n",
    "\n",
    "hubs_df_raw = pd.read_csv(hubs_path)\n",
    "hubs_df_raw = hubs_df_raw.loc[hubs_df_raw['cat_site'] != 'X', ['id_site', 'SQFT_ROOF', 'LON', 'LAT']]\n",
    "\n",
    "hubs_geom = gpd.points_from_xy(hubs_df_raw.LON, hubs_df_raw.LAT, crs = wgs84)\n",
    "hubs_gdf = gpd.GeoDataFrame(hubs_df_raw, geometry = hubs_geom, crs = wgs84)\n",
    "\n",
    "#plot_gdf_with_background(hubs_gdf, 13, richmond_center)"
   ]
  },
  {
   "cell_type": "code",
   "execution_count": 141,
   "id": "15e3a9e3",
   "metadata": {},
   "outputs": [],
   "source": [
    "cengeos_path = os.path.join(os.getcwd(), 'data', 'bg_ca_19', 'blockgroup_CA_19.shp')\n",
    "\n",
    "cengeos_gdf = gpd.read_file(cengeos_path)\n",
    "cengeos_gdf = cengeos_gdf.to_crs(hubs_gdf.crs)\n",
    "\n",
    "#cengeos_gdf.plot()"
   ]
  },
  {
   "cell_type": "code",
   "execution_count": 149,
   "id": "462079d1",
   "metadata": {},
   "outputs": [],
   "source": [
    "cengeos_lons = [float(intpt) for intpt in cengeos_gdf['INTPTLON']]\n",
    "cengeos_lats = [float(intpt) for intpt in cengeos_gdf['INTPTLAT']]\n",
    "\n",
    "cengeos = pd.DataFrame(cengeos_gdf[['GISJOIN', 'COUNTYFP']])\n",
    "cengeos['LON'] = cengeos_lons\n",
    "cengeos['LAT'] = cengeos_lats\n",
    "\n",
    "cengeos_pt_geom = gpd.points_from_xy(x = cengeos.LON,y = cengeos.LAT, crs = wgs84)\n",
    "cengeos_pt_gdf = gpd.GeoDataFrame(cengeos, geometry = cengeos_pt_geom, crs = wgs84)\n",
    "\n",
    "#plot_gdf_with_background(cengeos_pt_gdf, 13, richmond_center)"
   ]
  },
  {
   "cell_type": "markdown",
   "id": "38dc6aab",
   "metadata": {},
   "source": [
    "## Restrict to Hubs within Desired Area"
   ]
  },
  {
   "cell_type": "code",
   "execution_count": 144,
   "id": "c3c96c95",
   "metadata": {},
   "outputs": [],
   "source": [
    "lon_max = graph_nodes_gdf['lon'].max()\n",
    "lon_min = graph_nodes_gdf['lon'].min()\n",
    "lon_avg = (lon_max + lon_min)/2\n",
    "\n",
    "lat_max = graph_nodes_gdf['lat'].max()\n",
    "lat_min = graph_nodes_gdf['lat'].min()\n",
    "lat_avg = (lat_min + lat_max)/2\n",
    "\n",
    "bbox_coords = [(lon_min, lat_min), (lon_min, lat_max), (lon_max, lat_max), (lon_max, lat_min)]\n",
    "bbox_poly = shapely.geometry.Polygon(bbox_coords)"
   ]
  },
  {
   "cell_type": "code",
   "execution_count": 146,
   "id": "8f216c28",
   "metadata": {},
   "outputs": [],
   "source": [
    "hubs_gdf_bbox = hubs_gdf[hubs_gdf.within(bbox_poly)]\n",
    "\n",
    "#plot_gdf_with_background(hubs_gdf_bbox)"
   ]
  },
  {
   "cell_type": "code",
   "execution_count": 189,
   "id": "f031cab4",
   "metadata": {},
   "outputs": [],
   "source": [
    "cengeos_pt_gdf_bbox = cengeos_pt_gdf[cengeos_pt_gdf.within(bbox_poly)]\n",
    "\n",
    "### REMOVE THE FOLLOWING LINE AFTER TESTING!!! - selecting random BGs for matrix\n",
    "cengeos_pt_gdf_bbox = cengeos_pt_gdf_bbox.iloc[[0, 3, 12, 20, 48, 65], ]\n",
    "\n",
    "#plot_gdf_with_background(cengeos_pt_gdf_bbox, center = richmond_center)"
   ]
  },
  {
   "cell_type": "markdown",
   "id": "194186a6",
   "metadata": {},
   "source": [
    "## Build Distance Matrix for Desired Area"
   ]
  },
  {
   "cell_type": "code",
   "execution_count": 190,
   "id": "4ae54166",
   "metadata": {},
   "outputs": [],
   "source": [
    "matrix_dist_to_hubs = np.NaN*np.zeros((len(cengeos_gdf_bbox), len(hubs_gdf_bbox))) #what does np.zeros do?"
   ]
  },
  {
   "cell_type": "code",
   "execution_count": 191,
   "id": "65d94063",
   "metadata": {},
   "outputs": [],
   "source": [
    "cengeos_buffer = cengeos_pt_gdf_bbox.buffer(0.025)"
   ]
  },
  {
   "cell_type": "code",
   "execution_count": 192,
   "id": "d8f25830",
   "metadata": {},
   "outputs": [],
   "source": [
    "n_cengeos = len(cengeos_pt_gdf_bbox)"
   ]
  },
  {
   "cell_type": "code",
   "execution_count": 204,
   "id": "244ff907",
   "metadata": {},
   "outputs": [],
   "source": [
    "for cengeo in range(0, n_cengeos):\n",
    "    \n",
    "    cengeo_buffer = cengeos_buffer.iloc[cengeo]\n",
    "    \n",
    "    hubs_nearby_gdf = hubs_gdf_bbox[hubs_gdf_bbox.within(cengeo_buffer)]\n",
    "    \n",
    "    n_hubs_nearby = len(hubs_nearby_gdf)"
   ]
  },
  {
   "cell_type": "code",
   "execution_count": 210,
   "id": "469a63b7",
   "metadata": {},
   "outputs": [
    {
     "name": "stdout",
     "output_type": "stream",
     "text": [
      "POINT (-122.34621155 37.95213657)\n",
      "POINT (-122.3416791 37.95243215)\n",
      "POINT (-122.34535805 37.94236182)\n",
      "POINT (-122.36414091 37.93221329)\n",
      "POINT (-122.34239007 37.93425788)\n",
      "POINT (-122.35521553 37.9260103)\n",
      "POINT (-122.35518118 37.92549379)\n",
      "POINT (-122.31556282 37.92980015)\n",
      "POINT (-122.33723978 37.93343146)\n",
      "POINT (-122.34233415 37.92226036)\n",
      "POINT (-122.33083995 37.93279054)\n",
      "POINT (-122.31894519 37.91933511)\n",
      "POINT (-122.3440602 37.93589453)\n",
      "POINT (-122.32269526 37.91997057)\n",
      "POINT (-122.32883909 37.92487027)\n",
      "POINT (-122.3590218 37.92753124)\n",
      "POINT (-122.33157023 37.92919212)\n",
      "POINT (-122.32668233 37.91847736)\n",
      "POINT (-122.32382748 37.9151525)\n",
      "POINT (-122.3602583 37.93379469)\n",
      "POINT (-122.33708026 37.92244216)\n",
      "POINT (-122.33266617 37.94959289)\n",
      "POINT (-122.34514871 37.93843666)\n",
      "POINT (-122.34605073 37.93873566)\n",
      "POINT (-122.3357235 37.93435665)\n",
      "POINT (-122.33212583 37.93327848)\n",
      "POINT (-122.32506167 37.93276733)\n",
      "POINT (-122.35767132 37.92766907)\n",
      "POINT (-122.35722098 37.93054564)\n"
     ]
    }
   ],
   "source": [
    "for hub in range(0, n_hubs_nearby):\n",
    "    \n",
    "    hub_geom = hubs_nearby_gdf.iloc[hub]['geometry']\n",
    "    \n",
    "    print(hub_geom)"
   ]
  }
 ],
 "metadata": {
  "kernelspec": {
   "display_name": "Python 3 (ipykernel)",
   "language": "python",
   "name": "python3"
  },
  "language_info": {
   "codemirror_mode": {
    "name": "ipython",
    "version": 3
   },
   "file_extension": ".py",
   "mimetype": "text/x-python",
   "name": "python",
   "nbconvert_exporter": "python",
   "pygments_lexer": "ipython3",
   "version": "3.9.7"
  }
 },
 "nbformat": 4,
 "nbformat_minor": 5
}
