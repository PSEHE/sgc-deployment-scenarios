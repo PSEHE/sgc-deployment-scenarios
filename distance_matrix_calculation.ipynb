{
 "cells": [
  {
   "cell_type": "code",
   "execution_count": 1,
   "id": "8e769723",
   "metadata": {},
   "outputs": [],
   "source": [
    "import osmnx as ox\n",
    "from osmnx import utils_graph\n",
    "import networkx as nx\n",
    "\n",
    "import geopandas as gpd\n",
    "import pandas as pd\n",
    "import numpy as np\n",
    "from statistics import mean\n",
    "\n",
    "import matplotlib.pyplot as plt\n",
    "import shapely\n",
    "import folium\n",
    "\n",
    "import os"
   ]
  },
  {
   "cell_type": "markdown",
   "id": "11935183",
   "metadata": {},
   "source": [
    "### Define function to map geodataframe on OSM basemap\n",
    "For QA purposes so we can assure that data look like they should and are in the correct location"
   ]
  },
  {
   "cell_type": "code",
   "execution_count": 3,
   "id": "6b96b9fe",
   "metadata": {},
   "outputs": [],
   "source": [
    "def plot_gdf_with_background(gdf, zoom=12, center = None):\n",
    "\n",
    "    if center is not None:\n",
    "        map_center = center\n",
    "    else:\n",
    "        map_center_lon = gdf['geometry'].x.mean()\n",
    "        map_center_lat = gdf['geometry'].y.mean()\n",
    "        map_center = [map_center_lat, map_center_lon]\n",
    "\n",
    "    map_with_background = folium.Map(map_center, zoom_start = zoom, width = '50%', height = '50%', tiles = 'OpenStreetMap')\n",
    "\n",
    "    folium.GeoJson(gdf).add_to(map_with_background)\n",
    "\n",
    "    return(map_with_background)"
   ]
  },
  {
   "cell_type": "markdown",
   "id": "dd5196ec",
   "metadata": {},
   "source": [
    "### Get graph for desired location"
   ]
  },
  {
   "cell_type": "code",
   "execution_count": 2,
   "id": "fee9f480",
   "metadata": {},
   "outputs": [],
   "source": [
    "location = 'Contra Costa County, California, USA'\n",
    "richmond_center = [37.943882, -122.35342]\n",
    "\n",
    "ca_albers_nad83 = 'NAD_1983_California_Teale_Albers_FtUS'\n",
    "nad83 = 'EPSG:4629'\n",
    "wgs84 = 'EPSG:4326'"
   ]
  },
  {
   "cell_type": "code",
   "execution_count": 4,
   "id": "d9ae8cac",
   "metadata": {},
   "outputs": [],
   "source": [
    "import warnings\n",
    "\n",
    "warnings.filterwarnings('ignore')\n",
    "\n",
    "graph_raw = ox.graph_from_place(location, network_type = 'drive', simplify = True)\n",
    "\n",
    "graph = ox.project_graph(graph_raw, to_crs = nad83)\n",
    "graph = ox.speed.add_edge_speeds(graph)\n",
    "graph = ox.speed.add_edge_travel_times(graph)\n",
    "\n",
    "graph_nodes_gdf, graph_edges_gdf = ox.graph_to_gdfs(graph, nodes = True, edges = True)\n",
    "\n",
    "graph_edges_gdf_reset = graph_edges_gdf.reset_index()\n",
    "graph_edges_gdf_reset.rename(columns = {'u':'from_node', 'v':'to_node'}, inplace = True)"
   ]
  },
  {
   "cell_type": "markdown",
   "id": "3d6575b8",
   "metadata": {},
   "source": [
    "### Get hub and blockgroup data, restrict to area of interest"
   ]
  },
  {
   "cell_type": "code",
   "execution_count": 6,
   "id": "b2a8e37e",
   "metadata": {},
   "outputs": [],
   "source": [
    "hubs_path = os.path.join(os.getcwd(), 'data', 'candidate_site_campuses_2021-11-17', 'candidate_sites_campuses.csv')\n",
    "\n",
    "hubs_df_raw = pd.read_csv(hubs_path)\n",
    "hubs_df_raw = hubs_df_raw.loc[hubs_df_raw['cat_site'] != 'X', ['id_site', 'cat_site', 'SQFT_ROOF', 'LON', 'LAT']]\n",
    "\n",
    "hubs_geom = gpd.points_from_xy(hubs_df_raw.LON, hubs_df_raw.LAT, crs = nad83)\n",
    "hubs_gdf = gpd.GeoDataFrame(hubs_df_raw, geometry = hubs_geom, crs = nad83)\n",
    "\n",
    "#plot_gdf_with_background(hubs_gdf, 13, richmond_center)"
   ]
  },
  {
   "cell_type": "code",
   "execution_count": null,
   "id": "c2977637",
   "metadata": {},
   "outputs": [],
   "source": [
    "cengeos_path = os.path.join(os.getcwd(), 'data', 'bg_ca_19', 'blockgroup_CA_19.shp')\n",
    "\n",
    "cengeos_gdf = gpd.read_file(cengeos_path)\n",
    "cengeos_gdf = cengeos_gdf.to_crs(hubs_gdf.crs)\n",
    "\n",
    "cengeos_lons = [float(intpt) for intpt in cengeos_gdf['INTPTLON']]\n",
    "cengeos_lats = [float(intpt) for intpt in cengeos_gdf['INTPTLAT']]\n",
    "\n",
    "cengeos = pd.DataFrame(cengeos_gdf[['GISJOIN', 'COUNTYFP']])\n",
    "cengeos['LON'] = cengeos_lons\n",
    "cengeos['LAT'] = cengeos_lats\n",
    "\n",
    "cengeos_pt_geom = gpd.points_from_xy(x = cengeos.LON,y = cengeos.LAT, crs = nad83)\n",
    "cengeos_pt_gdf = gpd.GeoDataFrame(cengeos, geometry = cengeos_pt_geom, crs = nad83)\n",
    "\n",
    "#plot_gdf_with_background(cengeos_pt_gdf, 13, richmond_center)"
   ]
  },
  {
   "cell_type": "code",
   "execution_count": null,
   "id": "c2e1151a",
   "metadata": {},
   "outputs": [],
   "source": [
    "lon_max = graph_nodes_gdf['lon'].max()\n",
    "lon_min = graph_nodes_gdf['lon'].min()\n",
    "lon_avg = (lon_max + lon_min)/2\n",
    "\n",
    "lat_max = graph_nodes_gdf['lat'].max()\n",
    "lat_min = graph_nodes_gdf['lat'].min()\n",
    "lat_avg = (lat_min + lat_max)/2\n",
    "\n",
    "bbox_coords = [(lon_min, lat_min), (lon_min, lat_max), (lon_max, lat_max), (lon_max, lat_min)]\n",
    "bbox_poly = shapely.geometry.Polygon(bbox_coords)"
   ]
  },
  {
   "cell_type": "code",
   "execution_count": null,
   "id": "b3b614b0",
   "metadata": {},
   "outputs": [],
   "source": [
    "hubs_gdf_bbox = hubs_gdf[hubs_gdf.within(bbox_poly)]\n",
    "\n",
    "cengeos_pt_gdf_bbox = cengeos_pt_gdf[cengeos_pt_gdf.within(bbox_poly)].reset_index(drop = True)\n",
    "cengeos_pt_gdf_bbox['CNTY_FIPS'] = cengeos_pt_gdf_bbox['GISJOIN'].str[4:7]\n",
    "cengeos_pt_gdf_bbox = cengeos_pt_gdf_bbox.loc[cengeos_pt_gdf_bbox['CNTY_FIPS'] == '013']\n",
    "\n",
    "#plot_gdf_with_background(cengeos_pt_gdf_bbox, center = richmond_center)"
   ]
  },
  {
   "cell_type": "code",
   "execution_count": null,
   "id": "5c8444ef",
   "metadata": {},
   "outputs": [],
   "source": [
    "cengeos_pt_gdf_bbox_proj = cengeos_pt_gdf_bbox.to_crs(ca_albers_nad83)\n",
    "\n",
    "one_mile = 5280\n",
    "cengeos_buffer = cengeos_pt_gdf_bbox_proj.buffer(one_mile*3)\n",
    "\n",
    "cengeos_buffer_gdf_bbox = gpd.GeoDataFrame(cengeos_pt_gdf_bbox['GISJOIN'])\n",
    "cengeos_buffer_gdf_bbox['geometry'] = cengeos_buffer\n",
    "\n",
    "cengeos_buffer_gdf_bbox = cengeos_buffer_gdf_bbox.to_crs(nad83)"
   ]
  },
  {
   "cell_type": "markdown",
   "id": "70ea99c2",
   "metadata": {},
   "source": [
    "### Define functions needed to build matrix"
   ]
  },
  {
   "cell_type": "code",
   "execution_count": null,
   "id": "0d7f1021",
   "metadata": {},
   "outputs": [],
   "source": [
    "def get_coords_and_nearest_node(in_pt, in_colname, in_pt_gdf, in_graph=graph):\n",
    "\n",
    "    pt_geom = in_pt_gdf.loc[in_pt_gdf[in_colname] == in_pt, 'geometry']\n",
    "    pt_coords = [float(pt_geom.y), float(pt_geom.x)]\n",
    "    pt_nearest_node = ox.get_nearest_node(in_graph, pt_coords, method = 'euclidean')\n",
    "\n",
    "    return(pt_nearest_node)\n",
    "\n",
    "def get_nearby_hubs(in_cengeo, in_cengeo_buffers=cengeos_buffer_gdf_bbox, in_hubs=hubs_gdf_bbox):\n",
    "\n",
    "    cengeo_buffer = in_cengeo_buffers.loc[in_cengeo_buffers['GISJOIN'] == in_cengeo, 'geometry'].reset_index(drop = True)[0]\n",
    "    cengeo_nearest_hubs = in_hubs[in_hubs.within(cengeo_buffer)]['id_site']\n",
    "\n",
    "    return(cengeo_nearest_hubs)\n",
    "\n",
    "def get_steps_in_route(in_route):\n",
    "\n",
    "    steps_in_route = []\n",
    "\n",
    "    for i in range(0, len(in_route)):\n",
    "        steps_in_route.append([in_route[i-1], in_route[i]])\n",
    "\n",
    "    steps_in_route = steps_in_route[1:]\n",
    "\n",
    "    return(steps_in_route)\n",
    "\n",
    "def get_travel_time(in_steps, in_edges=graph_edges_gdf_reset):\n",
    "\n",
    "    travel_times_sec = []\n",
    "\n",
    "    for step in range(0, len(in_steps)):\n",
    "\n",
    "        step_in_route = in_steps[step]\n",
    "        step_duration_sec = in_edges.loc[(in_edges['from_node'] == step_in_route[0]) & (in_edges['to_node'] == step_in_route[1])]['travel_time']\n",
    "        travel_times_sec.append(step_duration_sec)\n",
    "\n",
    "    travel_times_min = [float(travel_time)/60 for travel_time in travel_times_sec]\n",
    "    travel_time_min = round(sum(travel_times_min), 2)\n",
    "\n",
    "    return(travel_time_min)"
   ]
  },
  {
   "cell_type": "markdown",
   "id": "932f1131",
   "metadata": {},
   "source": [
    "### Build Distance Matrix"
   ]
  },
  {
   "cell_type": "code",
   "execution_count": null,
   "id": "4d314560",
   "metadata": {},
   "outputs": [],
   "source": [
    "name_index = {i:cengeos_pt_gdf_bbox.iloc[i]['GISJOIN'] for i in range(0, len(cengeos_buffer_gdf_bbox))}\n",
    "name_columns = {i:hubs_gdf_bbox.iloc[i]['id_site'] for i in range(0, len(hubs_gdf_bbox))}\n",
    "\n",
    "dist_to_hub_matrix = np.NaN*np.zeros((len(cengeos_pt_gdf_bbox), len(hubs_gdf_bbox)))\n",
    "dist_to_hub_df = pd.DataFrame(dist_to_hub_matrix)\n",
    "\n",
    "dist_to_hub_df.rename(index = name_index, columns = name_columns, inplace = True)"
   ]
  },
  {
   "cell_type": "code",
   "execution_count": null,
   "id": "78214192",
   "metadata": {},
   "outputs": [],
   "source": [
    "cengeos_bbox = cengeos_pt_gdf_bbox.loc[:, 'GISJOIN']\n",
    "no_path_founds = []\n",
    "\n",
    "for cengeo in cengeos_bbox:\n",
    "\n",
    "    node_origin = get_coords_and_nearest_node(cengeo, 'GISJOIN', cengeos_pt_gdf_bbox)\n",
    "    hubs_nearby = get_nearby_hubs(cengeo)\n",
    "\n",
    "    for hub in hubs_nearby:\n",
    "\n",
    "        node_target = get_coords_and_nearest_node(hub, 'id_site', hubs_gdf_bbox)\n",
    "\n",
    "        try:\n",
    "            travel_dist_m = nx.shortest_path_length(graph, node_origin, node_target, weight = 'length')\n",
    "            dist_to_hub_df.loc[cengeo, hub] = round(travel_dist_m/1609.344, 2)\n",
    "\n",
    "        except:\n",
    "            dist_to_hub_df.loc[cengeo, hub] = None\n",
    "            no_path_founds.append((cengeo, hub))"
   ]
  }
 ],
 "metadata": {
  "kernelspec": {
   "display_name": "geoenv",
   "language": "python",
   "name": "geoenv"
  },
  "language_info": {
   "codemirror_mode": {
    "name": "ipython",
    "version": 3
   },
   "file_extension": ".py",
   "mimetype": "text/x-python",
   "name": "python",
   "nbconvert_exporter": "python",
   "pygments_lexer": "ipython3",
   "version": "3.9.7"
  }
 },
 "nbformat": 4,
 "nbformat_minor": 5
}
