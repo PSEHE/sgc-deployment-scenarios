{
 "cells": [
  {
   "cell_type": "code",
   "execution_count": 1,
   "id": "c1973ec8",
   "metadata": {},
   "outputs": [],
   "source": [
    "import osmnx as ox\n",
    "import networkx as nx\n",
    "\n",
    "import geopandas as gpd\n",
    "import pandas as pd\n",
    "import numpy as np\n",
    "from statistics import mean\n",
    "\n",
    "import matplotlib.pyplot as plt\n",
    "import shapely\n",
    "import folium\n",
    "\n",
    "import os"
   ]
  },
  {
   "cell_type": "code",
   "execution_count": 2,
   "id": "d4f70684",
   "metadata": {},
   "outputs": [],
   "source": [
    "location = 'Richmond, California, USA'\n",
    "richmond_center = [37.943882, -122.35342]\n",
    "\n",
    "ca_teale_albers_nad83 = 'NAD_1983_California_Teale_Albers_FtUS'\n",
    "nad83 = 'EPSG:4629'\n",
    "\n",
    "wgs84 = 'EPSG:4326'\n",
    "wgs84_m = 'EPSG:4798'"
   ]
  },
  {
   "cell_type": "code",
   "execution_count": 3,
   "id": "f22a8f6c",
   "metadata": {
    "scrolled": true
   },
   "outputs": [],
   "source": [
    "def plot_gdf_with_background(gdf, zoom=12, center = None):\n",
    "    \n",
    "    if center is not None:\n",
    "        map_center = center\n",
    "    else:\n",
    "        map_center_lon = gdf['geometry'].x.mean()\n",
    "        map_center_lat = gdf['geometry'].y.mean()\n",
    "        map_center = [map_center_lat, map_center_lon]\n",
    "    \n",
    "    map_with_background = folium.Map(map_center, zoom_start = zoom, width = '50%', height = '50%', \n",
    "                                     tiles = 'OpenStreetMap')\n",
    "    \n",
    "    folium.GeoJson(gdf).add_to(map_with_background)\n",
    "    \n",
    "    return(map_with_background)"
   ]
  },
  {
   "cell_type": "markdown",
   "id": "391ee3ee",
   "metadata": {},
   "source": [
    "## Read in and Clean Necessary Data"
   ]
  },
  {
   "cell_type": "code",
   "execution_count": 76,
   "id": "9462f3e8",
   "metadata": {
    "scrolled": true
   },
   "outputs": [],
   "source": [
    "import warnings\n",
    "\n",
    "warnings.filterwarnings('ignore')\n",
    "\n",
    "#graph_raw = ox.graph_from_place(location, network_type = 'drive')\n",
    "\n",
    "graph = ox.project_graph(graph_raw, to_crs = wgs84)\n",
    "graph = ox.add_edge_speeds(graph)\n",
    "graph = ox.add_edge_travel_times(graph)\n",
    "\n",
    "graph_nodes_gdf, graph_edges_gdf = ox.graph_to_gdfs(graph, nodes = True, edges = True)\n",
    "\n",
    "graph_edges_gdf_reset = graph_edges_gdf.reset_index()\n",
    "\n",
    "#ox.plot_graph(graph)"
   ]
  },
  {
   "cell_type": "code",
   "execution_count": 7,
   "id": "27370aae",
   "metadata": {},
   "outputs": [],
   "source": [
    "hubs_path = os.path.join(os.getcwd(), 'data', 'candidate_site_campuses_2021-11-17', 'candidate_site_campuses.csv')\n",
    "\n",
    "hubs_df_raw = pd.read_csv(hubs_path)\n",
    "hubs_df_raw = hubs_df_raw.loc[hubs_df_raw['cat_site'] != 'X', ['id_site', 'SQFT_ROOF', 'LON', 'LAT']]\n",
    "\n",
    "hubs_geom = gpd.points_from_xy(hubs_df_raw.LON, hubs_df_raw.LAT, crs = wgs84)\n",
    "hubs_gdf = gpd.GeoDataFrame(hubs_df_raw, geometry = hubs_geom, crs = wgs84)\n",
    "\n",
    "#plot_gdf_with_background(hubs_gdf, 13, richmond_center)"
   ]
  },
  {
   "cell_type": "code",
   "execution_count": 8,
   "id": "15e3a9e3",
   "metadata": {},
   "outputs": [],
   "source": [
    "cengeos_path = os.path.join(os.getcwd(), 'data', 'bg_ca_19', 'blockgroup_CA_19.shp')\n",
    "\n",
    "cengeos_gdf = gpd.read_file(cengeos_path)\n",
    "cengeos_gdf = cengeos_gdf.to_crs(hubs_gdf.crs)\n",
    "\n",
    "#cengeos_gdf.plot()"
   ]
  },
  {
   "cell_type": "code",
   "execution_count": 11,
   "id": "462079d1",
   "metadata": {},
   "outputs": [],
   "source": [
    "cengeos_lons = [float(intpt) for intpt in cengeos_gdf['INTPTLON']]\n",
    "cengeos_lats = [float(intpt) for intpt in cengeos_gdf['INTPTLAT']]\n",
    "\n",
    "cengeos = pd.DataFrame(cengeos_gdf[['GISJOIN', 'COUNTYFP']])\n",
    "cengeos['LON'] = cengeos_lons\n",
    "cengeos['LAT'] = cengeos_lats\n",
    "\n",
    "cengeos_pt_geom = gpd.points_from_xy(x = cengeos.LON,y = cengeos.LAT, crs = wgs84)\n",
    "cengeos_pt_gdf = gpd.GeoDataFrame(cengeos, geometry = cengeos_pt_geom, crs = wgs84)\n",
    "\n",
    "#plot_gdf_with_background(cengeos_pt_gdf, 13, richmond_center)"
   ]
  },
  {
   "cell_type": "markdown",
   "id": "38dc6aab",
   "metadata": {},
   "source": [
    "## Restrict to Hubs within Desired Area"
   ]
  },
  {
   "cell_type": "code",
   "execution_count": 12,
   "id": "c3c96c95",
   "metadata": {},
   "outputs": [],
   "source": [
    "lon_max = graph_nodes_gdf['lon'].max()\n",
    "lon_min = graph_nodes_gdf['lon'].min()\n",
    "lon_avg = (lon_max + lon_min)/2\n",
    "\n",
    "lat_max = graph_nodes_gdf['lat'].max()\n",
    "lat_min = graph_nodes_gdf['lat'].min()\n",
    "lat_avg = (lat_min + lat_max)/2\n",
    "\n",
    "bbox_coords = [(lon_min, lat_min), (lon_min, lat_max), (lon_max, lat_max), (lon_max, lat_min)]\n",
    "bbox_poly = shapely.geometry.Polygon(bbox_coords)"
   ]
  },
  {
   "cell_type": "code",
   "execution_count": 14,
   "id": "8f216c28",
   "metadata": {},
   "outputs": [],
   "source": [
    "hubs_gdf_bbox = hubs_gdf[hubs_gdf.within(bbox_poly)]\n",
    "\n",
    "#plot_gdf_with_background(hubs_gdf_bbox)"
   ]
  },
  {
   "cell_type": "code",
   "execution_count": 16,
   "id": "f031cab4",
   "metadata": {},
   "outputs": [],
   "source": [
    "cengeos_pt_gdf_bbox = cengeos_pt_gdf[cengeos_pt_gdf.within(bbox_poly)]\n",
    "\n",
    "### REMOVE THE FOLLOWING LINE AFTER TESTING!!! - selecting random BGs for matrix\n",
    "cengeos_pt_gdf_bbox = cengeos_pt_gdf_bbox.iloc[[0, 3, 12, 20, 48, 65], ]\n",
    "\n",
    "#plot_gdf_with_background(cengeos_pt_gdf_bbox, center = richmond_center)"
   ]
  },
  {
   "cell_type": "markdown",
   "id": "194186a6",
   "metadata": {},
   "source": [
    "## Build Distance Matrix for Desired Area"
   ]
  },
  {
   "cell_type": "code",
   "execution_count": 163,
   "id": "d8f25830",
   "metadata": {},
   "outputs": [],
   "source": [
    "n_cengeos = len(cengeos_pt_gdf_bbox)\n",
    "n_hubs = len(hubs_gdf_bbox)"
   ]
  },
  {
   "cell_type": "code",
   "execution_count": 169,
   "id": "4ae54166",
   "metadata": {},
   "outputs": [],
   "source": [
    "name_index = {i:cengeos_pt_gdf_bbox.iloc[i]['GISJOIN'] for i in range(0, n_cengeos)}\n",
    "name_columns = {i:hubs_gdf_bbox.iloc[i]['id_site'] for i in range(0, n_hubs)}\n",
    "\n",
    "dist_to_hub_matrix = np.NaN*np.zeros((len(cengeos_pt_gdf_bbox), len(hubs_gdf_bbox))) #what does np.zeros do?\n",
    "dist_to_hub_df = pd.DataFrame(dist_to_hub_matrix)\n",
    "\n",
    "dist_to_hub_df.rename(index = name_index, columns = name_columns, inplace = True)"
   ]
  },
  {
   "cell_type": "code",
   "execution_count": 19,
   "id": "65d94063",
   "metadata": {},
   "outputs": [],
   "source": [
    "cengeos_buffer = cengeos_pt_gdf_bbox.buffer(0.025)"
   ]
  },
  {
   "cell_type": "code",
   "execution_count": 160,
   "id": "244ff907",
   "metadata": {},
   "outputs": [],
   "source": [
    "for cengeo in range(0, n_cengeos):\n",
    "    \n",
    "    id_cengeo = cengeos_pt_gdf_bbox.iloc[cengeo]['GISJOIN']\n",
    "    #print('Getting nearest hubs for', id_cengeo)\n",
    "    \n",
    "    cengeo_coords = [cengeos_pt_gdf_bbox.iloc[cengeo]['geometry'].y, cengeos_pt_gdf_bbox.iloc[cengeo]['geometry'].x]\n",
    "    node_origin = ox.get_nearest_node(graph, cengeo_coords, method = 'euclidean') #technically should be haversine bc decimal degrees\n",
    "\n",
    "    cengeo_buffer = cengeos_buffer.iloc[cengeo]\n",
    "    \n",
    "    hubs_nearby_gdf = hubs_gdf_bbox[hubs_gdf_bbox.within(cengeo_buffer)]\n",
    "    n_hubs_nearby = len(hubs_nearby_gdf)\n",
    "    \n",
    "    #next for loop"
   ]
  },
  {
   "cell_type": "code",
   "execution_count": 162,
   "id": "ef257d47",
   "metadata": {},
   "outputs": [],
   "source": [
    "for hub in range(0, n_hubs_nearby):\n",
    "    \n",
    "    id_hub = hubs_nearby_gdf.iloc[hub]['id_site']\n",
    "    #print('Calculating drive time to', id_hub)\n",
    "    \n",
    "    hub_geom = [hubs_nearby_gdf.iloc[hub]['geometry'].y, hubs_nearby_gdf.iloc[hub]['geometry'].x]\n",
    "    node_target = ox.get_nearest_node(graph, hub_geom, method='euclidean')\n",
    "    \n",
    "    route_bt_nodes = nx.shortest_path(graph, node_origin, node_target, weight='travel_time')\n",
    "    \n",
    "    travel_times_sec = graph_edges_gdf_reset.loc[graph_edges_gdf_reset['v'].isin(route_bt_nodes), 'travel_time']\n",
    "    travel_time_min = round(travel_times_sec.sum()/60, 2)\n",
    "    \n",
    "    #matrix_dist_to_hubs.loc[]"
   ]
  },
  {
   "cell_type": "code",
   "execution_count": null,
   "id": "55ba4ecc",
   "metadata": {},
   "outputs": [],
   "source": []
  },
  {
   "cell_type": "code",
   "execution_count": null,
   "id": "7731fa26",
   "metadata": {},
   "outputs": [],
   "source": []
  }
 ],
 "metadata": {
  "kernelspec": {
   "display_name": "Python 3 (ipykernel)",
   "language": "python",
   "name": "python3"
  },
  "language_info": {
   "codemirror_mode": {
    "name": "ipython",
    "version": 3
   },
   "file_extension": ".py",
   "mimetype": "text/x-python",
   "name": "python",
   "nbconvert_exporter": "python",
   "pygments_lexer": "ipython3",
   "version": "3.9.7"
  }
 },
 "nbformat": 4,
 "nbformat_minor": 5
}
