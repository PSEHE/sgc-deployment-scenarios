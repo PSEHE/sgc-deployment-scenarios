{
 "cells": [
  {
   "cell_type": "code",
   "execution_count": 1,
   "id": "8e769723",
   "metadata": {
    "scrolled": true
   },
   "outputs": [],
   "source": [
    "import osmnx as ox\n",
    "from osmnx import utils_graph\n",
    "import networkx as nx\n",
    "\n",
    "import geopandas as gpd\n",
    "import pandas as pd\n",
    "import numpy as np\n",
    "from statistics import mean\n",
    "\n",
    "import matplotlib.pyplot as plt\n",
    "import shapely\n",
    "import folium\n",
    "\n",
    "import os\n",
    "\n",
    "import warnings\n",
    "\n",
    "warnings.filterwarnings('ignore')\n",
    "\n",
    "from distance_matrix_calculation import *"
   ]
  },
  {
   "cell_type": "markdown",
   "id": "932f1131",
   "metadata": {},
   "source": [
    "## Build Distance Matrix"
   ]
  },
  {
   "cell_type": "markdown",
   "id": "071ba681",
   "metadata": {},
   "source": [
    "### Read in requisite data and define CRS"
   ]
  },
  {
   "cell_type": "code",
   "execution_count": 2,
   "id": "cb9f19de",
   "metadata": {},
   "outputs": [],
   "source": [
    "ca_albers_nad83 = 'NAD_1983_California_Teale_Albers_FtUS'\n",
    "nad83 = 'EPSG:4629'\n",
    "wgs84 = 'EPSG:4326'"
   ]
  },
  {
   "cell_type": "code",
   "execution_count": 3,
   "id": "b2a8e37e",
   "metadata": {},
   "outputs": [],
   "source": [
    "sites_path = os.path.join(os.getcwd(), 'data', 'candidate_site_campuses_2021-11-17', 'candidate_sites_campuses.csv')\n",
    "\n",
    "sites_df_raw = pd.read_csv(sites_path)\n",
    "sites_df_raw = sites_df_raw.loc[sites_df_raw['cat_site'] != 'X', ['id_site', 'cat_site', 'SQFT_ROOF', 'LON', 'LAT']]\n",
    "\n",
    "sites_geom = gpd.points_from_xy(sites_df_raw.LON, sites_df_raw.LAT, crs = nad83)\n",
    "sites_gdf = gpd.GeoDataFrame(sites_df_raw, geometry = sites_geom, crs = nad83)"
   ]
  },
  {
   "cell_type": "code",
   "execution_count": 4,
   "id": "c2977637",
   "metadata": {},
   "outputs": [],
   "source": [
    "bgs_path = os.path.join(os.getcwd(), 'data', 'bg_ca_19', 'shp', 'blockgroup_CA_19.shp')\n",
    "\n",
    "bgs_gdf = gpd.read_file(bgs_path)\n",
    "bgs_gdf = bgs_gdf.to_crs(sites_gdf.crs)\n",
    "\n",
    "bgs_lons = [float(intpt) for intpt in bgs_gdf['INTPTLON']]\n",
    "bgs_lats = [float(intpt) for intpt in bgs_gdf['INTPTLAT']]\n",
    "\n",
    "bgs = pd.DataFrame(bgs_gdf[['GISJOIN', 'COUNTYFP']])\n",
    "bgs['LON'] = bgs_lons\n",
    "bgs['LAT'] = bgs_lats\n",
    "\n",
    "bgs_pt_geom = gpd.points_from_xy(x = bgs.LON,y = bgs.LAT, crs = nad83)\n",
    "bgs_pt_gdf = gpd.GeoDataFrame(bgs, geometry = bgs_pt_geom, crs = nad83)"
   ]
  },
  {
   "cell_type": "markdown",
   "id": "16ca535f",
   "metadata": {},
   "source": [
    "### Iterate through each county and build matrix"
   ]
  },
  {
   "cell_type": "code",
   "execution_count": 5,
   "id": "f2f1d52d",
   "metadata": {},
   "outputs": [],
   "source": [
    "ca_county_names = ['Alameda', 'Alpine', 'Amador', 'Butte', 'Calaveras', 'Colusa', 'Contra Costa', \n",
    "                   'Del Norte', 'El Dorado', 'Fresno', 'Glenn', 'Humboldt', 'Imperial', 'Inyo', \n",
    "                   'Kern', 'Kings', 'Lake', 'Lassen', 'Los Angeles', 'Madera', 'Marin', 'Mariposa', \n",
    "                   'Mendocino', 'Merced', 'Modoc', 'Mono', 'Monterey', 'Napa', 'Nevada', 'Orange', \n",
    "                   'Placer', 'Plumas', 'Riverside', 'Sacramento', 'San Benito', 'San Bernardino', \n",
    "                   'San Diego', 'San Francisco', 'San Joaquin', 'San Luis Obispo', 'San Mateo', \n",
    "                   'Santa Barbara', 'Santa Clara', 'Santa Cruz', 'Shasta', 'Sierra', 'Siskiyou', \n",
    "                   'Solano', 'Sonoma', 'Stanislaus', 'Sutter', 'Tehama', 'Trinity', 'Tulare', \n",
    "                   'Tuolumne', 'Ventura', 'Yolo', 'Yuba']\n",
    "\n",
    "ca_county_fips = ['00' + str(int(num)) for num in np.linspace(1, 115, 58)]\n",
    "ca_county_fips = [num[-3:] for num in ca_county_fips]\n",
    "\n",
    "ca_counties = {ca_county_names[i]:ca_county_fips[i] for i in range(len(ca_county_names))}"
   ]
  },
  {
   "cell_type": "code",
   "execution_count": 22,
   "id": "1c29ca2c",
   "metadata": {},
   "outputs": [],
   "source": [
    "ca_counties = {'Santa Cruz':'087'}"
   ]
  },
  {
   "cell_type": "code",
   "execution_count": 32,
   "id": "4d314560",
   "metadata": {
    "scrolled": true
   },
   "outputs": [],
   "source": [
    "for county in ca_counties.keys():\n",
    "    \n",
    "    # Get graph for county\n",
    "    county_graph, county_nodes_gdf, county_edges_gdf = get_county_drive_graph(county, nad83)\n",
    "\n",
    "    county_bbox = make_county_bbox(county_nodes_gdf)\n",
    "\n",
    "    sites_county_gdf = clip_sites_to_county(county_bbox, sites_gdf)\n",
    "    bgs_county_gdf = clip_bgs_to_county(county_bbox, bgs_pt_gdf, ca_counties[county])\n",
    "\n",
    "    bgs_county_buffer_gdf = buffer_bgs(bgs_county_gdf, nad83)\n",
    "\n",
    "    # Initialize blank matrix\n",
    "    name_index = {i:bgs_county_gdf.iloc[i]['GISJOIN'] for i in range(0, len(bgs_county_gdf))}\n",
    "    name_columns = {i:sites_county_gdf.iloc[i]['id_site'] for i in range(0, len(sites_county_gdf))}\n",
    "\n",
    "    dist_to_site_matrix = np.NaN*np.zeros((len(bgs_county_gdf), len(sites_county_gdf)))\n",
    "    dist_to_site_df = pd.DataFrame(dist_to_site_matrix)\n",
    "\n",
    "    dist_to_site_df.rename(index = name_index, columns = name_columns, inplace = True)\n",
    "\n",
    "    # Build matrix\n",
    "    bgs_bbox = bgs_county_gdf.loc[:, 'GISJOIN']\n",
    "\n",
    "    for bg in bgs_bbox:\n",
    "\n",
    "        node_origin = get_coords_and_nearest_node(bg, 'GISJOIN', bgs_county_gdf, county_graph)\n",
    "\n",
    "        sites_nearby = get_nearby_sites(bg, bgs_county_buffer_gdf, sites_county_gdf)\n",
    "\n",
    "        for site in sites_nearby:\n",
    "\n",
    "            node_target = get_coords_and_nearest_node(site, 'id_site', sites_county_gdf, county_graph)\n",
    "\n",
    "            try:\n",
    "                travel_dist_m = nx.shortest_path_length(county_graph, node_origin, node_target, weight = 'length')\n",
    "\n",
    "                dist_to_site_df.loc[bg, site] = round(travel_dist_m/1609.344, 2)\n",
    "\n",
    "            except:\n",
    "                dist_to_site_df.loc[bg, site] = None\n",
    "    \n",
    "    #Write output to csv\n",
    "    output_county = county.lower().replace(' ', '')\n",
    "    output_file_name = os.path.join(os.getcwd(), 'data', 'distance_matrices', 'distmatrix_' + output_county + '.csv')\n",
    "    dist_to_site_df.to_csv(output_file_name)"
   ]
  },
  {
   "cell_type": "code",
   "execution_count": null,
   "id": "16ac3906",
   "metadata": {},
   "outputs": [],
   "source": []
  }
 ],
 "metadata": {
  "kernelspec": {
   "display_name": "geoenv",
   "language": "python",
   "name": "geoenv"
  },
  "language_info": {
   "codemirror_mode": {
    "name": "ipython",
    "version": 3
   },
   "file_extension": ".py",
   "mimetype": "text/x-python",
   "name": "python",
   "nbconvert_exporter": "python",
   "pygments_lexer": "ipython3",
   "version": "3.9.7"
  }
 },
 "nbformat": 4,
 "nbformat_minor": 5
}
