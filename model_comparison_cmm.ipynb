{
 "cells": [
  {
   "cell_type": "markdown",
   "id": "941c4b87",
   "metadata": {},
   "source": [
    "SUMMARY:\n",
    "These models, both before and after community partner recommendations, were originally three-stage: \n",
    "First, constrained by budget, a model is run to figure out the maximum proportion of the population that could be served by hubs. This number is multiplied by a scale factor less than 1, which is set before the model is run, to determine the amount of demand to be satisfied in later models.\n",
    "\n",
    "Second, constrained by this scaled demand and the budget, a model is run to figure out the minimum aggregate distance that people must travel to reach hubs. This number is multiplied by a scale factor greater than 1, which is set before the model is run, to determine the maximum aggregate distance people can travel in later models. \n",
    "\n",
    "Finally, constrained by the demand from model 1 and the aggregate distance from model 2, a model is run to minimize the cost of built hubs.\n",
    "\n",
    "However, the models returned very different results depending on the choice of scaling factors, and they were also hard to compare to one another because the proportion of California’s population that could be seen by the models depends strongly on whether there is a maximum distance people can travel imposed. When a maximum of one mile walking distance is imposed, for example, many block groups in Contra Costa aren’t near enough to any potential hubs, so people in them aren’t taken into account. Seemingly because of this, and because of general differences between walking and driving matrices (this difference was observed even when there was no maximum walking distance imposed), walking models consistently spent less of the budget than driving models, because they had to serve fewer people. \n",
    "\n",
    "Because of this, this notebook runs these models:\n",
    "Constraints:\n",
    "Budget (can’t spend more than budget)\n",
    "A person can't travel more than some maximum travel distance (1 mile, 3 miles, no maximum...)\n",
    "\n",
    "Objective functions:\n",
    "Maximize number of people served by hubs\n",
    "    Walkability: Rescale distance matrix based on walkability of hub\n",
    "    CES: Rescale how many people one person counts as based on their block group’s CES score\n",
    "\n",
    "What we’re wanting to do in these models is to maximize number of people served, minimize distance traveled, subject to a budget constraint. But actually it doesn’t matter what distance they travel if we cap how far they can go in the distance matrix as being under 1 mile, under 3 miles, etc. So really, we can use an edited distance matrix, a budget constraint, and maximize number people served. This also gives us a better way to incorporate walkability and CES scores – we can scale distance by reverse walkability score before editing the distance matrix down, so for higher scoring block groups all distances seem less (so they could be included in the distance matrix even if their distance is technically over 1 mile, over 3 miles, etc). We can also scale people by their CES scores, so it looks like a person is 1 person if they're in a 100% CES percentile block group and it looks like they’re 0 people if they're in a 0% CES percentile block group. This ensures that, even though we’re ending up seeing different numbers of people as capable of going to a hub (with different max. distances for driving vs walking), we ultimately are solving the same problem with the same constraints, which makes the models comparable. We just can’t compare the objective function optimal values across CES vs non-CES models, but we could still compare the demographics of people ultimately served in CES vs non CES models.\n",
    "\n",
    "In this notebook, I run the described model as a driving model, walking, walkability, walkability + CES, and rescaled walking population for Contra Costa county. I compare characteristics of recommended hubs including hub locations, hub type, hub count, and hub capacity."
   ]
  },
  {
   "cell_type": "code",
   "execution_count": 3,
   "id": "1ad04444",
   "metadata": {},
   "outputs": [
    {
     "data": {
      "text/plain": [
       "<module 'solve_models_functions_cmm' from '/Users/clairemorton/Documents/__PSE/sgc-deployment-scenarios/solve_models_functions_cmm.py'>"
      ]
     },
     "execution_count": 3,
     "metadata": {},
     "output_type": "execute_result"
    }
   ],
   "source": [
    "import os\n",
    "from datetime import datetime\n",
    "import pandas as pd\n",
    "import numpy as np\n",
    "from pyomo.environ import *\n",
    "import pyomo.opt as pyopt\n",
    "\n",
    "import geopandas as gpd\n",
    "import pandas as pd\n",
    "import numpy as np\n",
    "from statistics import mean\n",
    "\n",
    "import itertools\n",
    "\n",
    "import matplotlib.pyplot as plt\n",
    "import matplotlib\n",
    "import plotly.express as px\n",
    "import shapely\n",
    "import folium\n",
    "import plotly.graph_objects as go # or plotly.express as px\n",
    "import seaborn as sns\n",
    "\n",
    "import solve_models_functions_cmm \n",
    "from solve_models_functions_cmm import *\n",
    "\n",
    "import data_cleaning_cmm\n",
    "from data_cleaning_cmm import (blockgroup_pop_dict, blockgroup_walkability_dict, blockgroup_no_car_pop_dict, bg_ces_dict,\n",
    "                               dist_to_site_contra_costa_df, dist_to_site_contra_costa_dict,\n",
    "                               dist_to_site_contra_costa_walk_df, dist_to_site_contra_costa_walk_dict,\n",
    "                               dist_to_site_richmond_df, dist_to_site_richmond_dict,\n",
    "                               dist_to_site_richmond_walk_df, dist_to_site_richmond_walk_dict,\n",
    "                               dist_to_site_wilmington_df, dist_to_site_wilmington_dict,\n",
    "                               dist_to_site_wilmington_walk_df, dist_to_site_wilmington_walk_dict,\n",
    "                           county_prop_ealp_dict, site_kw_occ_dict,\n",
    "                           site_sqft_dict, site_cost_dict)\n"
   ]
  },
  {
   "cell_type": "code",
   "execution_count": null,
   "id": "049c0d49",
   "metadata": {},
   "outputs": [],
   "source": [
    "import importlib\n",
    "importlib.reload(data_cleaning_cmm)\n",
    "# Base model\n",
    "import deployment_models_cmm\n",
    "\n",
    "importlib.reload(deployment_models_cmm)\n",
    "importlib.reload(solve_models_functions_cmm)"
   ]
  },
  {
   "cell_type": "code",
   "execution_count": 4,
   "id": "7110a8c1",
   "metadata": {},
   "outputs": [],
   "source": [
    "# Load sites data\n",
    "ca_albers_nad83 = 'NAD_1983_California_Teale_Albers_FtUS'\n",
    "nad83 = 'EPSG:4629'\n",
    "wgs84 = 'EPSG:4326'\n",
    "\n",
    "# Building candidate sites GeoDataFrame\n",
    "sites_path = os.path.join(os.getcwd(), 'data', 'candidate_site_campuses_2021-11-17', 'candidate_sites_campuses.csv')\n",
    "sites_df_raw = pd.read_csv(sites_path)\n",
    "sites_df_raw = sites_df_raw.loc[sites_df_raw['cat_site'] != 'X', ['id_site', 'type_site', 'cat_site', 'SQFT_ROOF', 'LON', 'LAT']]\n",
    "sites_geom = gpd.points_from_xy(sites_df_raw.LON, sites_df_raw.LAT, crs = nad83)\n",
    "sites_gdf = gpd.GeoDataFrame(sites_df_raw, geometry = sites_geom, crs = nad83)"
   ]
  },
  {
   "cell_type": "code",
   "execution_count": 17,
   "id": "cfb2ed8c",
   "metadata": {},
   "outputs": [
    {
     "ename": "NameError",
     "evalue": "name 'dist_to_site_df' is not defined",
     "output_type": "error",
     "traceback": [
      "\u001b[0;31m---------------------------------------------------------------------------\u001b[0m",
      "\u001b[0;31mNameError\u001b[0m                                 Traceback (most recent call last)",
      "\u001b[0;32m/var/folders/5x/vqy1v_2x2x92wj2ywthssw2r0000gn/T/ipykernel_9444/1101379763.py\u001b[0m in \u001b[0;36m<module>\u001b[0;34m\u001b[0m\n\u001b[1;32m      6\u001b[0m \u001b[0mmax_distance_drive\u001b[0m \u001b[0;34m=\u001b[0m \u001b[0;36m3\u001b[0m\u001b[0;34m\u001b[0m\u001b[0;34m\u001b[0m\u001b[0m\n\u001b[1;32m      7\u001b[0m \u001b[0;31m#dist_to_site_contra_costa_df\u001b[0m\u001b[0;34m\u001b[0m\u001b[0;34m\u001b[0m\u001b[0m\n\u001b[0;32m----> 8\u001b[0;31m \u001b[0mvar_hub_yn_contra_costa_drive\u001b[0m \u001b[0;34m=\u001b[0m \u001b[0mmodel_pop_served_max\u001b[0m\u001b[0;34m(\u001b[0m\u001b[0mdist_to_site_contra_costa_df\u001b[0m\u001b[0;34m,\u001b[0m \u001b[0mmax_cost\u001b[0m\u001b[0;34m)\u001b[0m\u001b[0;34m\u001b[0m\u001b[0;34m\u001b[0m\u001b[0m\n\u001b[0m\u001b[1;32m      9\u001b[0m \u001b[0;31m#import inspect\u001b[0m\u001b[0;34m\u001b[0m\u001b[0;34m\u001b[0m\u001b[0m\n\u001b[1;32m     10\u001b[0m \u001b[0;31m#inspect.getsource(model_pop_served_max)\u001b[0m\u001b[0;34m\u001b[0m\u001b[0;34m\u001b[0m\u001b[0m\n",
      "\u001b[0;32m~/Documents/__PSE/sgc-deployment-scenarios/solve_models_functions_cmm.py\u001b[0m in \u001b[0;36mmodel_pop_served_max\u001b[0;34m(max_cost, max_distance, CES, walk_pop)\u001b[0m\n\u001b[1;32m     42\u001b[0m     \u001b[0;31m# Set up base model\u001b[0m\u001b[0;34m\u001b[0m\u001b[0;34m\u001b[0m\u001b[0m\n\u001b[1;32m     43\u001b[0m     \u001b[0;32mif\u001b[0m \u001b[0mwalk_pop\u001b[0m \u001b[0;34m==\u001b[0m \u001b[0;32mFalse\u001b[0m\u001b[0;34m:\u001b[0m\u001b[0;34m\u001b[0m\u001b[0;34m\u001b[0m\u001b[0m\n\u001b[0;32m---> 44\u001b[0;31m         \u001b[0mmodel_base\u001b[0m\u001b[0;34m,\u001b[0m \u001b[0mbg_with_no_hub\u001b[0m \u001b[0;34m=\u001b[0m \u001b[0mdeployment_models_cmm\u001b[0m\u001b[0;34m.\u001b[0m\u001b[0mbuild_base_model\u001b[0m\u001b[0;34m(\u001b[0m\u001b[0msite_cost_dict\u001b[0m\u001b[0;34m,\u001b[0m \u001b[0msite_kw_occ_dict\u001b[0m\u001b[0;34m,\u001b[0m \u001b[0mblockgroup_pop_dict\u001b[0m\u001b[0;34m,\u001b[0m \u001b[0mbg_ces_dict\u001b[0m\u001b[0;34m,\u001b[0m \u001b[0mblockgroup_walkability_dict\u001b[0m\u001b[0;34m,\u001b[0m \u001b[0mdist_to_site_df\u001b[0m\u001b[0;34m)\u001b[0m\u001b[0;34m\u001b[0m\u001b[0;34m\u001b[0m\u001b[0m\n\u001b[0m\u001b[1;32m     45\u001b[0m     \u001b[0;32melse\u001b[0m\u001b[0;34m:\u001b[0m\u001b[0;34m\u001b[0m\u001b[0;34m\u001b[0m\u001b[0m\n\u001b[1;32m     46\u001b[0m         \u001b[0mmodel_base\u001b[0m\u001b[0;34m,\u001b[0m \u001b[0mbg_with_no_hub\u001b[0m \u001b[0;34m=\u001b[0m \u001b[0mdeployment_models_cmm\u001b[0m\u001b[0;34m.\u001b[0m\u001b[0mbuild_base_model\u001b[0m\u001b[0;34m(\u001b[0m\u001b[0msite_cost_dict\u001b[0m\u001b[0;34m,\u001b[0m \u001b[0msite_kw_occ_dict\u001b[0m\u001b[0;34m,\u001b[0m \u001b[0mblockgroup_no_car_pop_dict\u001b[0m\u001b[0;34m,\u001b[0m \u001b[0mbg_ces_dict\u001b[0m\u001b[0;34m,\u001b[0m \u001b[0mblockgroup_walkability_dict\u001b[0m\u001b[0;34m,\u001b[0m \u001b[0mdist_to_site_df\u001b[0m\u001b[0;34m)\u001b[0m\u001b[0;34m\u001b[0m\u001b[0;34m\u001b[0m\u001b[0m\n",
      "\u001b[0;31mNameError\u001b[0m: name 'dist_to_site_df' is not defined"
     ]
    }
   ],
   "source": [
    "# Run models\n",
    "# apply cost minimization combined function\n",
    "\n",
    "max_cost = 5000000 # $ that we can spend on hubs\n",
    "max_distance_walk = 1\n",
    "max_distance_drive = 3\n",
    "#dist_to_site_contra_costa_df\n",
    "var_hub_yn_contra_costa_drive = model_pop_served_max(dist_to_site_contra_costa_df, max_cost)\n",
    "#import inspect\n",
    "#inspect.getsource(model_pop_served_max)\n",
    "#var_hub_yn_contra_costa_walkability, cost_contra_costa_walkability = model_func_walkability(dist_to_site_contra_costa_walk_df, max_cost, prop_served_scale_factor, agg_dist_scale_factor, max_dist_walk)\n",
    "#var_hub_yn_wilmington_walkability, cost_wilmington_walkability = model_func_walkability(dist_to_site_wilmington_walk_df, max_cost, prop_served_scale_factor, agg_dist_scale_factor, max_dist_walk)\n",
    "#var_hub_yn_richmond_walkability, cost_richmond_walkability = model_func_walkability(dist_to_site_richmond_walk_df, max_cost, prop_served_scale_factor, agg_dist_scale_factor, max_dist_walk)\n",
    "\n",
    "#var_hub_yn_contra_costa_walk = model_func(dist_to_site_contra_costa_walk_df, max_cost, prop_served_scale_factor, agg_dist_scale_factor, max_dist_walk)\n"
   ]
  }
 ],
 "metadata": {
  "kernelspec": {
   "display_name": "Python 3 (ipykernel)",
   "language": "python",
   "name": "python3"
  },
  "language_info": {
   "codemirror_mode": {
    "name": "ipython",
    "version": 3
   },
   "file_extension": ".py",
   "mimetype": "text/x-python",
   "name": "python",
   "nbconvert_exporter": "python",
   "pygments_lexer": "ipython3",
   "version": "3.9.7"
  }
 },
 "nbformat": 4,
 "nbformat_minor": 5
}
