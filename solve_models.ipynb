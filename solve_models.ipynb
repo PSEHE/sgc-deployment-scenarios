{
 "cells": [
  {
   "cell_type": "markdown",
   "id": "08807fb7",
   "metadata": {},
   "source": [
    "# Get data and packages"
   ]
  },
  {
   "cell_type": "code",
   "execution_count": 2,
   "id": "dce7075a",
   "metadata": {},
   "outputs": [],
   "source": [
    "import os\n",
    "from datetime import datetime\n",
    "import pandas as pd\n",
    "import numpy as np\n",
    "from pyomo.environ import *\n",
    "import pyomo.opt as pyopt\n",
    "\n",
    "from data_cleaning_cmm import (blockgroup_pop_dict, bg_ces_dict,\n",
    "                           dist_to_site_df, dist_to_site_dict,\n",
    "                           county_prop_ealp_dict, site_kw_occ_dict,\n",
    "                           site_sqft_dict, site_cost_dict)"
   ]
  },
  {
   "cell_type": "markdown",
   "id": "86e2d56c",
   "metadata": {},
   "source": [
    "# Build base model"
   ]
  },
  {
   "cell_type": "code",
   "execution_count": 3,
   "id": "2dabef78",
   "metadata": {},
   "outputs": [],
   "source": [
    "import deployment_models\n",
    "import importlib\n",
    "importlib.reload(deployment_models)\n",
    "\n",
    "model_base, bg_with_no_hub = deployment_models.build_base_model(site_cost_dict, site_kw_occ_dict, blockgroup_pop_dict, bg_ces_dict, dist_to_site_df)"
   ]
  },
  {
   "cell_type": "markdown",
   "id": "9d4c21ab",
   "metadata": {},
   "source": [
    "# Solving different models\n",
    "## Ideas\n",
    "1. p_median\n",
    "2. demand_maximization\n",
    "3. p_median with minimum total population\n",
    "4. p_median with minimum total EJ population\n",
    "5. demand_maximization with minimum total EJ population\n",
    "6. demand_maximization with minimum blockgroup EJ population\n",
    "7. ..."
   ]
  },
  {
   "cell_type": "markdown",
   "id": "7fceed9b",
   "metadata": {},
   "source": [
    "# Basic p median model"
   ]
  },
  {
   "cell_type": "code",
   "execution_count": 13,
   "id": "7cac8f2e",
   "metadata": {},
   "outputs": [
    {
     "name": "stdout",
     "output_type": "stream",
     "text": [
      "\n",
      "Problem: \n",
      "- Name: x6769\n",
      "  Lower bound: 31678.529282427382\n",
      "  Upper bound: 31681.447872909277\n",
      "  Number of objectives: 1\n",
      "  Number of constraints: 9343\n",
      "  Number of variables: 6769\n",
      "  Number of binary variables: 434\n",
      "  Number of integer variables: 434\n",
      "  Number of continuous variables: 6335\n",
      "  Number of nonzeros: 57441\n",
      "  Sense: minimize\n",
      "Solver: \n",
      "- Status: ok\n",
      "  Return code: 0\n",
      "  Message: Model was solved to optimality (subject to tolerances), and an optimal solution is available.\n",
      "  Termination condition: optimal\n",
      "  Termination message: Model was solved to optimality (subject to tolerances), and an optimal solution is available.\n",
      "  Wall time: 0.5611729621887207\n",
      "  Error rc: 0\n",
      "  Time: 0.8512928485870361\n",
      "Solution: \n",
      "- number of solutions: 0\n",
      "  number of solutions displayed: 0\n",
      "\n"
     ]
    }
   ],
   "source": [
    "importlib.reload(deployment_models)\n",
    "\n",
    "max_cost = 20000000\n",
    "min_service_fraction = 0.1\n",
    "\n",
    "model_dict = dict()\n",
    "######### Basic p median #############\n",
    "# p median objective and constraint for total cost and to meet defined proportion of total population\n",
    "model_key = \"p_median\"\n",
    "model_dict[model_key] = model_base.clone()\n",
    "model_dict[model_key] = deployment_models.constrain_total_cost(model_dict[model_key],max_cost)\n",
    "model_dict[model_key] = deployment_models.constrain_min_total_pop(model_dict[model_key],min_service_fraction)\n",
    "model_dict[model_key] = deployment_models.add_p_median_objective(model_dict[model_key])\n",
    "results = SolverFactory('gurobi').solve(model_dict[model_key])\n",
    "print(results)\n",
    "#var_hub_yn, var_prop_served = deployment_models.get_vars(model_dict[model_key])"
   ]
  },
  {
   "cell_type": "code",
   "execution_count": 14,
   "id": "f3ae77e5",
   "metadata": {},
   "outputs": [
    {
     "data": {
      "text/plain": [
       "(           BUILT      CAPACITY\n",
       " 31553746       0  21449.485676\n",
       " 31555561       0  35957.819186\n",
       " 31556463       0  35045.523633\n",
       " 31556616       0  43423.284024\n",
       " 31556696       0  30463.378980\n",
       " ...          ...           ...\n",
       " 484998348      1   4242.337978\n",
       " 227311487      0  24722.716573\n",
       " 194871780      0   7124.622019\n",
       " 194871781      1   3447.947627\n",
       " 195254080      0   4001.137697\n",
       " \n",
       " [434 rows x 2 columns],\n",
       "                  POPULATION\n",
       " G06001303010001         942\n",
       " G06001303010002        1219\n",
       " G06001303010003        2989\n",
       " G06001303020051        1841\n",
       " G06001303020052        2410\n",
       " ...                     ...\n",
       " G06001303922001        1802\n",
       " G06001303922002        6590\n",
       " G06001303922003        1730\n",
       " G06001303922004        1182\n",
       " G06001303923001        3126\n",
       " \n",
       " [635 rows x 1 columns],\n",
       "                  31553746  31555561  31556463  31556616  31556696  6989477  \\\n",
       " G06001303010001       0.0       0.0       0.0       0.0       0.0      0.0   \n",
       " G06001303010002       0.0       0.0       0.0       0.0       0.0      0.0   \n",
       " G06001303010003       0.0       0.0       0.0       0.0       0.0      0.0   \n",
       " G06001303020051       0.0       0.0       NaN       NaN       NaN      0.0   \n",
       " G06001303020052       0.0       0.0       NaN       NaN       NaN      0.0   \n",
       " ...                   ...       ...       ...       ...       ...      ...   \n",
       " G06001303922001       NaN       NaN       NaN       NaN       NaN      NaN   \n",
       " G06001303922002       NaN       NaN       NaN       NaN       NaN      NaN   \n",
       " G06001303922003       NaN       NaN       NaN       NaN       NaN      NaN   \n",
       " G06001303922004       NaN       NaN       NaN       NaN       NaN      NaN   \n",
       " G06001303923001       NaN       NaN       NaN       NaN       NaN      NaN   \n",
       " \n",
       "                  963322476  969939118  969948921  969948925  ...  229220208  \\\n",
       " G06001303010001        0.0        0.0        0.0        0.0  ...        NaN   \n",
       " G06001303010002        0.0        0.0        0.0        0.0  ...        NaN   \n",
       " G06001303010003        0.0        0.0        0.0        0.0  ...        NaN   \n",
       " G06001303020051        NaN        0.0        0.0        0.0  ...        NaN   \n",
       " G06001303020052        NaN        0.0        0.0        0.0  ...        NaN   \n",
       " ...                    ...        ...        ...        ...  ...        ...   \n",
       " G06001303922001        NaN        NaN        NaN        NaN  ...        NaN   \n",
       " G06001303922002        NaN        NaN        NaN        NaN  ...        NaN   \n",
       " G06001303922003        NaN        NaN        NaN        NaN  ...        NaN   \n",
       " G06001303922004        NaN        NaN        NaN        NaN  ...        NaN   \n",
       " G06001303923001        NaN        NaN        NaN        NaN  ...        NaN   \n",
       " \n",
       "                  304485786  44040160  444806139  444806750  484998348  \\\n",
       " G06001303010001        NaN       NaN        NaN        NaN        NaN   \n",
       " G06001303010002        NaN       NaN        NaN        NaN        NaN   \n",
       " G06001303010003        NaN       NaN        NaN        NaN        NaN   \n",
       " G06001303020051        NaN       NaN        NaN        NaN        NaN   \n",
       " G06001303020052        NaN       NaN        NaN        NaN        NaN   \n",
       " ...                    ...       ...        ...        ...        ...   \n",
       " G06001303922001        NaN       NaN        NaN        NaN        NaN   \n",
       " G06001303922002        NaN       NaN        NaN        NaN        NaN   \n",
       " G06001303922003        NaN       NaN        NaN        NaN        NaN   \n",
       " G06001303922004        NaN       NaN        NaN        NaN        NaN   \n",
       " G06001303923001        NaN       NaN        NaN        NaN        NaN   \n",
       " \n",
       "                  227311487  194871780  194871781  195254080  \n",
       " G06001303010001        NaN        NaN        NaN        NaN  \n",
       " G06001303010002        NaN        NaN        NaN        NaN  \n",
       " G06001303010003        NaN        NaN        NaN        NaN  \n",
       " G06001303020051        NaN        NaN        NaN        NaN  \n",
       " G06001303020052        NaN        NaN        NaN        NaN  \n",
       " ...                    ...        ...        ...        ...  \n",
       " G06001303922001        NaN        NaN        NaN        NaN  \n",
       " G06001303922002        NaN        NaN        NaN        NaN  \n",
       " G06001303922003        NaN        NaN        NaN        NaN  \n",
       " G06001303922004        NaN        NaN        NaN        NaN  \n",
       " G06001303923001        NaN        NaN        NaN        NaN  \n",
       " \n",
       " [635 rows x 434 columns],\n",
       "                  31553746  31555561  31556463  31556616  31556696  6989477  \\\n",
       " G06001303010001      7.81      7.16      6.99      5.87      5.77     6.77   \n",
       " G06001303010002      9.69      9.04      8.87      7.75      7.65     8.65   \n",
       " G06001303010003     18.18     18.58     20.45     20.06     19.96    18.94   \n",
       " G06001303020051      1.58      1.98       NaN       NaN       NaN     2.34   \n",
       " G06001303020052      1.43      1.12       NaN       NaN       NaN     1.48   \n",
       " ...                   ...       ...       ...       ...       ...      ...   \n",
       " G06001303922001       NaN       NaN       NaN       NaN       NaN      NaN   \n",
       " G06001303922002       NaN       NaN       NaN       NaN       NaN      NaN   \n",
       " G06001303922003       NaN       NaN       NaN       NaN       NaN      NaN   \n",
       " G06001303922004       NaN       NaN       NaN       NaN       NaN      NaN   \n",
       " G06001303923001       NaN       NaN       NaN       NaN       NaN      NaN   \n",
       " \n",
       "                  963322476  969939118  969948921  969948925  ...  229220208  \\\n",
       " G06001303010001       3.64       6.94       7.98       7.98  ...        NaN   \n",
       " G06001303010002       5.52       8.82       9.86       9.86  ...        NaN   \n",
       " G06001303010003      23.48      18.41      18.58      18.58  ...        NaN   \n",
       " G06001303020051        NaN       1.81       1.97       1.97  ...        NaN   \n",
       " G06001303020052        NaN       0.95       1.59       1.59  ...        NaN   \n",
       " ...                    ...        ...        ...        ...  ...        ...   \n",
       " G06001303922001        NaN        NaN        NaN        NaN  ...        NaN   \n",
       " G06001303922002        NaN        NaN        NaN        NaN  ...        NaN   \n",
       " G06001303922003        NaN        NaN        NaN        NaN  ...        NaN   \n",
       " G06001303922004        NaN        NaN        NaN        NaN  ...        NaN   \n",
       " G06001303923001        NaN        NaN        NaN        NaN  ...        NaN   \n",
       " \n",
       "                  304485786  44040160  444806139  444806750  484998348  \\\n",
       " G06001303010001        NaN       NaN        NaN        NaN        NaN   \n",
       " G06001303010002        NaN       NaN        NaN        NaN        NaN   \n",
       " G06001303010003        NaN       NaN        NaN        NaN        NaN   \n",
       " G06001303020051        NaN       NaN        NaN        NaN        NaN   \n",
       " G06001303020052        NaN       NaN        NaN        NaN        NaN   \n",
       " ...                    ...       ...        ...        ...        ...   \n",
       " G06001303922001        NaN       NaN        NaN        NaN        NaN   \n",
       " G06001303922002        NaN       NaN        NaN        NaN        NaN   \n",
       " G06001303922003        NaN       NaN        NaN        NaN        NaN   \n",
       " G06001303922004        NaN       NaN        NaN        NaN        NaN   \n",
       " G06001303923001        NaN       NaN        NaN        NaN        NaN   \n",
       " \n",
       "                  227311487  194871780  194871781  195254080  \n",
       " G06001303010001        NaN        NaN        NaN        NaN  \n",
       " G06001303010002        NaN        NaN        NaN        NaN  \n",
       " G06001303010003        NaN        NaN        NaN        NaN  \n",
       " G06001303020051        NaN        NaN        NaN        NaN  \n",
       " G06001303020052        NaN        NaN        NaN        NaN  \n",
       " ...                    ...        ...        ...        ...  \n",
       " G06001303922001        NaN        NaN        NaN        NaN  \n",
       " G06001303922002        NaN        NaN        NaN        NaN  \n",
       " G06001303922003        NaN        NaN        NaN        NaN  \n",
       " G06001303922004        NaN        NaN        NaN        NaN  \n",
       " G06001303923001        NaN        NaN        NaN        NaN  \n",
       " \n",
       " [635 rows x 434 columns])"
      ]
     },
     "execution_count": 14,
     "metadata": {},
     "output_type": "execute_result"
    }
   ],
   "source": [
    "deployment_models.get_variables_from_model(model_dict[model_key])"
   ]
  },
  {
   "cell_type": "code",
   "execution_count": 10,
   "id": "420febcc",
   "metadata": {},
   "outputs": [
    {
     "ename": "NameError",
     "evalue": "name 'var_hub_yn' is not defined",
     "output_type": "error",
     "traceback": [
      "\u001b[0;31m---------------------------------------------------------------------------\u001b[0m",
      "\u001b[0;31mNameError\u001b[0m                                 Traceback (most recent call last)",
      "\u001b[0;32m/var/folders/5x/vqy1v_2x2x92wj2ywthssw2r0000gn/T/ipykernel_5803/1692220147.py\u001b[0m in \u001b[0;36m<module>\u001b[0;34m\u001b[0m\n\u001b[0;32m----> 1\u001b[0;31m \u001b[0mprint\u001b[0m\u001b[0;34m(\u001b[0m\u001b[0;34m\"Fraction of hubs built: \"\u001b[0m\u001b[0;34m,\u001b[0m \u001b[0mnp\u001b[0m\u001b[0;34m.\u001b[0m\u001b[0msum\u001b[0m\u001b[0;34m(\u001b[0m\u001b[0mvar_hub_yn\u001b[0m\u001b[0;34m)\u001b[0m\u001b[0;34m/\u001b[0m\u001b[0mlen\u001b[0m\u001b[0;34m(\u001b[0m\u001b[0mvar_hub_yn\u001b[0m\u001b[0;34m)\u001b[0m\u001b[0;34m)\u001b[0m\u001b[0;34m\u001b[0m\u001b[0;34m\u001b[0m\u001b[0m\n\u001b[0m",
      "\u001b[0;31mNameError\u001b[0m: name 'var_hub_yn' is not defined"
     ]
    }
   ],
   "source": [
    "print(\"Fraction of hubs built: \", np.sum(var_hub_yn)/len(var_hub_yn))"
   ]
  },
  {
   "cell_type": "markdown",
   "id": "127355d8",
   "metadata": {},
   "source": [
    "# p-median to meet a minimum number of EJ population"
   ]
  },
  {
   "cell_type": "code",
   "execution_count": 15,
   "id": "fb8d3f70",
   "metadata": {},
   "outputs": [
    {
     "name": "stdout",
     "output_type": "stream",
     "text": [
      "\n",
      "Problem: \n",
      "- Name: x24130\n",
      "  Lower bound: 30968.02078247392\n",
      "  Upper bound: 30970.818264228175\n",
      "  Number of objectives: 1\n",
      "  Number of constraints: 27066\n",
      "  Number of variables: 24130\n",
      "  Number of binary variables: 558\n",
      "  Number of integer variables: 558\n",
      "  Number of continuous variables: 23572\n",
      "  Number of nonzeros: 212698\n",
      "  Sense: minimize\n",
      "Solver: \n",
      "- Status: ok\n",
      "  Return code: 0\n",
      "  Message: Model was solved to optimality (subject to tolerances), and an optimal solution is available.\n",
      "  Termination condition: optimal\n",
      "  Termination message: Model was solved to optimality (subject to tolerances), and an optimal solution is available.\n",
      "  Wall time: 1.6042029857635498\n",
      "  Error rc: 0\n",
      "  Time: 1.8213860988616943\n",
      "Solution: \n",
      "- number of solutions: 0\n",
      "  number of solutions displayed: 0\n",
      "\n",
      "Fraction of hubs built:  0    0.094982\n",
      "dtype: float64\n"
     ]
    }
   ],
   "source": [
    "######### Basic p median + EJ #############\n",
    "# p_median model plus meet a certain propotion of the total EJ population\n",
    "min_prop_ej = 0.2\n",
    "ej_cutoff = 0.75\n",
    "\n",
    "model_key = \"p_median_total_EJ\"\n",
    "model_dict[model_key] = model_base.clone()\n",
    "model_dict[model_key] = deployment_models.constrain_total_cost(model_dict[model_key],max_cost)\n",
    "model_dict[model_key] = deployment_models.constrain_min_total_pop(model_dict[model_key],min_service_fraction)\n",
    "model_dict[model_key] = deployment_models.add_p_median_objective(model_dict[model_key])\n",
    "model_dict[model_key] = deployment_models.prioritize_CES(model_dict[model_key],min_prop_ej,ej_cutoff)\n",
    "\n",
    "SolverFactory('gurobi').solve(model_dict[model_key])\n",
    "print(results)\n",
    "var_hub_yn, var_prop_served = deployment_models.get_vars(model_dict[model_key])\n",
    "print(\"Fraction of hubs built: \", np.sum(var_hub_yn)/len(var_hub_yn))"
   ]
  },
  {
   "cell_type": "markdown",
   "id": "72eede92",
   "metadata": {},
   "source": [
    "# p-median to meet a certain fraction for EACH blockgroup\n",
    "As expected, with the current model, this is infeasible for practically all values since hubs are all or nothing"
   ]
  },
  {
   "cell_type": "code",
   "execution_count": 21,
   "id": "17c2ba64",
   "metadata": {},
   "outputs": [
    {
     "name": "stdout",
     "output_type": "stream",
     "text": [
      "WARNING: Loading a SolverResults object with a warning status into\n",
      "    model.name=\"unknown\";\n",
      "      - termination condition: infeasible\n",
      "      - message from solver: Model was proven to be infeasible.\n",
      "\n",
      "Problem: \n",
      "- Name: x24130\n",
      "  Lower bound: 30968.02078247392\n",
      "  Upper bound: 30970.818264228175\n",
      "  Number of objectives: 1\n",
      "  Number of constraints: 27066\n",
      "  Number of variables: 24130\n",
      "  Number of binary variables: 558\n",
      "  Number of integer variables: 558\n",
      "  Number of continuous variables: 23572\n",
      "  Number of nonzeros: 212698\n",
      "  Sense: minimize\n",
      "Solver: \n",
      "- Status: ok\n",
      "  Return code: 0\n",
      "  Message: Model was solved to optimality (subject to tolerances), and an optimal solution is available.\n",
      "  Termination condition: optimal\n",
      "  Termination message: Model was solved to optimality (subject to tolerances), and an optimal solution is available.\n",
      "  Wall time: 1.6042029857635498\n",
      "  Error rc: 0\n",
      "  Time: 1.8213860988616943\n",
      "Solution: \n",
      "- number of solutions: 0\n",
      "  number of solutions displayed: 0\n",
      "\n",
      "Fraction of hubs built:  0    1.0\n",
      "dtype: float64\n"
     ]
    }
   ],
   "source": [
    "importlib.reload(deployment_models)\n",
    "min_blockgroup_service_fraction = 0.01\n",
    "\n",
    "model_key = \"p_median_bg_prop\"\n",
    "model_dict[model_key] = model_base.clone()\n",
    "model_dict[model_key] = deployment_models.constrain_total_cost(model_dict[model_key],max_cost)\n",
    "model_dict[model_key] = deployment_models.constrain_min_blockgroup_pop(model_dict[model_key],min_blockgroup_service_fraction)\n",
    "model_dict[model_key] = deployment_models.add_p_median_objective(model_dict[model_key])\n",
    "model_dict[model_key] = deployment_models.prioritize_CES(model_dict[model_key],min_prop_ej,ej_cutoff)\n",
    "\n",
    "SolverFactory('gurobi').solve(model_dict[model_key])\n",
    "print(results)\n",
    "var_hub_yn, var_prop_served = deployment_models.get_vars(model_dict[model_key])\n",
    "print(\"Fraction of hubs built: \", np.sum(var_hub_yn)/len(var_hub_yn))"
   ]
  },
  {
   "cell_type": "markdown",
   "id": "0e395957",
   "metadata": {},
   "source": [
    "# Basic demand maximization simple model"
   ]
  },
  {
   "cell_type": "code",
   "execution_count": 22,
   "id": "36c4d541",
   "metadata": {},
   "outputs": [
    {
     "name": "stdout",
     "output_type": "stream",
     "text": [
      "\n",
      "Problem: \n",
      "- Name: x24130\n",
      "  Lower bound: 136564.9141521878\n",
      "  Upper bound: 136564.9141521878\n",
      "  Number of objectives: 1\n",
      "  Number of constraints: 27065\n",
      "  Number of variables: 24130\n",
      "  Number of binary variables: 558\n",
      "  Number of integer variables: 558\n",
      "  Number of continuous variables: 23572\n",
      "  Number of nonzeros: 189127\n",
      "  Sense: maximize\n",
      "Solver: \n",
      "- Status: ok\n",
      "  Return code: 0\n",
      "  Message: Model was solved to optimality (subject to tolerances), and an optimal solution is available.\n",
      "  Termination condition: optimal\n",
      "  Termination message: Model was solved to optimality (subject to tolerances), and an optimal solution is available.\n",
      "  Wall time: 46.61024284362793\n",
      "  Error rc: 0\n",
      "  Time: 46.812371015548706\n",
      "Solution: \n",
      "- number of solutions: 0\n",
      "  number of solutions displayed: 0\n",
      "\n"
     ]
    }
   ],
   "source": [
    "######### Basic demand maximization #############\n",
    "# Demand maximization objective and constraint for total cost and to meet defined proportion of total population\n",
    "model_key = \"demand_max\"\n",
    "model_dict[model_key] = model_base.clone()\n",
    "model_dict[model_key] = deployment_models.constrain_total_cost(model_dict[model_key],max_cost)\n",
    "model_dict[model_key] = deployment_models.add_demand_maximization_objective(model_dict[model_key])\n",
    "results = SolverFactory('gurobi').solve(model_dict[model_key])\n",
    "print(results)\n",
    "var_hub_yn, var_prop_served = deployment_models.get_vars(model_dict[model_key])"
   ]
  },
  {
   "cell_type": "markdown",
   "id": "b732e6a1",
   "metadata": {},
   "source": [
    "# Multi-objective models\n",
    "Meta-code:\n",
    "For a given total amount of money...\n",
    "1. Find the maximum number of people that can be met with that money using demand_maximization\n",
    "2. Set the min_service_fraction equal to some fraction of the maximum number of people (say 90%)\n",
    "3. Find the p-median model result for that value of min_service_fraction\n"
   ]
  },
  {
   "cell_type": "code",
   "execution_count": 30,
   "id": "c32cab63",
   "metadata": {},
   "outputs": [
    {
     "name": "stdout",
     "output_type": "stream",
     "text": [
      "\n",
      "Problem: \n",
      "- Name: x24130\n",
      "  Lower bound: 25587.173156070534\n",
      "  Upper bound: 25588.525833607957\n",
      "  Number of objectives: 1\n",
      "  Number of constraints: 27066\n",
      "  Number of variables: 24130\n",
      "  Number of binary variables: 558\n",
      "  Number of integer variables: 558\n",
      "  Number of continuous variables: 23572\n",
      "  Number of nonzeros: 212698\n",
      "  Sense: minimize\n",
      "Solver: \n",
      "- Status: ok\n",
      "  Return code: 0\n",
      "  Message: Model was solved to optimality (subject to tolerances), and an optimal solution is available.\n",
      "  Termination condition: optimal\n",
      "  Termination message: Model was solved to optimality (subject to tolerances), and an optimal solution is available.\n",
      "  Wall time: 1.0112519264221191\n",
      "  Error rc: 0\n",
      "  Time: 1.2010555267333984\n",
      "Solution: \n",
      "- number of solutions: 0\n",
      "  number of solutions displayed: 0\n",
      "\n"
     ]
    }
   ],
   "source": [
    "min_service_fraction_multiplier = 0.75\n",
    "total_pop = sum([model_base.param_bg_pop[bg] for bg in model_base.idx_bgs])\n",
    "\n",
    "min_service_fraction_multi_objective = min_service_fraction_multiplier*value(model_dict[\"demand_max\"].max_coverage)/total_pop\n",
    "\n",
    "model_key = \"p_median_multi_objective\"\n",
    "model_dict[model_key] = model_base.clone()\n",
    "model_dict[model_key] = deployment_models.constrain_total_cost(model_dict[model_key],max_cost)\n",
    "model_dict[model_key] = deployment_models.constrain_min_total_pop(model_dict[model_key],min_service_fraction_multi_objective)\n",
    "model_dict[model_key] = deployment_models.add_p_median_objective(model_dict[model_key])\n",
    "results = SolverFactory('gurobi').solve(model_dict[model_key])\n",
    "print(results)\n",
    "var_hub_yn, var_prop_served = deployment_models.get_vars(model_dict[model_key])\n"
   ]
  }
 ],
 "metadata": {
  "kernelspec": {
   "display_name": "Python 3 (ipykernel)",
   "language": "python",
   "name": "python3"
  },
  "language_info": {
   "codemirror_mode": {
    "name": "ipython",
    "version": 3
   },
   "file_extension": ".py",
   "mimetype": "text/x-python",
   "name": "python",
   "nbconvert_exporter": "python",
   "pygments_lexer": "ipython3",
   "version": "3.9.7"
  }
 },
 "nbformat": 4,
 "nbformat_minor": 5
}
