{
 "cells": [
  {
   "cell_type": "markdown",
   "id": "08807fb7",
   "metadata": {},
   "source": [
    "# Get data and packages"
   ]
  },
  {
   "cell_type": "code",
   "execution_count": 1,
   "id": "dce7075a",
   "metadata": {},
   "outputs": [],
   "source": [
    "import os\n",
    "from datetime import datetime\n",
    "import pandas as pd\n",
    "import numpy as np\n",
    "from pyomo.environ import *\n",
    "import pyomo.opt as pyopt\n",
    "\n",
    "from data_cleaning import (blockgroup_pop_dict, bg_ces_dict,\n",
    "                           dist_to_site_df, dist_to_site_dict,\n",
    "                           county_prop_ealp_dict, site_kw_occ_dict,\n",
    "                           site_sqft_dict, site_cost_dict)"
   ]
  },
  {
   "cell_type": "markdown",
   "id": "86e2d56c",
   "metadata": {},
   "source": [
    "# Build base model"
   ]
  },
  {
   "cell_type": "code",
   "execution_count": 2,
   "id": "2dabef78",
   "metadata": {},
   "outputs": [],
   "source": [
    "import deployment_models\n",
    "import importlib\n",
    "importlib.reload(deployment_models)\n",
    "\n",
    "model_base, bg_with_no_hub = deployment_models.build_base_model(site_cost_dict, site_kw_occ_dict, blockgroup_pop_dict, bg_ces_dict, dist_to_site_df)"
   ]
  },
  {
   "cell_type": "markdown",
   "id": "9d4c21ab",
   "metadata": {},
   "source": [
    "# Solving different models\n",
    "## Ideas\n",
    "1. p_median\n",
    "2. demand_maximization\n",
    "3. p_median with minimum total population\n",
    "4. p_median with minimum total EJ population\n",
    "5. demand_maximization with minimum total EJ population\n",
    "6. demand_maximization with minimum blockgroup EJ population\n",
    "7. ..."
   ]
  },
  {
   "cell_type": "markdown",
   "id": "7fceed9b",
   "metadata": {},
   "source": [
    "# Basic p median model"
   ]
  },
  {
   "cell_type": "code",
   "execution_count": 9,
   "id": "7cac8f2e",
   "metadata": {},
   "outputs": [
    {
     "name": "stdout",
     "output_type": "stream",
     "text": [
      "\n",
      "Problem: \n",
      "- Name: x24130\n",
      "  Lower bound: 30968.02078247392\n",
      "  Upper bound: 30970.818264228175\n",
      "  Number of objectives: 1\n",
      "  Number of constraints: 27066\n",
      "  Number of variables: 24130\n",
      "  Number of binary variables: 558\n",
      "  Number of integer variables: 558\n",
      "  Number of continuous variables: 23572\n",
      "  Number of nonzeros: 212698\n",
      "  Sense: minimize\n",
      "Solver: \n",
      "- Status: ok\n",
      "  Return code: 0\n",
      "  Message: Model was solved to optimality (subject to tolerances), and an optimal solution is available.\n",
      "  Termination condition: optimal\n",
      "  Termination message: Model was solved to optimality (subject to tolerances), and an optimal solution is available.\n",
      "  Wall time: 1.6042029857635498\n",
      "  Error rc: 0\n",
      "  Time: 1.8213860988616943\n",
      "Solution: \n",
      "- number of solutions: 0\n",
      "  number of solutions displayed: 0\n",
      "\n"
     ]
    }
   ],
   "source": [
    "importlib.reload(deployment_models)\n",
    "\n",
    "max_cost = 20000000\n",
    "min_service_fraction = 0.1\n",
    "\n",
    "model_dict = dict()\n",
    "######### Basic p median #############\n",
    "# p median objective and constraint for total cost and to meet defined proportion of total population\n",
    "model_key = \"p_median\"\n",
    "model_dict[model_key] = model_base.clone()\n",
    "model_dict[model_key] = deployment_models.constrain_total_cost(model_dict[model_key],max_cost)\n",
    "model_dict[model_key] = deployment_models.constrain_min_total_pop(model_dict[model_key],min_service_fraction)\n",
    "model_dict[model_key] = deployment_models.add_p_median_objective(model_dict[model_key])\n",
    "results = SolverFactory('gurobi').solve(model_dict[model_key])\n",
    "print(results)\n",
    "var_hub_yn, var_prop_served = deployment_models.get_vars(model_dict[model_key])"
   ]
  },
  {
   "cell_type": "code",
   "execution_count": 12,
   "id": "420febcc",
   "metadata": {},
   "outputs": [
    {
     "name": "stdout",
     "output_type": "stream",
     "text": [
      "Fraction of hubs built:  0    0.100358\n",
      "dtype: float64\n"
     ]
    }
   ],
   "source": [
    "print(\"Fraction of hubs built: \", np.sum(var_hub_yn)/len(var_hub_yn))"
   ]
  },
  {
   "cell_type": "markdown",
   "id": "127355d8",
   "metadata": {},
   "source": [
    "# p-median to meet a minimum number of EJ population"
   ]
  },
  {
   "cell_type": "code",
   "execution_count": 15,
   "id": "fb8d3f70",
   "metadata": {},
   "outputs": [
    {
     "name": "stdout",
     "output_type": "stream",
     "text": [
      "\n",
      "Problem: \n",
      "- Name: x24130\n",
      "  Lower bound: 30968.02078247392\n",
      "  Upper bound: 30970.818264228175\n",
      "  Number of objectives: 1\n",
      "  Number of constraints: 27066\n",
      "  Number of variables: 24130\n",
      "  Number of binary variables: 558\n",
      "  Number of integer variables: 558\n",
      "  Number of continuous variables: 23572\n",
      "  Number of nonzeros: 212698\n",
      "  Sense: minimize\n",
      "Solver: \n",
      "- Status: ok\n",
      "  Return code: 0\n",
      "  Message: Model was solved to optimality (subject to tolerances), and an optimal solution is available.\n",
      "  Termination condition: optimal\n",
      "  Termination message: Model was solved to optimality (subject to tolerances), and an optimal solution is available.\n",
      "  Wall time: 1.6042029857635498\n",
      "  Error rc: 0\n",
      "  Time: 1.8213860988616943\n",
      "Solution: \n",
      "- number of solutions: 0\n",
      "  number of solutions displayed: 0\n",
      "\n",
      "Fraction of hubs built:  0    0.094982\n",
      "dtype: float64\n"
     ]
    }
   ],
   "source": [
    "######### Basic p median + EJ #############\n",
    "# p_median model plus meet a certain propotion of the total EJ population\n",
    "min_prop_ej = 0.2\n",
    "ej_cutoff = 0.75\n",
    "\n",
    "model_key = \"p_median_total_EJ\"\n",
    "model_dict[model_key] = model_base.clone()\n",
    "model_dict[model_key] = deployment_models.constrain_total_cost(model_dict[model_key],max_cost)\n",
    "model_dict[model_key] = deployment_models.constrain_min_total_pop(model_dict[model_key],min_service_fraction)\n",
    "model_dict[model_key] = deployment_models.add_p_median_objective(model_dict[model_key])\n",
    "model_dict[model_key] = deployment_models.prioritize_CES(model_dict[model_key],min_prop_ej,ej_cutoff)\n",
    "\n",
    "SolverFactory('gurobi').solve(model_dict[model_key])\n",
    "print(results)\n",
    "var_hub_yn, var_prop_served = deployment_models.get_vars(model_dict[model_key])\n",
    "print(\"Fraction of hubs built: \", np.sum(var_hub_yn)/len(var_hub_yn))"
   ]
  },
  {
   "cell_type": "markdown",
   "id": "72eede92",
   "metadata": {},
   "source": [
    "# p-median to meet a certain fraction for EACH blockgroup\n",
    "As expected, with the current model, this is infeasible for practically all values since hubs are all or nothing"
   ]
  },
  {
   "cell_type": "code",
   "execution_count": 21,
   "id": "17c2ba64",
   "metadata": {},
   "outputs": [
    {
     "name": "stdout",
     "output_type": "stream",
     "text": [
      "WARNING: Loading a SolverResults object with a warning status into\n",
      "    model.name=\"unknown\";\n",
      "      - termination condition: infeasible\n",
      "      - message from solver: Model was proven to be infeasible.\n",
      "\n",
      "Problem: \n",
      "- Name: x24130\n",
      "  Lower bound: 30968.02078247392\n",
      "  Upper bound: 30970.818264228175\n",
      "  Number of objectives: 1\n",
      "  Number of constraints: 27066\n",
      "  Number of variables: 24130\n",
      "  Number of binary variables: 558\n",
      "  Number of integer variables: 558\n",
      "  Number of continuous variables: 23572\n",
      "  Number of nonzeros: 212698\n",
      "  Sense: minimize\n",
      "Solver: \n",
      "- Status: ok\n",
      "  Return code: 0\n",
      "  Message: Model was solved to optimality (subject to tolerances), and an optimal solution is available.\n",
      "  Termination condition: optimal\n",
      "  Termination message: Model was solved to optimality (subject to tolerances), and an optimal solution is available.\n",
      "  Wall time: 1.6042029857635498\n",
      "  Error rc: 0\n",
      "  Time: 1.8213860988616943\n",
      "Solution: \n",
      "- number of solutions: 0\n",
      "  number of solutions displayed: 0\n",
      "\n",
      "Fraction of hubs built:  0    1.0\n",
      "dtype: float64\n"
     ]
    }
   ],
   "source": [
    "importlib.reload(deployment_models)\n",
    "min_blockgroup_service_fraction = 0.01\n",
    "\n",
    "model_key = \"p_median_bg_prop\"\n",
    "model_dict[model_key] = model_base.clone()\n",
    "model_dict[model_key] = deployment_models.constrain_total_cost(model_dict[model_key],max_cost)\n",
    "model_dict[model_key] = deployment_models.constrain_min_blockgroup_pop(model_dict[model_key],min_blockgroup_service_fraction)\n",
    "model_dict[model_key] = deployment_models.add_p_median_objective(model_dict[model_key])\n",
    "model_dict[model_key] = deployment_models.prioritize_CES(model_dict[model_key],min_prop_ej,ej_cutoff)\n",
    "\n",
    "SolverFactory('gurobi').solve(model_dict[model_key])\n",
    "print(results)\n",
    "var_hub_yn, var_prop_served = deployment_models.get_vars(model_dict[model_key])\n",
    "print(\"Fraction of hubs built: \", np.sum(var_hub_yn)/len(var_hub_yn))"
   ]
  },
  {
   "cell_type": "markdown",
   "id": "0e395957",
   "metadata": {},
   "source": [
    "# Basic demand maximization simple model"
   ]
  },
  {
   "cell_type": "code",
   "execution_count": 22,
   "id": "36c4d541",
   "metadata": {},
   "outputs": [
    {
     "name": "stdout",
     "output_type": "stream",
     "text": [
      "\n",
      "Problem: \n",
      "- Name: x24130\n",
      "  Lower bound: 136564.9141521878\n",
      "  Upper bound: 136564.9141521878\n",
      "  Number of objectives: 1\n",
      "  Number of constraints: 27065\n",
      "  Number of variables: 24130\n",
      "  Number of binary variables: 558\n",
      "  Number of integer variables: 558\n",
      "  Number of continuous variables: 23572\n",
      "  Number of nonzeros: 189127\n",
      "  Sense: maximize\n",
      "Solver: \n",
      "- Status: ok\n",
      "  Return code: 0\n",
      "  Message: Model was solved to optimality (subject to tolerances), and an optimal solution is available.\n",
      "  Termination condition: optimal\n",
      "  Termination message: Model was solved to optimality (subject to tolerances), and an optimal solution is available.\n",
      "  Wall time: 46.61024284362793\n",
      "  Error rc: 0\n",
      "  Time: 46.812371015548706\n",
      "Solution: \n",
      "- number of solutions: 0\n",
      "  number of solutions displayed: 0\n",
      "\n"
     ]
    }
   ],
   "source": [
    "######### Basic demand maximization #############\n",
    "# Demand maximization objective and constraint for total cost and to meet defined proportion of total population\n",
    "model_key = \"demand_max\"\n",
    "model_dict[model_key] = model_base.clone()\n",
    "model_dict[model_key] = deployment_models.constrain_total_cost(model_dict[model_key],max_cost)\n",
    "model_dict[model_key] = deployment_models.add_demand_maximization_objective(model_dict[model_key])\n",
    "results = SolverFactory('gurobi').solve(model_dict[model_key])\n",
    "print(results)\n",
    "var_hub_yn, var_prop_served = deployment_models.get_vars(model_dict[model_key])"
   ]
  },
  {
   "cell_type": "markdown",
   "id": "b732e6a1",
   "metadata": {},
   "source": [
    "# Multi-objective models\n",
    "Meta-code:\n",
    "For a given total amount of money...\n",
    "1. Find the maximum number of people that can be met with that money using demand_maximization\n",
    "2. Set the min_service_fraction equal to some fraction of the maximum number of people (say 90%)\n",
    "3. Find the p-median model result for that value of min_service_fraction\n"
   ]
  },
  {
   "cell_type": "code",
   "execution_count": 30,
   "id": "c32cab63",
   "metadata": {},
   "outputs": [
    {
     "name": "stdout",
     "output_type": "stream",
     "text": [
      "\n",
      "Problem: \n",
      "- Name: x24130\n",
      "  Lower bound: 25587.173156070534\n",
      "  Upper bound: 25588.525833607957\n",
      "  Number of objectives: 1\n",
      "  Number of constraints: 27066\n",
      "  Number of variables: 24130\n",
      "  Number of binary variables: 558\n",
      "  Number of integer variables: 558\n",
      "  Number of continuous variables: 23572\n",
      "  Number of nonzeros: 212698\n",
      "  Sense: minimize\n",
      "Solver: \n",
      "- Status: ok\n",
      "  Return code: 0\n",
      "  Message: Model was solved to optimality (subject to tolerances), and an optimal solution is available.\n",
      "  Termination condition: optimal\n",
      "  Termination message: Model was solved to optimality (subject to tolerances), and an optimal solution is available.\n",
      "  Wall time: 1.0112519264221191\n",
      "  Error rc: 0\n",
      "  Time: 1.2010555267333984\n",
      "Solution: \n",
      "- number of solutions: 0\n",
      "  number of solutions displayed: 0\n",
      "\n"
     ]
    }
   ],
   "source": [
    "min_service_fraction_multiplier = 0.75\n",
    "total_pop = sum([model_base.param_bg_pop[bg] for bg in model_base.idx_bgs])\n",
    "\n",
    "min_service_fraction_multi_objective = min_service_fraction_multiplier*value(model_dict[\"demand_max\"].max_coverage)/total_pop\n",
    "\n",
    "model_key = \"p_median_multi_objective\"\n",
    "model_dict[model_key] = model_base.clone()\n",
    "model_dict[model_key] = deployment_models.constrain_total_cost(model_dict[model_key],max_cost)\n",
    "model_dict[model_key] = deployment_models.constrain_min_total_pop(model_dict[model_key],min_service_fraction_multi_objective)\n",
    "model_dict[model_key] = deployment_models.add_p_median_objective(model_dict[model_key])\n",
    "results = SolverFactory('gurobi').solve(model_dict[model_key])\n",
    "print(results)\n",
    "var_hub_yn, var_prop_served = deployment_models.get_vars(model_dict[model_key])\n"
   ]
  }
 ],
 "metadata": {
  "kernelspec": {
   "display_name": "harbor",
   "language": "python",
   "name": "harbor"
  },
  "language_info": {
   "codemirror_mode": {
    "name": "ipython",
    "version": 3
   },
   "file_extension": ".py",
   "mimetype": "text/x-python",
   "name": "python",
   "nbconvert_exporter": "python",
   "pygments_lexer": "ipython3",
   "version": "3.10.4"
  }
 },
 "nbformat": 4,
 "nbformat_minor": 5
}
