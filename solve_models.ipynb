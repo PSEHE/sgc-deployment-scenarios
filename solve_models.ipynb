{
 "cells": [
  {
   "cell_type": "code",
   "execution_count": 1,
   "id": "2dabef78",
   "metadata": {},
   "outputs": [],
   "source": [
    "import pandas as pd\n",
    "\n",
    "import p_median"
   ]
  },
  {
   "cell_type": "code",
   "execution_count": 2,
   "id": "059a2acf",
   "metadata": {},
   "outputs": [],
   "source": [
    "results_log_columns = ['model_id', 'con_max_hubs', 'con_cap_factor', 'con_pct_tot', 'con_min_ces_score', 'con_min_prop_ej', 'res_dist_traveled', 'res_pop_served', 'res_agg_ces_score', 'res_avg_dist']\n",
    "results_log_df = pd.DataFrame(columns = results_log_columns)"
   ]
  },
  {
   "cell_type": "code",
   "execution_count": 13,
   "id": "5b0b940e",
   "metadata": {
    "scrolled": true
   },
   "outputs": [
    {
     "name": "stdout",
     "output_type": "stream",
     "text": [
      "\n",
      "Problem: \n",
      "- Name: x24130\n",
      "  Lower bound: 66651.34756127864\n",
      "  Upper bound: 66651.34756127864\n",
      "  Number of objectives: 1\n",
      "  Number of constraints: 27211\n",
      "  Number of variables: 24130\n",
      "  Number of binary variables: 558\n",
      "  Number of integer variables: 558\n",
      "  Number of continuous variables: 23572\n",
      "  Number of nonzeros: 213256\n",
      "  Sense: minimize\n",
      "Solver: \n",
      "- Status: ok\n",
      "  Return code: 0\n",
      "  Message: Model was solved to optimality (subject to tolerances), and an optimal solution is available.\n",
      "  Termination condition: optimal\n",
      "  Termination message: Model was solved to optimality (subject to tolerances), and an optimal solution is available.\n",
      "  Wall time: 0.4907839298248291\n",
      "  Error rc: 0\n",
      "  Time: 0.7260704040527344\n",
      "Solution: \n",
      "- number of solutions: 0\n",
      "  number of solutions displayed: 0\n",
      "\n"
     ]
    },
    {
     "name": "stderr",
     "output_type": "stream",
     "text": [
      "/tmp/ipykernel_159883/541608644.py:28: FutureWarning: The frame.append method is deprecated and will be removed from pandas in a future version. Use pandas.concat instead.\n",
      "  results_log_df = results_log_df.append(pd.DataFrame(columns = results_log_columns, data = results_log_values))\n"
     ]
    }
   ],
   "source": [
    "# Define desired inputs\n",
    "max_hubs = 30\n",
    "cap_factor = 1\n",
    "min_pop_fraction = 0.15\n",
    "min_ces_score = 0.0\n",
    "min_prop_ej = 0.0\n",
    "\n",
    "# Solve Model\n",
    "model = p_median.define_pmedian(max_hubs, cap_factor, min_pop_fraction, min_ces_score, min_prop_ej)\n",
    "\n",
    "# Generate unique ID for results file paths\n",
    "result_path = p_median.make_result_path()\n",
    "\n",
    "# Save various outputs to dedicated CSVs, save aggregate values\n",
    "result_model = p_median.solve_model(model, result_path)\n",
    "\n",
    "result_prop_served_df, result_prop_served_dict = p_median.save_results_prop_bg_at_site(model, result_path)\n",
    "\n",
    "result_hubs = p_median.save_results_hubs(model, result_path)\n",
    "\n",
    "result_pop_served = p_median.save_results_pop_served(result_prop_served_df, result_prop_served_dict, result_path)\n",
    "\n",
    "result_dist_traveled = p_median.save_results_dist_traveled(result_prop_served_df, result_prop_served_dict, result_path)\n",
    "\n",
    "result_ces = p_median.save_results_ces(result_prop_served_df, result_prop_served_dict, result_pop_served, result_path)\n",
    "\n",
    "results_log_values = [[result_path.split('/')[-1], max_hubs, cap_factor, min_pop_fraction, min_ces_score, min_prop_ej, result_dist_traveled, result_pop_served, result_ces, result_dist_traveled/result_pop_served]]\n",
    "results_log_df = results_log_df.append(pd.DataFrame(columns = results_log_columns, data = results_log_values))"
   ]
  },
  {
   "cell_type": "code",
   "execution_count": 16,
   "id": "3cf41f03",
   "metadata": {},
   "outputs": [
    {
     "name": "stdout",
     "output_type": "stream",
     "text": [
      "\n",
      "Problem: \n",
      "- Name: x24130\n",
      "  Lower bound: 428761.3157154667\n",
      "  Upper bound: 428761.3157154667\n",
      "  Number of objectives: 1\n",
      "  Number of constraints: 27211\n",
      "  Number of variables: 24130\n",
      "  Number of binary variables: 558\n",
      "  Number of integer variables: 558\n",
      "  Number of continuous variables: 23572\n",
      "  Number of nonzeros: 213256\n",
      "  Sense: maximize\n",
      "Solver: \n",
      "- Status: ok\n",
      "  Return code: 0\n",
      "  Message: Model was solved to optimality (subject to tolerances), and an optimal solution is available.\n",
      "  Termination condition: optimal\n",
      "  Termination message: Model was solved to optimality (subject to tolerances), and an optimal solution is available.\n",
      "  Wall time: 0.44209814071655273\n",
      "  Error rc: 0\n",
      "  Time: 0.6570255756378174\n",
      "Solution: \n",
      "- number of solutions: 0\n",
      "  number of solutions displayed: 0\n",
      "\n"
     ]
    }
   ],
   "source": [
    "import importlib\n",
    "importlib.reload(p_median)\n",
    "from pyomo.environ import *\n",
    "import pyomo.opt as pyopt\n",
    "\n",
    "model_demand = p_median.p_median_to_demand_max(model.clone())\n",
    "result_model_demand = p_median.solve_model(model_demand, result_path)\n"
   ]
  },
  {
   "cell_type": "code",
   "execution_count": 19,
   "id": "ad6604e1",
   "metadata": {},
   "outputs": [],
   "source": [
    "from data_cleaning import site_occ_dict, blockgroup_pop_dict, bg_ces_dict, dist_to_site_df, dist_to_site_dict, site_sqft_dict\n",
    "\n",
    "total_cost_dict = dict()\n",
    "site_kw_occ_dict = dict()\n",
    "\n",
    "for site in model.idx_sites:\n",
    "    pv_kw = 0.007*site_sqft_dict[site]\n",
    "    ba_kw = 0.42*pv_kw\n",
    "    ba_kwh = 0.046*site_sqft_dict[site]\n",
    "    pv_cost_dollars =  pv_kw*4000*((pv_kw)**(-0.1))\n",
    "    ba_cost_dollars = 840*ba_kw + ba_kwh*1000*(ba_kwh**(-0.19)),\n",
    "    total_cost = pv_cost_dollars + ba_cost_dollars\n",
    "    total_cost_dict[site] = total_cost\n"
   ]
  },
  {
   "cell_type": "code",
   "execution_count": 20,
   "id": "57b0f509",
   "metadata": {},
   "outputs": [
    {
     "data": {
      "text/plain": [
       "3109.0163379838"
      ]
     },
     "execution_count": 20,
     "metadata": {},
     "output_type": "execute_result"
    }
   ],
   "source": [
    "ba_kwh"
   ]
  },
  {
   "cell_type": "code",
   "execution_count": 8,
   "id": "9eadc3d6",
   "metadata": {},
   "outputs": [
    {
     "data": {
      "text/plain": [
       "<pyomo.core.base.objective.ScalarObjective at 0x7f518fe37650>"
      ]
     },
     "execution_count": 8,
     "metadata": {},
     "output_type": "execute_result"
    }
   ],
   "source": [
    "\n",
    "result_prop_served_df, result_prop_served_dict = p_median.save_results_prop_bg_at_site(model_demand, result_path)\n",
    "\n",
    "result_hubs = p_median.save_results_hubs(model, result_path)\n",
    "\n",
    "result_pop_served = p_median.save_results_pop_served(result_prop_served_df, result_prop_served_dict, result_path)\n",
    "\n",
    "result_dist_traveled = p_median.save_results_dist_traveled(result_prop_served_df, result_prop_served_dict, result_path)\n",
    "\n",
    "result_ces = p_median.save_results_ces(result_prop_served_df, result_prop_served_dict, result_pop_served, result_path)\n",
    "\n",
    "results_log_values = [[result_path.split('/')[-1], max_hubs, cap_factor, min_pop_fraction, min_ces_score, min_prop_ej, result_dist_traveled, result_pop_served, result_ces, result_dist_traveled/result_pop_served]]\n",
    "results_log_df = results_log_df.append(pd.DataFrame(columns = results_log_columns, data = results_log_values))"
   ]
  },
  {
   "cell_type": "code",
   "execution_count": null,
   "id": "0f0b66e9",
   "metadata": {},
   "outputs": [],
   "source": [
    "results_log_df.to_csv('results/p-med/results_log_CESb.csv', index = False)"
   ]
  }
 ],
 "metadata": {
  "kernelspec": {
   "display_name": "harbor",
   "language": "python",
   "name": "harbor"
  },
  "language_info": {
   "codemirror_mode": {
    "name": "ipython",
    "version": 3
   },
   "file_extension": ".py",
   "mimetype": "text/x-python",
   "name": "python",
   "nbconvert_exporter": "python",
   "pygments_lexer": "ipython3",
   "version": "3.10.4"
  }
 },
 "nbformat": 4,
 "nbformat_minor": 5
}
