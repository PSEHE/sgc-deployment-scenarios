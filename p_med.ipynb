{
 "cells": [
  {
   "cell_type": "code",
   "execution_count": 1,
   "id": "ff986bb3",
   "metadata": {},
   "outputs": [],
   "source": [
    "import pandas as pd\n",
    "import numpy as np\n",
    "\n",
    "from pyomo.environ import *\n",
    "\n",
    "from data_cleaning import hub_occ_dict\n",
    "from data_cleaning import heatdays_df\n",
    "from data_cleaning import cengeo_pop_dict\n",
    "from data_cleaning import bg_ces_df\n",
    "\n",
    "dist_to_hub_df = pd.read_csv('data/distmatrix_contracosta.csv')\n",
    "dist_to_hub_df.set_index('Unnamed: 0', inplace = True)\n",
    "dist_to_hub_df.index.name = None"
   ]
  },
  {
   "cell_type": "markdown",
   "id": "f79bb257",
   "metadata": {},
   "source": [
    "### Define Model"
   ]
  },
  {
   "cell_type": "markdown",
   "id": "851ec9eb",
   "metadata": {},
   "source": [
    "_Create model and variable indices_"
   ]
  },
  {
   "cell_type": "code",
   "execution_count": 2,
   "id": "232fdc24",
   "metadata": {},
   "outputs": [],
   "source": [
    "model = ConcreteModel()\n",
    "\n",
    "model.idx_cengeos = Set(initialize = dist_to_hub_df.index)\n",
    "model.idx_hubs = Set(initialize = dist_to_hub_df.columns)"
   ]
  },
  {
   "cell_type": "markdown",
   "id": "691003f9",
   "metadata": {},
   "source": [
    "_Create set of blockgroup, hub pairs within five miles of each other_"
   ]
  },
  {
   "cell_type": "code",
   "execution_count": 3,
   "id": "56436c57",
   "metadata": {},
   "outputs": [],
   "source": [
    "def filter_to_nearby_hubs(model, cg, hub):\n",
    "    return not np.isnan(dist_to_hub_df.loc[cg, hub])\n",
    "\n",
    "model.idx_cg_hub_pairs = Set(initialize = model.idx_cengeos*model.idx_hubs, filter = filter_to_nearby_hubs)"
   ]
  },
  {
   "cell_type": "code",
   "execution_count": 4,
   "id": "b4897962",
   "metadata": {},
   "outputs": [
    {
     "name": "stdout",
     "output_type": "stream",
     "text": [
      "WARNING: Implicitly replacing the Component attribute idx_cengeos (type=<class\n",
      "    'pyomo.core.base.set.OrderedScalarSet'>) on block unknown with a new\n",
      "    Component (type=<class 'pyomo.core.base.set.AbstractOrderedScalarSet'>).\n",
      "    This is usually indicative of a modelling error. To avoid this warning,\n",
      "    use block.del_component() and block.add_component().\n",
      "WARNING: Implicitly replacing the Component attribute idx_hubs (type=<class\n",
      "    'pyomo.core.base.set.OrderedScalarSet'>) on block unknown with a new\n",
      "    Component (type=<class 'pyomo.core.base.set.AbstractOrderedScalarSet'>).\n",
      "    This is usually indicative of a modelling error. To avoid this warning,\n",
      "    use block.del_component() and block.add_component().\n"
     ]
    }
   ],
   "source": [
    "included_cengeos = []\n",
    "included_hubs = []\n",
    "\n",
    "for pair in model.idx_cg_hub_pairs:\n",
    "    if pair[0] not in included_cengeos:\n",
    "        included_cengeos.append(pair[0])\n",
    "    if pair[1] not in included_hubs:\n",
    "        included_hubs.append(pair[1])\n",
    "        \n",
    "model.idx_cengeos = Set(initialize = included_cengeos)\n",
    "model.idx_hubs = Set(initialize = included_hubs)"
   ]
  },
  {
   "cell_type": "markdown",
   "id": "d8784411",
   "metadata": {},
   "source": [
    "### Define Parameters"
   ]
  },
  {
   "cell_type": "markdown",
   "id": "cb1d18e6",
   "metadata": {},
   "source": [
    "_Pairwise distance indexed on (blockgroup, hub) tuple_"
   ]
  },
  {
   "cell_type": "code",
   "execution_count": 5,
   "id": "286dc882",
   "metadata": {},
   "outputs": [],
   "source": [
    "def get_cg_hub_distance(model, cg, hub):\n",
    "    return dist_to_hub_df.loc[cg, hub]\n",
    "\n",
    "model.param_cg_hub_dist = Param(model.idx_cg_hub_pairs, initialize = get_cg_hub_distance)"
   ]
  },
  {
   "cell_type": "markdown",
   "id": "3f3c7dec",
   "metadata": {},
   "source": [
    "_Dictionary of blockgroups within range for each hub_"
   ]
  },
  {
   "cell_type": "code",
   "execution_count": 6,
   "id": "07e7f728",
   "metadata": {},
   "outputs": [],
   "source": [
    "cgs_at_hub = {hub: [] for hub in model.idx_hubs}\n",
    "\n",
    "for hub in cgs_at_hub:\n",
    "    for pair in model.idx_cg_hub_pairs:\n",
    "        if pair[1] == hub:\n",
    "            cgs_at_hub[hub].append(pair[0])\n",
    "\n",
    "hubs_with_no_cgs = [key for key in cgs_at_hub.keys() if len(cgs_at_hub[key]) == 0]\n",
    "\n",
    "for hub in hubs_with_no_cgs:\n",
    "    del cgs_at_hub[hub]\n",
    "    \n",
    "model.param_cgs_at_hub = Param(model.idx_hubs, within=Any, initialize=cgs_at_hub)"
   ]
  },
  {
   "cell_type": "markdown",
   "id": "3cda3554",
   "metadata": {},
   "source": [
    "### Define Variables"
   ]
  },
  {
   "cell_type": "markdown",
   "id": "663ce2f6",
   "metadata": {},
   "source": [
    "_Is this site a hub?_"
   ]
  },
  {
   "cell_type": "code",
   "execution_count": 7,
   "id": "2cf55e77",
   "metadata": {},
   "outputs": [],
   "source": [
    "model.var_hub_yn = Var(model.idx_hubs, initialize = 0, within = Binary)"
   ]
  },
  {
   "cell_type": "markdown",
   "id": "020646e9",
   "metadata": {},
   "source": [
    "_What proportion of a blockgroup's population is served by this hub?_"
   ]
  },
  {
   "cell_type": "code",
   "execution_count": 8,
   "id": "27c3ca76",
   "metadata": {},
   "outputs": [],
   "source": [
    "model.var_prop_cg_at_hub = Var(model.idx_cg_hub_pairs, initialize = 0.0, bounds = (0.0, 1.0))"
   ]
  },
  {
   "cell_type": "markdown",
   "id": "49beefb1",
   "metadata": {},
   "source": [
    "_How many people are served by this hub?_"
   ]
  },
  {
   "cell_type": "code",
   "execution_count": 9,
   "id": "2682a5ab",
   "metadata": {},
   "outputs": [],
   "source": [
    "def ppl_at_hub(model):\n",
    "    return(sum(model.var_prop_cg_at_hub[cg, hub]*cengeo_pop_dict[cg] for cg in model.param_cgs_at_hub[hub]))\n",
    "\n",
    "model.var_hub_pop = Var(model.idx_hubs, initialize = ppl_at_hub, domain = NonNegativeReals)"
   ]
  },
  {
   "cell_type": "markdown",
   "id": "9217fc38",
   "metadata": {},
   "source": [
    "def ppl_served_at_hub(model, hub):\n",
    "    tot_ppl_served = 0\n",
    "\n",
    "    for cg in model.idx_cengeos:\n",
    "        if (cg, hub) in model.idx_cg_hub_pairs:\n",
    "            ppl_served = model.var_prop_cg_at_hub[cg, hub]*cengeo_pop_dict[cg]\n",
    "            tot_ppl_served = ppl_served + tot_ppl_served\n",
    "        else:\n",
    "            tot_ppl_served = tot_ppl_served\n",
    "    \n",
    "    return(tot_ppl_served)\n",
    "\n",
    "model.var_hub_pop = Var(model.idx_hubs, initialize = ppl_served_at_hub, domain = NonNegativeReals)"
   ]
  },
  {
   "cell_type": "markdown",
   "id": "7f1319d8",
   "metadata": {},
   "source": [
    "_How many people in this block group are assigned to a hub?_"
   ]
  },
  {
   "cell_type": "markdown",
   "id": "621d200b",
   "metadata": {},
   "source": [
    "# del\n",
    "def cg_total_assigned(model, cg):\n",
    "    tot_ppl_served = 0\n",
    "\n",
    "    for hub in model.idx_hubs:\n",
    "        if (cg, hub) in model.idx_cg_hub_pairs:\n",
    "            ppl_served = model.var_prop_cg_at_hub[cg, hub]*cengeo_pop_dict[cg]\n",
    "            tot_ppl_served = ppl_served + tot_ppl_served\n",
    "        else:\n",
    "            tot_ppl_served = tot_ppl_served\n",
    "    \n",
    "    return(tot_ppl_served)\n",
    "\n",
    "model.var_cg_pop_assigned = Var(model.idx_cengeos, initialize = cg_total_assigned, domain = NonNegativeReals)"
   ]
  },
  {
   "cell_type": "markdown",
   "id": "a6593689",
   "metadata": {},
   "source": [
    "### Define Objective"
   ]
  },
  {
   "cell_type": "markdown",
   "id": "d2bd9b37",
   "metadata": {},
   "source": [
    "_Minimize aggregate travel distance_"
   ]
  },
  {
   "cell_type": "code",
   "execution_count": 10,
   "id": "4b01c7bf",
   "metadata": {},
   "outputs": [],
   "source": [
    "min_agg_dist = sum(model.param_cg_hub_dist[cg, hub] * cengeo_pop_dict[cg] * model.var_prop_cg_at_hub[cg, hub] \n",
    "                   for cg, hub in model.idx_cg_hub_pairs)\n",
    "\n",
    "model.obj_min_agg_dist = Objective(expr = min_agg_dist, sense = minimize)"
   ]
  },
  {
   "cell_type": "markdown",
   "id": "8451f01d",
   "metadata": {},
   "source": [
    "### Define Constraints"
   ]
  },
  {
   "cell_type": "markdown",
   "id": "d1550020",
   "metadata": {},
   "source": [
    "_Hub cannot serve more people than it has capacity for_"
   ]
  },
  {
   "cell_type": "code",
   "execution_count": 11,
   "id": "ec45da07",
   "metadata": {},
   "outputs": [],
   "source": [
    "def serve_less_than_hub_occ(model, hub):\n",
    "    return(model.var_hub_pop[hub] <= hub_occ_dict[hub])\n",
    "\n",
    "model.con_max_occ = Constraint(model.idx_hubs, rule = serve_less_than_hub_occ)"
   ]
  },
  {
   "cell_type": "markdown",
   "id": "5b69e781",
   "metadata": {},
   "source": [
    "_Construct a set number of hubs_"
   ]
  },
  {
   "cell_type": "code",
   "execution_count": 12,
   "id": "bf020c5b",
   "metadata": {},
   "outputs": [],
   "source": [
    "model.con_max_hubs = Constraint(expr = sum(model.var_hub_yn[hub] for hub in model.idx_hubs) == 3)"
   ]
  },
  {
   "cell_type": "markdown",
   "id": "775a23ae",
   "metadata": {},
   "source": [
    "_No one is served at a location if it is not deemed a hub_"
   ]
  },
  {
   "cell_type": "code",
   "execution_count": 13,
   "id": "69e1d528",
   "metadata": {},
   "outputs": [],
   "source": [
    "def open_only(model, cg, hub):\n",
    "    return(model.var_prop_cg_at_hub[cg, hub] <= model.var_hub_yn[hub])\n",
    "\n",
    "model.con_open_only = Constraint(model.idx_cg_hub_pairs, rule = open_only)"
   ]
  },
  {
   "cell_type": "markdown",
   "id": "37fdf9b1",
   "metadata": {},
   "source": [
    "_Open hubs must be at least 90% capacity_"
   ]
  },
  {
   "cell_type": "markdown",
   "id": "946afdad",
   "metadata": {},
   "source": [
    "def fill_open_hubs(model, hub):\n",
    "    return(hub_occ_dict[hub])\n",
    "\n",
    "model.param_hub_occ = Param(model.idx_hubs, initialize = get_hub_occ)"
   ]
  },
  {
   "cell_type": "markdown",
   "id": "f12b9812",
   "metadata": {},
   "source": [
    "_Meet a certain portion of demand in area of interest_"
   ]
  },
  {
   "cell_type": "code",
   "execution_count": 14,
   "id": "149d6f97",
   "metadata": {},
   "outputs": [],
   "source": [
    "sum_ppl_served = sum(model.var_hub_pop[hub] for hub in model.idx_hubs) \n",
    "sum_area_pop = sum(cengeo_pop_dict[cg] for cg in model.idx_cengeos)\n",
    "\n",
    "model.con_min_coverage = Constraint(expr = sum_ppl_served >= 0.5*sum_area_pop)"
   ]
  },
  {
   "cell_type": "markdown",
   "id": "4babb071",
   "metadata": {},
   "source": [
    "_Prioritize CalEnviroScreen populations_"
   ]
  },
  {
   "cell_type": "markdown",
   "id": "10ef25cd",
   "metadata": {},
   "source": [
    "model.con_serve_ces = ConstraintList()\n",
    "\n",
    "for cg in model.idx_cengeos:\n",
    "    cg_ces_score = float(bg_ces_df.loc[bg_ces_df['GISJOIN'] == cg, 'SCORE_PCTL_CI_BG'])\n",
    "\n",
    "    if cg_ces_score >= 75.0:\n",
    "        model.con_serve_ces.add(expr = model.var_cg_pop_assigned[cg] >= 0.95*cengeo_pop_dict[cg])"
   ]
  },
  {
   "cell_type": "markdown",
   "id": "eedb9c8c",
   "metadata": {},
   "source": [
    "_Do not meet more than 100% of demand_"
   ]
  },
  {
   "cell_type": "code",
   "execution_count": 15,
   "id": "83c35c2c",
   "metadata": {},
   "outputs": [],
   "source": [
    "model.con_demand_max = ConstraintList() #Constrain the TOTAL proportion of people assigned a hub to be 100 percent\n",
    "\n",
    "for cg in model.idx_cengeos:\n",
    "    # Only add constraint for cengeos that have hubs, may return error if \"if\" statement ommited\n",
    "    if sum([pair[0]==cg for pair in model.idx_cg_hub_pairs]) >= 1:\n",
    "        model.con_demand_max.add(expr = sum(model.var_prop_cg_at_hub[pair] for pair in model.idx_cg_hub_pairs if pair[0]==cg)<=1)"
   ]
  },
  {
   "cell_type": "markdown",
   "id": "8b5efc64",
   "metadata": {},
   "source": [
    "### Solve Model"
   ]
  },
  {
   "cell_type": "code",
   "execution_count": 16,
   "id": "51a5e66b",
   "metadata": {},
   "outputs": [],
   "source": [
    "import pyomo.opt as pyopt"
   ]
  },
  {
   "cell_type": "code",
   "execution_count": 17,
   "id": "7d884173",
   "metadata": {
    "scrolled": true
   },
   "outputs": [
    {
     "data": {
      "text/plain": [
       "{'Problem': [{'Name': 'unknown', 'Lower bound': 0.0, 'Upper bound': 0.0, 'Number of objectives': 1, 'Number of constraints': 24762, 'Number of variables': 24688, 'Number of nonzeros': 72388, 'Sense': 'minimize'}], 'Solver': [{'Status': 'ok', 'Termination condition': 'optimal', 'Statistics': {'Branch and bound': {'Number of bounded subproblems': '1', 'Number of created subproblems': '1'}}, 'Error rc': 0, 'Time': 0.4530820846557617}], 'Solution': [OrderedDict([('number of solutions', 0), ('number of solutions displayed', 0)])]}"
      ]
     },
     "execution_count": 17,
     "metadata": {},
     "output_type": "execute_result"
    }
   ],
   "source": [
    "pyopt.SolverFactory('glpk').solve(model)"
   ]
  },
  {
   "cell_type": "code",
   "execution_count": 18,
   "id": "a839a414",
   "metadata": {
    "scrolled": true
   },
   "outputs": [],
   "source": [
    "res_hub_pop = [model.var_hub_pop[hub].value for hub in model.idx_hubs]\n",
    "res_hub_yn = [model.var_hub_yn[hub].value for hub in model.idx_hubs]\n",
    "\n",
    "res_prop_cg_at_hub_list = []\n",
    "\n",
    "for cg in model.idx_cengeos:\n",
    "    cg_dict = dict()\n",
    "    for pair in model.idx_cg_hub_pairs:\n",
    "        if pair[0]==cg:\n",
    "            cg_dict[pair[1]] = model.var_prop_cg_at_hub[pair].value\n",
    "    res_prop_cg_at_hub_list.append(cg_dict)\n",
    "    \n",
    "res_prop_cg_at_hub = pd.DataFrame(res_prop_cg_at_hub_list)"
   ]
  },
  {
   "cell_type": "code",
   "execution_count": 22,
   "id": "f264ae82",
   "metadata": {},
   "outputs": [
    {
     "data": {
      "text/plain": [
       "['106479449', '268810770', '131837314']"
      ]
     },
     "execution_count": 22,
     "metadata": {},
     "output_type": "execute_result"
    }
   ],
   "source": [
    "[hub for hub in model.var_hub_yn if model.var_hub_yn[hub].value > 0]"
   ]
  },
  {
   "cell_type": "code",
   "execution_count": 27,
   "id": "a9e5467b",
   "metadata": {},
   "outputs": [
    {
     "name": "stdout",
     "output_type": "stream",
     "text": [
      "[]\n",
      "[]\n",
      "[]\n"
     ]
    }
   ],
   "source": [
    "print([prop for prop in res_prop_cg_at_hub['106479449'] if prop > 0])\n",
    "\n",
    "print([prop for prop in res_prop_cg_at_hub['268810770'] if prop > 0])\n",
    "\n",
    "print([prop for prop in res_prop_cg_at_hub['131837314'] if prop > 0])"
   ]
  },
  {
   "cell_type": "code",
   "execution_count": 30,
   "id": "2b904fef",
   "metadata": {},
   "outputs": [
    {
     "data": {
      "text/html": [
       "<div>\n",
       "<style scoped>\n",
       "    .dataframe tbody tr th:only-of-type {\n",
       "        vertical-align: middle;\n",
       "    }\n",
       "\n",
       "    .dataframe tbody tr th {\n",
       "        vertical-align: top;\n",
       "    }\n",
       "\n",
       "    .dataframe thead th {\n",
       "        text-align: right;\n",
       "    }\n",
       "</style>\n",
       "<table border=\"1\" class=\"dataframe\">\n",
       "  <thead>\n",
       "    <tr style=\"text-align: right;\">\n",
       "      <th></th>\n",
       "      <th>204345954</th>\n",
       "      <th>292031477</th>\n",
       "      <th>31553746</th>\n",
       "      <th>31555561</th>\n",
       "      <th>31556371</th>\n",
       "      <th>31556463</th>\n",
       "      <th>31556529</th>\n",
       "      <th>31556616</th>\n",
       "      <th>31556696</th>\n",
       "      <th>31557528</th>\n",
       "      <th>...</th>\n",
       "      <th>825084384</th>\n",
       "      <th>825084471</th>\n",
       "      <th>28006024</th>\n",
       "      <th>28113846</th>\n",
       "      <th>42991416</th>\n",
       "      <th>42989617</th>\n",
       "      <th>42989621</th>\n",
       "      <th>823961879</th>\n",
       "      <th>824734791</th>\n",
       "      <th>9387379</th>\n",
       "    </tr>\n",
       "  </thead>\n",
       "  <tbody>\n",
       "  </tbody>\n",
       "</table>\n",
       "<p>0 rows × 558 columns</p>\n",
       "</div>"
      ],
      "text/plain": [
       "Empty DataFrame\n",
       "Columns: [204345954, 292031477, 31553746, 31555561, 31556371, 31556463, 31556529, 31556616, 31556696, 31557528, 31577889, 31579349, 6989477, 941658784, 941658785, 969939118, 969948921, 969948925, 675888211, 963322476, 263003895, 270279264, 271403973, 31528158, 31540640, 31551423, 31820764, 31796415, 31797869, 966639189, 966639190, 31795090, 31795879, 321775870, 552580195, 666402942, 31856156, 915941401, 679932345, 779799288, 172600443, 31298330, 31516213, 31516227, 31530054, 31530517, 31540470, 31583869, 31583931, 31583964, 31298928, 31357750, 420207183, 31363855, 31364163, 31368512, 326482018, 31364237, 31364282, 342781637, 459852718, 460130237, 460261844, 460468494, 460678854, 460682833, 460682836, 460117410, 460117411, 460117412, 460117413, 460117414, 460117415, 460682860, 31299703, 31299758, 31299805, 313765399, 459740162, 459843920, 460261835, 460261837, 460261839, 460261840, 31293084, 31273452, 451675376, 31273323, 595180496, 106479449, 222136476, 31532228, 31532270, 459513357, 464456654, 464812311, 465115229, 471663925, 509324169, 509324171, ...]\n",
       "Index: []\n",
       "\n",
       "[0 rows x 558 columns]"
      ]
     },
     "execution_count": 30,
     "metadata": {},
     "output_type": "execute_result"
    }
   ],
   "source": [
    "res_prop_cg_at_hub[(res_prop_cg_at_hub > 0).any(axis = 1)]"
   ]
  },
  {
   "cell_type": "markdown",
   "id": "0d046e25",
   "metadata": {
    "scrolled": true
   },
   "source": [
    "model_solver = pyopt.SolverFactory('glpk')\n",
    "\n",
    "model_results = model_solver.solve(model, tee=True)"
   ]
  },
  {
   "cell_type": "markdown",
   "id": "16374d12",
   "metadata": {},
   "source": [
    "results_df = pd.DataFrame(index = pd.MultiIndex.from_tuples(model.idx_cg_hub_pairs, names = ['cengeos', 'hubs']))"
   ]
  },
  {
   "cell_type": "code",
   "execution_count": null,
   "id": "8d5a6e7d",
   "metadata": {},
   "outputs": [],
   "source": []
  },
  {
   "cell_type": "code",
   "execution_count": null,
   "id": "bff1a59f",
   "metadata": {},
   "outputs": [],
   "source": []
  },
  {
   "cell_type": "code",
   "execution_count": null,
   "id": "74d1dd47",
   "metadata": {},
   "outputs": [],
   "source": []
  }
 ],
 "metadata": {
  "kernelspec": {
   "display_name": "geoenv",
   "language": "python",
   "name": "geoenv"
  },
  "language_info": {
   "codemirror_mode": {
    "name": "ipython",
    "version": 3
   },
   "file_extension": ".py",
   "mimetype": "text/x-python",
   "name": "python",
   "nbconvert_exporter": "python",
   "pygments_lexer": "ipython3",
   "version": "3.9.7"
  }
 },
 "nbformat": 4,
 "nbformat_minor": 5
}
