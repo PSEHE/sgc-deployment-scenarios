{
 "cells": [
  {
   "cell_type": "code",
   "execution_count": 1,
   "id": "ff986bb3",
   "metadata": {},
   "outputs": [],
   "source": [
    "import pandas as pd\n",
    "import numpy as np\n",
    "\n",
    "from pyomo.environ import *\n",
    "\n",
    "from data_cleaning import hub_occ_dict\n",
    "from data_cleaning import heatdays_df\n",
    "from data_cleaning import cengeo_pop_dict\n",
    "from data_cleaning import bg_ces_df\n",
    "\n",
    "dist_to_hub_df = pd.read_csv('data/distmatrix_contracosta.csv')\n",
    "dist_to_hub_df.set_index('Unnamed: 0', inplace = True)\n",
    "dist_to_hub_df.index.name = None"
   ]
  },
  {
   "cell_type": "markdown",
   "id": "f79bb257",
   "metadata": {},
   "source": [
    "### Define Model"
   ]
  },
  {
   "cell_type": "markdown",
   "id": "851ec9eb",
   "metadata": {},
   "source": [
    "_Create model and variable indices_"
   ]
  },
  {
   "cell_type": "code",
   "execution_count": 2,
   "id": "232fdc24",
   "metadata": {},
   "outputs": [],
   "source": [
    "model = ConcreteModel()\n",
    "\n",
    "model.idx_cengeos = Set(initialize = dist_to_hub_df.index)\n",
    "model.idx_hubs = Set(initialize = dist_to_hub_df.columns)"
   ]
  },
  {
   "cell_type": "markdown",
   "id": "691003f9",
   "metadata": {},
   "source": [
    "_Create set of blockgroup, hub pairs within five miles of each other_"
   ]
  },
  {
   "cell_type": "code",
   "execution_count": 3,
   "id": "56436c57",
   "metadata": {},
   "outputs": [],
   "source": [
    "def filter_to_nearby_hubs(model, cg, hub):\n",
    "    return not np.isnan(dist_to_hub_df.loc[cg, hub])\n",
    "\n",
    "model.idx_cg_hub_nearby_pairs = Set(initialize = model.idx_cengeos*model.idx_hubs, filter = filter_to_nearby_hubs)"
   ]
  },
  {
   "cell_type": "markdown",
   "id": "d8784411",
   "metadata": {},
   "source": [
    "### Define Parameters"
   ]
  },
  {
   "cell_type": "markdown",
   "id": "e4b7cb12",
   "metadata": {},
   "source": [
    "_Occupancy parameter indexed on hub_"
   ]
  },
  {
   "cell_type": "code",
   "execution_count": 4,
   "id": "4e8e6006",
   "metadata": {},
   "outputs": [],
   "source": [
    "def get_hub_occ(model, hub):\n",
    "    return(hub_occ_dict[hub])\n",
    "\n",
    "model.param_hub_occ = Param(model.idx_hubs, initialize = get_hub_occ)"
   ]
  },
  {
   "cell_type": "markdown",
   "id": "cb1d18e6",
   "metadata": {},
   "source": [
    "_Pairwise distance indexed on (blockgroup, hub) tuple_"
   ]
  },
  {
   "cell_type": "code",
   "execution_count": 5,
   "id": "286dc882",
   "metadata": {},
   "outputs": [],
   "source": [
    "def get_cg_hub_distance(model, cg, hub):\n",
    "    return dist_to_hub_df.loc[cg, hub]\n",
    "\n",
    "model.cg_hub_distance = Param(model.idx_cg_hub_nearby_pairs, initialize = get_cg_hub_distance)"
   ]
  },
  {
   "cell_type": "markdown",
   "id": "3cda3554",
   "metadata": {},
   "source": [
    "### Define Variables"
   ]
  },
  {
   "cell_type": "markdown",
   "id": "663ce2f6",
   "metadata": {},
   "source": [
    "_Is this site a hub?_"
   ]
  },
  {
   "cell_type": "code",
   "execution_count": 6,
   "id": "2cf55e77",
   "metadata": {},
   "outputs": [],
   "source": [
    "model.var_hub_yn = Var(model.idx_hubs, initialize = 0, within = Binary)"
   ]
  },
  {
   "cell_type": "markdown",
   "id": "020646e9",
   "metadata": {},
   "source": [
    "_What proportion of a blockgroup's population is served by this hub?_"
   ]
  },
  {
   "cell_type": "code",
   "execution_count": 7,
   "id": "27c3ca76",
   "metadata": {},
   "outputs": [],
   "source": [
    "model.var_prop_served = Var(model.idx_cg_hub_nearby_pairs, initialize = 0.0, bounds = (0.0, 1.0))"
   ]
  },
  {
   "cell_type": "markdown",
   "id": "49beefb1",
   "metadata": {},
   "source": [
    "_How many people are served by this hub?_"
   ]
  },
  {
   "cell_type": "code",
   "execution_count": 8,
   "id": "16d04c55",
   "metadata": {},
   "outputs": [],
   "source": [
    "def ppl_served_at_hub(model, hub):\n",
    "    tot_ppl_served = 0\n",
    "\n",
    "    for cg in model.idx_cengeos:\n",
    "        if (cg, hub) in model.idx_cg_hub_nearby_pairs:\n",
    "            ppl_served = model.var_prop_served[cg, hub]*cengeo_pop_dict[cg]\n",
    "            tot_ppl_served = ppl_served + tot_ppl_served\n",
    "        else:\n",
    "            tot_ppl_served = tot_ppl_served\n",
    "    \n",
    "    return(tot_ppl_served)\n",
    "\n",
    "model.var_ppl_at_hub = Var(model.idx_hubs, initialize = ppl_served_at_hub, domain = NonNegativeReals)"
   ]
  },
  {
   "cell_type": "markdown",
   "id": "c88dd47a",
   "metadata": {},
   "source": [
    "_How many people are served in this blockgroup?_"
   ]
  },
  {
   "cell_type": "code",
   "execution_count": 9,
   "id": "262799c4",
   "metadata": {},
   "outputs": [],
   "source": [
    "def ppl_served_in_cengeo(model, cg):\n",
    "    tot_ppl_served = 0\n",
    "\n",
    "    for hub in model.idx_hubs:\n",
    "        if (cg, hub) in model.idx_cg_hub_nearby_pairs:\n",
    "            ppl_served = model.var_prop_served[cg, hub]*cengeo_pop_dict[cg]\n",
    "            tot_ppl_served = ppl_served + tot_ppl_served\n",
    "        else:\n",
    "            tot_ppl_served = tot_ppl_served\n",
    "    \n",
    "    return(tot_ppl_served)\n",
    "\n",
    "model.var_served_in_cg = Var(model.idx_cengeos, initialize = ppl_served_in_cengeo, domain = NonNegativeReals)"
   ]
  },
  {
   "cell_type": "markdown",
   "id": "a6593689",
   "metadata": {},
   "source": [
    "### Define Objective"
   ]
  },
  {
   "cell_type": "markdown",
   "id": "d2bd9b37",
   "metadata": {},
   "source": [
    "_Minimize aggregate travel distance_"
   ]
  },
  {
   "cell_type": "code",
   "execution_count": 10,
   "id": "4b01c7bf",
   "metadata": {},
   "outputs": [],
   "source": [
    "min_agg_dist = sum(model.cg_hub_distance[cg, hub] * cengeo_pop_dict[cg] * model.var_prop_served[cg, hub] \n",
    "                   for cg, hub in model.idx_cg_hub_nearby_pairs)\n",
    "\n",
    "model.obj_min_agg_dist = Objective(expr = min_agg_dist, sense = minimize)"
   ]
  },
  {
   "cell_type": "markdown",
   "id": "8451f01d",
   "metadata": {},
   "source": [
    "### Define Constraints"
   ]
  },
  {
   "cell_type": "markdown",
   "id": "d1550020",
   "metadata": {},
   "source": [
    "_Hub cannot serve more people than it has capacity for_"
   ]
  },
  {
   "cell_type": "code",
   "execution_count": 11,
   "id": "6acd54af",
   "metadata": {},
   "outputs": [],
   "source": [
    "def serve_less_than_occ(model, hub):\n",
    "    return(0.9*hub_occ_dict[hub], model.var_ppl_at_hub[hub], hub_occ_dict[hub])\n",
    "\n",
    "model.con_max_occ = Constraint(model.idx_hubs, rule = serve_less_than_occ)"
   ]
  },
  {
   "cell_type": "markdown",
   "id": "5b69e781",
   "metadata": {},
   "source": [
    "_Construct a set number of hubs_"
   ]
  },
  {
   "cell_type": "code",
   "execution_count": 12,
   "id": "bf020c5b",
   "metadata": {},
   "outputs": [],
   "source": [
    "model.con_max_hubs = Constraint(expr = sum(model.var_hub_yn[hub] for hub in model.idx_hubs) == 3)"
   ]
  },
  {
   "cell_type": "markdown",
   "id": "775a23ae",
   "metadata": {},
   "source": [
    "_No one is served at a location if it is not deemed a hub_"
   ]
  },
  {
   "cell_type": "code",
   "execution_count": 13,
   "id": "69e1d528",
   "metadata": {},
   "outputs": [],
   "source": [
    "def open_only(model, cg, hub):\n",
    "    return(model.var_prop_served[cg, hub] <= model.var_hub_yn[hub])\n",
    "\n",
    "model.con_open_only = Constraint(model.idx_cg_hub_nearby_pairs, rule = open_only)"
   ]
  },
  {
   "cell_type": "markdown",
   "id": "f12b9812",
   "metadata": {},
   "source": [
    "_Meet a certain portion of demand in area of interest_"
   ]
  },
  {
   "cell_type": "code",
   "execution_count": 14,
   "id": "149d6f97",
   "metadata": {},
   "outputs": [],
   "source": [
    "sum_ppl_served = sum(model.var_ppl_at_hub[hub] for hub in model.idx_hubs) \n",
    "sum_area_pop = sum(cengeo_pop_dict[cg] for cg in model.idx_cengeos)\n",
    "\n",
    "model.con_min_coverage = Constraint(expr = sum_ppl_served >= 0.5*sum_area_pop)"
   ]
  },
  {
   "cell_type": "markdown",
   "id": "4babb071",
   "metadata": {},
   "source": [
    "_Prioritize CalEnviroScreen populations_"
   ]
  },
  {
   "cell_type": "code",
   "execution_count": 15,
   "id": "cb90064e",
   "metadata": {},
   "outputs": [],
   "source": [
    "model.con_serve_ces = ConstraintList()\n",
    "\n",
    "for cg in model.idx_cengeos:\n",
    "    cg_ces_score = float(bg_ces_df.loc[bg_ces_df['GISJOIN'] == cg, 'SCORE_PCTL_CI_BG'])\n",
    "\n",
    "    if cg_ces_score >= 75.0:\n",
    "        model.con_serve_ces.add(expr = model.var_served_in_cg[cg] >= 0.95*cengeo_pop_dict[cg])"
   ]
  },
  {
   "cell_type": "markdown",
   "id": "8b5efc64",
   "metadata": {},
   "source": [
    "### Solve Model"
   ]
  },
  {
   "cell_type": "code",
   "execution_count": null,
   "id": "6c8bd2e9",
   "metadata": {},
   "outputs": [],
   "source": [
    "# Run Model\n",
    "from pyomo.opt import SolverFactory\n",
    "\n",
    "SolverFactory('glpk').solve(model)\n",
    "\n",
    "var_popu_served = [model.var_popu_served[hub].value for hub in model.hubs]\n",
    "var_hub_yn = [model.var_hub_yn[hub].value for hub in model.hubs]\n",
    "prop_served_list = []\n",
    "\n",
    "for cg in model.cengeos:\n",
    "    cg_dict = dict()\n",
    "    for pair in model.cg_hub_nearby_pairs:\n",
    "        if pair[0]==cg:\n",
    "            cg_dict[pair[1]] = model.var_prop_served[pair].value\n",
    "    prop_served_list.append(cg_dict)\n",
    "\n",
    "var_prop_served = pd.DataFrame(prop_served_list)"
   ]
  }
 ],
 "metadata": {
  "kernelspec": {
   "display_name": "geoenv",
   "language": "python",
   "name": "geoenv"
  },
  "language_info": {
   "codemirror_mode": {
    "name": "ipython",
    "version": 3
   },
   "file_extension": ".py",
   "mimetype": "text/x-python",
   "name": "python",
   "nbconvert_exporter": "python",
   "pygments_lexer": "ipython3",
   "version": "3.9.7"
  }
 },
 "nbformat": 4,
 "nbformat_minor": 5
}
