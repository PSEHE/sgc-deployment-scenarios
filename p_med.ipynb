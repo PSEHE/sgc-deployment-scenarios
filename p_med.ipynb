{
 "cells": [
  {
   "cell_type": "code",
   "execution_count": 1,
   "id": "2261ab84",
   "metadata": {},
   "outputs": [],
   "source": [
    "import pandas as pd\n",
    "import numpy as np\n",
    "\n",
    "from pyomo.environ import *\n",
    "\n",
    "from data_cleaning import hub_occ_dict\n",
    "from data_cleaning import hub_sqft_dict\n",
    "from data_cleaning import heatdays_df\n",
    "from data_cleaning import cengeo_pop_dict\n",
    "from data_cleaning import bg_ces_df\n",
    "\n",
    "dist_to_hub_df = pd.read_csv('data/distmatrix_contracosta.csv')\n",
    "dist_to_hub_df.set_index('Unnamed: 0', inplace = True)\n",
    "dist_to_hub_df.index.name = None"
   ]
  },
  {
   "cell_type": "code",
   "execution_count": 2,
   "id": "7135b9ff",
   "metadata": {},
   "outputs": [],
   "source": [
    "# Define concrete model\n",
    "model = ConcreteModel()\n",
    "\n",
    "# Attach census geographies and hubs to model\n",
    "model.cengeos = Set(initialize = dist_to_hub_df.index)\n",
    "model.hubs = Set(initialize = dist_to_hub_df.columns)\n",
    "\n",
    "# Get hub square footages\n",
    "model.hub_sqft_dict = hub_sqft_dict\n",
    "\n",
    "# Get distance between hubs\n",
    "model.dist_to_hub_df = dist_to_hub_df\n",
    "\n",
    "def filter_to_nearby_hubs(model, cg, hub):\n",
    "    return not np.isnan(model.dist_to_hub_df.loc[cg, hub])\n",
    "\n",
    "model.cg_hub_nearby_pairs = Set(initialize = model.cengeos*model.hubs, filter = filter_to_nearby_hubs)\n",
    "\n",
    "def get_cg_hub_distance(model, cg, hub):\n",
    "    return model.dist_to_hub_df.loc[cg, hub]\n",
    "\n",
    "model.cg_hub_distance = Param(model.cg_hub_nearby_pairs, initialize = get_cg_hub_distance)\n",
    "\n",
    "# Create variable - is this site a hub?\n",
    "model.var_hub_yn = Var(model.hubs, initialize = 0, within = Binary)\n",
    "\n",
    "# Create variable - what percent of a census geography's population is served by this hub?\n",
    "model.var_prop_served = Var(model.cg_hub_nearby_pairs, initialize = 0.0, bounds = (0.0, 1.0))\n",
    "\n",
    "# Create variable -how many people are served at this hub?\n",
    "model.var_popu_served = Var(model.hubs, initialize = 0.0, within = NonNegativeReals)\n",
    "\n",
    "# Objective - minimize population weighted travel distance to hubs\n",
    "model.obj_min_agg_dist = Objective(expr = sum(model.cg_hub_distance[cg, hub] * cengeo_pop_dict[cg] * model.var_prop_served[cg, hub] for cg, hub in model.cg_hub_nearby_pairs), sense = minimize)"
   ]
  },
  {
   "cell_type": "code",
   "execution_count": null,
   "id": "73a95865",
   "metadata": {},
   "outputs": [],
   "source": [
    "# Max quantity of people served at hub dependent on max capacity\n",
    "hub_capacity_dict = {hub : hub_occ_dict[hub] for hub in model.hubs}\n",
    "model.param_max_occ = Param(model.hubs, initialize = hub_capacity_dict)"
   ]
  },
  {
   "cell_type": "code",
   "execution_count": null,
   "id": "5ae63f23",
   "metadata": {},
   "outputs": [],
   "source": [
    "###### DEFINE CONSTRAINTS\n",
    "# Construct no more than a set number of hubs\n",
    "model.con_max_hubs = Constraint(expr = sum(model.var_hub_yn[hub] for hub in model.hubs) == 3)\n",
    "\n",
    "# No one is served at location if it is not a hub\n",
    "def open_only(model, cg, hub):\n",
    "    return model.var_prop_served[cg, hub] <= model.var_hub_yn[hub]\n",
    "\n",
    "model.con_open_only = Constraint(model.cg_hub_nearby_pairs, rule = open_only)\n",
    "\n",
    "# At least some percent Richmond population must be assigned a hub\n",
    "model.con_min_coverage = Constraint(expr = sum(model.var_popu_served[hub] for hub in model.hubs) >= 0.5*sum(cengeo_pop_dict[cg] for cg in model.cengeos))\n",
    "\n",
    "# People assigned to hub cannot exceed 5x hub capacity - to be refined\n",
    "def serve_less_than_occ(model, hub):\n",
    "    tot_pop_served = 0\n",
    "\n",
    "    for cg in model.cengeos:\n",
    "        if (cg, hub) in model.cg_hub_nearby_pairs:\n",
    "            pop_served = model.var_prop_served[cg, hub]*cengeo_pop_dict[cg]\n",
    "            tot_pop_served = pop_served + tot_pop_served\n",
    "    model.var_popu_served[hub] = tot_pop_served\n",
    "\n",
    "    return model.var_popu_served[hub] <= model.param_max_occ[hub]\n",
    "\n",
    "model.con_max_occ = Constraint(model.hubs, rule = serve_less_than_occ)"
   ]
  },
  {
   "cell_type": "code",
   "execution_count": null,
   "id": "50b1e797",
   "metadata": {},
   "outputs": [],
   "source": [
    "# Run Model\n",
    "from pyomo.opt import SolverFactory\n",
    "\n",
    "SolverFactory('glpk').solve(model)\n",
    "\n",
    "var_popu_served = [model.var_popu_served[hub].value for hub in model.hubs]\n",
    "var_hub_yn = [model.var_hub_yn[hub].value for hub in model.hubs]\n",
    "prop_served_list = []\n",
    "\n",
    "for cg in model.cengeos:\n",
    "    cg_dict = dict()\n",
    "    for pair in model.cg_hub_nearby_pairs:\n",
    "        if pair[0]==cg:\n",
    "            cg_dict[pair[1]] = model.var_prop_served[pair].value\n",
    "    prop_served_list.append(cg_dict)\n",
    "\n",
    "var_prop_served = pd.DataFrame(prop_served_list)"
   ]
  }
 ],
 "metadata": {
  "kernelspec": {
   "display_name": "geoenv",
   "language": "python",
   "name": "geoenv"
  },
  "language_info": {
   "codemirror_mode": {
    "name": "ipython",
    "version": 3
   },
   "file_extension": ".py",
   "mimetype": "text/x-python",
   "name": "python",
   "nbconvert_exporter": "python",
   "pygments_lexer": "ipython3",
   "version": "3.9.7"
  }
 },
 "nbformat": 4,
 "nbformat_minor": 5
}
